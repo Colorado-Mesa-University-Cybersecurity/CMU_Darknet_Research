{
 "cells": [
  {
   "cell_type": "code",
   "execution_count": 19,
   "id": "curious-parks",
   "metadata": {},
   "outputs": [
    {
     "data": {
      "text/plain": [
       "0         0\n",
       "1         0\n",
       "2         0\n",
       "3         0\n",
       "4         0\n",
       "         ..\n",
       "117019    1\n",
       "117020    1\n",
       "117021    1\n",
       "117022    1\n",
       "117023    1\n",
       "Name: Label_dark, Length: 117024, dtype: int64"
      ]
     },
     "execution_count": 19,
     "metadata": {},
     "output_type": "execute_result"
    }
   ],
   "source": [
    "import numpy as np\n",
    "import pandas as pd\n",
    "\n",
    "X=pd.read_csv(\"../Data/original/cleaned_X.csv\")\n",
    "y=pd.read_csv(\"../Data/original/cleaned_y.csv\")\n",
    "\n",
    "y=y[\"Label_dark\"]\n",
    "y"
   ]
  },
  {
   "cell_type": "markdown",
   "id": "dramatic-broad",
   "metadata": {},
   "source": [
    "# Perform random undersampling"
   ]
  },
  {
   "cell_type": "code",
   "execution_count": 7,
   "id": "determined-deployment",
   "metadata": {
    "scrolled": true
   },
   "outputs": [
    {
     "name": "stdout",
     "output_type": "stream",
     "text": [
      "Collecting imbalanced-learn\n",
      "  Downloading imbalanced_learn-0.9.0-py3-none-any.whl (199 kB)\n",
      "     |████████████████████████████████| 199 kB 1.9 MB/s            \n",
      "\u001b[?25hRequirement already satisfied: numpy>=1.14.6 in /home/drake/miniconda3/lib/python3.8/site-packages (from imbalanced-learn) (1.19.2)\n",
      "Collecting scikit-learn>=1.0.1\n",
      "  Downloading scikit_learn-1.0.2-cp38-cp38-manylinux_2_17_x86_64.manylinux2014_x86_64.whl (26.7 MB)\n",
      "     |████████████████████████████████| 26.7 MB 9.9 MB/s            \n",
      "\u001b[?25hRequirement already satisfied: threadpoolctl>=2.0.0 in /home/drake/miniconda3/lib/python3.8/site-packages (from imbalanced-learn) (2.1.0)\n",
      "Requirement already satisfied: scipy>=1.1.0 in /home/drake/miniconda3/lib/python3.8/site-packages (from imbalanced-learn) (1.5.2)\n",
      "Requirement already satisfied: joblib>=0.11 in /home/drake/miniconda3/lib/python3.8/site-packages (from imbalanced-learn) (1.0.0)\n",
      "Installing collected packages: scikit-learn, imbalanced-learn\n",
      "  Attempting uninstall: scikit-learn\n",
      "    Found existing installation: scikit-learn 0.23.2\n",
      "    Uninstalling scikit-learn-0.23.2:\n",
      "      Successfully uninstalled scikit-learn-0.23.2\n",
      "Successfully installed imbalanced-learn-0.9.0 scikit-learn-1.0.2\n",
      "\u001b[33mWARNING: You are using pip version 21.3.1; however, version 22.0.3 is available.\n",
      "You should consider upgrading via the '/home/drake/miniconda3/bin/python -m pip install --upgrade pip' command.\u001b[0m\n",
      "True\n"
     ]
    }
   ],
   "source": [
    "from imblearn.under_sampling import RandomUnderSampler\n",
    "\n",
    "under=RandomUnderSampler()\n",
    "\n",
    "X_und,y_und=under.fit_resample(X,y)\n",
    "\n",
    "print(len(X_und[X_und==1])==len(X_und[X_und==0]))"
   ]
  },
  {
   "cell_type": "code",
   "execution_count": 19,
   "id": "entertaining-empire",
   "metadata": {},
   "outputs": [],
   "source": [
    "X_und.to_csv(\"../Data/synthetic/RandomUndersampling/using_darknet_labelX.csv\")\n",
    "y_und.to_csv(\"../Data/synthetic/RandomUndersampling/using_darknet_labely.csv\")"
   ]
  },
  {
   "cell_type": "markdown",
   "id": "circular-stopping",
   "metadata": {},
   "source": [
    "# Perforn random oversampling"
   ]
  },
  {
   "cell_type": "code",
   "execution_count": 10,
   "id": "legislative-china",
   "metadata": {},
   "outputs": [],
   "source": [
    "from imblearn.over_sampling import RandomOverSampler\n",
    "\n",
    "over=RandomOverSampler()\n",
    "\n",
    "X_over,y_over=over.fit_resample(X,y)"
   ]
  },
  {
   "cell_type": "code",
   "execution_count": 22,
   "id": "ambient-probe",
   "metadata": {},
   "outputs": [],
   "source": [
    "X_over.to_csv(\"../Data/synthetic/RandomOversampling/using_darknet_labelX.csv\")\n",
    "y_over.to_csv(\"../Data/synthetic/RandomOversampling/using_darknet_labely.csv\")"
   ]
  },
  {
   "cell_type": "markdown",
   "id": "through-giant",
   "metadata": {},
   "source": [
    "# Direct undersampling\n",
    "### Using Edited Nearest Neighbors, Instance Hardness Threshold, and TomekLinks"
   ]
  },
  {
   "cell_type": "code",
   "execution_count": 24,
   "id": "satisfied-branch",
   "metadata": {
    "scrolled": true
   },
   "outputs": [],
   "source": [
    "from imblearn.under_sampling import EditedNearestNeighbours,InstanceHardnessThreshold,TomekLinks \n",
    "\n",
    "under_samp_models=[EditedNearestNeighbours(),InstanceHardnessThreshold(),TomekLinks()]\n",
    "under_samp_names=[\"EditedNearestNeighbours\",\"InstanceHardnessThreshold\", \"TomekLinks\"]\n",
    "\n",
    "for i,under_samp_model in enumerate(under_samp_models):\n",
    "    X_und_dir,y_und_dir=under_samp_model.fit_resample(X,y)\n",
    "    X_und_dir.to_csv(f\"../Data/synthetic/DirectedUndersampling/{under_samp_names[i]}X.csv\")\n",
    "    y_und_dir.to_csv(f\"../Data/synthetic/DirectedUndersampling/{under_samp_names[i]}y.csv\")"
   ]
  },
  {
   "cell_type": "markdown",
   "id": "going-supervision",
   "metadata": {},
   "source": [
    "# Directed Oversampling Using Smote "
   ]
  },
  {
   "cell_type": "code",
   "execution_count": 6,
   "id": "spanish-mandate",
   "metadata": {
    "scrolled": true
   },
   "outputs": [
    {
     "name": "stderr",
     "output_type": "stream",
     "text": [
      "2022-02-11 12:35:26,711:INFO:kmeans_SMOTE: Running sampling via ('kmeans_SMOTE', \"{'proportion': 1.0, 'n_neighbors': 5, 'n_clusters': 10, 'irt': 2.0, 'n_jobs': 1, 'random_state': None}\")\n",
      "2022-02-11 12:35:27,768:WARNING:kmeans_SMOTE: number of clusters after filtering is 0\n",
      "2022-02-11 12:35:27,803:INFO:Safe_Level_SMOTE: Running sampling via ('Safe_Level_SMOTE', \"{'proportion': 1.0, 'n_neighbors': 5, 'n_jobs': 1, 'random_state': None}\")\n"
     ]
    },
    {
     "name": "stdout",
     "output_type": "stream",
     "text": [
      "        Src Port  Dst Port  Protocol  Flow Duration  Total Fwd Packet  \\\n",
      "0          57158       443         6            229                 1   \n",
      "1          57159       443         6            407                 1   \n",
      "2          57160       443         6            431                 1   \n",
      "3          49134       443         6            359                 1   \n",
      "4          34697     19305         6       10778451               591   \n",
      "...          ...       ...       ...            ...               ...   \n",
      "117019     55219      5355        17         411806                 2   \n",
      "117020     64207      5355        17         411574                 2   \n",
      "117021     61115      5355        17         422299                 2   \n",
      "117022     64790      5355        17         411855                 2   \n",
      "117023     11666     60245        17      119990044              5995   \n",
      "\n",
      "        Total Bwd packets  Total Length of Fwd Packet  \\\n",
      "0                       1                           0   \n",
      "1                       1                           0   \n",
      "2                       1                           0   \n",
      "3                       1                           0   \n",
      "4                     400                       64530   \n",
      "...                   ...                         ...   \n",
      "117019                  0                          44   \n",
      "117020                  0                          44   \n",
      "117021                  0                          44   \n",
      "117022                  0                          44   \n",
      "117023               6000                      497585   \n",
      "\n",
      "        Total Length of Bwd Packet  Fwd Packet Length Max  \\\n",
      "0                                0                      0   \n",
      "1                                0                      0   \n",
      "2                                0                      0   \n",
      "3                                0                      0   \n",
      "4                             6659                    131   \n",
      "...                            ...                    ...   \n",
      "117019                           0                     22   \n",
      "117020                           0                     22   \n",
      "117021                           0                     22   \n",
      "117022                           0                     22   \n",
      "117023                      498000                     83   \n",
      "\n",
      "        Fwd Packet Length Min  ...  Subflow Fwd Bytes  Subflow Bwd Bytes  \\\n",
      "0                           0  ...                  0                  0   \n",
      "1                           0  ...                  0                  0   \n",
      "2                           0  ...                  0                  0   \n",
      "3                           0  ...                  0                  0   \n",
      "4                           0  ...                 65                  6   \n",
      "...                       ...  ...                ...                ...   \n",
      "117019                     22  ...                 22                  0   \n",
      "117020                     22  ...                 22                  0   \n",
      "117021                     22  ...                 22                  0   \n",
      "117022                     22  ...                 22                  0   \n",
      "117023                     83  ...                 41                 41   \n",
      "\n",
      "        FWD Init Win Bytes  Bwd Init Win Bytes  Fwd Act Data Pkts  \\\n",
      "0                     1892                1047                  0   \n",
      "1                     1987                1047                  0   \n",
      "2                     2049                1047                  0   \n",
      "3                     2008                1047                  0   \n",
      "4                     1382                2320                581   \n",
      "...                    ...                 ...                ...   \n",
      "117019                   0                   0                  1   \n",
      "117020                   0                   0                  1   \n",
      "117021                   0                   0                  1   \n",
      "117022                   0                   0                  1   \n",
      "117023                   0                   0               5994   \n",
      "\n",
      "        Fwd Seg Size Min     Idle Mean      Idle Std      Idle Max  \\\n",
      "0                     20  0.000000e+00  0.000000e+00  0.000000e+00   \n",
      "1                     20  0.000000e+00  0.000000e+00  0.000000e+00   \n",
      "2                     20  0.000000e+00  0.000000e+00  0.000000e+00   \n",
      "3                     20  0.000000e+00  0.000000e+00  0.000000e+00   \n",
      "4                     20  1.437760e+15  3.117718e+06  1.437760e+15   \n",
      "...                  ...           ...           ...           ...   \n",
      "117019                 8  0.000000e+00  0.000000e+00  0.000000e+00   \n",
      "117020                 8  0.000000e+00  0.000000e+00  0.000000e+00   \n",
      "117021                 8  0.000000e+00  0.000000e+00  0.000000e+00   \n",
      "117022                 8  0.000000e+00  0.000000e+00  0.000000e+00   \n",
      "117023                 8  1.432320e+15  3.463689e+07  1.432320e+15   \n",
      "\n",
      "            Idle Min  \n",
      "0       0.000000e+00  \n",
      "1       0.000000e+00  \n",
      "2       0.000000e+00  \n",
      "3       0.000000e+00  \n",
      "4       1.437760e+15  \n",
      "...              ...  \n",
      "117019  0.000000e+00  \n",
      "117020  0.000000e+00  \n",
      "117021  0.000000e+00  \n",
      "117022  0.000000e+00  \n",
      "117023  1.432320e+15  \n",
      "\n",
      "[117024 rows x 64 columns]\n"
     ]
    },
    {
     "ename": "KeyboardInterrupt",
     "evalue": "",
     "output_type": "error",
     "traceback": [
      "\u001b[0;31m---------------------------------------------------------------------------\u001b[0m",
      "\u001b[0;31mKeyboardInterrupt\u001b[0m                         Traceback (most recent call last)",
      "\u001b[0;32m/tmp/ipykernel_24271/3298089076.py\u001b[0m in \u001b[0;36m<module>\u001b[0;34m\u001b[0m\n\u001b[1;32m      4\u001b[0m \u001b[0;34m\u001b[0m\u001b[0m\n\u001b[1;32m      5\u001b[0m \u001b[0;32mfor\u001b[0m \u001b[0mover_sampler\u001b[0m \u001b[0;32min\u001b[0m \u001b[0msvs\u001b[0m\u001b[0;34m:\u001b[0m\u001b[0;34m\u001b[0m\u001b[0;34m\u001b[0m\u001b[0m\n\u001b[0;32m----> 6\u001b[0;31m     \u001b[0mX_over_samp\u001b[0m\u001b[0;34m,\u001b[0m \u001b[0my_over_samp\u001b[0m \u001b[0;34m=\u001b[0m \u001b[0mover_sampler\u001b[0m\u001b[0;34m.\u001b[0m\u001b[0msample\u001b[0m\u001b[0;34m(\u001b[0m\u001b[0mX\u001b[0m\u001b[0;34m,\u001b[0m \u001b[0my\u001b[0m\u001b[0;34m)\u001b[0m\u001b[0;34m\u001b[0m\u001b[0;34m\u001b[0m\u001b[0m\n\u001b[0m\u001b[1;32m      7\u001b[0m     \u001b[0mprint\u001b[0m\u001b[0;34m(\u001b[0m\u001b[0mX_over_samp\u001b[0m\u001b[0;34m)\u001b[0m\u001b[0;34m\u001b[0m\u001b[0;34m\u001b[0m\u001b[0m\n",
      "\u001b[0;32m~/miniconda3/lib/python3.8/site-packages/smote_variants/_smote_variants.py\u001b[0m in \u001b[0;36msample\u001b[0;34m(self, X, y)\u001b[0m\n\u001b[1;32m   3596\u001b[0m         \u001b[0mnn\u001b[0m \u001b[0;34m=\u001b[0m \u001b[0mNearestNeighbors\u001b[0m\u001b[0;34m(\u001b[0m\u001b[0mn_neighbors\u001b[0m\u001b[0;34m=\u001b[0m\u001b[0mn_neighbors\u001b[0m\u001b[0;34m,\u001b[0m \u001b[0mn_jobs\u001b[0m\u001b[0;34m=\u001b[0m\u001b[0mself\u001b[0m\u001b[0;34m.\u001b[0m\u001b[0mn_jobs\u001b[0m\u001b[0;34m)\u001b[0m\u001b[0;34m\u001b[0m\u001b[0;34m\u001b[0m\u001b[0m\n\u001b[1;32m   3597\u001b[0m         \u001b[0mnn\u001b[0m\u001b[0;34m.\u001b[0m\u001b[0mfit\u001b[0m\u001b[0;34m(\u001b[0m\u001b[0mX\u001b[0m\u001b[0;34m)\u001b[0m\u001b[0;34m\u001b[0m\u001b[0;34m\u001b[0m\u001b[0m\n\u001b[0;32m-> 3598\u001b[0;31m         \u001b[0mdistance\u001b[0m\u001b[0;34m,\u001b[0m \u001b[0mindices\u001b[0m \u001b[0;34m=\u001b[0m \u001b[0mnn\u001b[0m\u001b[0;34m.\u001b[0m\u001b[0mkneighbors\u001b[0m\u001b[0;34m(\u001b[0m\u001b[0mX\u001b[0m\u001b[0;34m)\u001b[0m\u001b[0;34m\u001b[0m\u001b[0;34m\u001b[0m\u001b[0m\n\u001b[0m\u001b[1;32m   3599\u001b[0m \u001b[0;34m\u001b[0m\u001b[0m\n\u001b[1;32m   3600\u001b[0m         \u001b[0mminority_labels\u001b[0m \u001b[0;34m=\u001b[0m \u001b[0;34m(\u001b[0m\u001b[0my\u001b[0m \u001b[0;34m==\u001b[0m \u001b[0mself\u001b[0m\u001b[0;34m.\u001b[0m\u001b[0mmin_label\u001b[0m\u001b[0;34m)\u001b[0m\u001b[0;34m\u001b[0m\u001b[0;34m\u001b[0m\u001b[0m\n",
      "\u001b[0;32m~/miniconda3/lib/python3.8/site-packages/sklearn/neighbors/_base.py\u001b[0m in \u001b[0;36mkneighbors\u001b[0;34m(self, X, n_neighbors, return_distance)\u001b[0m\n\u001b[1;32m    750\u001b[0m                 \u001b[0mkwds\u001b[0m \u001b[0;34m=\u001b[0m \u001b[0mself\u001b[0m\u001b[0;34m.\u001b[0m\u001b[0meffective_metric_params_\u001b[0m\u001b[0;34m\u001b[0m\u001b[0;34m\u001b[0m\u001b[0m\n\u001b[1;32m    751\u001b[0m \u001b[0;34m\u001b[0m\u001b[0m\n\u001b[0;32m--> 752\u001b[0;31m             chunked_results = list(\n\u001b[0m\u001b[1;32m    753\u001b[0m                 pairwise_distances_chunked(\n\u001b[1;32m    754\u001b[0m                     \u001b[0mX\u001b[0m\u001b[0;34m,\u001b[0m\u001b[0;34m\u001b[0m\u001b[0;34m\u001b[0m\u001b[0m\n",
      "\u001b[0;32m~/miniconda3/lib/python3.8/site-packages/sklearn/metrics/pairwise.py\u001b[0m in \u001b[0;36mpairwise_distances_chunked\u001b[0;34m(X, Y, reduce_func, metric, n_jobs, working_memory, **kwds)\u001b[0m\n\u001b[1;32m   1724\u001b[0m         \u001b[0;32mif\u001b[0m \u001b[0mreduce_func\u001b[0m \u001b[0;32mis\u001b[0m \u001b[0;32mnot\u001b[0m \u001b[0;32mNone\u001b[0m\u001b[0;34m:\u001b[0m\u001b[0;34m\u001b[0m\u001b[0;34m\u001b[0m\u001b[0m\n\u001b[1;32m   1725\u001b[0m             \u001b[0mchunk_size\u001b[0m \u001b[0;34m=\u001b[0m \u001b[0mD_chunk\u001b[0m\u001b[0;34m.\u001b[0m\u001b[0mshape\u001b[0m\u001b[0;34m[\u001b[0m\u001b[0;36m0\u001b[0m\u001b[0;34m]\u001b[0m\u001b[0;34m\u001b[0m\u001b[0;34m\u001b[0m\u001b[0m\n\u001b[0;32m-> 1726\u001b[0;31m             \u001b[0mD_chunk\u001b[0m \u001b[0;34m=\u001b[0m \u001b[0mreduce_func\u001b[0m\u001b[0;34m(\u001b[0m\u001b[0mD_chunk\u001b[0m\u001b[0;34m,\u001b[0m \u001b[0msl\u001b[0m\u001b[0;34m.\u001b[0m\u001b[0mstart\u001b[0m\u001b[0;34m)\u001b[0m\u001b[0;34m\u001b[0m\u001b[0;34m\u001b[0m\u001b[0m\n\u001b[0m\u001b[1;32m   1727\u001b[0m             \u001b[0m_check_chunk_size\u001b[0m\u001b[0;34m(\u001b[0m\u001b[0mD_chunk\u001b[0m\u001b[0;34m,\u001b[0m \u001b[0mchunk_size\u001b[0m\u001b[0;34m)\u001b[0m\u001b[0;34m\u001b[0m\u001b[0;34m\u001b[0m\u001b[0m\n\u001b[1;32m   1728\u001b[0m         \u001b[0;32myield\u001b[0m \u001b[0mD_chunk\u001b[0m\u001b[0;34m\u001b[0m\u001b[0;34m\u001b[0m\u001b[0m\n",
      "\u001b[0;32m~/miniconda3/lib/python3.8/site-packages/sklearn/neighbors/_base.py\u001b[0m in \u001b[0;36m_kneighbors_reduce_func\u001b[0;34m(self, dist, start, n_neighbors, return_distance)\u001b[0m\n\u001b[1;32m    632\u001b[0m         \"\"\"\n\u001b[1;32m    633\u001b[0m         \u001b[0msample_range\u001b[0m \u001b[0;34m=\u001b[0m \u001b[0mnp\u001b[0m\u001b[0;34m.\u001b[0m\u001b[0marange\u001b[0m\u001b[0;34m(\u001b[0m\u001b[0mdist\u001b[0m\u001b[0;34m.\u001b[0m\u001b[0mshape\u001b[0m\u001b[0;34m[\u001b[0m\u001b[0;36m0\u001b[0m\u001b[0;34m]\u001b[0m\u001b[0;34m)\u001b[0m\u001b[0;34m[\u001b[0m\u001b[0;34m:\u001b[0m\u001b[0;34m,\u001b[0m \u001b[0;32mNone\u001b[0m\u001b[0;34m]\u001b[0m\u001b[0;34m\u001b[0m\u001b[0;34m\u001b[0m\u001b[0m\n\u001b[0;32m--> 634\u001b[0;31m         \u001b[0mneigh_ind\u001b[0m \u001b[0;34m=\u001b[0m \u001b[0mnp\u001b[0m\u001b[0;34m.\u001b[0m\u001b[0margpartition\u001b[0m\u001b[0;34m(\u001b[0m\u001b[0mdist\u001b[0m\u001b[0;34m,\u001b[0m \u001b[0mn_neighbors\u001b[0m \u001b[0;34m-\u001b[0m \u001b[0;36m1\u001b[0m\u001b[0;34m,\u001b[0m \u001b[0maxis\u001b[0m\u001b[0;34m=\u001b[0m\u001b[0;36m1\u001b[0m\u001b[0;34m)\u001b[0m\u001b[0;34m\u001b[0m\u001b[0;34m\u001b[0m\u001b[0m\n\u001b[0m\u001b[1;32m    635\u001b[0m         \u001b[0mneigh_ind\u001b[0m \u001b[0;34m=\u001b[0m \u001b[0mneigh_ind\u001b[0m\u001b[0;34m[\u001b[0m\u001b[0;34m:\u001b[0m\u001b[0;34m,\u001b[0m \u001b[0;34m:\u001b[0m\u001b[0mn_neighbors\u001b[0m\u001b[0;34m]\u001b[0m\u001b[0;34m\u001b[0m\u001b[0;34m\u001b[0m\u001b[0m\n\u001b[1;32m    636\u001b[0m         \u001b[0;31m# argpartition doesn't guarantee sorted order, so we sort again\u001b[0m\u001b[0;34m\u001b[0m\u001b[0;34m\u001b[0m\u001b[0;34m\u001b[0m\u001b[0m\n",
      "\u001b[0;32m<__array_function__ internals>\u001b[0m in \u001b[0;36margpartition\u001b[0;34m(*args, **kwargs)\u001b[0m\n",
      "\u001b[0;32m~/miniconda3/lib/python3.8/site-packages/numpy/core/fromnumeric.py\u001b[0m in \u001b[0;36margpartition\u001b[0;34m(a, kth, axis, kind, order)\u001b[0m\n\u001b[1;32m    830\u001b[0m \u001b[0;34m\u001b[0m\u001b[0m\n\u001b[1;32m    831\u001b[0m     \"\"\"\n\u001b[0;32m--> 832\u001b[0;31m     \u001b[0;32mreturn\u001b[0m \u001b[0m_wrapfunc\u001b[0m\u001b[0;34m(\u001b[0m\u001b[0ma\u001b[0m\u001b[0;34m,\u001b[0m \u001b[0;34m'argpartition'\u001b[0m\u001b[0;34m,\u001b[0m \u001b[0mkth\u001b[0m\u001b[0;34m,\u001b[0m \u001b[0maxis\u001b[0m\u001b[0;34m=\u001b[0m\u001b[0maxis\u001b[0m\u001b[0;34m,\u001b[0m \u001b[0mkind\u001b[0m\u001b[0;34m=\u001b[0m\u001b[0mkind\u001b[0m\u001b[0;34m,\u001b[0m \u001b[0morder\u001b[0m\u001b[0;34m=\u001b[0m\u001b[0morder\u001b[0m\u001b[0;34m)\u001b[0m\u001b[0;34m\u001b[0m\u001b[0;34m\u001b[0m\u001b[0m\n\u001b[0m\u001b[1;32m    833\u001b[0m \u001b[0;34m\u001b[0m\u001b[0m\n\u001b[1;32m    834\u001b[0m \u001b[0;34m\u001b[0m\u001b[0m\n",
      "\u001b[0;32m~/miniconda3/lib/python3.8/site-packages/numpy/core/fromnumeric.py\u001b[0m in \u001b[0;36m_wrapfunc\u001b[0;34m(obj, method, *args, **kwds)\u001b[0m\n\u001b[1;32m     56\u001b[0m \u001b[0;34m\u001b[0m\u001b[0m\n\u001b[1;32m     57\u001b[0m     \u001b[0;32mtry\u001b[0m\u001b[0;34m:\u001b[0m\u001b[0;34m\u001b[0m\u001b[0;34m\u001b[0m\u001b[0m\n\u001b[0;32m---> 58\u001b[0;31m         \u001b[0;32mreturn\u001b[0m \u001b[0mbound\u001b[0m\u001b[0;34m(\u001b[0m\u001b[0;34m*\u001b[0m\u001b[0margs\u001b[0m\u001b[0;34m,\u001b[0m \u001b[0;34m**\u001b[0m\u001b[0mkwds\u001b[0m\u001b[0;34m)\u001b[0m\u001b[0;34m\u001b[0m\u001b[0;34m\u001b[0m\u001b[0m\n\u001b[0m\u001b[1;32m     59\u001b[0m     \u001b[0;32mexcept\u001b[0m \u001b[0mTypeError\u001b[0m\u001b[0;34m:\u001b[0m\u001b[0;34m\u001b[0m\u001b[0;34m\u001b[0m\u001b[0m\n\u001b[1;32m     60\u001b[0m         \u001b[0;31m# A TypeError occurs if the object does have such a method in its\u001b[0m\u001b[0;34m\u001b[0m\u001b[0;34m\u001b[0m\u001b[0;34m\u001b[0m\u001b[0m\n",
      "\u001b[0;31mKeyboardInterrupt\u001b[0m: "
     ]
    }
   ],
   "source": [
    "import smote_variants as sv \n",
    "\n",
    "svs=[sv.kmeans_SMOTE(),sv.Safe_Level_SMOTE(),sv.SMOTE_Cosine()]\n",
    "\n",
    "for over_sampler in svs: \n",
    "    X_over_samp, y_over_samp = over_sampler.sample(X, y)\n",
    "    print(X_over_samp)"
   ]
  },
  {
   "cell_type": "markdown",
   "id": "short-combining",
   "metadata": {},
   "source": [
    "# Over 85 SMOTE Variants"
   ]
  },
  {
   "cell_type": "code",
   "execution_count": 2,
   "id": "municipal-scheme",
   "metadata": {
    "scrolled": true
   },
   "outputs": [],
   "source": [
    "import smote_variants as sv \n",
    "\n",
    "variants = [sv.kmeans_SMOTE(), sv.SMOTE(), sv.SMOTE_TomekLinks(), sv.SMOTE_ENN(), sv.Borderline_SMOTE1(), sv.Borderline_SMOTE2(), sv.ADASYN(), sv.AHC(), sv.LLE_SMOTE(), sv.distance_SMOTE(), sv.SMMO(), sv.polynom_fit_SMOTE(), sv.Stefanowski(), sv.ADOMS(), sv.Safe_Level_SMOTE(), sv.MSMOTE(), sv.DE_oversampling(), sv.SMOBD(), sv.SUNDO(), sv.MSYN(), sv.SVM_balance(), sv.TRIM_SMOTE(), sv.SMOTE_RSB(), sv.ProWSyn(), sv.SL_graph_SMOTE(), sv.NRSBoundary_SMOTE(), sv.LVQ_SMOTE(), sv.SOI_CJ(), sv.ROSE(), sv.SMOTE_OUT(), sv.SMOTE_Cosine(), sv.Selected_SMOTE(), sv.LN_SMOTE(), sv.MWMOTE(), sv.PDFOS(), sv.IPADE_ID(), sv.RWO_sampling(), sv.NEATER(), sv.DEAGO(), sv.Gazzah(), sv.MCT(), sv.ADG(), sv.SMOTE_IPF(), sv.KernelADASYN(), sv.MOT2LD(), sv.V_SYNTH(), sv.OUPS(), sv.SMOTE_D(), sv.SMOTE_PSO(), sv.CURE_SMOTE(), sv.SOMO(), sv.ISOMAP_Hybrid(), sv.CE_SMOTE(), sv.Edge_Det_SMOTE(), sv.CBSO(), sv.E_SMOTE(), sv.DBSMOTE(), sv.ASMOBD(), sv.Assembled_SMOTE(), sv.SDSMOTE(), sv.DSMOTE(), sv.G_SMOTE(), sv.NT_SMOTE(), sv.Lee(), sv.SPY(), sv.SMOTE_PSOBAT(), sv.MDO(), sv.Random_SMOTE(), sv.ISMOTE(), sv.VIS_RST(), sv.GASMOTE(), sv.A_SUWO(), sv.SMOTE_FRST_2T(), sv.AND_SMOTE(), sv.NRAS(), sv.AMSCO(), sv.SSO(), sv.NDO_sampling(), sv.DSRBF(), sv.Gaussian_SMOTE(), sv.kmeans_SMOTE(), sv.Supervised_SMOTE(), sv.SN_SMOTE(), sv.CCR(), sv.ANS(), sv.cluster_SMOTE(), sv.NoSMOTE()]"
   ]
  },
  {
   "cell_type": "code",
   "execution_count": null,
   "id": "champion-blackjack",
   "metadata": {
    "scrolled": false
   },
   "outputs": [
    {
     "name": "stderr",
     "output_type": "stream",
     "text": [
      "2022-02-11 12:07:56,666:INFO:kmeans_SMOTE: Running sampling via ('kmeans_SMOTE', \"{'proportion': 1.0, 'n_neighbors': 5, 'n_clusters': 10, 'irt': 2.0, 'n_jobs': 1, 'random_state': None}\")\n",
      "2022-02-11 12:07:57,706:WARNING:kmeans_SMOTE: number of clusters after filtering is 0\n",
      "2022-02-11 12:07:57,719:INFO:SMOTE: Running sampling via ('SMOTE', \"{'proportion': 1.0, 'n_neighbors': 5, 'n_jobs': 1, 'random_state': None}\")\n",
      "2022-02-11 12:08:03,889:INFO:SMOTE_TomekLinks: Running sampling via ('SMOTE_TomekLinks', \"{'proportion': 1.0, 'n_neighbors': 5, 'n_jobs': 1, 'random_state': None}\")\n",
      "2022-02-11 12:08:03,889:INFO:SMOTE: Running sampling via ('SMOTE', \"{'proportion': 1.0, 'n_neighbors': 5, 'n_jobs': 1, 'random_state': <module 'numpy.random' from '/home/drake/miniconda3/lib/python3.8/site-packages/numpy/random/__init__.py'>}\")\n",
      "2022-02-11 12:08:10,027:INFO:SMOTE_ENN: Running sampling via ('SMOTE_ENN', \"{'proportion': 1.0, 'n_neighbors': 5, 'n_jobs': 1, 'random_state': None}\")\n",
      "2022-02-11 12:08:10,028:INFO:SMOTE: Running sampling via ('SMOTE', \"{'proportion': 1.0, 'n_neighbors': 5, 'n_jobs': 1, 'random_state': <module 'numpy.random' from '/home/drake/miniconda3/lib/python3.8/site-packages/numpy/random/__init__.py'>}\")\n",
      "2022-02-11 12:08:16,068:INFO:Borderline_SMOTE1: Running sampling via ('Borderline_SMOTE1', \"{'proportion': 1.0, 'n_neighbors': 5, 'k_neighbors': 5, 'n_jobs': 1, 'random_state': None}\")\n",
      "2022-02-11 12:09:05,197:INFO:Borderline_SMOTE2: Running sampling via ('Borderline_SMOTE2', \"{'proportion': 1.0, 'n_neighbors': 5, 'k_neighbors': 5, 'n_jobs': 1, 'random_state': None}\")\n"
     ]
    },
    {
     "name": "stdout",
     "output_type": "stream",
     "text": [
      "5 samples out of 87 completed. 1 passed and 4 failed\n"
     ]
    },
    {
     "name": "stderr",
     "output_type": "stream",
     "text": [
      "2022-02-11 12:09:54,966:INFO:ADASYN: Running sampling via ('ADASYN', \"{'n_neighbors': 5, 'd_th': 0.9, 'beta': 1.0, 'n_jobs': 1, 'random_state': None}\")\n",
      "2022-02-11 12:10:45,812:INFO:AHC: Running sampling via ('AHC', \"{'strategy': 'min', 'n_jobs': 1, 'random_state': None}\")\n",
      "2022-02-11 12:11:12,085:INFO:LLE_SMOTE: Running sampling via ('LLE_SMOTE', \"{'proportion': 1.0, 'n_neighbors': 5, 'n_components': 2, 'n_jobs': 1, 'random_state': None}\")\n",
      "2022-02-11 12:11:12,092:INFO:distance_SMOTE: Running sampling via ('distance_SMOTE', \"{'proportion': 1.0, 'n_neighbors': 5, 'n_jobs': 1, 'random_state': None}\")\n",
      "2022-02-11 12:11:18,365:INFO:SMMO: Running sampling via ('SMMO', \"{'proportion': 1.0, 'n_neighbors': 5, 'ensemble': [QuadraticDiscriminantAnalysis(), DecisionTreeClassifier(random_state=2), GaussianNB()], 'n_jobs': 1, 'random_state': None}\")\n"
     ]
    },
    {
     "name": "stdout",
     "output_type": "stream",
     "text": [
      "10 samples out of 87 completed. 1 passed and 9 failed\n"
     ]
    },
    {
     "name": "stderr",
     "output_type": "stream",
     "text": [
      "2022-02-11 12:11:21,965:INFO:polynom_fit_SMOTE: Running sampling via ('polynom_fit_SMOTE', \"{'proportion': 1.0, 'topology': 'star', 'random_state': None}\")\n",
      "2022-02-11 12:11:21,972:INFO:Stefanowski: Running sampling via ('Stefanowski', \"{'strategy': 'weak_amp', 'n_jobs': 1}\")\n",
      "2022-02-11 12:18:06,177:INFO:ADOMS: Running sampling via ('ADOMS', \"{'proportion': 1.0, 'n_neighbors': 5, 'n_jobs': 1, 'random_state': None}\")\n",
      "2022-02-11 12:18:12,196:INFO:Safe_Level_SMOTE: Running sampling via ('Safe_Level_SMOTE', \"{'proportion': 1.0, 'n_neighbors': 5, 'n_jobs': 1, 'random_state': None}\")\n",
      "2022-02-11 12:21:18,204:INFO:MSMOTE: Running sampling via ('MSMOTE', \"{'proportion': 1.0, 'n_neighbors': 5, 'n_jobs': 1, 'random_state': None}\")\n"
     ]
    },
    {
     "name": "stdout",
     "output_type": "stream",
     "text": [
      "15 samples out of 87 completed. 1 passed and 14 failed\n"
     ]
    },
    {
     "name": "stderr",
     "output_type": "stream",
     "text": [
      "2022-02-11 12:21:54,457:INFO:DE_oversampling: Running sampling via ('DE_oversampling', \"{'proportion': 1.0, 'n_neighbors': 5, 'crossover_rate': 0.5, 'similarity_threshold': 0.5, 'n_clusters': 30, 'n_jobs': 1, 'random_state': None}\")\n",
      "2022-02-11 12:21:54,459:INFO:SMOBD: Running sampling via ('SMOBD', \"{'proportion': 1.0, 'eta1': 0.5, 't': 1.8, 'min_samples': 5, 'max_eps': 1.0, 'n_jobs': 1, 'random_state': None}\")\n",
      "2022-02-11 12:22:08,246:INFO:SUNDO: Running sampling via ('SUNDO', \"{'n_jobs': 1, 'random_state': None}\")\n",
      "2022-02-11 12:22:08,283:INFO:MSYN: Running sampling via ('MSYN', \"{'pressure': 1.5, 'n_neighbors': 5, 'n_jobs': 1, 'random_state': None}\")\n",
      "2022-02-11 12:22:08,297:INFO:SMOTE: Running sampling via ('SMOTE', \"{'proportion': 1.5, 'n_neighbors': 5, 'n_jobs': 1, 'random_state': <module 'numpy.random' from '/home/drake/miniconda3/lib/python3.8/site-packages/numpy/random/__init__.py'>}\")\n",
      "2022-02-11 12:22:15,058:INFO:SVM_balance: Running sampling via ('SVM_balance', \"{'proportion': 1.0, 'n_neighbors': 5, 'n_jobs': 1, 'random_state': None}\")\n",
      "2022-02-11 12:22:15,060:INFO:SMOTE: Running sampling via ('SMOTE', \"{'proportion': 1.0, 'n_neighbors': 5, 'n_jobs': 1, 'random_state': <module 'numpy.random' from '/home/drake/miniconda3/lib/python3.8/site-packages/numpy/random/__init__.py'>}\")\n"
     ]
    },
    {
     "name": "stdout",
     "output_type": "stream",
     "text": [
      "20 samples out of 87 completed. 1 passed and 19 failed\n"
     ]
    },
    {
     "name": "stderr",
     "output_type": "stream",
     "text": [
      "2022-02-11 12:22:21,764:INFO:TRIM_SMOTE: Running sampling via ('TRIM_SMOTE', \"{'proportion': 1.0, 'n_neighbors': 5, 'min_precision': 0.3, 'n_jobs': 1, 'random_state': None}\")\n",
      "2022-02-11 12:22:21,766:INFO:TRIM_SMOTE: do the trimming process\n",
      "2022-02-11 12:22:21,767:INFO:SMOTE_RSB: Running sampling via ('SMOTE_RSB', \"{'proportion': 2.0, 'n_neighbors': 5, 'n_jobs': 1, 'random_state': None}\")\n",
      "2022-02-11 12:22:21,785:INFO:SMOTE: Running sampling via ('SMOTE', \"{'proportion': 2.0, 'n_neighbors': 5, 'n_jobs': 1, 'random_state': <module 'numpy.random' from '/home/drake/miniconda3/lib/python3.8/site-packages/numpy/random/__init__.py'>}\")\n",
      "2022-02-11 12:22:28,733:INFO:ProWSyn: Running sampling via ('ProWSyn', \"{'proportion': 1.0, 'n_neighbors': 5, 'L': 5, 'theta': 1.0, 'n_jobs': 1, 'random_state': None}\")\n",
      "2022-02-11 12:22:28,751:INFO:SL_graph_SMOTE: Running sampling via ('SL_graph_SMOTE', \"{'proportion': 1.0, 'n_neighbors': 5, 'n_jobs': 1, 'random_state': None}\")\n",
      "2022-02-11 12:23:20,567:INFO:Safe_Level_SMOTE: Running sampling via ('Safe_Level_SMOTE', \"{'proportion': 1.0, 'n_neighbors': 5, 'n_jobs': 1, 'random_state': <module 'numpy.random' from '/home/drake/miniconda3/lib/python3.8/site-packages/numpy/random/__init__.py'>}\")\n",
      "2022-02-11 12:26:46,526:INFO:NRSBoundary_SMOTE: Running sampling via ('NRSBoundary_SMOTE', \"{'proportion': 1.0, 'n_neighbors': 5, 'w': 0.005, 'n_jobs': 1, 'random_state': None}\")\n",
      "2022-02-11 12:26:46,536:INFO:LVQ_SMOTE: Running sampling via ('LVQ_SMOTE', \"{'proportion': 1.0, 'n_neighbors': 5, 'n_clusters': 10, 'n_jobs': 1, 'random_state': None}\")\n"
     ]
    },
    {
     "name": "stdout",
     "output_type": "stream",
     "text": [
      "25 samples out of 87 completed. 1 passed and 24 failed\n"
     ]
    },
    {
     "name": "stderr",
     "output_type": "stream",
     "text": [
      "/home/drake/miniconda3/lib/python3.8/site-packages/sklearn/base.py:450: UserWarning: X does not have valid feature names, but NearestNeighbors was fitted with feature names\n",
      "  warnings.warn(\n",
      "2022-02-11 12:26:46,805:INFO:SOI_CJ: Running sampling via ('SOI_CJ', \"{'proportion': 1.0, 'n_neighbors': 5, 'method': 'interpolation', 'n_jobs': 1, 'random_state': None}\")\n",
      "2022-02-11 12:26:46,820:INFO:SOI_CJ: Executing clustering\n"
     ]
    }
   ],
   "source": [
    "succesful = []\n",
    "failed = []\n",
    "progress = 0\n",
    "\n",
    "for variant in variants:\n",
    "    oversampler= variant\n",
    "    try:\n",
    "        X_over_samp, y_over_samp = oversampler.sample(X, y)\n",
    "        succesful.append(oversampler)\n",
    "    except:\n",
    "        failed.append(oversampler)\n",
    "    progress += 1\n",
    "    if progress % 5 == 0:\n",
    "        print(f\"{progress} samples out of {len(variants)} completed. {len(succesful)} passed and {len(failed)} failed\")"
   ]
  },
  {
   "cell_type": "code",
   "execution_count": 20,
   "id": "inclusive-madness",
   "metadata": {},
   "outputs": [
    {
     "data": {
      "text/plain": [
       "array([0, 0, 0, ..., 1, 1, 1])"
      ]
     },
     "execution_count": 20,
     "metadata": {},
     "output_type": "execute_result"
    }
   ],
   "source": [
    "X = X.to_numpy()\n",
    "y = y.to_numpy()"
   ]
  },
  {
   "cell_type": "code",
   "execution_count": 21,
   "id": "returning-borough",
   "metadata": {
    "scrolled": true
   },
   "outputs": [
    {
     "name": "stderr",
     "output_type": "stream",
     "text": [
      "2022-02-11 12:40:56,668:INFO:Safe_Level_SMOTE: Running sampling via ('Safe_Level_SMOTE', \"{'proportion': 1.0, 'n_neighbors': 5, 'n_jobs': 1, 'random_state': None}\")\n"
     ]
    },
    {
     "data": {
      "text/plain": [
       "(array([[5.71580000e+04, 4.43000000e+02, 6.00000000e+00, ...,\n",
       "         0.00000000e+00, 0.00000000e+00, 0.00000000e+00],\n",
       "        [5.71590000e+04, 4.43000000e+02, 6.00000000e+00, ...,\n",
       "         0.00000000e+00, 0.00000000e+00, 0.00000000e+00],\n",
       "        [5.71600000e+04, 4.43000000e+02, 6.00000000e+00, ...,\n",
       "         0.00000000e+00, 0.00000000e+00, 0.00000000e+00],\n",
       "        ...,\n",
       "        [5.09137492e+04, 1.72347338e+02, 6.00000000e+00, ...,\n",
       "         2.24687209e+07, 1.46000000e+15, 1.45634000e+15],\n",
       "        [4.06690000e+04, 8.00000000e+01, 6.00000000e+00, ...,\n",
       "         3.68745430e+07, 1.45634000e+15, 1.45634000e+15],\n",
       "        [3.67195880e+04, 4.43000000e+02, 6.00000000e+00, ...,\n",
       "         0.00000000e+00, 0.00000000e+00, 0.00000000e+00]]),\n",
       " array([0, 0, 0, ..., 1, 1, 1]))"
      ]
     },
     "execution_count": 21,
     "metadata": {},
     "output_type": "execute_result"
    }
   ],
   "source": [
    "sv.Safe_Level_SMOTE().sample(X, y)"
   ]
  },
  {
   "cell_type": "markdown",
   "id": "powerful-seafood",
   "metadata": {},
   "source": [
    "# Their example"
   ]
  },
  {
   "cell_type": "code",
   "execution_count": 14,
   "id": "homeless-packaging",
   "metadata": {},
   "outputs": [
    {
     "data": {
      "text/plain": [
       "array([[5.1, 3.5, 1.4, 0.2],\n",
       "       [4.9, 3. , 1.4, 0.2],\n",
       "       [4.6, 3.1, 1.5, 0.2],\n",
       "       [5. , 3.6, 1.4, 0.2],\n",
       "       [5.4, 3.9, 1.7, 0.4],\n",
       "       [4.6, 3.4, 1.4, 0.3],\n",
       "       [5. , 3.4, 1.5, 0.2],\n",
       "       [4.4, 2.9, 1.4, 0.2],\n",
       "       [5.4, 3.7, 1.5, 0.2],\n",
       "       [4.8, 3.4, 1.6, 0.2],\n",
       "       [4.8, 3. , 1.4, 0.1],\n",
       "       [4.3, 3. , 1.1, 0.1],\n",
       "       [5.7, 4.4, 1.5, 0.4],\n",
       "       [5.4, 3.9, 1.3, 0.4],\n",
       "       [5.1, 3.5, 1.4, 0.3],\n",
       "       [5.7, 3.8, 1.7, 0.3],\n",
       "       [5.1, 3.8, 1.5, 0.3],\n",
       "       [5.4, 3.4, 1.7, 0.2],\n",
       "       [5.1, 3.7, 1.5, 0.4],\n",
       "       [4.6, 3.6, 1. , 0.2],\n",
       "       [5.1, 3.3, 1.7, 0.5],\n",
       "       [4.8, 3.4, 1.9, 0.2],\n",
       "       [5. , 3. , 1.6, 0.2],\n",
       "       [5. , 3.4, 1.6, 0.4],\n",
       "       [5.2, 3.5, 1.5, 0.2],\n",
       "       [5.2, 3.4, 1.4, 0.2],\n",
       "       [4.7, 3.2, 1.6, 0.2],\n",
       "       [4.8, 3.1, 1.6, 0.2],\n",
       "       [5.4, 3.4, 1.5, 0.4],\n",
       "       [5.2, 4.1, 1.5, 0.1],\n",
       "       [5.5, 4.2, 1.4, 0.2],\n",
       "       [4.9, 3.1, 1.5, 0.1],\n",
       "       [5. , 3.2, 1.2, 0.2],\n",
       "       [5.5, 3.5, 1.3, 0.2],\n",
       "       [4.9, 3.1, 1.5, 0.1],\n",
       "       [4.4, 3. , 1.3, 0.2],\n",
       "       [5.1, 3.4, 1.5, 0.2],\n",
       "       [5. , 3.5, 1.3, 0.3],\n",
       "       [4.5, 2.3, 1.3, 0.3],\n",
       "       [5.1, 3.8, 1.9, 0.4],\n",
       "       [4.8, 3. , 1.4, 0.3],\n",
       "       [5.1, 3.8, 1.6, 0.2],\n",
       "       [4.6, 3.2, 1.4, 0.2],\n",
       "       [5.3, 3.7, 1.5, 0.2],\n",
       "       [5. , 3.3, 1.4, 0.2],\n",
       "       [4.7, 3.2, 1.3, 0.2],\n",
       "       [4.9, 3.1, 1.5, 0.1],\n",
       "       [5.8, 4. , 1.2, 0.2],\n",
       "       [4.4, 3.2, 1.3, 0.2],\n",
       "       [5. , 3.5, 1.6, 0.6],\n",
       "       [6.5, 2.8, 4.6, 1.5],\n",
       "       [6.6, 2.9, 4.6, 1.3],\n",
       "       [6.8, 2.8, 4.8, 1.4],\n",
       "       [6. , 2.9, 4.5, 1.5],\n",
       "       [6. , 3.4, 4.5, 1.6],\n",
       "       [7. , 3.2, 4.7, 1.4],\n",
       "       [6.4, 3.2, 4.5, 1.5],\n",
       "       [6.9, 3.1, 4.9, 1.5],\n",
       "       [5.5, 2.3, 4. , 1.3],\n",
       "       [5.7, 2.8, 4.5, 1.3],\n",
       "       [6.3, 3.3, 4.7, 1.6],\n",
       "       [4.9, 2.4, 3.3, 1. ],\n",
       "       [5.2, 2.7, 3.9, 1.4],\n",
       "       [5. , 2. , 3.5, 1. ],\n",
       "       [5.9, 3. , 4.2, 1.5],\n",
       "       [6. , 2.2, 4. , 1. ],\n",
       "       [6.1, 2.9, 4.7, 1.4],\n",
       "       [5.6, 2.9, 3.6, 1.3],\n",
       "       [6.7, 3.1, 4.4, 1.4],\n",
       "       [5.6, 3. , 4.5, 1.5],\n",
       "       [5.8, 2.7, 4.1, 1. ],\n",
       "       [6.2, 2.2, 4.5, 1.5],\n",
       "       [5.6, 2.5, 3.9, 1.1],\n",
       "       [5.9, 3.2, 4.8, 1.8],\n",
       "       [6.1, 2.8, 4. , 1.3],\n",
       "       [6.3, 2.5, 4.9, 1.5],\n",
       "       [6.1, 2.8, 4.7, 1.2],\n",
       "       [6.4, 2.9, 4.3, 1.3],\n",
       "       [6.6, 3. , 4.4, 1.4],\n",
       "       [6.7, 3. , 5. , 1.7],\n",
       "       [5.7, 2.6, 3.5, 1. ],\n",
       "       [5.5, 2.4, 3.8, 1.1],\n",
       "       [5.5, 2.4, 3.7, 1. ],\n",
       "       [5.8, 2.7, 3.9, 1.2],\n",
       "       [6. , 2.7, 5.1, 1.6],\n",
       "       [5.4, 3. , 4.5, 1.5],\n",
       "       [6.7, 3.1, 4.7, 1.5],\n",
       "       [6.3, 2.3, 4.4, 1.3],\n",
       "       [5.6, 3. , 4.1, 1.3],\n",
       "       [5.5, 2.5, 4. , 1.3],\n",
       "       [5.5, 2.6, 4.4, 1.2],\n",
       "       [6.1, 3. , 4.6, 1.4],\n",
       "       [5.8, 2.6, 4. , 1.2],\n",
       "       [5. , 2.3, 3.3, 1. ],\n",
       "       [5.6, 2.7, 4.2, 1.3],\n",
       "       [5.7, 3. , 4.2, 1.2],\n",
       "       [5.7, 2.9, 4.2, 1.3],\n",
       "       [6.2, 2.9, 4.3, 1.3],\n",
       "       [5.1, 2.5, 3. , 1.1],\n",
       "       [5.7, 2.8, 4.1, 1.3],\n",
       "       [6.3, 3.3, 6. , 2.5],\n",
       "       [5.8, 2.7, 5.1, 1.9],\n",
       "       [7.1, 3. , 5.9, 2.1],\n",
       "       [6.3, 2.9, 5.6, 1.8],\n",
       "       [6.5, 3. , 5.8, 2.2],\n",
       "       [7.6, 3. , 6.6, 2.1],\n",
       "       [4.9, 2.5, 4.5, 1.7],\n",
       "       [7.3, 2.9, 6.3, 1.8],\n",
       "       [6.7, 2.5, 5.8, 1.8],\n",
       "       [7.2, 3.6, 6.1, 2.5],\n",
       "       [6.5, 3.2, 5.1, 2. ],\n",
       "       [6.4, 2.7, 5.3, 1.9],\n",
       "       [6.8, 3. , 5.5, 2.1],\n",
       "       [5.7, 2.5, 5. , 2. ],\n",
       "       [5.8, 2.8, 5.1, 2.4],\n",
       "       [6.4, 3.2, 5.3, 2.3],\n",
       "       [7.7, 3.8, 6.7, 2.2],\n",
       "       [5.6, 2.8, 4.9, 2. ],\n",
       "       [7.7, 2.8, 6.7, 2. ],\n",
       "       [6.3, 2.7, 4.9, 1.8],\n",
       "       [6.7, 3.3, 5.7, 2.1],\n",
       "       [7.2, 3.2, 6. , 1.8],\n",
       "       [6.1, 3. , 4.9, 1.8],\n",
       "       [6.4, 2.8, 5.6, 2.1],\n",
       "       [7.2, 3. , 5.8, 1.6],\n",
       "       [7.4, 2.8, 6.1, 1.9],\n",
       "       [7.9, 3.8, 6.4, 2. ],\n",
       "       [6.4, 2.8, 5.6, 2.2],\n",
       "       [6.3, 2.8, 5.1, 1.5],\n",
       "       [6.1, 2.6, 5.6, 1.4],\n",
       "       [7.7, 3. , 6.1, 2.3],\n",
       "       [6.3, 3.4, 5.6, 2.4],\n",
       "       [6.4, 3.1, 5.5, 1.8],\n",
       "       [6. , 3. , 4.8, 1.8],\n",
       "       [6.9, 3.1, 5.4, 2.1],\n",
       "       [6.7, 3.1, 5.6, 2.4],\n",
       "       [6.9, 3.1, 5.1, 2.3],\n",
       "       [5.8, 2.7, 5.1, 1.9],\n",
       "       [6.8, 3.2, 5.9, 2.3],\n",
       "       [6.7, 3.3, 5.7, 2.5],\n",
       "       [6.7, 3. , 5.2, 2.3],\n",
       "       [6.3, 2.5, 5. , 1.9],\n",
       "       [6.5, 3. , 5.2, 2. ],\n",
       "       [6.2, 3.4, 5.4, 2.3],\n",
       "       [5.9, 3. , 5.1, 1.8],\n",
       "       [6.5, 3. , 5.5, 1.8],\n",
       "       [7.7, 2.6, 6.9, 2.3],\n",
       "       [6. , 2.2, 5. , 1.5],\n",
       "       [6.9, 3.2, 5.7, 2.3],\n",
       "       [6.2, 2.8, 4.8, 1.8]])"
      ]
     },
     "execution_count": 14,
     "metadata": {},
     "output_type": "execute_result"
    }
   ],
   "source": [
    "import smote_variants as sv\n",
    "import imbalanced_databases as imbd\n",
    "\n",
    "dataset= imbd.load_iris0()\n",
    "X, y= dataset['data'], dataset['target']\n",
    "\n",
    "X"
   ]
  },
  {
   "cell_type": "code",
   "execution_count": null,
   "id": "mysterious-satellite",
   "metadata": {},
   "outputs": [],
   "source": []
  }
 ],
 "metadata": {
  "kernelspec": {
   "display_name": "Python 3 (ipykernel)",
   "language": "python",
   "name": "python3"
  },
  "language_info": {
   "codemirror_mode": {
    "name": "ipython",
    "version": 3
   },
   "file_extension": ".py",
   "mimetype": "text/x-python",
   "name": "python",
   "nbconvert_exporter": "python",
   "pygments_lexer": "ipython3",
   "version": "3.8.5"
  }
 },
 "nbformat": 4,
 "nbformat_minor": 5
}
