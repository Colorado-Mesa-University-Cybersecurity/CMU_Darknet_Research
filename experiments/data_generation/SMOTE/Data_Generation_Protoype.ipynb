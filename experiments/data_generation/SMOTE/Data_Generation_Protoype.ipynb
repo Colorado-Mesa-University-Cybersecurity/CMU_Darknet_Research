{
 "cells": [
  {
   "cell_type": "code",
   "execution_count": 1,
   "metadata": {},
   "outputs": [
    {
     "name": "stdout",
     "output_type": "stream",
     "text": [
      "\n",
      "    Last Execution: 2022-04-03 09:19:00.014574\n",
      "    python:\t3.8.5\n",
      "\n",
      "    \tfastai:\t\t2.5.6\n",
      "    \tmatplotlib:\t3.5.1\n",
      "    \tnumpy:\t\t1.19.5\n",
      "    \tpandas:\t\t1.4.1\n",
      "    \tseaborn:\t0.11.2\n",
      "    \tsklearn:\t1.0.2\n",
      "    \ttorch:\t\t1.11.0+cu102\n",
      "    \tyellowbrick:\t1.4\n",
      "    \timblearn:\t0.9.0\n",
      "    \n"
     ]
    }
   ],
   "source": [
    "import utilities as utils"
   ]
  },
  {
   "cell_type": "code",
   "execution_count": 2,
   "metadata": {},
   "outputs": [],
   "source": [
    "# This code is used to scale to processing numerous datasets\n",
    "data_path_1: str = '../../../Data/phase1/'   \n",
    "\n",
    "data_set_1: list = [ 'Darknet_reduced_features.csv' ]\n",
    "\n",
    "data_set: list  = data_set_1\n",
    "file_path_1      = utils.get_file_path(data_path_1)\n",
    "file_set: list   = list(map(file_path_1, data_set_1))\n",
    "current_job: int = 0\n",
    "\n",
    "utils.data_set = data_set\n",
    "utils.file_set = file_set\n"
   ]
  },
  {
   "cell_type": "code",
   "execution_count": 3,
   "metadata": {},
   "outputs": [
    {
     "name": "stdout",
     "output_type": "stream",
     "text": [
      "We will be cleaning 1 files:\n",
      "[   '../../../Data/phase1/Darknet_reduced_features.csv']\n"
     ]
    }
   ],
   "source": [
    "print(f'We will be cleaning {len(file_set)} files:')\n",
    "utils.pretty(file_set)"
   ]
  },
  {
   "cell_type": "markdown",
   "metadata": {},
   "source": [
    "## Label Analysis\n",
    "\n",
    "Now we load the data and separate the dataset by label, giving us a traffic dataset and an application dataset. We also want to investigate how merging the Non-Tor and NonVNP labels together affects the clustering, so rename the samples under these labels as regular and produce a second traffic dataset with it."
   ]
  },
  {
   "cell_type": "code",
   "execution_count": 4,
   "metadata": {},
   "outputs": [
    {
     "name": "stdout",
     "output_type": "stream",
     "text": [
      "Dataset 1/1: We now look at ../../../Data/phase1/Darknet_reduced_features.csv\n",
      "\n",
      "\n",
      "Loading Dataset: ../../../Data/phase1/Darknet_reduced_features.csv\n",
      "\tTo Dataset Cache: ./cache/Darknet_reduced_features.csv.pickle\n",
      "\n",
      "\n",
      "        File:\t\t\t\t../../../Data/phase1/Darknet_reduced_features.csv  \n",
      "        Job Number:\t\t\t1\n",
      "        Shape:\t\t\t\t(141481, 64)\n",
      "        Samples:\t\t\t141481 \n",
      "        Features:\t\t\t64\n",
      "    \n"
     ]
    },
    {
     "name": "stderr",
     "output_type": "stream",
     "text": [
      "/home/drake/projects/Sp22/CMUDarknet/experiments/data_generation/SMOTE/utilities.py:601: FutureWarning: The frame.append method is deprecated and will be removed from pandas in a future version. Use pandas.concat instead.\n",
      "  new_df = new_df.append(df[df[column] == v].copy())\n",
      "/home/drake/projects/Sp22/CMUDarknet/experiments/data_generation/SMOTE/utilities.py:601: FutureWarning: The frame.append method is deprecated and will be removed from pandas in a future version. Use pandas.concat instead.\n",
      "  new_df = new_df.append(df[df[column] == v].copy())\n",
      "/home/drake/projects/Sp22/CMUDarknet/experiments/data_generation/SMOTE/utilities.py:601: FutureWarning: The frame.append method is deprecated and will be removed from pandas in a future version. Use pandas.concat instead.\n",
      "  new_df = new_df.append(df[df[column] == v].copy())\n"
     ]
    },
    {
     "name": "stdout",
     "output_type": "stream",
     "text": [
      "\n",
      "        Shape:\t\t\t\t(117620, 64)\n",
      "        Samples:\t\t\t117620 \n",
      "        Features:\t\t\t64\n",
      "    \n",
      "\n",
      "        Shape:\t\t\t\t(117620, 63)\n",
      "        Samples:\t\t\t117620 \n",
      "        Features:\t\t\t63\n",
      "    \n",
      "\n",
      "        Shape:\t\t\t\t(117620, 63)\n",
      "        Samples:\t\t\t117620 \n",
      "        Features:\t\t\t63\n",
      "    \n"
     ]
    }
   ],
   "source": [
    "\n",
    "dataset : dict = utils.examine_dataset(1)\n",
    "dataset = utils.package_data_for_inspection_with_label(\n",
    "                utils.reduce_feature_to_values(dataset['Dataset'], 'Traffic Type', ['Tor', 'VPN', 'Non-Tor'] ), 'Dataset_2')\n",
    "\n",
    "dataset['Dataset'] = utils.rename_values_in_column(dataset, [('Traffic Type', {'Non-Tor': 'Regular'})])\n",
    "\n",
    "traffic_dataset : dict = utils.package_data_for_inspection_with_label(\n",
    "                         utils.prune_dataset(dataset, ['Application Type']), 'Traffic_Dataset_2_Tor_VPN_Regular')\n",
    "\n",
    "application_dataset : dict = utils.package_data_for_inspection_with_label(\n",
    "                            utils.prune_dataset(dataset, ['Traffic Type']), 'Application_Dataset_1')"
   ]
  },
  {
   "cell_type": "markdown",
   "metadata": {},
   "source": [
    "# SMOTE Prototype\n",
    "\n",
    "Here we load up our first SMOTE model and train it on the whole traffic dataset. This way we have some data to play around with it and our actual splits will be done later."
   ]
  },
  {
   "cell_type": "code",
   "execution_count": 5,
   "metadata": {},
   "outputs": [],
   "source": [
    "def create_and_visualize_smote(df: utils.pd.DataFrame, target_label: str, ratio_dict: dict) -> list:\n",
    "    '''\n",
    "        Function creates and visualizes SMOTE with the given ratio\n",
    "        Parameters:\n",
    "            df: dataframe to be used for SMOTE\n",
    "            target_label: the label used for prediction\n",
    "            ratio_dict: dictionary of the ratio to be used for SMOTE for each class\n",
    "    '''\n",
    "    \n",
    "    X = df.drop(target_label, axis=1)\n",
    "    y = df[target_label]\n",
    "    model = utils.SMOTE(sampling_strategy=ratio_dict)\n",
    "    X, y = model.fit_resample(X, y)\n",
    "    counter = utils.Counter(y)\n",
    "    for k,v in counter.items():\n",
    "        per = v / len(y) * 100\n",
    "        print('Class=%s, n=%d (%.3f%%)' % (k, v, per))\n",
    "        \n",
    "    # plot the distribution\n",
    "    utils.pyplot.bar(counter.keys(), counter.values())\n",
    "    utils.pyplot.show()\n",
    "    return utils.pd.concat([X, utils.pd.DataFrame(y)], axis=1)\n",
    "\n",
    "def get_largest_class_sample_size(df: utils.pd.DataFrame, column_name: str) -> int:\n",
    "    '''\n",
    "        Function returns the largest class sample size\n",
    "    '''\n",
    "    return df.groupby(column_name).size().max()\n",
    "\n"
   ]
  },
  {
   "cell_type": "code",
   "execution_count": 34,
   "metadata": {},
   "outputs": [
    {
     "name": "stdout",
     "output_type": "stream",
     "text": [
      "Class=Tor, n=93309 (33.333%)\n",
      "Class=VPN, n=93309 (33.333%)\n",
      "Class=Regular, n=93309 (33.333%)\n"
     ]
    },
    {
     "data": {
      "image/png": "[encoded data removed]",
      "text/plain": [
       "<Figure size 576x396 with 1 Axes>"
      ]
     },
     "metadata": {},
     "output_type": "display_data"
    }
   ],
   "source": [
    "largest_class = get_largest_class_sample_size(traffic_dataset['Dataset'], 'Traffic Type')\n",
    "ratio_dict = {\"VPN\": largest_class, \"Regular\": largest_class, \"Tor\": largest_class}\n",
    "fake_df_traffic = create_and_visualize_smote(traffic_dataset['Dataset'], 'Traffic Type', ratio_dict)"
   ]
  },
  {
   "cell_type": "code",
   "execution_count": 35,
   "metadata": {},
   "outputs": [
    {
     "name": "stdout",
     "output_type": "stream",
     "text": [
      "Class=audio-streaming, n=48520 (12.500%)\n",
      "Class=browsing, n=48520 (12.500%)\n",
      "Class=chat, n=48520 (12.500%)\n",
      "Class=file-transfer, n=48520 (12.500%)\n",
      "Class=email, n=48520 (12.500%)\n",
      "Class=p2p, n=48520 (12.500%)\n",
      "Class=video-streaming, n=48520 (12.500%)\n",
      "Class=voip, n=48520 (12.500%)\n"
     ]
    },
    {
     "data": {
      "image/png": "[encoded data removed]",
      "text/plain": [
       "<Figure size 576x396 with 1 Axes>"
      ]
     },
     "metadata": {},
     "output_type": "display_data"
    }
   ],
   "source": [
    "largest_class = get_largest_class_sample_size(application_dataset['Dataset'], 'Application Type')\n",
    "ratio_dict = {\"audio-streaming\": largest_class, \"browsing\": largest_class, \"chat\": largest_class, \"email\": largest_class, \"file-transfer\": largest_class, \"p2p\": largest_class, \"video-streaming\": largest_class, \"voip\": largest_class}\n",
    "fake_df_application = create_and_visualize_smote(application_dataset['Dataset'], 'Application Type', ratio_dict)"
   ]
  },
  {
   "cell_type": "code",
   "execution_count": 36,
   "metadata": {},
   "outputs": [
    {
     "name": "stdout",
     "output_type": "stream",
     "text": [
      "\n",
      "    Dataset statistics:\n",
      "        Shape:\t\t\t\t(279927, 63)\n",
      "        Samples:\t\t\t279927 \n",
      "        Features:\t\t\t63\n",
      "    \n",
      "\n",
      "        Shape:\t\t\t\t(279927, 63)\n",
      "        Samples:\t\t\t279927 \n",
      "        Features:\t\t\t63\n",
      "    \n",
      "\n",
      "    Dataset statistics:\n",
      "        Shape:\t\t\t\t(388160, 63)\n",
      "        Samples:\t\t\t388160 \n",
      "        Features:\t\t\t63\n",
      "    \n",
      "\n",
      "        Shape:\t\t\t\t(388160, 63)\n",
      "        Samples:\t\t\t388160 \n",
      "        Features:\t\t\t63\n",
      "    \n"
     ]
    }
   ],
   "source": [
    "fake_traffic_dataset: dict = utils.package_data_for_inspection_with_label(\n",
    "    utils.prune_dataset(utils.package_data_for_inspection(fake_df_traffic), [] ), \n",
    "    'smote_balanced_traffic_dataset_labels_equal'\n",
    ")\n",
    "\n",
    "fake_application_dataset: dict = utils.package_data_for_inspection_with_label(\n",
    "    utils.prune_dataset(utils.package_data_for_inspection(fake_df_application), [] ), \n",
    "    'smote_balanced_application_dataset_labels_equal'\n",
    ")"
   ]
  },
  {
   "cell_type": "code",
   "execution_count": 37,
   "metadata": {},
   "outputs": [],
   "source": [
    "fake_traffic_dataset['Dataset'].to_csv('./synthetic/smote_balanced_traffic_dataset_labels_equal.csv', index=False)\n",
    "fake_application_dataset['Dataset'].to_csv('./synthetic/smote_balanced_application_dataset_labels_equal.csv', index=False)"
   ]
  },
  {
   "cell_type": "markdown",
   "metadata": {},
   "source": [
    "# Traffic Type Synthetic Data Generation"
   ]
  },
  {
   "cell_type": "markdown",
   "metadata": {},
   "source": [
    "### We will begin with 20,000 of each traffic type"
   ]
  },
  {
   "cell_type": "code",
   "execution_count": 38,
   "metadata": {},
   "outputs": [],
   "source": [
    "def create_and_filter_new_model(model: utils.Model_data, column_name: str, value: str, prune_column: str = None) -> utils.Model_data:\n",
    "    '''\n",
    "        Function returns a new model with the given column name and value\n",
    "    '''\n",
    "    new_model : dict = utils.copy.deepcopy(model)\n",
    "    new_model['Dataset'] = model[\"Dataset\"][model[\"Dataset\"][column_name] == value]\n",
    "\n",
    "    if prune_column is not None:\n",
    "        new_model['Dataset'] = utils.prune_dataset(new_model, [prune_column])\n",
    "    return new_model\n",
    "\n",
    "def downsample(df: utils.pd.DataFrame, column_name: str, size : int) -> utils.pd.DataFrame:\n",
    "    '''\n",
    "        Function returns a new dataframe with the given column name and value\n",
    "    '''\n",
    "    return df.groupby(column_name, group_keys=False).apply(lambda df: df.sample(size))\n"
   ]
  },
  {
   "cell_type": "code",
   "execution_count": 39,
   "metadata": {},
   "outputs": [],
   "source": [
    "vpn_experiment_2 : utils.Model_data = create_and_filter_new_model(traffic_dataset, 'Traffic Type', 'VPN')\n",
    "tor_experiment_2 : utils.Model_data = create_and_filter_new_model(traffic_dataset, 'Traffic Type', 'Tor')\n",
    "regular_experiment_2 : utils.Model_data = create_and_filter_new_model(traffic_dataset, 'Traffic Type', 'Regular')"
   ]
  },
  {
   "cell_type": "code",
   "execution_count": 40,
   "metadata": {},
   "outputs": [],
   "source": [
    "regular_experiment_2['Dataset']  = downsample(regular_experiment_2['Dataset'], 'Traffic Type', 20000)\n",
    "vpn_experiment_2['Dataset']  = downsample(vpn_experiment_2['Dataset'], 'Traffic Type', 20000)"
   ]
  },
  {
   "cell_type": "code",
   "execution_count": 41,
   "metadata": {},
   "outputs": [
    {
     "name": "stdout",
     "output_type": "stream",
     "text": [
      "Class=Regular, n=20000 (33.333%)\n",
      "Class=VPN, n=20000 (33.333%)\n",
      "Class=Tor, n=20000 (33.333%)\n"
     ]
    },
    {
     "data": {
      "image/png": "[encoded data removed]",
      "text/plain": [
       "<Figure size 576x396 with 1 Axes>"
      ]
     },
     "metadata": {},
     "output_type": "display_data"
    }
   ],
   "source": [
    "ratio_dict = {\"VPN\": 20000, \"Regular\": 20000, \"Tor\": 20000}\n",
    "fake_df_traffic_2 = create_and_visualize_smote(utils.pd.concat([regular_experiment_2['Dataset'],vpn_experiment_2['Dataset'],tor_experiment_2['Dataset']]), 'Traffic Type', ratio_dict)"
   ]
  },
  {
   "cell_type": "code",
   "execution_count": 42,
   "metadata": {},
   "outputs": [
    {
     "name": "stdout",
     "output_type": "stream",
     "text": [
      "\n",
      "    Dataset statistics:\n",
      "        Shape:\t\t\t\t(60000, 63)\n",
      "        Samples:\t\t\t60000 \n",
      "        Features:\t\t\t63\n",
      "    \n",
      "\n",
      "        Shape:\t\t\t\t(60000, 63)\n",
      "        Samples:\t\t\t60000 \n",
      "        Features:\t\t\t63\n",
      "    \n"
     ]
    }
   ],
   "source": [
    "fake_traffic_dataset_2: dict = utils.package_data_for_inspection_with_label(\n",
    "    utils.prune_dataset(utils.package_data_for_inspection(fake_df_traffic_2), [] ), \n",
    "    'Fake_Traffic_Dataset_2_20_15_5'\n",
    ")\n",
    "\n",
    "fake_traffic_dataset_2['Dataset'].to_csv('./synthetic/smote_balanced_traffic_dataset_20_20_20.csv', index=False)"
   ]
  },
  {
   "cell_type": "markdown",
   "metadata": {},
   "source": [
    "### Next is a 20,000 Regular, 15,000 VPN, and 5,000 Tor split"
   ]
  },
  {
   "cell_type": "code",
   "execution_count": 43,
   "metadata": {},
   "outputs": [],
   "source": [
    "vpn_experiment_3 : utils.Model_data = create_and_filter_new_model(traffic_dataset, 'Traffic Type', 'VPN')\n",
    "tor_experiment_3 : utils.Model_data = create_and_filter_new_model(traffic_dataset, 'Traffic Type', 'Tor')\n",
    "regular_experiment_3 : utils.Model_data = create_and_filter_new_model(traffic_dataset, 'Traffic Type', 'Regular')\n",
    "\n",
    "regular_experiment_3['Dataset']  = downsample(regular_experiment_3['Dataset'], 'Traffic Type', 20000)\n",
    "vpn_experiment_3['Dataset']  = downsample(vpn_experiment_3['Dataset'], 'Traffic Type', 15000)"
   ]
  },
  {
   "cell_type": "code",
   "execution_count": 44,
   "metadata": {},
   "outputs": [
    {
     "name": "stdout",
     "output_type": "stream",
     "text": [
      "Class=Regular, n=20000 (50.000%)\n",
      "Class=VPN, n=15000 (37.500%)\n",
      "Class=Tor, n=5000 (12.500%)\n"
     ]
    },
    {
     "data": {
      "image/png": "[encoded data removed]",
      "text/plain": [
       "<Figure size 576x396 with 1 Axes>"
      ]
     },
     "metadata": {},
     "output_type": "display_data"
    }
   ],
   "source": [
    "ratio_dict = {\"VPN\": 15000, \"Regular\": 20000, \"Tor\": 5000}\n",
    "fake_df_traffic_3 = create_and_visualize_smote(utils.pd.concat([regular_experiment_3['Dataset'],vpn_experiment_3['Dataset'],tor_experiment_3['Dataset']]), 'Traffic Type', ratio_dict)"
   ]
  },
  {
   "cell_type": "code",
   "execution_count": 50,
   "metadata": {},
   "outputs": [
    {
     "name": "stdout",
     "output_type": "stream",
     "text": [
      "\n",
      "    Dataset statistics:\n",
      "        Shape:\t\t\t\t(40000, 63)\n",
      "        Samples:\t\t\t40000 \n",
      "        Features:\t\t\t63\n",
      "    \n",
      "\n",
      "        Shape:\t\t\t\t(40000, 63)\n",
      "        Samples:\t\t\t40000 \n",
      "        Features:\t\t\t63\n",
      "    \n"
     ]
    }
   ],
   "source": [
    "fake_traffic_dataset_3: dict = utils.package_data_for_inspection_with_label(\n",
    "    utils.prune_dataset(utils.package_data_for_inspection(fake_df_traffic_3), [] ), \n",
    "    'Fake_Traffic_Dataset_3_20_15_5'\n",
    ")\n",
    "\n",
    "fake_traffic_dataset_3['Dataset'].to_csv('./synthetic/smote_balanced_traffic_dataset_labels_20_15_5.csv', index=False)"
   ]
  },
  {
   "cell_type": "markdown",
   "metadata": {},
   "source": [
    "### Finally is a 30,000 Regular, 20,000 VPN, and 10,000 Tor split"
   ]
  },
  {
   "cell_type": "code",
   "execution_count": 48,
   "metadata": {},
   "outputs": [],
   "source": [
    "vpn_experiment_4 : utils.Model_data = create_and_filter_new_model(traffic_dataset, 'Traffic Type', 'VPN')\n",
    "tor_experiment_4 : utils.Model_data = create_and_filter_new_model(traffic_dataset, 'Traffic Type', 'Tor')\n",
    "regular_experiment_4 : utils.Model_data = create_and_filter_new_model(traffic_dataset, 'Traffic Type', 'Regular')\n",
    "\n",
    "regular_experiment_4['Dataset']  = downsample(regular_experiment_4['Dataset'], 'Traffic Type', 30000)\n",
    "vpn_experiment_4['Dataset']  = downsample(vpn_experiment_4['Dataset'], 'Traffic Type', 20000)"
   ]
  },
  {
   "cell_type": "code",
   "execution_count": 49,
   "metadata": {},
   "outputs": [
    {
     "name": "stdout",
     "output_type": "stream",
     "text": [
      "Class=Regular, n=30000 (50.000%)\n",
      "Class=VPN, n=20000 (33.333%)\n",
      "Class=Tor, n=10000 (16.667%)\n"
     ]
    },
    {
     "data": {
      "image/png": "[encoded data removed]",
      "text/plain": [
       "<Figure size 576x396 with 1 Axes>"
      ]
     },
     "metadata": {},
     "output_type": "display_data"
    }
   ],
   "source": [
    "ratio_dict = {\"VPN\": 20000, \"Regular\": 30000, \"Tor\": 10000}\n",
    "fake_df_traffic_4 = create_and_visualize_smote(utils.pd.concat([regular_experiment_4['Dataset'],vpn_experiment_4['Dataset'],tor_experiment_4['Dataset']]), 'Traffic Type', ratio_dict)"
   ]
  },
  {
   "cell_type": "code",
   "execution_count": 80,
   "metadata": {},
   "outputs": [
    {
     "name": "stdout",
     "output_type": "stream",
     "text": [
      "\n",
      "    Dataset statistics:\n",
      "        Shape:\t\t\t\t(60000, 63)\n",
      "        Samples:\t\t\t60000 \n",
      "        Features:\t\t\t63\n",
      "    \n",
      "\n",
      "        Shape:\t\t\t\t(60000, 63)\n",
      "        Samples:\t\t\t60000 \n",
      "        Features:\t\t\t63\n",
      "    \n"
     ]
    }
   ],
   "source": [
    "fake_traffic_dataset_4: dict = utils.package_data_for_inspection_with_label(\n",
    "    utils.prune_dataset(utils.package_data_for_inspection(fake_df_traffic_4), [] ), \n",
    "    'Fake_Traffic_Dataset_4_30_20_10'\n",
    ")\n",
    "\n",
    "fake_traffic_dataset_4['Dataset'].to_csv('./synthetic/smote_balanced_traffic_dataset_labels_30_20_10.csv', index=False)"
   ]
  },
  {
   "cell_type": "markdown",
   "metadata": {},
   "source": [
    "# Application Type Synthetic Data Generation\n"
   ]
  },
  {
   "cell_type": "code",
   "execution_count": 78,
   "metadata": {},
   "outputs": [],
   "source": [
    "import warnings\n",
    "warnings.simplefilter(action='ignore', category=FutureWarning)\n",
    "\n",
    "def downsample_and_run_smote(dataset : dict, ratio_dict: dict, target_label: str) -> utils.pd.DataFrame:\n",
    "    models : list = []\n",
    "    df : Dataframe = utils.pd.DataFrame()\n",
    "    for key, value in ratio_dict.items():\n",
    "        models.append(create_and_filter_new_model(dataset, target_label, key))\n",
    "        if len(models[-1]['Dataset']) > value:\n",
    "            models[-1]['Dataset'] = downsample(models[-1]['Dataset'], target_label, value)\n",
    "        df = df.append(models[-1]['Dataset'])\n",
    "    return create_and_visualize_smote(df, target_label, ratio_dict)"
   ]
  },
  {
   "cell_type": "markdown",
   "metadata": {},
   "source": [
    "### All application types with 10,000 samples"
   ]
  },
  {
   "cell_type": "code",
   "execution_count": 84,
   "metadata": {},
   "outputs": [
    {
     "name": "stdout",
     "output_type": "stream",
     "text": [
      "Class=audio-streaming, n=10000 (12.500%)\n",
      "Class=browsing, n=10000 (12.500%)\n",
      "Class=chat, n=10000 (12.500%)\n",
      "Class=file-transfer, n=10000 (12.500%)\n",
      "Class=email, n=10000 (12.500%)\n",
      "Class=p2p, n=10000 (12.500%)\n",
      "Class=video-streaming, n=10000 (12.500%)\n",
      "Class=voip, n=10000 (12.500%)\n"
     ]
    },
    {
     "data": {
      "image/png": "[encoded data removed]",
      "text/plain": [
       "<Figure size 576x396 with 1 Axes>"
      ]
     },
     "metadata": {},
     "output_type": "display_data"
    },
    {
     "name": "stdout",
     "output_type": "stream",
     "text": [
      "\n",
      "    Dataset statistics:\n",
      "        Shape:\t\t\t\t(80000, 63)\n",
      "        Samples:\t\t\t80000 \n",
      "        Features:\t\t\t63\n",
      "    \n",
      "\n",
      "        Shape:\t\t\t\t(80000, 63)\n",
      "        Samples:\t\t\t80000 \n",
      "        Features:\t\t\t63\n",
      "    \n"
     ]
    }
   ],
   "source": [
    "fake_df_application_2 = downsample_and_run_smote(application_dataset, {\"audio-streaming\": 10000, \"browsing\": 10000, \"chat\": 10000, \"file-transfer\": 10000, \"email\": 10000,\n",
    "                                                                       \"p2p\": 10000, \"video-streaming\": 10000, \"voip\": 10000}, 'Application Type')\n",
    "\n",
    "fake_application_dataset_2: dict = utils.package_data_for_inspection_with_label(\n",
    "    utils.prune_dataset(utils.package_data_for_inspection(fake_df_application_2), [] ), \n",
    "    'Fake_Application_Dataset_2_10_10_10'\n",
    ")\n",
    "\n",
    "fake_application_dataset_2['Dataset'].to_csv('./synthetic/smote_balanced_application_dataset_labels_10_10_10.csv', index=False)"
   ]
  },
  {
   "cell_type": "markdown",
   "metadata": {},
   "source": [
    "### All application types with 15,000 samples"
   ]
  },
  {
   "cell_type": "code",
   "execution_count": 86,
   "metadata": {},
   "outputs": [
    {
     "name": "stdout",
     "output_type": "stream",
     "text": [
      "Class=audio-streaming, n=15000 (12.500%)\n",
      "Class=browsing, n=15000 (12.500%)\n",
      "Class=chat, n=15000 (12.500%)\n",
      "Class=file-transfer, n=15000 (12.500%)\n",
      "Class=email, n=15000 (12.500%)\n",
      "Class=p2p, n=15000 (12.500%)\n",
      "Class=video-streaming, n=15000 (12.500%)\n",
      "Class=voip, n=15000 (12.500%)\n"
     ]
    },
    {
     "data": {
      "image/png": "[encoded data removed]",
      "text/plain": [
       "<Figure size 576x396 with 1 Axes>"
      ]
     },
     "metadata": {},
     "output_type": "display_data"
    },
    {
     "name": "stdout",
     "output_type": "stream",
     "text": [
      "\n",
      "    Dataset statistics:\n",
      "        Shape:\t\t\t\t(120000, 63)\n",
      "        Samples:\t\t\t120000 \n",
      "        Features:\t\t\t63\n",
      "    \n",
      "\n",
      "        Shape:\t\t\t\t(120000, 63)\n",
      "        Samples:\t\t\t120000 \n",
      "        Features:\t\t\t63\n",
      "    \n"
     ]
    }
   ],
   "source": [
    "fake_df_application_3 = downsample_and_run_smote(application_dataset, {\"audio-streaming\": 15000, \"browsing\": 15000, \"chat\": 15000, \"file-transfer\": 15000, \"email\": 15000,\n",
    "                                                                       \"p2p\": 15000, \"video-streaming\": 15000, \"voip\": 15000}, 'Application Type')\n",
    "\n",
    "fake_application_dataset_3: dict = utils.package_data_for_inspection_with_label(\n",
    "    utils.prune_dataset(utils.package_data_for_inspection(fake_df_application_3), [] ), \n",
    "    'Fake_Application_Dataset_3_15_15_15'\n",
    ")\n",
    "\n",
    "fake_application_dataset_3['Dataset'].to_csv('./synthetic/smote_balanced_application_dataset_labels_15_15_15.csv', index=False)"
   ]
  },
  {
   "cell_type": "markdown",
   "metadata": {},
   "source": [
    "### All application types with 20,000 samples"
   ]
  },
  {
   "cell_type": "code",
   "execution_count": 87,
   "metadata": {},
   "outputs": [
    {
     "name": "stdout",
     "output_type": "stream",
     "text": [
      "Class=audio-streaming, n=20000 (12.500%)\n",
      "Class=browsing, n=20000 (12.500%)\n",
      "Class=chat, n=20000 (12.500%)\n",
      "Class=file-transfer, n=20000 (12.500%)\n",
      "Class=email, n=20000 (12.500%)\n",
      "Class=p2p, n=20000 (12.500%)\n",
      "Class=video-streaming, n=20000 (12.500%)\n",
      "Class=voip, n=20000 (12.500%)\n"
     ]
    },
    {
     "data": {
      "image/png": "[encoded data removed]",
      "text/plain": [
       "<Figure size 576x396 with 1 Axes>"
      ]
     },
     "metadata": {},
     "output_type": "display_data"
    },
    {
     "name": "stdout",
     "output_type": "stream",
     "text": [
      "\n",
      "    Dataset statistics:\n",
      "        Shape:\t\t\t\t(160000, 63)\n",
      "        Samples:\t\t\t160000 \n",
      "        Features:\t\t\t63\n",
      "    \n",
      "\n",
      "        Shape:\t\t\t\t(160000, 63)\n",
      "        Samples:\t\t\t160000 \n",
      "        Features:\t\t\t63\n",
      "    \n"
     ]
    }
   ],
   "source": [
    "fake_df_application_4 = downsample_and_run_smote(application_dataset, {\"audio-streaming\": 20000, \"browsing\": 20000, \"chat\": 20000, \"file-transfer\": 20000, \"email\": 20000,\n",
    "                                                                       \"p2p\": 20000, \"video-streaming\": 20000, \"voip\": 20000}, 'Application Type')\n",
    "\n",
    "fake_application_dataset_4: dict = utils.package_data_for_inspection_with_label(\n",
    "    utils.prune_dataset(utils.package_data_for_inspection(fake_df_application_4), [] ), \n",
    "    'Fake_Application_Dataset_4_20_20_20'\n",
    ")\n",
    "\n",
    "fake_application_dataset_4['Dataset'].to_csv('./synthetic/smote_balanced_application_dataset_labels_20_20_20.csv', index=False)"
   ]
  },
  {
   "cell_type": "markdown",
   "metadata": {},
   "source": [
    "### All application types with 25,000 samples"
   ]
  },
  {
   "cell_type": "code",
   "execution_count": 88,
   "metadata": {},
   "outputs": [
    {
     "name": "stdout",
     "output_type": "stream",
     "text": [
      "Class=audio-streaming, n=25000 (12.500%)\n",
      "Class=browsing, n=25000 (12.500%)\n",
      "Class=chat, n=25000 (12.500%)\n",
      "Class=file-transfer, n=25000 (12.500%)\n",
      "Class=email, n=25000 (12.500%)\n",
      "Class=p2p, n=25000 (12.500%)\n",
      "Class=video-streaming, n=25000 (12.500%)\n",
      "Class=voip, n=25000 (12.500%)\n"
     ]
    },
    {
     "data": {
      "image/png": "[encoded data removed]",
      "text/plain": [
       "<Figure size 576x396 with 1 Axes>"
      ]
     },
     "metadata": {},
     "output_type": "display_data"
    },
    {
     "name": "stdout",
     "output_type": "stream",
     "text": [
      "\n",
      "    Dataset statistics:\n",
      "        Shape:\t\t\t\t(200000, 63)\n",
      "        Samples:\t\t\t200000 \n",
      "        Features:\t\t\t63\n",
      "    \n",
      "\n",
      "        Shape:\t\t\t\t(200000, 63)\n",
      "        Samples:\t\t\t200000 \n",
      "        Features:\t\t\t63\n",
      "    \n"
     ]
    }
   ],
   "source": [
    "fake_df_application_5 = downsample_and_run_smote(application_dataset, {\"audio-streaming\": 25000, \"browsing\": 25000, \"chat\": 25000, \"file-transfer\": 25000, \"email\": 25000,\n",
    "                                                                       \"p2p\": 25000, \"video-streaming\": 25000, \"voip\": 25000}, 'Application Type')\n",
    "\n",
    "fake_application_dataset_5: dict = utils.package_data_for_inspection_with_label(\n",
    "    utils.prune_dataset(utils.package_data_for_inspection(fake_df_application_5), [] ), \n",
    "    'Fake_Application_Dataset_5_25_25_25'\n",
    ")\n",
    "\n",
    "fake_application_dataset_5['Dataset'].to_csv('./synthetic/smote_balanced_application_dataset_labels_25_25_25.csv', index=False)"
   ]
  },
  {
   "cell_type": "markdown",
   "metadata": {},
   "source": [
    "### All application types with 30,000 samples"
   ]
  },
  {
   "cell_type": "code",
   "execution_count": 89,
   "metadata": {},
   "outputs": [
    {
     "name": "stdout",
     "output_type": "stream",
     "text": [
      "Class=audio-streaming, n=30000 (12.500%)\n",
      "Class=browsing, n=30000 (12.500%)\n",
      "Class=chat, n=30000 (12.500%)\n",
      "Class=file-transfer, n=30000 (12.500%)\n",
      "Class=email, n=30000 (12.500%)\n",
      "Class=p2p, n=30000 (12.500%)\n",
      "Class=video-streaming, n=30000 (12.500%)\n",
      "Class=voip, n=30000 (12.500%)\n"
     ]
    },
    {
     "data": {
      "image/png": "[encoded data removed]",
      "text/plain": [
       "<Figure size 576x396 with 1 Axes>"
      ]
     },
     "metadata": {},
     "output_type": "display_data"
    },
    {
     "name": "stdout",
     "output_type": "stream",
     "text": [
      "\n",
      "    Dataset statistics:\n",
      "        Shape:\t\t\t\t(240000, 63)\n",
      "        Samples:\t\t\t240000 \n",
      "        Features:\t\t\t63\n",
      "    \n",
      "\n",
      "        Shape:\t\t\t\t(240000, 63)\n",
      "        Samples:\t\t\t240000 \n",
      "        Features:\t\t\t63\n",
      "    \n"
     ]
    }
   ],
   "source": [
    "fake_df_application_6 = downsample_and_run_smote(application_dataset, {\"audio-streaming\": 30000, \"browsing\": 30000, \"chat\": 30000, \"file-transfer\": 30000, \"email\": 30000,\n",
    "                                                                       \"p2p\": 30000, \"video-streaming\": 30000, \"voip\": 30000}, 'Application Type')\n",
    "\n",
    "fake_application_dataset_6: dict = utils.package_data_for_inspection_with_label(\n",
    "    utils.prune_dataset(utils.package_data_for_inspection(fake_df_application_6), [] ), \n",
    "    'Fake_Application_Dataset_6_30_30_30'\n",
    ")\n",
    "\n",
    "fake_application_dataset_6['Dataset'].to_csv('./synthetic/smote_balanced_application_dataset_labels_30_30_30.csv', index=False)"
   ]
  },
  {
   "cell_type": "markdown",
   "metadata": {},
   "source": [
    "### Proportional Splits"
   ]
  },
  {
   "cell_type": "code",
   "execution_count": 90,
   "metadata": {},
   "outputs": [
    {
     "name": "stdout",
     "output_type": "stream",
     "text": [
      "Class=audio-streaming, n=9000 (10.000%)\n",
      "Class=browsing, n=16000 (17.778%)\n",
      "Class=chat, n=10000 (11.111%)\n",
      "Class=file-transfer, n=10000 (11.111%)\n",
      "Class=email, n=10000 (11.111%)\n",
      "Class=p2p, n=20000 (22.222%)\n",
      "Class=video-streaming, n=10000 (11.111%)\n",
      "Class=voip, n=5000 (5.556%)\n"
     ]
    },
    {
     "data": {
      "image/png": "[encoded data removed]",
      "text/plain": [
       "<Figure size 576x396 with 1 Axes>"
      ]
     },
     "metadata": {},
     "output_type": "display_data"
    },
    {
     "name": "stdout",
     "output_type": "stream",
     "text": [
      "\n",
      "    Dataset statistics:\n",
      "        Shape:\t\t\t\t(240000, 63)\n",
      "        Samples:\t\t\t240000 \n",
      "        Features:\t\t\t63\n",
      "    \n",
      "\n",
      "        Shape:\t\t\t\t(240000, 63)\n",
      "        Samples:\t\t\t240000 \n",
      "        Features:\t\t\t63\n",
      "    \n"
     ]
    }
   ],
   "source": [
    "fake_df_application_7 = downsample_and_run_smote(application_dataset, {\"audio-streaming\": 9000, \"browsing\": 16000, \"chat\": 10000, \"file-transfer\": 10000, \"email\": 10000,\n",
    "                                                                       \"p2p\": 20000, \"video-streaming\": 10000, \"voip\": 5000}, 'Application Type')\n",
    "\n",
    "fake_application_dataset_7: dict = utils.package_data_for_inspection_with_label(\n",
    "    utils.prune_dataset(utils.package_data_for_inspection(fake_df_application_6), [] ), \n",
    "    'Fake_Application_Dataset_7_proportional'\n",
    ")\n",
    "\n",
    "fake_application_dataset_7['Dataset'].to_csv('./synthetic/smote_balanced_application_dataset_labels_proportional.csv', index=False)"
   ]
  },
  {
   "cell_type": "code",
   "execution_count": 91,
   "metadata": {},
   "outputs": [
    {
     "name": "stdout",
     "output_type": "stream",
     "text": [
      "Last Execution: 2022-04-03 12:45:26.816477\n"
     ]
    },
    {
     "ename": "AssertionError",
     "evalue": "Nothing after this point is included in the study",
     "output_type": "error",
     "traceback": [
      "\u001b[0;31m---------------------------------------------------------------------------\u001b[0m",
      "\u001b[0;31mAssertionError\u001b[0m                            Traceback (most recent call last)",
      "\u001b[1;32m/home/drake/projects/Sp22/CMUDarknet/experiments/data_generation/SMOTE/prototype.ipynb Cell 41'\u001b[0m in \u001b[0;36m<cell line: 2>\u001b[0;34m()\u001b[0m\n\u001b[1;32m      <a href='vscode-notebook-cell:/home/drake/projects/Sp22/CMUDarknet/experiments/data_generation/SMOTE/prototype.ipynb#ch0000079?line=0'>1</a>\u001b[0m \u001b[39mprint\u001b[39m(\u001b[39mf\u001b[39m\u001b[39m'\u001b[39m\u001b[39mLast Execution: \u001b[39m\u001b[39m{\u001b[39;00mutils\u001b[39m.\u001b[39mdatetime\u001b[39m.\u001b[39mdatetime\u001b[39m.\u001b[39mnow()\u001b[39m}\u001b[39;00m\u001b[39m'\u001b[39m)\n\u001b[0;32m----> <a href='vscode-notebook-cell:/home/drake/projects/Sp22/CMUDarknet/experiments/data_generation/SMOTE/prototype.ipynb#ch0000079?line=1'>2</a>\u001b[0m \u001b[39massert\u001b[39;00m \u001b[39mFalse\u001b[39;00m, \u001b[39m'\u001b[39m\u001b[39mNothing after this point is included in the study\u001b[39m\u001b[39m'\u001b[39m\n",
      "\u001b[0;31mAssertionError\u001b[0m: Nothing after this point is included in the study"
     ]
    }
   ],
   "source": [
    "print(f'Last Execution: {utils.datetime.datetime.now()}')\n",
    "assert False, 'Nothing after this point is included in the study'"
   ]
  },
  {
   "cell_type": "code",
   "execution_count": null,
   "metadata": {},
   "outputs": [],
   "source": []
  }
 ],
 "metadata": {
  "interpreter": {
   "hash": "4c4fb1487774ae037f885d94e8d37c2cbf020e962ca9c9e25c06c3e040addec1"
  },
  "kernelspec": {
   "display_name": "Python 3.7.10 ('face')",
   "language": "python",
   "name": "python3"
  },
  "language_info": {
   "codemirror_mode": {
    "name": "ipython",
    "version": 3
   },
   "file_extension": ".py",
   "mimetype": "text/x-python",
   "name": "python",
   "nbconvert_exporter": "python",
   "pygments_lexer": "ipython3",
   "version": "3.8.5"
  },
  "orig_nbformat": 4
 },
 "nbformat": 4,
 "nbformat_minor": 2
}
