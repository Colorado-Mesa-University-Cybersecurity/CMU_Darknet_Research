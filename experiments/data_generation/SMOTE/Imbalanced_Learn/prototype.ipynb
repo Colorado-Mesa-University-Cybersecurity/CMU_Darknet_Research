{
 "cells": [
  {
   "cell_type": "code",
   "execution_count": 1,
   "metadata": {},
   "outputs": [
    {
     "name": "stdout",
     "output_type": "stream",
     "text": [
      "\n",
      "    Last Execution: 2022-03-16 09:53:01.204372\n",
      "    python:\t3.8.5\n",
      "\n",
      "    \tfastai:\t\t2.5.3\n",
      "    \tmatplotlib:\t3.3.3\n",
      "    \tnumpy:\t\t1.19.2\n",
      "    \tpandas:\t\t1.2.0\n",
      "    \tseaborn:\t0.11.2\n",
      "    \tsklearn:\t1.0.2\n",
      "    \tyellowbrick:\t1.4\n",
      "    \timbalanced learn:\t0.9.0\n",
      "    \n"
     ]
    }
   ],
   "source": [
    "import utilities as utils"
   ]
  },
  {
   "cell_type": "code",
   "execution_count": 2,
   "metadata": {},
   "outputs": [],
   "source": [
    "# This code is used to scale to processing numerous datasets\n",
    "data_path_1: str = '../../../../Data/phase1/'   \n",
    "\n",
    "data_set_1: list = [ 'Darknet_reduced_features.csv' ]\n",
    "\n",
    "data_set: list  = data_set_1\n",
    "file_path_1      = utils.get_file_path(data_path_1)\n",
    "file_set: list   = list(map(file_path_1, data_set_1))\n",
    "current_job: int = 0\n",
    "\n",
    "utils.data_set = data_set\n",
    "utils.file_set = file_set\n"
   ]
  },
  {
   "cell_type": "code",
   "execution_count": 3,
   "metadata": {},
   "outputs": [
    {
     "name": "stdout",
     "output_type": "stream",
     "text": [
      "We will be cleaning 1 files:\n",
      "[   '../../../../Data/phase1/Darknet_reduced_features.csv']\n"
     ]
    }
   ],
   "source": [
    "print(f'We will be cleaning {len(file_set)} files:')\n",
    "utils.pretty(file_set)"
   ]
  },
  {
   "cell_type": "markdown",
   "metadata": {},
   "source": [
    "## Label Analysis\n",
    "\n",
    "Now we load the data and separate the dataset by label, giving us a traffic dataset and an application dataset. We also want to investigate how merging the Non-Tor and NonVNP labels together affects the clustering, so rename the samples under these labels as regular and produce a second traffic dataset with it."
   ]
  },
  {
   "cell_type": "code",
   "execution_count": 4,
   "metadata": {},
   "outputs": [
    {
     "name": "stdout",
     "output_type": "stream",
     "text": [
      "Dataset 1/1: We now look at ../../../../Data/phase1/Darknet_reduced_features.csv\n",
      "\n",
      "\n",
      "Loading Dataset: ../../../../Data/phase1/Darknet_reduced_features.csv\n",
      "\tTo Dataset Cache: ./cache/Darknet_reduced_features.csv.pickle\n",
      "\n",
      "\n",
      "        File:\t\t\t\t../../../../Data/phase1/Darknet_reduced_features.csv  \n",
      "        Job Number:\t\t\t1\n",
      "        Shape:\t\t\t\t(141481, 64)\n",
      "        Samples:\t\t\t141481 \n",
      "        Features:\t\t\t64\n",
      "    \n",
      "\n",
      "        Shape:\t\t\t\t(141481, 63)\n",
      "        Samples:\t\t\t141481 \n",
      "        Features:\t\t\t63\n",
      "    \n",
      "\n",
      "        Shape:\t\t\t\t(141481, 63)\n",
      "        Samples:\t\t\t141481 \n",
      "        Features:\t\t\t63\n",
      "    \n",
      "\n",
      "        Shape:\t\t\t\t(141481, 63)\n",
      "        Samples:\t\t\t141481 \n",
      "        Features:\t\t\t63\n",
      "    \n"
     ]
    }
   ],
   "source": [
    "dataset_1            : dict = utils.examine_dataset(1)\n",
    "traffic_dataset_1    : dict = utils.package_data_for_inspection_with_label(utils.prune_dataset(dataset_1, ['Application Type']), 'Traffic_Dataset_1_Tor_VPN_Non_Tor_NonVPN')\n",
    "traffic_dataset_2    : dict = utils.package_data_for_inspection_with_label(utils.rename_values_in_column(traffic_dataset_1, [('Traffic Type', {'Non-Tor': 'Regular', 'NonVPN': 'Regular'})]), 'Traffic_Dataset_2_Tor_VPN_Regular')\n",
    "application_dataset_1: dict = utils.package_data_for_inspection_with_label(utils.prune_dataset(dataset_1, ['Traffic Type']), 'Application_Dataset_1')"
   ]
  },
  {
   "cell_type": "markdown",
   "metadata": {},
   "source": [
    "Now, we train deep neural networks to classify the datasets based on the labeling schemes outlaid above. We will use the confusion matrices to make inferences about the clustering of the data."
   ]
  },
  {
   "cell_type": "markdown",
   "metadata": {},
   "source": []
  },
  {
   "cell_type": "code",
   "execution_count": 11,
   "metadata": {},
   "outputs": [
    {
     "name": "stdout",
     "output_type": "stream",
     "text": [
      "(141481, 63)\n"
     ]
    },
    {
     "data": {
      "text/html": [
       "\n",
       "<style>\n",
       "    /* Turns off some styling */\n",
       "    progress {\n",
       "        /* gets rid of default border in Firefox and Opera. */\n",
       "        border: none;\n",
       "        /* Needs to be in here for Safari polyfill so background images work as expected. */\n",
       "        background-size: auto;\n",
       "    }\n",
       "    .progress-bar-interrupted, .progress-bar-interrupted::-webkit-progress-bar {\n",
       "        background: #F44336;\n",
       "    }\n",
       "</style>\n"
      ],
      "text/plain": [
       "<IPython.core.display.HTML object>"
      ]
     },
     "metadata": {},
     "output_type": "display_data"
    },
    {
     "data": {
      "text/html": [
       "<table border=\"1\" class=\"dataframe\">\n",
       "  <thead>\n",
       "    <tr style=\"text-align: left;\">\n",
       "      <th>epoch</th>\n",
       "      <th>train_loss</th>\n",
       "      <th>valid_loss</th>\n",
       "      <th>accuracy</th>\n",
       "      <th>time</th>\n",
       "    </tr>\n",
       "  </thead>\n",
       "  <tbody>\n",
       "    <tr>\n",
       "      <td>0</td>\n",
       "      <td>0.267627</td>\n",
       "      <td>0.280606</td>\n",
       "      <td>0.898855</td>\n",
       "      <td>00:12</td>\n",
       "    </tr>\n",
       "    <tr>\n",
       "      <td>1</td>\n",
       "      <td>0.223588</td>\n",
       "      <td>0.255066</td>\n",
       "      <td>0.911083</td>\n",
       "      <td>00:13</td>\n",
       "    </tr>\n",
       "    <tr>\n",
       "      <td>2</td>\n",
       "      <td>0.204608</td>\n",
       "      <td>0.209606</td>\n",
       "      <td>0.925148</td>\n",
       "      <td>00:13</td>\n",
       "    </tr>\n",
       "    <tr>\n",
       "      <td>3</td>\n",
       "      <td>0.186917</td>\n",
       "      <td>0.237418</td>\n",
       "      <td>0.918504</td>\n",
       "      <td>00:13</td>\n",
       "    </tr>\n",
       "    <tr>\n",
       "      <td>4</td>\n",
       "      <td>0.183569</td>\n",
       "      <td>0.247066</td>\n",
       "      <td>0.917656</td>\n",
       "      <td>00:13</td>\n",
       "    </tr>\n",
       "    <tr>\n",
       "      <td>5</td>\n",
       "      <td>0.162749</td>\n",
       "      <td>0.238849</td>\n",
       "      <td>0.919812</td>\n",
       "      <td>00:13</td>\n",
       "    </tr>\n",
       "    <tr>\n",
       "      <td>6</td>\n",
       "      <td>0.163834</td>\n",
       "      <td>0.192428</td>\n",
       "      <td>0.928188</td>\n",
       "      <td>00:14</td>\n",
       "    </tr>\n",
       "    <tr>\n",
       "      <td>7</td>\n",
       "      <td>0.151834</td>\n",
       "      <td>0.232353</td>\n",
       "      <td>0.917020</td>\n",
       "      <td>00:13</td>\n",
       "    </tr>\n",
       "    <tr>\n",
       "      <td>8</td>\n",
       "      <td>0.147440</td>\n",
       "      <td>0.275002</td>\n",
       "      <td>0.930450</td>\n",
       "      <td>00:12</td>\n",
       "    </tr>\n",
       "    <tr>\n",
       "      <td>9</td>\n",
       "      <td>0.154193</td>\n",
       "      <td>0.235108</td>\n",
       "      <td>0.924230</td>\n",
       "      <td>00:13</td>\n",
       "    </tr>\n",
       "  </tbody>\n",
       "</table>"
      ],
      "text/plain": [
       "<IPython.core.display.HTML object>"
      ]
     },
     "metadata": {},
     "output_type": "display_data"
    },
    {
     "data": {
      "image/png": "[encoded data removed]",
      "text/plain": [
       "<Figure size 432x288 with 1 Axes>"
      ]
     },
     "metadata": {},
     "output_type": "display_data"
    },
    {
     "data": {
      "text/html": [
       "\n",
       "<style>\n",
       "    /* Turns off some styling */\n",
       "    progress {\n",
       "        /* gets rid of default border in Firefox and Opera. */\n",
       "        border: none;\n",
       "        /* Needs to be in here for Safari polyfill so background images work as expected. */\n",
       "        background-size: auto;\n",
       "    }\n",
       "    .progress-bar-interrupted, .progress-bar-interrupted::-webkit-progress-bar {\n",
       "        background: #F44336;\n",
       "    }\n",
       "</style>\n"
      ],
      "text/plain": [
       "<IPython.core.display.HTML object>"
      ]
     },
     "metadata": {},
     "output_type": "display_data"
    },
    {
     "data": {
      "text/html": [],
      "text/plain": [
       "<IPython.core.display.HTML object>"
      ]
     },
     "metadata": {},
     "output_type": "display_data"
    },
    {
     "name": "stdout",
     "output_type": "stream",
     "text": [
      "loss 0.2351076602935791: accuracy: 92.42%\n"
     ]
    },
    {
     "data": {
      "text/html": [
       "\n",
       "<style>\n",
       "    /* Turns off some styling */\n",
       "    progress {\n",
       "        /* gets rid of default border in Firefox and Opera. */\n",
       "        border: none;\n",
       "        /* Needs to be in here for Safari polyfill so background images work as expected. */\n",
       "        background-size: auto;\n",
       "    }\n",
       "    .progress-bar-interrupted, .progress-bar-interrupted::-webkit-progress-bar {\n",
       "        background: #F44336;\n",
       "    }\n",
       "</style>\n"
      ],
      "text/plain": [
       "<IPython.core.display.HTML object>"
      ]
     },
     "metadata": {},
     "output_type": "display_data"
    },
    {
     "data": {
      "text/html": [],
      "text/plain": [
       "<IPython.core.display.HTML object>"
      ]
     },
     "metadata": {},
     "output_type": "display_data"
    },
    {
     "data": {
      "image/png": "[encoded data removed]",
      "text/plain": [
       "<Figure size 576x396 with 1 Axes>"
      ]
     },
     "metadata": {},
     "output_type": "display_data"
    }
   ],
   "source": [
    "traffic_dataset_1['Results'] = utils.run_deep_nn_experiment(\n",
    "    traffic_dataset_1['Dataset'], \n",
    "    traffic_dataset_1['File'],\n",
    "    'Traffic Type',\n",
    "    (100, 80)\n",
    ")"
   ]
  },
  {
   "cell_type": "code",
   "execution_count": 12,
   "metadata": {},
   "outputs": [
    {
     "name": "stdout",
     "output_type": "stream",
     "text": [
      "(141481, 63)\n"
     ]
    },
    {
     "data": {
      "text/html": [
       "\n",
       "<style>\n",
       "    /* Turns off some styling */\n",
       "    progress {\n",
       "        /* gets rid of default border in Firefox and Opera. */\n",
       "        border: none;\n",
       "        /* Needs to be in here for Safari polyfill so background images work as expected. */\n",
       "        background-size: auto;\n",
       "    }\n",
       "    .progress-bar-interrupted, .progress-bar-interrupted::-webkit-progress-bar {\n",
       "        background: #F44336;\n",
       "    }\n",
       "</style>\n"
      ],
      "text/plain": [
       "<IPython.core.display.HTML object>"
      ]
     },
     "metadata": {},
     "output_type": "display_data"
    },
    {
     "data": {
      "text/html": [
       "<table border=\"1\" class=\"dataframe\">\n",
       "  <thead>\n",
       "    <tr style=\"text-align: left;\">\n",
       "      <th>epoch</th>\n",
       "      <th>train_loss</th>\n",
       "      <th>valid_loss</th>\n",
       "      <th>accuracy</th>\n",
       "      <th>time</th>\n",
       "    </tr>\n",
       "  </thead>\n",
       "  <tbody>\n",
       "    <tr>\n",
       "      <td>0</td>\n",
       "      <td>0.220885</td>\n",
       "      <td>0.247118</td>\n",
       "      <td>0.916808</td>\n",
       "      <td>00:13</td>\n",
       "    </tr>\n",
       "    <tr>\n",
       "      <td>1</td>\n",
       "      <td>0.162702</td>\n",
       "      <td>0.208187</td>\n",
       "      <td>0.924265</td>\n",
       "      <td>00:12</td>\n",
       "    </tr>\n",
       "    <tr>\n",
       "      <td>2</td>\n",
       "      <td>0.155777</td>\n",
       "      <td>0.158206</td>\n",
       "      <td>0.950735</td>\n",
       "      <td>00:12</td>\n",
       "    </tr>\n",
       "    <tr>\n",
       "      <td>3</td>\n",
       "      <td>0.140327</td>\n",
       "      <td>0.205696</td>\n",
       "      <td>0.927340</td>\n",
       "      <td>00:12</td>\n",
       "    </tr>\n",
       "    <tr>\n",
       "      <td>4</td>\n",
       "      <td>0.137721</td>\n",
       "      <td>0.246210</td>\n",
       "      <td>0.922816</td>\n",
       "      <td>00:14</td>\n",
       "    </tr>\n",
       "    <tr>\n",
       "      <td>5</td>\n",
       "      <td>0.131769</td>\n",
       "      <td>0.184700</td>\n",
       "      <td>0.940522</td>\n",
       "      <td>00:13</td>\n",
       "    </tr>\n",
       "    <tr>\n",
       "      <td>6</td>\n",
       "      <td>0.135368</td>\n",
       "      <td>0.234018</td>\n",
       "      <td>0.927905</td>\n",
       "      <td>00:13</td>\n",
       "    </tr>\n",
       "    <tr>\n",
       "      <td>7</td>\n",
       "      <td>0.146775</td>\n",
       "      <td>0.242951</td>\n",
       "      <td>0.927905</td>\n",
       "      <td>00:12</td>\n",
       "    </tr>\n",
       "    <tr>\n",
       "      <td>8</td>\n",
       "      <td>0.133044</td>\n",
       "      <td>0.212617</td>\n",
       "      <td>0.935327</td>\n",
       "      <td>00:12</td>\n",
       "    </tr>\n",
       "    <tr>\n",
       "      <td>9</td>\n",
       "      <td>0.127417</td>\n",
       "      <td>0.186585</td>\n",
       "      <td>0.928789</td>\n",
       "      <td>00:13</td>\n",
       "    </tr>\n",
       "  </tbody>\n",
       "</table>"
      ],
      "text/plain": [
       "<IPython.core.display.HTML object>"
      ]
     },
     "metadata": {},
     "output_type": "display_data"
    },
    {
     "data": {
      "image/png": "[encoded data removed]",
      "text/plain": [
       "<Figure size 432x288 with 1 Axes>"
      ]
     },
     "metadata": {},
     "output_type": "display_data"
    },
    {
     "data": {
      "text/html": [
       "\n",
       "<style>\n",
       "    /* Turns off some styling */\n",
       "    progress {\n",
       "        /* gets rid of default border in Firefox and Opera. */\n",
       "        border: none;\n",
       "        /* Needs to be in here for Safari polyfill so background images work as expected. */\n",
       "        background-size: auto;\n",
       "    }\n",
       "    .progress-bar-interrupted, .progress-bar-interrupted::-webkit-progress-bar {\n",
       "        background: #F44336;\n",
       "    }\n",
       "</style>\n"
      ],
      "text/plain": [
       "<IPython.core.display.HTML object>"
      ]
     },
     "metadata": {},
     "output_type": "display_data"
    },
    {
     "data": {
      "text/html": [],
      "text/plain": [
       "<IPython.core.display.HTML object>"
      ]
     },
     "metadata": {},
     "output_type": "display_data"
    },
    {
     "name": "stdout",
     "output_type": "stream",
     "text": [
      "loss 0.18658484518527985: accuracy: 92.88%\n"
     ]
    },
    {
     "data": {
      "text/html": [
       "\n",
       "<style>\n",
       "    /* Turns off some styling */\n",
       "    progress {\n",
       "        /* gets rid of default border in Firefox and Opera. */\n",
       "        border: none;\n",
       "        /* Needs to be in here for Safari polyfill so background images work as expected. */\n",
       "        background-size: auto;\n",
       "    }\n",
       "    .progress-bar-interrupted, .progress-bar-interrupted::-webkit-progress-bar {\n",
       "        background: #F44336;\n",
       "    }\n",
       "</style>\n"
      ],
      "text/plain": [
       "<IPython.core.display.HTML object>"
      ]
     },
     "metadata": {},
     "output_type": "display_data"
    },
    {
     "data": {
      "text/html": [],
      "text/plain": [
       "<IPython.core.display.HTML object>"
      ]
     },
     "metadata": {},
     "output_type": "display_data"
    },
    {
     "data": {
      "image/png": "[encoded data removed]",
      "text/plain": [
       "<Figure size 576x396 with 1 Axes>"
      ]
     },
     "metadata": {},
     "output_type": "display_data"
    }
   ],
   "source": [
    "traffic_dataset_2['Results'] = utils.run_deep_nn_experiment(\n",
    "    traffic_dataset_2['Dataset'], \n",
    "    traffic_dataset_2['File'],\n",
    "    'Traffic Type',\n",
    "    (100, 80)\n",
    ")"
   ]
  },
  {
   "cell_type": "code",
   "execution_count": 13,
   "metadata": {},
   "outputs": [
    {
     "name": "stdout",
     "output_type": "stream",
     "text": [
      "(141481, 63)\n"
     ]
    },
    {
     "data": {
      "text/html": [
       "\n",
       "<style>\n",
       "    /* Turns off some styling */\n",
       "    progress {\n",
       "        /* gets rid of default border in Firefox and Opera. */\n",
       "        border: none;\n",
       "        /* Needs to be in here for Safari polyfill so background images work as expected. */\n",
       "        background-size: auto;\n",
       "    }\n",
       "    .progress-bar-interrupted, .progress-bar-interrupted::-webkit-progress-bar {\n",
       "        background: #F44336;\n",
       "    }\n",
       "</style>\n"
      ],
      "text/plain": [
       "<IPython.core.display.HTML object>"
      ]
     },
     "metadata": {},
     "output_type": "display_data"
    },
    {
     "data": {
      "text/html": [
       "<table border=\"1\" class=\"dataframe\">\n",
       "  <thead>\n",
       "    <tr style=\"text-align: left;\">\n",
       "      <th>epoch</th>\n",
       "      <th>train_loss</th>\n",
       "      <th>valid_loss</th>\n",
       "      <th>accuracy</th>\n",
       "      <th>time</th>\n",
       "    </tr>\n",
       "  </thead>\n",
       "  <tbody>\n",
       "    <tr>\n",
       "      <td>0</td>\n",
       "      <td>0.857884</td>\n",
       "      <td>0.903638</td>\n",
       "      <td>0.702856</td>\n",
       "      <td>00:12</td>\n",
       "    </tr>\n",
       "    <tr>\n",
       "      <td>1</td>\n",
       "      <td>0.730434</td>\n",
       "      <td>0.808932</td>\n",
       "      <td>0.716426</td>\n",
       "      <td>00:12</td>\n",
       "    </tr>\n",
       "    <tr>\n",
       "      <td>2</td>\n",
       "      <td>0.678489</td>\n",
       "      <td>0.753026</td>\n",
       "      <td>0.728796</td>\n",
       "      <td>00:12</td>\n",
       "    </tr>\n",
       "    <tr>\n",
       "      <td>3</td>\n",
       "      <td>0.655986</td>\n",
       "      <td>0.700789</td>\n",
       "      <td>0.766716</td>\n",
       "      <td>00:12</td>\n",
       "    </tr>\n",
       "    <tr>\n",
       "      <td>4</td>\n",
       "      <td>0.638800</td>\n",
       "      <td>0.766028</td>\n",
       "      <td>0.735440</td>\n",
       "      <td>00:12</td>\n",
       "    </tr>\n",
       "    <tr>\n",
       "      <td>5</td>\n",
       "      <td>0.602868</td>\n",
       "      <td>0.704398</td>\n",
       "      <td>0.749788</td>\n",
       "      <td>00:12</td>\n",
       "    </tr>\n",
       "    <tr>\n",
       "      <td>6</td>\n",
       "      <td>0.582459</td>\n",
       "      <td>0.716593</td>\n",
       "      <td>0.751484</td>\n",
       "      <td>00:12</td>\n",
       "    </tr>\n",
       "    <tr>\n",
       "      <td>7</td>\n",
       "      <td>0.595254</td>\n",
       "      <td>0.966531</td>\n",
       "      <td>0.644296</td>\n",
       "      <td>00:12</td>\n",
       "    </tr>\n",
       "    <tr>\n",
       "      <td>8</td>\n",
       "      <td>0.581397</td>\n",
       "      <td>0.844470</td>\n",
       "      <td>0.672816</td>\n",
       "      <td>00:12</td>\n",
       "    </tr>\n",
       "    <tr>\n",
       "      <td>9</td>\n",
       "      <td>0.581312</td>\n",
       "      <td>0.687752</td>\n",
       "      <td>0.778202</td>\n",
       "      <td>00:12</td>\n",
       "    </tr>\n",
       "  </tbody>\n",
       "</table>"
      ],
      "text/plain": [
       "<IPython.core.display.HTML object>"
      ]
     },
     "metadata": {},
     "output_type": "display_data"
    },
    {
     "data": {
      "image/png": "[encoded data removed]",
      "text/plain": [
       "<Figure size 432x288 with 1 Axes>"
      ]
     },
     "metadata": {},
     "output_type": "display_data"
    },
    {
     "data": {
      "text/html": [
       "\n",
       "<style>\n",
       "    /* Turns off some styling */\n",
       "    progress {\n",
       "        /* gets rid of default border in Firefox and Opera. */\n",
       "        border: none;\n",
       "        /* Needs to be in here for Safari polyfill so background images work as expected. */\n",
       "        background-size: auto;\n",
       "    }\n",
       "    .progress-bar-interrupted, .progress-bar-interrupted::-webkit-progress-bar {\n",
       "        background: #F44336;\n",
       "    }\n",
       "</style>\n"
      ],
      "text/plain": [
       "<IPython.core.display.HTML object>"
      ]
     },
     "metadata": {},
     "output_type": "display_data"
    },
    {
     "data": {
      "text/html": [],
      "text/plain": [
       "<IPython.core.display.HTML object>"
      ]
     },
     "metadata": {},
     "output_type": "display_data"
    },
    {
     "name": "stdout",
     "output_type": "stream",
     "text": [
      "loss 0.6877516508102417: accuracy: 77.82%\n"
     ]
    },
    {
     "data": {
      "text/html": [
       "\n",
       "<style>\n",
       "    /* Turns off some styling */\n",
       "    progress {\n",
       "        /* gets rid of default border in Firefox and Opera. */\n",
       "        border: none;\n",
       "        /* Needs to be in here for Safari polyfill so background images work as expected. */\n",
       "        background-size: auto;\n",
       "    }\n",
       "    .progress-bar-interrupted, .progress-bar-interrupted::-webkit-progress-bar {\n",
       "        background: #F44336;\n",
       "    }\n",
       "</style>\n"
      ],
      "text/plain": [
       "<IPython.core.display.HTML object>"
      ]
     },
     "metadata": {},
     "output_type": "display_data"
    },
    {
     "data": {
      "text/html": [],
      "text/plain": [
       "<IPython.core.display.HTML object>"
      ]
     },
     "metadata": {},
     "output_type": "display_data"
    },
    {
     "data": {
      "image/png": "[encoded data removed]",
      "text/plain": [
       "<Figure size 576x396 with 1 Axes>"
      ]
     },
     "metadata": {},
     "output_type": "display_data"
    }
   ],
   "source": [
    "application_dataset_1['Results'] = utils.run_deep_nn_experiment(\n",
    "    application_dataset_1['Dataset'], \n",
    "    application_dataset_1['File'],\n",
    "    'Application Type',\n",
    "    (100, 80)\n",
    ")"
   ]
  },
  {
   "cell_type": "markdown",
   "metadata": {},
   "source": [
    "# SMOTE Prototype\n",
    "\n",
    "Here we load up our first SMOTE and train it on the whole traffic dataset. This way we have some data to play around with and can go about devising an augmentation strategy for the experiment process."
   ]
  },
  {
   "cell_type": "code",
   "execution_count": 10,
   "metadata": {},
   "outputs": [
    {
     "name": "stdout",
     "output_type": "stream",
     "text": [
      "Class=3, n=93309 (25.000%)\n",
      "Class=0, n=93309 (25.000%)\n",
      "Class=1, n=93309 (25.000%)\n",
      "Class=2, n=93309 (25.000%)\n"
     ]
    },
    {
     "data": {
      "image/png": "[encoded data removed]",
      "text/plain": [
       "<Figure size 576x396 with 1 Axes>"
      ]
     },
     "metadata": {},
     "output_type": "display_data"
    }
   ],
   "source": [
    "fake_df_traffic_1 = utils.create_and_visualize_smote(traffic_dataset_1['Dataset'], 'Traffic Type')"
   ]
  },
  {
   "cell_type": "code",
   "execution_count": 11,
   "metadata": {},
   "outputs": [
    {
     "name": "stdout",
     "output_type": "stream",
     "text": [
      "Class=2, n=117170 (33.333%)\n",
      "Class=0, n=117170 (33.333%)\n",
      "Class=1, n=117170 (33.333%)\n"
     ]
    },
    {
     "data": {
      "image/png": "[encoded data removed]",
      "text/plain": [
       "<Figure size 576x396 with 1 Axes>"
      ]
     },
     "metadata": {},
     "output_type": "display_data"
    }
   ],
   "source": [
    "fake_df_traffic_2 = utils.create_and_visualize_smote(traffic_dataset_2['Dataset'], 'Traffic Type')"
   ]
  },
  {
   "cell_type": "code",
   "execution_count": 12,
   "metadata": {},
   "outputs": [
    {
     "name": "stdout",
     "output_type": "stream",
     "text": [
      "Class=4, n=48520 (12.500%)\n",
      "Class=5, n=48520 (12.500%)\n",
      "Class=3, n=48520 (12.500%)\n",
      "Class=0, n=48520 (12.500%)\n",
      "Class=2, n=48520 (12.500%)\n",
      "Class=1, n=48520 (12.500%)\n",
      "Class=7, n=48520 (12.500%)\n",
      "Class=6, n=48520 (12.500%)\n"
     ]
    },
    {
     "data": {
      "image/png": "[encoded data removed]",
      "text/plain": [
       "<Figure size 576x396 with 1 Axes>"
      ]
     },
     "metadata": {},
     "output_type": "display_data"
    }
   ],
   "source": [
    "fake_df_application = utils.create_and_visualize_smote(application_dataset_1['Dataset'], 'Application Type')"
   ]
  },
  {
   "cell_type": "code",
   "execution_count": null,
   "metadata": {},
   "outputs": [],
   "source": [
    "traffic_dataset_1    : dict = utils.package_data_for_inspection_with_label(utils.prune_dataset(dataset_1, ['Application Type']), 'Traffic_Dataset_1_Tor_VPN_Non_Tor_NonVPN')\n",
    "traffic_dataset_2    : dict = utils.package_data_for_inspection_with_label(utils.rename_values_in_column(traffic_dataset_1, [('Traffic Type', {'Non-Tor': 'Regular', 'NonVPN': 'Regular'})]), 'Traffic_Dataset_2_Tor_VPN_Regular')\n",
    "application_dataset_1: dict = utils.package_data_for_inspection_with_label(utils.prune_dataset(dataset_1, ['Traffic Type']), 'Application_Dataset_1')"
   ]
  },
  {
   "cell_type": "code",
   "execution_count": 13,
   "metadata": {},
   "outputs": [
    {
     "name": "stdout",
     "output_type": "stream",
     "text": [
      "\n",
      "    Dataset statistics:\n",
      "        Shape:\t\t\t\t(373236, 63)\n",
      "        Samples:\t\t\t373236 \n",
      "        Features:\t\t\t63\n",
      "    \n",
      "\n",
      "        Shape:\t\t\t\t(373236, 63)\n",
      "        Samples:\t\t\t373236 \n",
      "        Features:\t\t\t63\n",
      "    \n",
      "\n",
      "    Dataset statistics:\n",
      "        Shape:\t\t\t\t(351510, 63)\n",
      "        Samples:\t\t\t351510 \n",
      "        Features:\t\t\t63\n",
      "    \n",
      "\n",
      "        Shape:\t\t\t\t(351510, 63)\n",
      "        Samples:\t\t\t351510 \n",
      "        Features:\t\t\t63\n",
      "    \n",
      "\n",
      "    Dataset statistics:\n",
      "        Shape:\t\t\t\t(388160, 63)\n",
      "        Samples:\t\t\t388160 \n",
      "        Features:\t\t\t63\n",
      "    \n",
      "\n",
      "        Shape:\t\t\t\t(388160, 63)\n",
      "        Samples:\t\t\t388160 \n",
      "        Features:\t\t\t63\n",
      "    \n"
     ]
    }
   ],
   "source": [
    "fake_traffic_dataset_1: dict = utils.package_data_for_inspection_with_label(\n",
    "    utils.prune_dataset(utils.package_data_for_inspection(fake_df_traffic_1), ['Traffic Type'] ), \n",
    "    'Fake_Traffic_Dataset_1_Tor_VPN_Non_Tor_NonVPN'\n",
    ")\n",
    "\n",
    "fake_traffic_dataset_2: dict = utils.package_data_for_inspection_with_label(\n",
    "    utils.prune_dataset(utils.package_data_for_inspection(fake_df_traffic_2), ['Traffic Type'] ), \n",
    "    'Fake_Traffic_Dataset_2_Tor_VPN_Regualar'\n",
    ")\n",
    "\n",
    "fake_traffic_dataset_3: dict = utils.package_data_for_inspection_with_label(\n",
    "    utils.prune_dataset(utils.package_data_for_inspection(fake_df_application), ['Application Type'] ), \n",
    "    'Fake_Traffic_Dataset_3_Application_Dataset'\n",
    ")\n"
   ]
  },
  {
   "cell_type": "code",
   "execution_count": 14,
   "metadata": {},
   "outputs": [],
   "source": [
    "fake_traffic_dataset_1['Dataset'].to_csv('./synthetic/smote/smote_balanced_traffic_dataset_1_traffic_labels.csv', index=False)\n",
    "fake_traffic_dataset_2['Dataset'].to_csv('./synthetic/smote/smote_balanced_traffic_dataset_2_traffic_labels.csv', index=False)\n",
    "fake_traffic_dataset_3['Dataset'].to_csv('./synthetic/smote/smote_balanced_application_dataset_3_traffic_labels.csv', index=False)"
   ]
  },
  {
   "cell_type": "code",
   "execution_count": 16,
   "metadata": {},
   "outputs": [
    {
     "name": "stdout",
     "output_type": "stream",
     "text": [
      "Last Execution: 2022-03-16 10:04:12.580364\n"
     ]
    },
    {
     "ename": "AssertionError",
     "evalue": "Nothing after this point is included in the study",
     "output_type": "error",
     "traceback": [
      "\u001b[0;31m---------------------------------------------------------------------------\u001b[0m",
      "\u001b[0;31mAssertionError\u001b[0m                            Traceback (most recent call last)",
      "\u001b[0;32m/tmp/ipykernel_32618/223318434.py\u001b[0m in \u001b[0;36m<module>\u001b[0;34m\u001b[0m\n\u001b[1;32m      1\u001b[0m \u001b[0mprint\u001b[0m\u001b[0;34m(\u001b[0m\u001b[0;34mf'Last Execution: {utils.datetime.datetime.now()}'\u001b[0m\u001b[0;34m)\u001b[0m\u001b[0;34m\u001b[0m\u001b[0;34m\u001b[0m\u001b[0m\n\u001b[0;32m----> 2\u001b[0;31m \u001b[0;32massert\u001b[0m \u001b[0;32mFalse\u001b[0m\u001b[0;34m,\u001b[0m \u001b[0;34m'Nothing after this point is included in the study'\u001b[0m\u001b[0;34m\u001b[0m\u001b[0;34m\u001b[0m\u001b[0m\n\u001b[0m",
      "\u001b[0;31mAssertionError\u001b[0m: Nothing after this point is included in the study"
     ]
    }
   ],
   "source": [
    "print(f'Last Execution: {utils.datetime.datetime.now()}')\n",
    "assert False, 'Nothing after this point is included in the study'"
   ]
  },
  {
   "cell_type": "code",
   "execution_count": null,
   "metadata": {},
   "outputs": [],
   "source": []
  }
 ],
 "metadata": {
  "interpreter": {
   "hash": "4c4fb1487774ae037f885d94e8d37c2cbf020e962ca9c9e25c06c3e040addec1"
  },
  "kernelspec": {
   "display_name": "Python 3.7.10 ('face')",
   "language": "python",
   "name": "python3"
  },
  "language_info": {
   "codemirror_mode": {
    "name": "ipython",
    "version": 3
   },
   "file_extension": ".py",
   "mimetype": "text/x-python",
   "name": "python",
   "nbconvert_exporter": "python",
   "pygments_lexer": "ipython3",
   "version": "3.8.5"
  },
  "orig_nbformat": 4
 },
 "nbformat": 4,
 "nbformat_minor": 2
}
