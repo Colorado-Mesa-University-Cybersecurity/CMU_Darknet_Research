{
 "cells": [
  {
   "cell_type": "markdown",
   "id": "planned-alaska",
   "metadata": {},
   "source": [
    "# Synthetic Data Experimentation"
   ]
  },
  {
   "cell_type": "markdown",
   "id": "immediate-language",
   "metadata": {},
   "source": [
    "All testing done in this notebook is for proof of concept. We still need to decide exactly what our definition of \"Darknet\" is.\n",
    "<br>\n",
    "The following sections experiment with undersampling, oversampling, and synthetic generation. Furthermore, since Linear Discriminant Analysis runs much faster than Random Forest, the bulk of the SMOTE classifiers are tested on LD instead of RF classifiers"
   ]
  },
  {
   "cell_type": "code",
   "execution_count": 30,
   "id": "collect-relation",
   "metadata": {},
   "outputs": [],
   "source": [
    "import numpy as np\n",
    "import pandas as pd\n",
    "\n",
    "# Read csv files into dataframes\n",
    "X=pd.read_csv(\"../Data/original/cleaned_X.csv\")\n",
    "y=pd.read_csv(\"../Data/original/cleaned_y.csv\")\n",
    "\n",
    "# This notebook focuses on classification of darknet vs non-darknet\n",
    "y=y[\"Label_dark\"]"
   ]
  },
  {
   "cell_type": "code",
   "execution_count": 42,
   "id": "confidential-country",
   "metadata": {},
   "outputs": [
    {
     "name": "stdout",
     "output_type": "stream",
     "text": [
      "X dimensions: (117024, 64), y dimensions (117024,)\n"
     ]
    }
   ],
   "source": [
    "print(f\"X dimensions: {X.shape}, y dimensions {y.shape}\")"
   ]
  },
  {
   "cell_type": "markdown",
   "id": "proof-petite",
   "metadata": {},
   "source": [
    "# Baseline Random Forest Test"
   ]
  },
  {
   "cell_type": "code",
   "execution_count": 49,
   "id": "listed-practitioner",
   "metadata": {},
   "outputs": [
    {
     "name": "stdout",
     "output_type": "stream",
     "text": [
      "Accuracy: 0.9791070284127323\n",
      "AUC: 0.964880926718256\n",
      "F1: 0.949363156259708\n"
     ]
    }
   ],
   "source": [
    "from sklearn.ensemble import RandomForestClassifier\n",
    "\n",
    "rf_classifier= RandomForestClassifier(n_estimators=10)\n",
    "\n",
    "X_train, X_test, y_train, y_test = train_test_split(X, y, test_size=0.2)\n",
    "rf_classifier.fit(X_train, y_train)\n",
    "\n",
    "y_pred = rf_classifier.predict(X_test)\n",
    "\n",
    "print(\"Accuracy:\",metrics.accuracy_score(y_test, y_pred))\n",
    "print(\"AUC:\",metrics.roc_auc_score(y_test, y_pred))\n",
    "print(\"F1:\",metrics.f1_score(y_test, y_pred))"
   ]
  },
  {
   "cell_type": "markdown",
   "id": "instant-court",
   "metadata": {},
   "source": [
    "# Perform random undersampling"
   ]
  },
  {
   "cell_type": "code",
   "execution_count": 27,
   "id": "blocked-toolbox",
   "metadata": {
    "scrolled": true
   },
   "outputs": [],
   "source": [
    "from imblearn.under_sampling import RandomUnderSampler\n",
    "\n",
    "under = RandomUnderSampler()\n",
    "\n",
    "X_und,y_und=under.fit_resample(X,y)"
   ]
  },
  {
   "cell_type": "code",
   "execution_count": 28,
   "id": "heated-circular",
   "metadata": {},
   "outputs": [
    {
     "name": "stdout",
     "output_type": "stream",
     "text": [
      "Accuracy: 0.9703319502074689\n",
      "AUC: 0.9703462102487002\n",
      "F1: 0.9703381041277743\n"
     ]
    }
   ],
   "source": [
    "X_train, X_test, y_train, y_test = train_test_split(X_und, y_und, test_size=0.2)\n",
    "rf_classifier.fit(X_train, y_train)\n",
    "\n",
    "y_pred = rf_classifier.predict(X_test)\n",
    "\n",
    "print(\"Accuracy:\",metrics.accuracy_score(y_test, y_pred))\n",
    "print(\"AUC:\",metrics.roc_auc_score(y_test, y_pred))\n",
    "print(\"F1:\",metrics.f1_score(y_test, y_pred))"
   ]
  },
  {
   "cell_type": "code",
   "execution_count": 40,
   "id": "agricultural-nomination",
   "metadata": {},
   "outputs": [
    {
     "name": "stdout",
     "output_type": "stream",
     "text": [
      "X dimensions: (48196, 64), y dimensions (48196,)\n"
     ]
    }
   ],
   "source": [
    "print(f\"X dimensions: {X_und.shape}, y dimensions {y_und.shape}\")"
   ]
  },
  {
   "cell_type": "code",
   "execution_count": 19,
   "id": "aboriginal-facing",
   "metadata": {},
   "outputs": [],
   "source": [
    "X_und.to_csv(\"../Data/synthetic/RandomUndersampling/using_darknet_labelX.csv\")\n",
    "y_und.to_csv(\"../Data/synthetic/RandomUndersampling/using_darknet_labely.csv\")"
   ]
  },
  {
   "cell_type": "markdown",
   "id": "confident-factor",
   "metadata": {},
   "source": [
    "# Perform random oversampling"
   ]
  },
  {
   "cell_type": "code",
   "execution_count": 33,
   "id": "ranging-mixture",
   "metadata": {},
   "outputs": [],
   "source": [
    "from imblearn.over_sampling import RandomOverSampler\n",
    "\n",
    "over = RandomOverSampler()\n",
    "\n",
    "X_over,y_over=over.fit_resample(X,y)"
   ]
  },
  {
   "cell_type": "code",
   "execution_count": 35,
   "id": "native-nickel",
   "metadata": {},
   "outputs": [
    {
     "name": "stdout",
     "output_type": "stream",
     "text": [
      "Accuracy: 0.9910683059374243\n",
      "AUC: 0.9911047536052024\n",
      "F1: 0.9910723889426697\n"
     ]
    }
   ],
   "source": [
    "rf_classifier = RandomForestClassifier(n_estimators=10)\n",
    "\n",
    "X_train, X_test, y_train, y_test = train_test_split(X_over, y_over, test_size=0.2)\n",
    "rf_classifier.fit(X_train, y_train)\n",
    "\n",
    "y_pred = rf_classifier.predict(X_test)\n",
    "\n",
    "print(\"Accuracy:\",metrics.accuracy_score(y_test, y_pred))\n",
    "print(\"AUC:\",metrics.roc_auc_score(y_test, y_pred))\n",
    "print(\"F1:\",metrics.f1_score(y_test, y_pred))"
   ]
  },
  {
   "cell_type": "code",
   "execution_count": 41,
   "id": "strange-tucson",
   "metadata": {},
   "outputs": [
    {
     "name": "stdout",
     "output_type": "stream",
     "text": [
      "X dimensions: (185852, 64), y dimensions (185852,)\n"
     ]
    }
   ],
   "source": [
    "print(f\"X dimensions: {X_over.shape}, y dimensions {y_over.shape}\")"
   ]
  },
  {
   "cell_type": "code",
   "execution_count": 22,
   "id": "pressing-chest",
   "metadata": {},
   "outputs": [],
   "source": [
    "X_over.to_csv(\"../Data/synthetic/RandomOversampling/using_darknet_labelX.csv\")\n",
    "y_over.to_csv(\"../Data/synthetic/RandomOversampling/using_darknet_labely.csv\")"
   ]
  },
  {
   "cell_type": "markdown",
   "id": "fleet-warning",
   "metadata": {},
   "source": [
    "# Direct undersampling\n",
    "### Using Edited Nearest Neighbors, Instance Hardness Threshold, and TomekLinks\n",
    "### This section can be removed because it is included in the n_sampling later. Keeping it for the moment to show different ways to do things"
   ]
  },
  {
   "cell_type": "code",
   "execution_count": 24,
   "id": "forced-richards",
   "metadata": {
    "scrolled": true
   },
   "outputs": [],
   "source": [
    "from imblearn.under_sampling import EditedNearestNeighbours,InstanceHardnessThreshold,TomekLinks \n",
    "\n",
    "under_samp_models=[EditedNearestNeighbours(),InstanceHardnessThreshold(),TomekLinks()]\n",
    "under_samp_names=[\"EditedNearestNeighbours\",\"InstanceHardnessThreshold\", \"TomekLinks\"]\n",
    "\n",
    "for i,under_samp_model in enumerate(under_samp_models):\n",
    "    X_und_dir,y_und_dir=under_samp_model.fit_resample(X,y)\n",
    "    X_und_dir.to_csv(f\"../Data/synthetic/DirectedUndersampling/{under_samp_names[i]}X.csv\")\n",
    "    y_und_dir.to_csv(f\"../Data/synthetic/DirectedUndersampling/{under_samp_names[i]}y.csv\")"
   ]
  },
  {
   "cell_type": "markdown",
   "id": "entire-ocean",
   "metadata": {},
   "source": [
    "# Testing a single SMOTE variant with Random Forest"
   ]
  },
  {
   "cell_type": "code",
   "execution_count": 4,
   "id": "contemporary-nursing",
   "metadata": {},
   "outputs": [],
   "source": [
    "# Convert the data and target datasets to numpy arrays\n",
    "X = X.to_numpy()\n",
    "y = y.to_numpy()"
   ]
  },
  {
   "cell_type": "code",
   "execution_count": 5,
   "id": "operating-vinyl",
   "metadata": {},
   "outputs": [],
   "source": [
    "# The smote_variants package wants specific labels for the data\n",
    "dataset= {'data': X, 'target': y, 'name': 'darknet'}"
   ]
  },
  {
   "cell_type": "code",
   "execution_count": 6,
   "id": "loved-method",
   "metadata": {
    "scrolled": true
   },
   "outputs": [],
   "source": [
    "import os.path\n",
    "from sklearn.ensemble import RandomForestClassifier\n",
    "from sklearn.discriminant_analysis import LinearDiscriminantAnalysis\n",
    "import smote_variants as sv\n",
    "import sklearn.datasets as datasets\n",
    "import smote_variants as sv \n",
    "from sklearn.model_selection import train_test_split\n",
    "from sklearn import metrics\n",
    "\n",
    "\n",
    "cache_path= \"../Cache/SmoteCache\"\n",
    "\n",
    "if not os.path.exists(cache_path):\n",
    "    os.makedirs(cache_path)"
   ]
  },
  {
   "cell_type": "code",
   "execution_count": 7,
   "id": "level-projection",
   "metadata": {},
   "outputs": [
    {
     "name": "stderr",
     "output_type": "stream",
     "text": [
      "2022-02-12 13:45:11,504:INFO:dataset: darknet, samplings_available: False, evaluations_available: False\n",
      "2022-02-12 13:45:11,504:INFO:doing the folding\n",
      "2022-02-12 13:45:11,505:INFO:Folding reading from file folding_darknet.pickle\n",
      "2022-02-12 13:45:12,068:INFO:do the samplings\n",
      "2022-02-12 13:45:12,068:INFO:create sampling objects, random_state: \n",
      "2022-02-12 13:45:12,069:INFO:samplers: [<class 'smote_variants._smote_variants.SPY'>]\n",
      "2022-02-12 13:45:12,069:INFO:[{'n_neighbors': 3, 'threshold': 0.3}, {'n_neighbors': 3, 'threshold': 0.5}, {'n_neighbors': 3, 'threshold': 0.7}, {'n_neighbors': 5, 'threshold': 0.3}, {'n_neighbors': 5, 'threshold': 0.5}, {'n_neighbors': 5, 'threshold': 0.7}, {'n_neighbors': 7, 'threshold': 0.3}, {'n_neighbors': 7, 'threshold': 0.5}, {'n_neighbors': 7, 'threshold': 0.7}]\n",
      "2022-02-12 13:45:12,070:INFO:random_indices: [5 7 8 6 0 1 2 4 3]\n",
      "2022-02-12 13:45:12,070:INFO:[{'n_neighbors': 5, 'threshold': 0.7}, {'n_neighbors': 7, 'threshold': 0.5}, {'n_neighbors': 7, 'threshold': 0.7}, {'n_neighbors': 7, 'threshold': 0.3}, {'n_neighbors': 3, 'threshold': 0.3}, {'n_neighbors': 3, 'threshold': 0.5}, {'n_neighbors': 3, 'threshold': 0.7}, {'n_neighbors': 5, 'threshold': 0.5}, {'n_neighbors': 5, 'threshold': 0.3}]\n",
      "2022-02-12 13:45:12,071:INFO:{'n_neighbors': 5, 'threshold': 0.7, 'random_state': None}\n",
      "2022-02-12 13:45:12,071:INFO:Sampling sampler parameter string OrderedDict([('n_neighbors', 5), ('random_state', None), ('threshold', 0.7)])\n",
      "2022-02-12 13:45:12,072:INFO:{'n_neighbors': 7, 'threshold': 0.5, 'random_state': None}\n",
      "2022-02-12 13:45:12,073:INFO:Sampling sampler parameter string OrderedDict([('n_neighbors', 7), ('random_state', None), ('threshold', 0.5)])\n",
      "2022-02-12 13:45:12,073:INFO:{'n_neighbors': 7, 'threshold': 0.7, 'random_state': None}\n",
      "2022-02-12 13:45:12,074:INFO:Sampling sampler parameter string OrderedDict([('n_neighbors', 7), ('random_state', None), ('threshold', 0.7)])\n",
      "2022-02-12 13:45:12,074:INFO:{'n_neighbors': 7, 'threshold': 0.3, 'random_state': None}\n",
      "2022-02-12 13:45:12,074:INFO:Sampling sampler parameter string OrderedDict([('n_neighbors', 7), ('random_state', None), ('threshold', 0.3)])\n",
      "2022-02-12 13:45:12,075:INFO:{'n_neighbors': 3, 'threshold': 0.3, 'random_state': None}\n",
      "2022-02-12 13:45:12,075:INFO:Sampling sampler parameter string OrderedDict([('n_neighbors', 3), ('random_state', None), ('threshold', 0.3)])\n",
      "2022-02-12 13:45:12,076:INFO:{'n_neighbors': 3, 'threshold': 0.5, 'random_state': None}\n",
      "2022-02-12 13:45:12,076:INFO:Sampling sampler parameter string OrderedDict([('n_neighbors', 3), ('random_state', None), ('threshold', 0.5)])\n",
      "2022-02-12 13:45:12,077:INFO:{'n_neighbors': 3, 'threshold': 0.7, 'random_state': None}\n",
      "2022-02-12 13:45:12,077:INFO:Sampling sampler parameter string OrderedDict([('n_neighbors', 3), ('random_state', None), ('threshold', 0.7)])\n",
      "2022-02-12 13:45:12,078:INFO:{'n_neighbors': 5, 'threshold': 0.5, 'random_state': None}\n",
      "2022-02-12 13:45:12,078:INFO:Sampling sampler parameter string OrderedDict([('n_neighbors', 5), ('random_state', None), ('threshold', 0.5)])\n",
      "2022-02-12 13:45:12,078:INFO:{'n_neighbors': 5, 'threshold': 0.3, 'random_state': None}\n",
      "2022-02-12 13:45:12,079:INFO:Sampling sampler parameter string OrderedDict([('n_neighbors', 5), ('random_state', None), ('threshold', 0.3)])\n",
      "2022-02-12 13:45:12,079:INFO:executing 9 sampling in parallel\n",
      "2022-02-12 14:09:21,261:INFO:do the evaluations\n",
      "2022-02-12 14:09:21,262:INFO:create classifier jobs\n",
      "2022-02-12 14:09:21,263:INFO:{'n_neighbors': 5, 'threshold': 0.3, 'random_state': None}\n",
      "2022-02-12 14:09:21,264:INFO:Sampling sampler parameter string OrderedDict([('n_neighbors', 5), ('random_state', None), ('threshold', 0.3)])\n",
      "2022-02-12 14:09:21,266:INFO:{'n_neighbors': 5, 'threshold': 0.5, 'random_state': None}\n",
      "2022-02-12 14:09:21,266:INFO:Sampling sampler parameter string OrderedDict([('n_neighbors', 5), ('random_state', None), ('threshold', 0.5)])\n",
      "2022-02-12 14:09:21,268:INFO:{'n_neighbors': 3, 'threshold': 0.7, 'random_state': None}\n",
      "2022-02-12 14:09:21,268:INFO:Sampling sampler parameter string OrderedDict([('n_neighbors', 3), ('random_state', None), ('threshold', 0.7)])\n",
      "2022-02-12 14:09:21,269:INFO:{'n_neighbors': 3, 'threshold': 0.5, 'random_state': None}\n",
      "2022-02-12 14:09:21,270:INFO:Sampling sampler parameter string OrderedDict([('n_neighbors', 3), ('random_state', None), ('threshold', 0.5)])\n",
      "2022-02-12 14:09:21,271:INFO:{'n_neighbors': 3, 'threshold': 0.3, 'random_state': None}\n",
      "2022-02-12 14:09:21,272:INFO:Sampling sampler parameter string OrderedDict([('n_neighbors', 3), ('random_state', None), ('threshold', 0.3)])\n",
      "2022-02-12 14:09:21,273:INFO:{'n_neighbors': 7, 'threshold': 0.3, 'random_state': None}\n",
      "2022-02-12 14:09:21,273:INFO:Sampling sampler parameter string OrderedDict([('n_neighbors', 7), ('random_state', None), ('threshold', 0.3)])\n",
      "2022-02-12 14:09:21,274:INFO:{'n_neighbors': 7, 'threshold': 0.7, 'random_state': None}\n",
      "2022-02-12 14:09:21,274:INFO:Sampling sampler parameter string OrderedDict([('n_neighbors', 7), ('random_state', None), ('threshold', 0.7)])\n",
      "2022-02-12 14:09:21,275:INFO:{'n_neighbors': 7, 'threshold': 0.5, 'random_state': None}\n",
      "2022-02-12 14:09:21,275:INFO:Sampling sampler parameter string OrderedDict([('n_neighbors', 7), ('random_state', None), ('threshold', 0.5)])\n",
      "2022-02-12 14:09:21,276:INFO:{'n_neighbors': 5, 'threshold': 0.7, 'random_state': None}\n",
      "2022-02-12 14:09:21,276:INFO:Sampling sampler parameter string OrderedDict([('n_neighbors', 5), ('random_state', None), ('threshold', 0.7)])\n",
      "2022-02-12 14:09:21,277:INFO:executing 9 evaluation jobs in parallel\n"
     ]
    },
    {
     "name": "stdout",
     "output_type": "stream",
     "text": [
      "[\"('darknet', OrderedDict([('n_neighbors', 5), ('random_state', None), ('threshold', 0.3)]), 'RandomForestClassifier', OrderedDict([('bootstrap', True), ('ccp_alpha', 0.0), ('class_weight', None), ('criterion', 'gini'), ('max_depth', None), ('max_features', 'auto'), ('max_leaf_nodes', None), ('max_samples', None), ('min_impurity_decrease', 0.0), ('min_impurity_split', None), ('min_samples_leaf', 1), ('min_samples_split', 2), ('min_weight_fraction_leaf', 0.0), ('n_estimators', 10), ('n_jobs', None), ('oob_score', False), ('random_state', None), ('verbose', 0), ('warm_start', False)]))\"]\n",
      "[\"('darknet', OrderedDict([('n_neighbors', 5), ('random_state', None), ('threshold', 0.5)]), 'RandomForestClassifier', OrderedDict([('bootstrap', True), ('ccp_alpha', 0.0), ('class_weight', None), ('criterion', 'gini'), ('max_depth', None), ('max_features', 'auto'), ('max_leaf_nodes', None), ('max_samples', None), ('min_impurity_decrease', 0.0), ('min_impurity_split', None), ('min_samples_leaf', 1), ('min_samples_split', 2), ('min_weight_fraction_leaf', 0.0), ('n_estimators', 10), ('n_jobs', None), ('oob_score', False), ('random_state', None), ('verbose', 0), ('warm_start', False)]))\"]\n",
      "[\"('darknet', OrderedDict([('n_neighbors', 3), ('random_state', None), ('threshold', 0.7)]), 'RandomForestClassifier', OrderedDict([('bootstrap', True), ('ccp_alpha', 0.0), ('class_weight', None), ('criterion', 'gini'), ('max_depth', None), ('max_features', 'auto'), ('max_leaf_nodes', None), ('max_samples', None), ('min_impurity_decrease', 0.0), ('min_impurity_split', None), ('min_samples_leaf', 1), ('min_samples_split', 2), ('min_weight_fraction_leaf', 0.0), ('n_estimators', 10), ('n_jobs', None), ('oob_score', False), ('random_state', None), ('verbose', 0), ('warm_start', False)]))\"]\n",
      "[\"('darknet', OrderedDict([('n_neighbors', 3), ('random_state', None), ('threshold', 0.5)]), 'RandomForestClassifier', OrderedDict([('bootstrap', True), ('ccp_alpha', 0.0), ('class_weight', None), ('criterion', 'gini'), ('max_depth', None), ('max_features', 'auto'), ('max_leaf_nodes', None), ('max_samples', None), ('min_impurity_decrease', 0.0), ('min_impurity_split', None), ('min_samples_leaf', 1), ('min_samples_split', 2), ('min_weight_fraction_leaf', 0.0), ('n_estimators', 10), ('n_jobs', None), ('oob_score', False), ('random_state', None), ('verbose', 0), ('warm_start', False)]))\"]\n",
      "[\"('darknet', OrderedDict([('n_neighbors', 3), ('random_state', None), ('threshold', 0.3)]), 'RandomForestClassifier', OrderedDict([('bootstrap', True), ('ccp_alpha', 0.0), ('class_weight', None), ('criterion', 'gini'), ('max_depth', None), ('max_features', 'auto'), ('max_leaf_nodes', None), ('max_samples', None), ('min_impurity_decrease', 0.0), ('min_impurity_split', None), ('min_samples_leaf', 1), ('min_samples_split', 2), ('min_weight_fraction_leaf', 0.0), ('n_estimators', 10), ('n_jobs', None), ('oob_score', False), ('random_state', None), ('verbose', 0), ('warm_start', False)]))\"]\n",
      "[\"('darknet', OrderedDict([('n_neighbors', 7), ('random_state', None), ('threshold', 0.3)]), 'RandomForestClassifier', OrderedDict([('bootstrap', True), ('ccp_alpha', 0.0), ('class_weight', None), ('criterion', 'gini'), ('max_depth', None), ('max_features', 'auto'), ('max_leaf_nodes', None), ('max_samples', None), ('min_impurity_decrease', 0.0), ('min_impurity_split', None), ('min_samples_leaf', 1), ('min_samples_split', 2), ('min_weight_fraction_leaf', 0.0), ('n_estimators', 10), ('n_jobs', None), ('oob_score', False), ('random_state', None), ('verbose', 0), ('warm_start', False)]))\"]\n",
      "[\"('darknet', OrderedDict([('n_neighbors', 7), ('random_state', None), ('threshold', 0.7)]), 'RandomForestClassifier', OrderedDict([('bootstrap', True), ('ccp_alpha', 0.0), ('class_weight', None), ('criterion', 'gini'), ('max_depth', None), ('max_features', 'auto'), ('max_leaf_nodes', None), ('max_samples', None), ('min_impurity_decrease', 0.0), ('min_impurity_split', None), ('min_samples_leaf', 1), ('min_samples_split', 2), ('min_weight_fraction_leaf', 0.0), ('n_estimators', 10), ('n_jobs', None), ('oob_score', False), ('random_state', None), ('verbose', 0), ('warm_start', False)]))\"]\n",
      "[\"('darknet', OrderedDict([('n_neighbors', 7), ('random_state', None), ('threshold', 0.5)]), 'RandomForestClassifier', OrderedDict([('bootstrap', True), ('ccp_alpha', 0.0), ('class_weight', None), ('criterion', 'gini'), ('max_depth', None), ('max_features', 'auto'), ('max_leaf_nodes', None), ('max_samples', None), ('min_impurity_decrease', 0.0), ('min_impurity_split', None), ('min_samples_leaf', 1), ('min_samples_split', 2), ('min_weight_fraction_leaf', 0.0), ('n_estimators', 10), ('n_jobs', None), ('oob_score', False), ('random_state', None), ('verbose', 0), ('warm_start', False)]))\"]\n",
      "[\"('darknet', OrderedDict([('n_neighbors', 5), ('random_state', None), ('threshold', 0.7)]), 'RandomForestClassifier', OrderedDict([('bootstrap', True), ('ccp_alpha', 0.0), ('class_weight', None), ('criterion', 'gini'), ('max_depth', None), ('max_features', 'auto'), ('max_leaf_nodes', None), ('max_samples', None), ('min_impurity_decrease', 0.0), ('min_impurity_split', None), ('min_samples_leaf', 1), ('min_samples_split', 2), ('min_weight_fraction_leaf', 0.0), ('n_estimators', 10), ('n_jobs', None), ('oob_score', False), ('random_state', None), ('verbose', 0), ('warm_start', False)]))\"]\n"
     ]
    },
    {
     "name": "stderr",
     "output_type": "stream",
     "text": [
      "2022-02-12 14:10:39,352:INFO:concatenating the results\n",
      "2022-02-12 14:10:39,400:INFO:aggregating the results\n"
     ]
    }
   ],
   "source": [
    "rf_classifier= RandomForestClassifier(n_estimators=10)\n",
    "\n",
    "# samp_obj and cl_obj contain the oversampling and classifier objects which give the\n",
    "# best performance together\n",
    "# Performs RepeatedStratifiedKFold with 5 splits and 3 repeats \n",
    "samp_obj, cl_obj= sv.model_selection(dataset= dataset,\n",
    "                                        samplers= sv.get_n_quickest_oversamplers(1),\n",
    "                                        classifiers= [rf_classifier],\n",
    "                                        cache_path= cache_path,\n",
    "                                        n_jobs= 5,\n",
    "                                        max_samp_par_comb= 35)"
   ]
  },
  {
   "cell_type": "code",
   "execution_count": 8,
   "id": "korean-suggestion",
   "metadata": {},
   "outputs": [
    {
     "name": "stdout",
     "output_type": "stream",
     "text": [
      "The best outcome is the ('SPY', \"{'n_neighbors': 5, 'threshold': 0.3, 'n_jobs': 1}\") variant with the RandomForestClassifier(n_estimators=10) classifier\n"
     ]
    }
   ],
   "source": [
    "print(f\"The best outcome is the {samp_obj} variant with the {cl_obj} classifier\")"
   ]
  },
  {
   "cell_type": "code",
   "execution_count": 13,
   "id": "confused-angola",
   "metadata": {
    "scrolled": true
   },
   "outputs": [
    {
     "name": "stderr",
     "output_type": "stream",
     "text": [
      "2022-02-12 14:13:04,589:INFO:SPY: Running sampling via ('SPY', \"{'n_neighbors': 5, 'threshold': 0.3, 'n_jobs': 1}\")\n"
     ]
    }
   ],
   "source": [
    "# training the best techniques using the entire dataset\n",
    "X_samp, y_samp= samp_obj.sample(dataset['data'], dataset['target'])"
   ]
  },
  {
   "cell_type": "code",
   "execution_count": 24,
   "id": "weekly-bronze",
   "metadata": {},
   "outputs": [],
   "source": [
    "X_samp_df = pd.DataFrame(X_samp, columns = ['Src Port', 'Dst Port', 'Protocol', 'Flow Duration', 'Total Fwd Packet',\n",
    "       'Total Bwd packets', 'Total Length of Fwd Packet',\n",
    "       'Total Length of Bwd Packet', 'Fwd Packet Length Max',\n",
    "       'Fwd Packet Length Min', 'Fwd Packet Length Mean',\n",
    "       'Fwd Packet Length Std', 'Bwd Packet Length Max',\n",
    "       'Bwd Packet Length Min', 'Bwd Packet Length Mean',\n",
    "       'Bwd Packet Length Std', 'Flow Bytes/s', 'Flow Packets/s',\n",
    "       'Flow IAT Mean', 'Flow IAT Std', 'Flow IAT Max', 'Flow IAT Min',\n",
    "       'Fwd IAT Total', 'Fwd IAT Mean', 'Fwd IAT Std', 'Fwd IAT Max',\n",
    "       'Fwd IAT Min', 'Bwd IAT Total', 'Bwd IAT Mean', 'Bwd IAT Std',\n",
    "       'Bwd IAT Max', 'Bwd IAT Min', 'Fwd PSH Flags', 'Fwd Header Length',\n",
    "       'Bwd Header Length', 'Fwd Packets/s', 'Bwd Packets/s',\n",
    "       'Packet Length Min', 'Packet Length Max', 'Packet Length Mean',\n",
    "       'Packet Length Std', 'Packet Length Variance', 'FIN Flag Count',\n",
    "       'SYN Flag Count', 'RST Flag Count', 'PSH Flag Count', 'ACK Flag Count',\n",
    "       'Down/Up Ratio', 'Average Packet Size', 'Fwd Segment Size Avg',\n",
    "       'Bwd Segment Size Avg', 'Bwd Packet/Bulk Avg', 'Bwd Bulk Rate Avg',\n",
    "       'Subflow Fwd Packets', 'Subflow Fwd Bytes', 'Subflow Bwd Bytes',\n",
    "       'FWD Init Win Bytes', 'Bwd Init Win Bytes', 'Fwd Act Data Pkts',\n",
    "       'Fwd Seg Size Min', 'Idle Mean', 'Idle Std', 'Idle Max', 'Idle Min'])\n",
    "y_samp_df = pd.DataFrame(y_samp, columns = ['Darknet'])"
   ]
  },
  {
   "cell_type": "code",
   "execution_count": 51,
   "id": "understood-balloon",
   "metadata": {},
   "outputs": [],
   "source": [
    "X_samp_df.to_csv(\"../Data/synthetic/SMOTE/best_versionX.csv\")\n",
    "y_samp_df.to_csv(\"../Data/synthetic/SMOTE/best_versiony.csv\")"
   ]
  },
  {
   "cell_type": "code",
   "execution_count": 47,
   "id": "handed-patch",
   "metadata": {},
   "outputs": [
    {
     "data": {
      "text/plain": [
       "RandomForestClassifier(n_estimators=10)"
      ]
     },
     "execution_count": 47,
     "metadata": {},
     "output_type": "execute_result"
    }
   ],
   "source": [
    "X_train, X_test, y_train, y_test = train_test_split(X_samp_df, y_samp_df, test_size=0.2)\n",
    "cl_obj.fit(X_samp, y_samp)"
   ]
  },
  {
   "cell_type": "code",
   "execution_count": 48,
   "id": "funny-sight",
   "metadata": {},
   "outputs": [],
   "source": [
    "y_pred = cl_obj.predict(X_test)"
   ]
  },
  {
   "cell_type": "code",
   "execution_count": 53,
   "id": "protected-spider",
   "metadata": {},
   "outputs": [
    {
     "name": "stdout",
     "output_type": "stream",
     "text": [
      "Accuracy: 0.9979918820764794\n",
      "AUC: 0.9959099117525652\n",
      "F1: 0.9951330640985814\n"
     ]
    }
   ],
   "source": [
    "print(\"Accuracy:\",metrics.accuracy_score(y_test, y_pred))\n",
    "print(\"AUC:\",metrics.roc_auc_score(y_test, y_pred))\n",
    "print(\"F1:\",metrics.f1_score(y_test, y_pred))\n"
   ]
  },
  {
   "cell_type": "markdown",
   "id": "aboriginal-moisture",
   "metadata": {},
   "source": [
    "# Baseline Linear Discriminant Analysis Test"
   ]
  },
  {
   "cell_type": "code",
   "execution_count": 53,
   "id": "broadband-zealand",
   "metadata": {},
   "outputs": [
    {
     "name": "stdout",
     "output_type": "stream",
     "text": [
      "Accuracy: 0.8810937833796197\n",
      "AUC: 0.7981089733345222\n",
      "F1: 0.6936034349884399\n"
     ]
    }
   ],
   "source": [
    "from sklearn.discriminant_analysis import LinearDiscriminantAnalysis\n",
    "\n",
    "ld_classifier = LinearDiscriminantAnalysis()\n",
    "\n",
    "X_train, X_test, y_train, y_test = train_test_split(X, y, test_size=0.2)\n",
    "ld_classifier.fit(X_train, y_train)\n",
    "\n",
    "y_pred = ld_classifier.predict(X_test)\n",
    "\n",
    "print(\"Accuracy:\",metrics.accuracy_score(y_test, y_pred))\n",
    "print(\"AUC:\",metrics.roc_auc_score(y_test, y_pred))\n",
    "print(\"F1:\",metrics.f1_score(y_test, y_pred))"
   ]
  },
  {
   "cell_type": "markdown",
   "id": "peripheral-bhutan",
   "metadata": {},
   "source": [
    "# Testing 10 of the 85 SMOTE Variants with Linear Discriminant Analysis"
   ]
  },
  {
   "cell_type": "code",
   "execution_count": 2,
   "id": "first-computer",
   "metadata": {},
   "outputs": [],
   "source": [
    "# Convert the data and target datasets to numpy arrays\n",
    "X = X.to_numpy()\n",
    "y = y.to_numpy()"
   ]
  },
  {
   "cell_type": "code",
   "execution_count": 3,
   "id": "outdoor-jordan",
   "metadata": {},
   "outputs": [],
   "source": [
    "# The smote_variants package wants specific labels for the data\n",
    "dataset= {'data': X, 'target': y, 'name': 'darknet'}"
   ]
  },
  {
   "cell_type": "code",
   "execution_count": 4,
   "id": "prescribed-classroom",
   "metadata": {},
   "outputs": [],
   "source": [
    "import os.path\n",
    "from sklearn.ensemble import RandomForestClassifier\n",
    "from sklearn.discriminant_analysis import LinearDiscriminantAnalysis\n",
    "import smote_variants as sv\n",
    "import sklearn.datasets as datasets\n",
    "import smote_variants as sv \n",
    "from sklearn.model_selection import train_test_split\n",
    "from sklearn import metrics\n",
    "\n",
    "\n",
    "cache_path= \"/mnt/sda1\"\n",
    "\n",
    "if not os.path.exists(cache_path):\n",
    "    os.makedirs(cache_path)"
   ]
  },
  {
   "cell_type": "code",
   "execution_count": 5,
   "id": "daily-wilderness",
   "metadata": {},
   "outputs": [
    {
     "name": "stderr",
     "output_type": "stream",
     "text": [
      "2022-02-12 19:10:06,223:INFO:dataset: darknet, samplings_available: False, evaluations_available: False\n",
      "2022-02-12 19:10:06,223:INFO:doing the folding\n",
      "2022-02-12 19:10:06,224:INFO:Folding doing folding folding_darknet.pickle\n",
      "2022-02-12 19:10:06,555:INFO:Folding dumping to file folding_darknet.pickle\n",
      "2022-02-12 19:10:07,654:INFO:do the samplings\n",
      "2022-02-12 19:10:07,654:INFO:create sampling objects, random_state: \n",
      "2022-02-12 19:10:07,655:INFO:samplers: [<class 'smote_variants._smote_variants.SPY'>, <class 'smote_variants._smote_variants.OUPS'>, <class 'smote_variants._smote_variants.SMOTE_D'>, <class 'smote_variants._smote_variants.NT_SMOTE'>, <class 'smote_variants._smote_variants.Gazzah'>, <class 'smote_variants._smote_variants.ROSE'>, <class 'smote_variants._smote_variants.NDO_sampling'>, <class 'smote_variants._smote_variants.SMOTE'>, <class 'smote_variants._smote_variants.Borderline_SMOTE1'>, <class 'smote_variants._smote_variants.Borderline_SMOTE2'>]\n",
      "2022-02-12 19:10:07,655:INFO:[{'n_neighbors': 3, 'threshold': 0.3}, {'n_neighbors': 3, 'threshold': 0.5}, {'n_neighbors': 3, 'threshold': 0.7}, {'n_neighbors': 5, 'threshold': 0.3}, {'n_neighbors': 5, 'threshold': 0.5}, {'n_neighbors': 5, 'threshold': 0.7}, {'n_neighbors': 7, 'threshold': 0.3}, {'n_neighbors': 7, 'threshold': 0.5}, {'n_neighbors': 7, 'threshold': 0.7}]\n",
      "2022-02-12 19:10:07,656:INFO:random_indices: [1 6 7 2 8 3 4 5 0]\n",
      "2022-02-12 19:10:07,656:INFO:[{'n_neighbors': 3, 'threshold': 0.5}, {'n_neighbors': 7, 'threshold': 0.3}, {'n_neighbors': 7, 'threshold': 0.5}, {'n_neighbors': 3, 'threshold': 0.7}, {'n_neighbors': 7, 'threshold': 0.7}, {'n_neighbors': 5, 'threshold': 0.3}, {'n_neighbors': 5, 'threshold': 0.5}, {'n_neighbors': 5, 'threshold': 0.7}, {'n_neighbors': 3, 'threshold': 0.3}]\n",
      "2022-02-12 19:10:07,657:INFO:{'n_neighbors': 3, 'threshold': 0.5, 'random_state': None}\n",
      "2022-02-12 19:10:07,657:INFO:Sampling sampler parameter string OrderedDict([('n_neighbors', 3), ('random_state', None), ('threshold', 0.5)])\n",
      "2022-02-12 19:10:07,658:INFO:{'n_neighbors': 7, 'threshold': 0.3, 'random_state': None}\n",
      "2022-02-12 19:10:07,658:INFO:Sampling sampler parameter string OrderedDict([('n_neighbors', 7), ('random_state', None), ('threshold', 0.3)])\n",
      "2022-02-12 19:10:07,660:INFO:{'n_neighbors': 7, 'threshold': 0.5, 'random_state': None}\n",
      "2022-02-12 19:10:07,660:INFO:Sampling sampler parameter string OrderedDict([('n_neighbors', 7), ('random_state', None), ('threshold', 0.5)])\n",
      "2022-02-12 19:10:07,661:INFO:{'n_neighbors': 3, 'threshold': 0.7, 'random_state': None}\n",
      "2022-02-12 19:10:07,661:INFO:Sampling sampler parameter string OrderedDict([('n_neighbors', 3), ('random_state', None), ('threshold', 0.7)])\n",
      "2022-02-12 19:10:07,661:INFO:{'n_neighbors': 7, 'threshold': 0.7, 'random_state': None}\n",
      "2022-02-12 19:10:07,662:INFO:Sampling sampler parameter string OrderedDict([('n_neighbors', 7), ('random_state', None), ('threshold', 0.7)])\n",
      "2022-02-12 19:10:07,662:INFO:{'n_neighbors': 5, 'threshold': 0.3, 'random_state': None}\n",
      "2022-02-12 19:10:07,662:INFO:Sampling sampler parameter string OrderedDict([('n_neighbors', 5), ('random_state', None), ('threshold', 0.3)])\n",
      "2022-02-12 19:10:07,663:INFO:{'n_neighbors': 5, 'threshold': 0.5, 'random_state': None}\n",
      "2022-02-12 19:10:07,663:INFO:Sampling sampler parameter string OrderedDict([('n_neighbors', 5), ('random_state', None), ('threshold', 0.5)])\n",
      "2022-02-12 19:10:07,663:INFO:{'n_neighbors': 5, 'threshold': 0.7, 'random_state': None}\n",
      "2022-02-12 19:10:07,664:INFO:Sampling sampler parameter string OrderedDict([('n_neighbors', 5), ('random_state', None), ('threshold', 0.7)])\n",
      "2022-02-12 19:10:07,664:INFO:{'n_neighbors': 3, 'threshold': 0.3, 'random_state': None}\n",
      "2022-02-12 19:10:07,664:INFO:Sampling sampler parameter string OrderedDict([('n_neighbors', 3), ('random_state', None), ('threshold', 0.3)])\n",
      "2022-02-12 19:10:07,664:INFO:[{'proportion': 0.1}, {'proportion': 0.25}, {'proportion': 0.5}, {'proportion': 0.75}, {'proportion': 1.0}, {'proportion': 1.5}, {'proportion': 2.0}]\n",
      "2022-02-12 19:10:07,665:INFO:random_indices: [5 0 1 2 6 4 3]\n",
      "2022-02-12 19:10:07,665:INFO:[{'proportion': 1.5}, {'proportion': 0.1}, {'proportion': 0.25}, {'proportion': 0.5}, {'proportion': 2.0}, {'proportion': 1.0}, {'proportion': 0.75}]\n",
      "2022-02-12 19:10:07,666:INFO:{'proportion': 1.5, 'random_state': None}\n",
      "2022-02-12 19:10:07,666:INFO:Sampling sampler parameter string OrderedDict([('proportion', 1.5), ('random_state', None)])\n",
      "2022-02-12 19:10:07,666:INFO:{'proportion': 0.1, 'random_state': None}\n",
      "2022-02-12 19:10:07,667:INFO:Sampling sampler parameter string OrderedDict([('proportion', 0.1), ('random_state', None)])\n",
      "2022-02-12 19:10:07,667:INFO:{'proportion': 0.25, 'random_state': None}\n",
      "2022-02-12 19:10:07,668:INFO:Sampling sampler parameter string OrderedDict([('proportion', 0.25), ('random_state', None)])\n",
      "2022-02-12 19:10:07,668:INFO:{'proportion': 0.5, 'random_state': None}\n",
      "2022-02-12 19:10:07,668:INFO:Sampling sampler parameter string OrderedDict([('proportion', 0.5), ('random_state', None)])\n",
      "2022-02-12 19:10:07,668:INFO:{'proportion': 2.0, 'random_state': None}\n",
      "2022-02-12 19:10:07,669:INFO:Sampling sampler parameter string OrderedDict([('proportion', 2.0), ('random_state', None)])\n",
      "2022-02-12 19:10:07,669:INFO:{'proportion': 1.0, 'random_state': None}\n",
      "2022-02-12 19:10:07,669:INFO:Sampling sampler parameter string OrderedDict([('proportion', 1.0), ('random_state', None)])\n",
      "2022-02-12 19:10:07,669:INFO:{'proportion': 0.75, 'random_state': None}\n",
      "2022-02-12 19:10:07,670:INFO:Sampling sampler parameter string OrderedDict([('proportion', 0.75), ('random_state', None)])\n",
      "2022-02-12 19:10:07,670:INFO:[{'k': 3, 'proportion': 0.1}, {'k': 3, 'proportion': 0.25}, {'k': 3, 'proportion': 0.5}, {'k': 3, 'proportion': 0.75}, {'k': 3, 'proportion': 1.0}, {'k': 3, 'proportion': 1.5}, {'k': 3, 'proportion': 2.0}, {'k': 5, 'proportion': 0.1}, {'k': 5, 'proportion': 0.25}, {'k': 5, 'proportion': 0.5}, {'k': 5, 'proportion': 0.75}, {'k': 5, 'proportion': 1.0}, {'k': 5, 'proportion': 1.5}, {'k': 5, 'proportion': 2.0}, {'k': 7, 'proportion': 0.1}, {'k': 7, 'proportion': 0.25}, {'k': 7, 'proportion': 0.5}, {'k': 7, 'proportion': 0.75}, {'k': 7, 'proportion': 1.0}, {'k': 7, 'proportion': 1.5}, {'k': 7, 'proportion': 2.0}]\n",
      "2022-02-12 19:10:07,671:INFO:random_indices: [ 4 17  3  0 18  7 14 15  2 16 13  1  5 12 20  9  8 19 11 10  6]\n",
      "2022-02-12 19:10:07,671:INFO:[{'k': 3, 'proportion': 1.0}, {'k': 7, 'proportion': 0.75}, {'k': 3, 'proportion': 0.75}, {'k': 3, 'proportion': 0.1}, {'k': 7, 'proportion': 1.0}, {'k': 5, 'proportion': 0.1}, {'k': 7, 'proportion': 0.1}, {'k': 7, 'proportion': 0.25}, {'k': 3, 'proportion': 0.5}, {'k': 7, 'proportion': 0.5}, {'k': 5, 'proportion': 2.0}, {'k': 3, 'proportion': 0.25}, {'k': 3, 'proportion': 1.5}, {'k': 5, 'proportion': 1.5}, {'k': 7, 'proportion': 2.0}, {'k': 5, 'proportion': 0.5}, {'k': 5, 'proportion': 0.25}, {'k': 7, 'proportion': 1.5}, {'k': 5, 'proportion': 1.0}, {'k': 5, 'proportion': 0.75}, {'k': 3, 'proportion': 2.0}]\n",
      "2022-02-12 19:10:07,671:INFO:{'k': 3, 'proportion': 1.0, 'random_state': None}\n",
      "2022-02-12 19:10:07,671:INFO:Sampling sampler parameter string OrderedDict([('k', 3), ('proportion', 1.0), ('random_state', None)])\n",
      "2022-02-12 19:10:07,672:INFO:{'k': 7, 'proportion': 0.75, 'random_state': None}\n",
      "2022-02-12 19:10:07,672:INFO:Sampling sampler parameter string OrderedDict([('k', 7), ('proportion', 0.75), ('random_state', None)])\n",
      "2022-02-12 19:10:07,672:INFO:{'k': 3, 'proportion': 0.75, 'random_state': None}\n",
      "2022-02-12 19:10:07,676:INFO:Sampling sampler parameter string OrderedDict([('k', 3), ('proportion', 0.75), ('random_state', None)])\n",
      "2022-02-12 19:10:07,676:INFO:{'k': 3, 'proportion': 0.1, 'random_state': None}\n",
      "2022-02-12 19:10:07,677:INFO:Sampling sampler parameter string OrderedDict([('k', 3), ('proportion', 0.1), ('random_state', None)])\n",
      "2022-02-12 19:10:07,677:INFO:{'k': 7, 'proportion': 1.0, 'random_state': None}\n",
      "2022-02-12 19:10:07,677:INFO:Sampling sampler parameter string OrderedDict([('k', 7), ('proportion', 1.0), ('random_state', None)])\n",
      "2022-02-12 19:10:07,678:INFO:{'k': 5, 'proportion': 0.1, 'random_state': None}\n",
      "2022-02-12 19:10:07,678:INFO:Sampling sampler parameter string OrderedDict([('k', 5), ('proportion', 0.1), ('random_state', None)])\n"
     ]
    },
    {
     "name": "stderr",
     "output_type": "stream",
     "text": [
      "2022-02-12 19:10:07,678:INFO:{'k': 7, 'proportion': 0.1, 'random_state': None}\n",
      "2022-02-12 19:10:07,679:INFO:Sampling sampler parameter string OrderedDict([('k', 7), ('proportion', 0.1), ('random_state', None)])\n",
      "2022-02-12 19:10:07,679:INFO:{'k': 7, 'proportion': 0.25, 'random_state': None}\n",
      "2022-02-12 19:10:07,679:INFO:Sampling sampler parameter string OrderedDict([('k', 7), ('proportion', 0.25), ('random_state', None)])\n",
      "2022-02-12 19:10:07,679:INFO:{'k': 3, 'proportion': 0.5, 'random_state': None}\n",
      "2022-02-12 19:10:07,680:INFO:Sampling sampler parameter string OrderedDict([('k', 3), ('proportion', 0.5), ('random_state', None)])\n",
      "2022-02-12 19:10:07,680:INFO:{'k': 7, 'proportion': 0.5, 'random_state': None}\n",
      "2022-02-12 19:10:07,680:INFO:Sampling sampler parameter string OrderedDict([('k', 7), ('proportion', 0.5), ('random_state', None)])\n",
      "2022-02-12 19:10:07,681:INFO:{'k': 5, 'proportion': 2.0, 'random_state': None}\n",
      "2022-02-12 19:10:07,681:INFO:Sampling sampler parameter string OrderedDict([('k', 5), ('proportion', 2.0), ('random_state', None)])\n",
      "2022-02-12 19:10:07,682:INFO:{'k': 3, 'proportion': 0.25, 'random_state': None}\n",
      "2022-02-12 19:10:07,683:INFO:Sampling sampler parameter string OrderedDict([('k', 3), ('proportion', 0.25), ('random_state', None)])\n",
      "2022-02-12 19:10:07,683:INFO:{'k': 3, 'proportion': 1.5, 'random_state': None}\n",
      "2022-02-12 19:10:07,683:INFO:Sampling sampler parameter string OrderedDict([('k', 3), ('proportion', 1.5), ('random_state', None)])\n",
      "2022-02-12 19:10:07,684:INFO:{'k': 5, 'proportion': 1.5, 'random_state': None}\n",
      "2022-02-12 19:10:07,684:INFO:Sampling sampler parameter string OrderedDict([('k', 5), ('proportion', 1.5), ('random_state', None)])\n",
      "2022-02-12 19:10:07,685:INFO:{'k': 7, 'proportion': 2.0, 'random_state': None}\n",
      "2022-02-12 19:10:07,685:INFO:Sampling sampler parameter string OrderedDict([('k', 7), ('proportion', 2.0), ('random_state', None)])\n",
      "2022-02-12 19:10:07,686:INFO:{'k': 5, 'proportion': 0.5, 'random_state': None}\n",
      "2022-02-12 19:10:07,686:INFO:Sampling sampler parameter string OrderedDict([('k', 5), ('proportion', 0.5), ('random_state', None)])\n",
      "2022-02-12 19:10:07,686:INFO:{'k': 5, 'proportion': 0.25, 'random_state': None}\n",
      "2022-02-12 19:10:07,687:INFO:Sampling sampler parameter string OrderedDict([('k', 5), ('proportion', 0.25), ('random_state', None)])\n",
      "2022-02-12 19:10:07,687:INFO:{'k': 7, 'proportion': 1.5, 'random_state': None}\n",
      "2022-02-12 19:10:07,688:INFO:Sampling sampler parameter string OrderedDict([('k', 7), ('proportion', 1.5), ('random_state', None)])\n",
      "2022-02-12 19:10:07,688:INFO:{'k': 5, 'proportion': 1.0, 'random_state': None}\n",
      "2022-02-12 19:10:07,688:INFO:Sampling sampler parameter string OrderedDict([('k', 5), ('proportion', 1.0), ('random_state', None)])\n",
      "2022-02-12 19:10:07,689:INFO:{'k': 5, 'proportion': 0.75, 'random_state': None}\n",
      "2022-02-12 19:10:07,689:INFO:Sampling sampler parameter string OrderedDict([('k', 5), ('proportion', 0.75), ('random_state', None)])\n",
      "2022-02-12 19:10:07,689:INFO:{'k': 3, 'proportion': 2.0, 'random_state': None}\n",
      "2022-02-12 19:10:07,689:INFO:Sampling sampler parameter string OrderedDict([('k', 3), ('proportion', 2.0), ('random_state', None)])\n",
      "2022-02-12 19:10:07,690:INFO:[{'proportion': 0.1}, {'proportion': 0.25}, {'proportion': 0.5}, {'proportion': 0.75}, {'proportion': 1.0}, {'proportion': 1.5}, {'proportion': 2.0}]\n",
      "2022-02-12 19:10:07,690:INFO:random_indices: [4 1 3 0 2 5 6]\n",
      "2022-02-12 19:10:07,690:INFO:[{'proportion': 1.0}, {'proportion': 0.25}, {'proportion': 0.75}, {'proportion': 0.1}, {'proportion': 0.5}, {'proportion': 1.5}, {'proportion': 2.0}]\n",
      "2022-02-12 19:10:07,690:INFO:{'proportion': 1.0, 'random_state': None}\n",
      "2022-02-12 19:10:07,691:INFO:Sampling sampler parameter string OrderedDict([('proportion', 1.0), ('random_state', None)])\n",
      "2022-02-12 19:10:07,691:INFO:{'proportion': 0.25, 'random_state': None}\n",
      "2022-02-12 19:10:07,691:INFO:Sampling sampler parameter string OrderedDict([('proportion', 0.25), ('random_state', None)])\n",
      "2022-02-12 19:10:07,692:INFO:{'proportion': 0.75, 'random_state': None}\n",
      "2022-02-12 19:10:07,692:INFO:Sampling sampler parameter string OrderedDict([('proportion', 0.75), ('random_state', None)])\n",
      "2022-02-12 19:10:07,693:INFO:{'proportion': 0.1, 'random_state': None}\n",
      "2022-02-12 19:10:07,694:INFO:Sampling sampler parameter string OrderedDict([('proportion', 0.1), ('random_state', None)])\n",
      "2022-02-12 19:10:07,694:INFO:{'proportion': 0.5, 'random_state': None}\n",
      "2022-02-12 19:10:07,694:INFO:Sampling sampler parameter string OrderedDict([('proportion', 0.5), ('random_state', None)])\n",
      "2022-02-12 19:10:07,694:INFO:{'proportion': 1.5, 'random_state': None}\n",
      "2022-02-12 19:10:07,695:INFO:Sampling sampler parameter string OrderedDict([('proportion', 1.5), ('random_state', None)])\n",
      "2022-02-12 19:10:07,695:INFO:{'proportion': 2.0, 'random_state': None}\n",
      "2022-02-12 19:10:07,695:INFO:Sampling sampler parameter string OrderedDict([('proportion', 2.0), ('random_state', None)])\n",
      "2022-02-12 19:10:07,695:INFO:[{'n_components': 2, 'proportion': 0.1}, {'n_components': 2, 'proportion': 0.25}, {'n_components': 2, 'proportion': 0.5}, {'n_components': 2, 'proportion': 0.75}, {'n_components': 2, 'proportion': 1.0}, {'n_components': 2, 'proportion': 1.5}, {'n_components': 2, 'proportion': 2.0}, {'n_components': 3, 'proportion': 0.1}, {'n_components': 3, 'proportion': 0.25}, {'n_components': 3, 'proportion': 0.5}, {'n_components': 3, 'proportion': 0.75}, {'n_components': 3, 'proportion': 1.0}, {'n_components': 3, 'proportion': 1.5}, {'n_components': 3, 'proportion': 2.0}, {'n_components': 4, 'proportion': 0.1}, {'n_components': 4, 'proportion': 0.25}, {'n_components': 4, 'proportion': 0.5}, {'n_components': 4, 'proportion': 0.75}, {'n_components': 4, 'proportion': 1.0}, {'n_components': 4, 'proportion': 1.5}, {'n_components': 4, 'proportion': 2.0}, {'n_components': 5, 'proportion': 0.1}, {'n_components': 5, 'proportion': 0.25}, {'n_components': 5, 'proportion': 0.5}, {'n_components': 5, 'proportion': 0.75}, {'n_components': 5, 'proportion': 1.0}, {'n_components': 5, 'proportion': 1.5}, {'n_components': 5, 'proportion': 2.0}]\n",
      "2022-02-12 19:10:07,696:INFO:random_indices: [16  8 20 27 22  1  4 24 10  5 14 21 11 18  3  6 19 23  2 26 17  0 15 12\n",
      " 13]\n",
      "2022-02-12 19:10:07,696:INFO:[{'n_components': 4, 'proportion': 0.5}, {'n_components': 3, 'proportion': 0.25}, {'n_components': 4, 'proportion': 2.0}, {'n_components': 5, 'proportion': 2.0}, {'n_components': 5, 'proportion': 0.25}, {'n_components': 2, 'proportion': 0.25}, {'n_components': 2, 'proportion': 1.0}, {'n_components': 5, 'proportion': 0.75}, {'n_components': 3, 'proportion': 0.75}, {'n_components': 2, 'proportion': 1.5}, {'n_components': 4, 'proportion': 0.1}, {'n_components': 5, 'proportion': 0.1}, {'n_components': 3, 'proportion': 1.0}, {'n_components': 4, 'proportion': 1.0}, {'n_components': 2, 'proportion': 0.75}, {'n_components': 2, 'proportion': 2.0}, {'n_components': 4, 'proportion': 1.5}, {'n_components': 5, 'proportion': 0.5}, {'n_components': 2, 'proportion': 0.5}, {'n_components': 5, 'proportion': 1.5}, {'n_components': 4, 'proportion': 0.75}, {'n_components': 2, 'proportion': 0.1}, {'n_components': 4, 'proportion': 0.25}, {'n_components': 3, 'proportion': 1.5}, {'n_components': 3, 'proportion': 2.0}]\n",
      "2022-02-12 19:10:07,696:INFO:{'n_components': 4, 'proportion': 0.5, 'random_state': None}\n",
      "2022-02-12 19:10:07,697:INFO:Sampling sampler parameter string OrderedDict([('n_components', 4), ('proportion', 0.5), ('random_state', None)])\n",
      "2022-02-12 19:10:07,697:INFO:{'n_components': 3, 'proportion': 0.25, 'random_state': None}\n",
      "2022-02-12 19:10:07,697:INFO:Sampling sampler parameter string OrderedDict([('n_components', 3), ('proportion', 0.25), ('random_state', None)])\n",
      "2022-02-12 19:10:07,697:INFO:{'n_components': 4, 'proportion': 2.0, 'random_state': None}\n",
      "2022-02-12 19:10:07,697:INFO:Sampling sampler parameter string OrderedDict([('n_components', 4), ('proportion', 2.0), ('random_state', None)])\n",
      "2022-02-12 19:10:07,698:INFO:{'n_components': 5, 'proportion': 2.0, 'random_state': None}\n",
      "2022-02-12 19:10:07,698:INFO:Sampling sampler parameter string OrderedDict([('n_components', 5), ('proportion', 2.0), ('random_state', None)])\n"
     ]
    },
    {
     "name": "stderr",
     "output_type": "stream",
     "text": [
      "2022-02-12 19:10:07,698:INFO:{'n_components': 5, 'proportion': 0.25, 'random_state': None}\n",
      "2022-02-12 19:10:07,698:INFO:Sampling sampler parameter string OrderedDict([('n_components', 5), ('proportion', 0.25), ('random_state', None)])\n",
      "2022-02-12 19:10:07,699:INFO:{'n_components': 2, 'proportion': 0.25, 'random_state': None}\n",
      "2022-02-12 19:10:07,699:INFO:Sampling sampler parameter string OrderedDict([('n_components', 2), ('proportion', 0.25), ('random_state', None)])\n",
      "2022-02-12 19:10:07,699:INFO:{'n_components': 2, 'proportion': 1.0, 'random_state': None}\n",
      "2022-02-12 19:10:07,699:INFO:Sampling sampler parameter string OrderedDict([('n_components', 2), ('proportion', 1.0), ('random_state', None)])\n",
      "2022-02-12 19:10:07,700:INFO:{'n_components': 5, 'proportion': 0.75, 'random_state': None}\n",
      "2022-02-12 19:10:07,700:INFO:Sampling sampler parameter string OrderedDict([('n_components', 5), ('proportion', 0.75), ('random_state', None)])\n",
      "2022-02-12 19:10:07,700:INFO:{'n_components': 3, 'proportion': 0.75, 'random_state': None}\n",
      "2022-02-12 19:10:07,701:INFO:Sampling sampler parameter string OrderedDict([('n_components', 3), ('proportion', 0.75), ('random_state', None)])\n",
      "2022-02-12 19:10:07,703:INFO:{'n_components': 2, 'proportion': 1.5, 'random_state': None}\n",
      "2022-02-12 19:10:07,703:INFO:Sampling sampler parameter string OrderedDict([('n_components', 2), ('proportion', 1.5), ('random_state', None)])\n",
      "2022-02-12 19:10:07,704:INFO:{'n_components': 4, 'proportion': 0.1, 'random_state': None}\n",
      "2022-02-12 19:10:07,704:INFO:Sampling sampler parameter string OrderedDict([('n_components', 4), ('proportion', 0.1), ('random_state', None)])\n",
      "2022-02-12 19:10:07,704:INFO:{'n_components': 5, 'proportion': 0.1, 'random_state': None}\n",
      "2022-02-12 19:10:07,705:INFO:Sampling sampler parameter string OrderedDict([('n_components', 5), ('proportion', 0.1), ('random_state', None)])\n",
      "2022-02-12 19:10:07,705:INFO:{'n_components': 3, 'proportion': 1.0, 'random_state': None}\n",
      "2022-02-12 19:10:07,706:INFO:Sampling sampler parameter string OrderedDict([('n_components', 3), ('proportion', 1.0), ('random_state', None)])\n",
      "2022-02-12 19:10:07,706:INFO:{'n_components': 4, 'proportion': 1.0, 'random_state': None}\n",
      "2022-02-12 19:10:07,706:INFO:Sampling sampler parameter string OrderedDict([('n_components', 4), ('proportion', 1.0), ('random_state', None)])\n",
      "2022-02-12 19:10:07,706:INFO:{'n_components': 2, 'proportion': 0.75, 'random_state': None}\n",
      "2022-02-12 19:10:07,707:INFO:Sampling sampler parameter string OrderedDict([('n_components', 2), ('proportion', 0.75), ('random_state', None)])\n",
      "2022-02-12 19:10:07,708:INFO:{'n_components': 2, 'proportion': 2.0, 'random_state': None}\n",
      "2022-02-12 19:10:07,708:INFO:Sampling sampler parameter string OrderedDict([('n_components', 2), ('proportion', 2.0), ('random_state', None)])\n",
      "2022-02-12 19:10:07,708:INFO:{'n_components': 4, 'proportion': 1.5, 'random_state': None}\n",
      "2022-02-12 19:10:07,709:INFO:Sampling sampler parameter string OrderedDict([('n_components', 4), ('proportion', 1.5), ('random_state', None)])\n",
      "2022-02-12 19:10:07,709:INFO:{'n_components': 5, 'proportion': 0.5, 'random_state': None}\n",
      "2022-02-12 19:10:07,709:INFO:Sampling sampler parameter string OrderedDict([('n_components', 5), ('proportion', 0.5), ('random_state', None)])\n",
      "2022-02-12 19:10:07,709:INFO:{'n_components': 2, 'proportion': 0.5, 'random_state': None}\n",
      "2022-02-12 19:10:07,710:INFO:Sampling sampler parameter string OrderedDict([('n_components', 2), ('proportion', 0.5), ('random_state', None)])\n",
      "2022-02-12 19:10:07,710:INFO:{'n_components': 5, 'proportion': 1.5, 'random_state': None}\n",
      "2022-02-12 19:10:07,710:INFO:Sampling sampler parameter string OrderedDict([('n_components', 5), ('proportion', 1.5), ('random_state', None)])\n",
      "2022-02-12 19:10:07,711:INFO:{'n_components': 4, 'proportion': 0.75, 'random_state': None}\n",
      "2022-02-12 19:10:07,711:INFO:Sampling sampler parameter string OrderedDict([('n_components', 4), ('proportion', 0.75), ('random_state', None)])\n",
      "2022-02-12 19:10:07,711:INFO:{'n_components': 2, 'proportion': 0.1, 'random_state': None}\n",
      "2022-02-12 19:10:07,712:INFO:Sampling sampler parameter string OrderedDict([('n_components', 2), ('proportion', 0.1), ('random_state', None)])\n",
      "2022-02-12 19:10:07,713:INFO:{'n_components': 4, 'proportion': 0.25, 'random_state': None}\n",
      "2022-02-12 19:10:07,713:INFO:Sampling sampler parameter string OrderedDict([('n_components', 4), ('proportion', 0.25), ('random_state', None)])\n",
      "2022-02-12 19:10:07,714:INFO:{'n_components': 3, 'proportion': 1.5, 'random_state': None}\n",
      "2022-02-12 19:10:07,714:INFO:Sampling sampler parameter string OrderedDict([('n_components', 3), ('proportion', 1.5), ('random_state', None)])\n",
      "2022-02-12 19:10:07,714:INFO:{'n_components': 3, 'proportion': 2.0, 'random_state': None}\n",
      "2022-02-12 19:10:07,714:INFO:Sampling sampler parameter string OrderedDict([('n_components', 3), ('proportion', 2.0), ('random_state', None)])\n",
      "2022-02-12 19:10:07,715:INFO:[{'proportion': 0.1}, {'proportion': 0.25}, {'proportion': 0.5}, {'proportion': 0.75}, {'proportion': 1.0}, {'proportion': 1.5}, {'proportion': 2.0}]\n",
      "2022-02-12 19:10:07,715:INFO:random_indices: [4 1 5 0 2 3 6]\n",
      "2022-02-12 19:10:07,715:INFO:[{'proportion': 1.0}, {'proportion': 0.25}, {'proportion': 1.5}, {'proportion': 0.1}, {'proportion': 0.5}, {'proportion': 0.75}, {'proportion': 2.0}]\n",
      "2022-02-12 19:10:07,716:INFO:{'proportion': 1.0, 'random_state': None}\n",
      "2022-02-12 19:10:07,717:INFO:Sampling sampler parameter string OrderedDict([('proportion', 1.0), ('random_state', None)])\n",
      "2022-02-12 19:10:07,718:INFO:{'proportion': 0.25, 'random_state': None}\n",
      "2022-02-12 19:10:07,718:INFO:Sampling sampler parameter string OrderedDict([('proportion', 0.25), ('random_state', None)])\n",
      "2022-02-12 19:10:07,718:INFO:{'proportion': 1.5, 'random_state': None}\n",
      "2022-02-12 19:10:07,719:INFO:Sampling sampler parameter string OrderedDict([('proportion', 1.5), ('random_state', None)])\n",
      "2022-02-12 19:10:07,719:INFO:{'proportion': 0.1, 'random_state': None}\n",
      "2022-02-12 19:10:07,719:INFO:Sampling sampler parameter string OrderedDict([('proportion', 0.1), ('random_state', None)])\n",
      "2022-02-12 19:10:07,720:INFO:{'proportion': 0.5, 'random_state': None}\n",
      "2022-02-12 19:10:07,720:INFO:Sampling sampler parameter string OrderedDict([('proportion', 0.5), ('random_state', None)])\n",
      "2022-02-12 19:10:07,720:INFO:{'proportion': 0.75, 'random_state': None}\n",
      "2022-02-12 19:10:07,721:INFO:Sampling sampler parameter string OrderedDict([('proportion', 0.75), ('random_state', None)])\n",
      "2022-02-12 19:10:07,721:INFO:{'proportion': 2.0, 'random_state': None}\n",
      "2022-02-12 19:10:07,722:INFO:Sampling sampler parameter string OrderedDict([('proportion', 2.0), ('random_state', None)])\n",
      "2022-02-12 19:10:07,723:INFO:[{'T': 0.5, 'n_neighbors': 3, 'proportion': 0.1}, {'T': 0.5, 'n_neighbors': 3, 'proportion': 0.25}, {'T': 0.5, 'n_neighbors': 3, 'proportion': 0.5}, {'T': 0.5, 'n_neighbors': 3, 'proportion': 0.75}, {'T': 0.5, 'n_neighbors': 3, 'proportion': 1.0}, {'T': 0.5, 'n_neighbors': 3, 'proportion': 1.5}, {'T': 0.5, 'n_neighbors': 3, 'proportion': 2.0}, {'T': 0.5, 'n_neighbors': 5, 'proportion': 0.1}, {'T': 0.5, 'n_neighbors': 5, 'proportion': 0.25}, {'T': 0.5, 'n_neighbors': 5, 'proportion': 0.5}, {'T': 0.5, 'n_neighbors': 5, 'proportion': 0.75}, {'T': 0.5, 'n_neighbors': 5, 'proportion': 1.0}, {'T': 0.5, 'n_neighbors': 5, 'proportion': 1.5}, {'T': 0.5, 'n_neighbors': 5, 'proportion': 2.0}, {'T': 0.5, 'n_neighbors': 7, 'proportion': 0.1}, {'T': 0.5, 'n_neighbors': 7, 'proportion': 0.25}, {'T': 0.5, 'n_neighbors': 7, 'proportion': 0.5}, {'T': 0.5, 'n_neighbors': 7, 'proportion': 0.75}, {'T': 0.5, 'n_neighbors': 7, 'proportion': 1.0}, {'T': 0.5, 'n_neighbors': 7, 'proportion': 1.5}, {'T': 0.5, 'n_neighbors': 7, 'proportion': 2.0}]\n",
      "2022-02-12 19:10:07,723:INFO:random_indices: [ 5 17 13 15 12 18 10  7  0  2  3  4  6  9  1 14  8 19 16 20 11]\n",
      "2022-02-12 19:10:07,724:INFO:[{'T': 0.5, 'n_neighbors': 3, 'proportion': 1.5}, {'T': 0.5, 'n_neighbors': 7, 'proportion': 0.75}, {'T': 0.5, 'n_neighbors': 5, 'proportion': 2.0}, {'T': 0.5, 'n_neighbors': 7, 'proportion': 0.25}, {'T': 0.5, 'n_neighbors': 5, 'proportion': 1.5}, {'T': 0.5, 'n_neighbors': 7, 'proportion': 1.0}, {'T': 0.5, 'n_neighbors': 5, 'proportion': 0.75}, {'T': 0.5, 'n_neighbors': 5, 'proportion': 0.1}, {'T': 0.5, 'n_neighbors': 3, 'proportion': 0.1}, {'T': 0.5, 'n_neighbors': 3, 'proportion': 0.5}, {'T': 0.5, 'n_neighbors': 3, 'proportion': 0.75}, {'T': 0.5, 'n_neighbors': 3, 'proportion': 1.0}, {'T': 0.5, 'n_neighbors': 3, 'proportion': 2.0}, {'T': 0.5, 'n_neighbors': 5, 'proportion': 0.5}, {'T': 0.5, 'n_neighbors': 3, 'proportion': 0.25}, {'T': 0.5, 'n_neighbors': 7, 'proportion': 0.1}, {'T': 0.5, 'n_neighbors': 5, 'proportion': 0.25}, {'T': 0.5, 'n_neighbors': 7, 'proportion': 1.5}, {'T': 0.5, 'n_neighbors': 7, 'proportion': 0.5}, {'T': 0.5, 'n_neighbors': 7, 'proportion': 2.0}, {'T': 0.5, 'n_neighbors': 5, 'proportion': 1.0}]\n"
     ]
    },
    {
     "name": "stderr",
     "output_type": "stream",
     "text": [
      "2022-02-12 19:10:07,724:INFO:{'T': 0.5, 'n_neighbors': 3, 'proportion': 1.5, 'random_state': None}\n",
      "2022-02-12 19:10:07,724:INFO:Sampling sampler parameter string OrderedDict([('T', 0.5), ('n_neighbors', 3), ('proportion', 1.5), ('random_state', None)])\n",
      "2022-02-12 19:10:07,725:INFO:{'T': 0.5, 'n_neighbors': 7, 'proportion': 0.75, 'random_state': None}\n",
      "2022-02-12 19:10:07,725:INFO:Sampling sampler parameter string OrderedDict([('T', 0.5), ('n_neighbors', 7), ('proportion', 0.75), ('random_state', None)])\n",
      "2022-02-12 19:10:07,726:INFO:{'T': 0.5, 'n_neighbors': 5, 'proportion': 2.0, 'random_state': None}\n",
      "2022-02-12 19:10:07,726:INFO:Sampling sampler parameter string OrderedDict([('T', 0.5), ('n_neighbors', 5), ('proportion', 2.0), ('random_state', None)])\n",
      "2022-02-12 19:10:07,727:INFO:{'T': 0.5, 'n_neighbors': 7, 'proportion': 0.25, 'random_state': None}\n",
      "2022-02-12 19:10:07,727:INFO:Sampling sampler parameter string OrderedDict([('T', 0.5), ('n_neighbors', 7), ('proportion', 0.25), ('random_state', None)])\n",
      "2022-02-12 19:10:07,727:INFO:{'T': 0.5, 'n_neighbors': 5, 'proportion': 1.5, 'random_state': None}\n",
      "2022-02-12 19:10:07,728:INFO:Sampling sampler parameter string OrderedDict([('T', 0.5), ('n_neighbors', 5), ('proportion', 1.5), ('random_state', None)])\n",
      "2022-02-12 19:10:07,728:INFO:{'T': 0.5, 'n_neighbors': 7, 'proportion': 1.0, 'random_state': None}\n",
      "2022-02-12 19:10:07,728:INFO:Sampling sampler parameter string OrderedDict([('T', 0.5), ('n_neighbors', 7), ('proportion', 1.0), ('random_state', None)])\n",
      "2022-02-12 19:10:07,729:INFO:{'T': 0.5, 'n_neighbors': 5, 'proportion': 0.75, 'random_state': None}\n",
      "2022-02-12 19:10:07,729:INFO:Sampling sampler parameter string OrderedDict([('T', 0.5), ('n_neighbors', 5), ('proportion', 0.75), ('random_state', None)])\n",
      "2022-02-12 19:10:07,729:INFO:{'T': 0.5, 'n_neighbors': 5, 'proportion': 0.1, 'random_state': None}\n",
      "2022-02-12 19:10:07,730:INFO:Sampling sampler parameter string OrderedDict([('T', 0.5), ('n_neighbors', 5), ('proportion', 0.1), ('random_state', None)])\n",
      "2022-02-12 19:10:07,730:INFO:{'T': 0.5, 'n_neighbors': 3, 'proportion': 0.1, 'random_state': None}\n",
      "2022-02-12 19:10:07,730:INFO:Sampling sampler parameter string OrderedDict([('T', 0.5), ('n_neighbors', 3), ('proportion', 0.1), ('random_state', None)])\n",
      "2022-02-12 19:10:07,731:INFO:{'T': 0.5, 'n_neighbors': 3, 'proportion': 0.5, 'random_state': None}\n",
      "2022-02-12 19:10:07,731:INFO:Sampling sampler parameter string OrderedDict([('T', 0.5), ('n_neighbors', 3), ('proportion', 0.5), ('random_state', None)])\n",
      "2022-02-12 19:10:07,731:INFO:{'T': 0.5, 'n_neighbors': 3, 'proportion': 0.75, 'random_state': None}\n",
      "2022-02-12 19:10:07,732:INFO:Sampling sampler parameter string OrderedDict([('T', 0.5), ('n_neighbors', 3), ('proportion', 0.75), ('random_state', None)])\n",
      "2022-02-12 19:10:07,732:INFO:{'T': 0.5, 'n_neighbors': 3, 'proportion': 1.0, 'random_state': None}\n",
      "2022-02-12 19:10:07,732:INFO:Sampling sampler parameter string OrderedDict([('T', 0.5), ('n_neighbors', 3), ('proportion', 1.0), ('random_state', None)])\n",
      "2022-02-12 19:10:07,732:INFO:{'T': 0.5, 'n_neighbors': 3, 'proportion': 2.0, 'random_state': None}\n",
      "2022-02-12 19:10:07,733:INFO:Sampling sampler parameter string OrderedDict([('T', 0.5), ('n_neighbors', 3), ('proportion', 2.0), ('random_state', None)])\n",
      "2022-02-12 19:10:07,733:INFO:{'T': 0.5, 'n_neighbors': 5, 'proportion': 0.5, 'random_state': None}\n",
      "2022-02-12 19:10:07,733:INFO:Sampling sampler parameter string OrderedDict([('T', 0.5), ('n_neighbors', 5), ('proportion', 0.5), ('random_state', None)])\n",
      "2022-02-12 19:10:07,734:INFO:{'T': 0.5, 'n_neighbors': 3, 'proportion': 0.25, 'random_state': None}\n",
      "2022-02-12 19:10:07,734:INFO:Sampling sampler parameter string OrderedDict([('T', 0.5), ('n_neighbors', 3), ('proportion', 0.25), ('random_state', None)])\n",
      "2022-02-12 19:10:07,734:INFO:{'T': 0.5, 'n_neighbors': 7, 'proportion': 0.1, 'random_state': None}\n",
      "2022-02-12 19:10:07,735:INFO:Sampling sampler parameter string OrderedDict([('T', 0.5), ('n_neighbors', 7), ('proportion', 0.1), ('random_state', None)])\n",
      "2022-02-12 19:10:07,735:INFO:{'T': 0.5, 'n_neighbors': 5, 'proportion': 0.25, 'random_state': None}\n",
      "2022-02-12 19:10:07,735:INFO:Sampling sampler parameter string OrderedDict([('T', 0.5), ('n_neighbors', 5), ('proportion', 0.25), ('random_state', None)])\n",
      "2022-02-12 19:10:07,736:INFO:{'T': 0.5, 'n_neighbors': 7, 'proportion': 1.5, 'random_state': None}\n",
      "2022-02-12 19:10:07,736:INFO:Sampling sampler parameter string OrderedDict([('T', 0.5), ('n_neighbors', 7), ('proportion', 1.5), ('random_state', None)])\n",
      "2022-02-12 19:10:07,736:INFO:{'T': 0.5, 'n_neighbors': 7, 'proportion': 0.5, 'random_state': None}\n",
      "2022-02-12 19:10:07,737:INFO:Sampling sampler parameter string OrderedDict([('T', 0.5), ('n_neighbors', 7), ('proportion', 0.5), ('random_state', None)])\n",
      "2022-02-12 19:10:07,737:INFO:{'T': 0.5, 'n_neighbors': 7, 'proportion': 2.0, 'random_state': None}\n",
      "2022-02-12 19:10:07,737:INFO:Sampling sampler parameter string OrderedDict([('T', 0.5), ('n_neighbors', 7), ('proportion', 2.0), ('random_state', None)])\n",
      "2022-02-12 19:10:07,738:INFO:{'T': 0.5, 'n_neighbors': 5, 'proportion': 1.0, 'random_state': None}\n",
      "2022-02-12 19:10:07,738:INFO:Sampling sampler parameter string OrderedDict([('T', 0.5), ('n_neighbors', 5), ('proportion', 1.0), ('random_state', None)])\n",
      "2022-02-12 19:10:07,738:INFO:[{'n_neighbors': 3, 'proportion': 0.1}, {'n_neighbors': 3, 'proportion': 0.25}, {'n_neighbors': 3, 'proportion': 0.5}, {'n_neighbors': 3, 'proportion': 0.75}, {'n_neighbors': 3, 'proportion': 1.0}, {'n_neighbors': 3, 'proportion': 1.5}, {'n_neighbors': 3, 'proportion': 2.0}, {'n_neighbors': 5, 'proportion': 0.1}, {'n_neighbors': 5, 'proportion': 0.25}, {'n_neighbors': 5, 'proportion': 0.5}, {'n_neighbors': 5, 'proportion': 0.75}, {'n_neighbors': 5, 'proportion': 1.0}, {'n_neighbors': 5, 'proportion': 1.5}, {'n_neighbors': 5, 'proportion': 2.0}, {'n_neighbors': 7, 'proportion': 0.1}, {'n_neighbors': 7, 'proportion': 0.25}, {'n_neighbors': 7, 'proportion': 0.5}, {'n_neighbors': 7, 'proportion': 0.75}, {'n_neighbors': 7, 'proportion': 1.0}, {'n_neighbors': 7, 'proportion': 1.5}, {'n_neighbors': 7, 'proportion': 2.0}]\n",
      "2022-02-12 19:10:07,739:INFO:random_indices: [16  4  0 14  1 19 12 20  9 11  3  8 18  2  7 15 13  6  5 10 17]\n",
      "2022-02-12 19:10:07,739:INFO:[{'n_neighbors': 7, 'proportion': 0.5}, {'n_neighbors': 3, 'proportion': 1.0}, {'n_neighbors': 3, 'proportion': 0.1}, {'n_neighbors': 7, 'proportion': 0.1}, {'n_neighbors': 3, 'proportion': 0.25}, {'n_neighbors': 7, 'proportion': 1.5}, {'n_neighbors': 5, 'proportion': 1.5}, {'n_neighbors': 7, 'proportion': 2.0}, {'n_neighbors': 5, 'proportion': 0.5}, {'n_neighbors': 5, 'proportion': 1.0}, {'n_neighbors': 3, 'proportion': 0.75}, {'n_neighbors': 5, 'proportion': 0.25}, {'n_neighbors': 7, 'proportion': 1.0}, {'n_neighbors': 3, 'proportion': 0.5}, {'n_neighbors': 5, 'proportion': 0.1}, {'n_neighbors': 7, 'proportion': 0.25}, {'n_neighbors': 5, 'proportion': 2.0}, {'n_neighbors': 3, 'proportion': 2.0}, {'n_neighbors': 3, 'proportion': 1.5}, {'n_neighbors': 5, 'proportion': 0.75}, {'n_neighbors': 7, 'proportion': 0.75}]\n",
      "2022-02-12 19:10:07,739:INFO:{'n_neighbors': 7, 'proportion': 0.5, 'random_state': None}\n",
      "2022-02-12 19:10:07,740:INFO:Sampling sampler parameter string OrderedDict([('n_neighbors', 7), ('proportion', 0.5), ('random_state', None)])\n",
      "2022-02-12 19:10:07,740:INFO:{'n_neighbors': 3, 'proportion': 1.0, 'random_state': None}\n",
      "2022-02-12 19:10:07,740:INFO:Sampling sampler parameter string OrderedDict([('n_neighbors', 3), ('proportion', 1.0), ('random_state', None)])\n",
      "2022-02-12 19:10:07,741:INFO:{'n_neighbors': 3, 'proportion': 0.1, 'random_state': None}\n",
      "2022-02-12 19:10:07,741:INFO:Sampling sampler parameter string OrderedDict([('n_neighbors', 3), ('proportion', 0.1), ('random_state', None)])\n",
      "2022-02-12 19:10:07,741:INFO:{'n_neighbors': 7, 'proportion': 0.1, 'random_state': None}\n",
      "2022-02-12 19:10:07,741:INFO:Sampling sampler parameter string OrderedDict([('n_neighbors', 7), ('proportion', 0.1), ('random_state', None)])\n",
      "2022-02-12 19:10:07,742:INFO:{'n_neighbors': 3, 'proportion': 0.25, 'random_state': None}\n",
      "2022-02-12 19:10:07,742:INFO:Sampling sampler parameter string OrderedDict([('n_neighbors', 3), ('proportion', 0.25), ('random_state', None)])\n"
     ]
    },
    {
     "name": "stderr",
     "output_type": "stream",
     "text": [
      "2022-02-12 19:10:07,742:INFO:{'n_neighbors': 7, 'proportion': 1.5, 'random_state': None}\n",
      "2022-02-12 19:10:07,742:INFO:Sampling sampler parameter string OrderedDict([('n_neighbors', 7), ('proportion', 1.5), ('random_state', None)])\n",
      "2022-02-12 19:10:07,743:INFO:{'n_neighbors': 5, 'proportion': 1.5, 'random_state': None}\n",
      "2022-02-12 19:10:07,743:INFO:Sampling sampler parameter string OrderedDict([('n_neighbors', 5), ('proportion', 1.5), ('random_state', None)])\n",
      "2022-02-12 19:10:07,743:INFO:{'n_neighbors': 7, 'proportion': 2.0, 'random_state': None}\n",
      "2022-02-12 19:10:07,743:INFO:Sampling sampler parameter string OrderedDict([('n_neighbors', 7), ('proportion', 2.0), ('random_state', None)])\n",
      "2022-02-12 19:10:07,744:INFO:{'n_neighbors': 5, 'proportion': 0.5, 'random_state': None}\n",
      "2022-02-12 19:10:07,744:INFO:Sampling sampler parameter string OrderedDict([('n_neighbors', 5), ('proportion', 0.5), ('random_state', None)])\n",
      "2022-02-12 19:10:07,745:INFO:{'n_neighbors': 5, 'proportion': 1.0, 'random_state': None}\n",
      "2022-02-12 19:10:07,745:INFO:Sampling sampler parameter string OrderedDict([('n_neighbors', 5), ('proportion', 1.0), ('random_state', None)])\n",
      "2022-02-12 19:10:07,745:INFO:{'n_neighbors': 3, 'proportion': 0.75, 'random_state': None}\n",
      "2022-02-12 19:10:07,745:INFO:Sampling sampler parameter string OrderedDict([('n_neighbors', 3), ('proportion', 0.75), ('random_state', None)])\n",
      "2022-02-12 19:10:07,746:INFO:{'n_neighbors': 5, 'proportion': 0.25, 'random_state': None}\n",
      "2022-02-12 19:10:07,746:INFO:Sampling sampler parameter string OrderedDict([('n_neighbors', 5), ('proportion', 0.25), ('random_state', None)])\n",
      "2022-02-12 19:10:07,746:INFO:{'n_neighbors': 7, 'proportion': 1.0, 'random_state': None}\n",
      "2022-02-12 19:10:07,746:INFO:Sampling sampler parameter string OrderedDict([('n_neighbors', 7), ('proportion', 1.0), ('random_state', None)])\n",
      "2022-02-12 19:10:07,747:INFO:{'n_neighbors': 3, 'proportion': 0.5, 'random_state': None}\n",
      "2022-02-12 19:10:07,747:INFO:Sampling sampler parameter string OrderedDict([('n_neighbors', 3), ('proportion', 0.5), ('random_state', None)])\n",
      "2022-02-12 19:10:07,754:INFO:{'n_neighbors': 5, 'proportion': 0.1, 'random_state': None}\n",
      "2022-02-12 19:10:07,754:INFO:Sampling sampler parameter string OrderedDict([('n_neighbors', 5), ('proportion', 0.1), ('random_state', None)])\n",
      "2022-02-12 19:10:07,755:INFO:{'n_neighbors': 7, 'proportion': 0.25, 'random_state': None}\n",
      "2022-02-12 19:10:07,755:INFO:Sampling sampler parameter string OrderedDict([('n_neighbors', 7), ('proportion', 0.25), ('random_state', None)])\n",
      "2022-02-12 19:10:07,756:INFO:{'n_neighbors': 5, 'proportion': 2.0, 'random_state': None}\n",
      "2022-02-12 19:10:07,756:INFO:Sampling sampler parameter string OrderedDict([('n_neighbors', 5), ('proportion', 2.0), ('random_state', None)])\n",
      "2022-02-12 19:10:07,756:INFO:{'n_neighbors': 3, 'proportion': 2.0, 'random_state': None}\n",
      "2022-02-12 19:10:07,757:INFO:Sampling sampler parameter string OrderedDict([('n_neighbors', 3), ('proportion', 2.0), ('random_state', None)])\n",
      "2022-02-12 19:10:07,759:INFO:{'n_neighbors': 3, 'proportion': 1.5, 'random_state': None}\n",
      "2022-02-12 19:10:07,759:INFO:Sampling sampler parameter string OrderedDict([('n_neighbors', 3), ('proportion', 1.5), ('random_state', None)])\n",
      "2022-02-12 19:10:07,760:INFO:{'n_neighbors': 5, 'proportion': 0.75, 'random_state': None}\n",
      "2022-02-12 19:10:07,760:INFO:Sampling sampler parameter string OrderedDict([('n_neighbors', 5), ('proportion', 0.75), ('random_state', None)])\n",
      "2022-02-12 19:10:07,761:INFO:{'n_neighbors': 7, 'proportion': 0.75, 'random_state': None}\n",
      "2022-02-12 19:10:07,762:INFO:Sampling sampler parameter string OrderedDict([('n_neighbors', 7), ('proportion', 0.75), ('random_state', None)])\n",
      "2022-02-12 19:10:07,762:INFO:[{'k_neighbors': 3, 'n_neighbors': 3, 'proportion': 0.1}, {'k_neighbors': 3, 'n_neighbors': 3, 'proportion': 0.25}, {'k_neighbors': 3, 'n_neighbors': 3, 'proportion': 0.5}, {'k_neighbors': 3, 'n_neighbors': 3, 'proportion': 0.75}, {'k_neighbors': 3, 'n_neighbors': 3, 'proportion': 1.0}, {'k_neighbors': 3, 'n_neighbors': 3, 'proportion': 1.5}, {'k_neighbors': 3, 'n_neighbors': 3, 'proportion': 2.0}, {'k_neighbors': 3, 'n_neighbors': 5, 'proportion': 0.1}, {'k_neighbors': 3, 'n_neighbors': 5, 'proportion': 0.25}, {'k_neighbors': 3, 'n_neighbors': 5, 'proportion': 0.5}, {'k_neighbors': 3, 'n_neighbors': 5, 'proportion': 0.75}, {'k_neighbors': 3, 'n_neighbors': 5, 'proportion': 1.0}, {'k_neighbors': 3, 'n_neighbors': 5, 'proportion': 1.5}, {'k_neighbors': 3, 'n_neighbors': 5, 'proportion': 2.0}, {'k_neighbors': 3, 'n_neighbors': 7, 'proportion': 0.1}, {'k_neighbors': 3, 'n_neighbors': 7, 'proportion': 0.25}, {'k_neighbors': 3, 'n_neighbors': 7, 'proportion': 0.5}, {'k_neighbors': 3, 'n_neighbors': 7, 'proportion': 0.75}, {'k_neighbors': 3, 'n_neighbors': 7, 'proportion': 1.0}, {'k_neighbors': 3, 'n_neighbors': 7, 'proportion': 1.5}, {'k_neighbors': 3, 'n_neighbors': 7, 'proportion': 2.0}, {'k_neighbors': 5, 'n_neighbors': 3, 'proportion': 0.1}, {'k_neighbors': 5, 'n_neighbors': 3, 'proportion': 0.25}, {'k_neighbors': 5, 'n_neighbors': 3, 'proportion': 0.5}, {'k_neighbors': 5, 'n_neighbors': 3, 'proportion': 0.75}, {'k_neighbors': 5, 'n_neighbors': 3, 'proportion': 1.0}, {'k_neighbors': 5, 'n_neighbors': 3, 'proportion': 1.5}, {'k_neighbors': 5, 'n_neighbors': 3, 'proportion': 2.0}, {'k_neighbors': 5, 'n_neighbors': 5, 'proportion': 0.1}, {'k_neighbors': 5, 'n_neighbors': 5, 'proportion': 0.25}, {'k_neighbors': 5, 'n_neighbors': 5, 'proportion': 0.5}, {'k_neighbors': 5, 'n_neighbors': 5, 'proportion': 0.75}, {'k_neighbors': 5, 'n_neighbors': 5, 'proportion': 1.0}, {'k_neighbors': 5, 'n_neighbors': 5, 'proportion': 1.5}, {'k_neighbors': 5, 'n_neighbors': 5, 'proportion': 2.0}, {'k_neighbors': 5, 'n_neighbors': 7, 'proportion': 0.1}, {'k_neighbors': 5, 'n_neighbors': 7, 'proportion': 0.25}, {'k_neighbors': 5, 'n_neighbors': 7, 'proportion': 0.5}, {'k_neighbors': 5, 'n_neighbors': 7, 'proportion': 0.75}, {'k_neighbors': 5, 'n_neighbors': 7, 'proportion': 1.0}, {'k_neighbors': 5, 'n_neighbors': 7, 'proportion': 1.5}, {'k_neighbors': 5, 'n_neighbors': 7, 'proportion': 2.0}, {'k_neighbors': 7, 'n_neighbors': 3, 'proportion': 0.1}, {'k_neighbors': 7, 'n_neighbors': 3, 'proportion': 0.25}, {'k_neighbors': 7, 'n_neighbors': 3, 'proportion': 0.5}, {'k_neighbors': 7, 'n_neighbors': 3, 'proportion': 0.75}, {'k_neighbors': 7, 'n_neighbors': 3, 'proportion': 1.0}, {'k_neighbors': 7, 'n_neighbors': 3, 'proportion': 1.5}, {'k_neighbors': 7, 'n_neighbors': 3, 'proportion': 2.0}, {'k_neighbors': 7, 'n_neighbors': 5, 'proportion': 0.1}, {'k_neighbors': 7, 'n_neighbors': 5, 'proportion': 0.25}, {'k_neighbors': 7, 'n_neighbors': 5, 'proportion': 0.5}, {'k_neighbors': 7, 'n_neighbors': 5, 'proportion': 0.75}, {'k_neighbors': 7, 'n_neighbors': 5, 'proportion': 1.0}, {'k_neighbors': 7, 'n_neighbors': 5, 'proportion': 1.5}, {'k_neighbors': 7, 'n_neighbors': 5, 'proportion': 2.0}, {'k_neighbors': 7, 'n_neighbors': 7, 'proportion': 0.1}, {'k_neighbors': 7, 'n_neighbors': 7, 'proportion': 0.25}, {'k_neighbors': 7, 'n_neighbors': 7, 'proportion': 0.5}, {'k_neighbors': 7, 'n_neighbors': 7, 'proportion': 0.75}, {'k_neighbors': 7, 'n_neighbors': 7, 'proportion': 1.0}, {'k_neighbors': 7, 'n_neighbors': 7, 'proportion': 1.5}, {'k_neighbors': 7, 'n_neighbors': 7, 'proportion': 2.0}]\n",
      "2022-02-12 19:10:07,763:INFO:random_indices: [20 13 33 17 58 42 50 61 35 43 62 56 27 41 54 47 31 39 21  4 32 48 34 18\n",
      " 53]\n",
      "2022-02-12 19:10:07,763:INFO:[{'k_neighbors': 3, 'n_neighbors': 7, 'proportion': 2.0}, {'k_neighbors': 3, 'n_neighbors': 5, 'proportion': 2.0}, {'k_neighbors': 5, 'n_neighbors': 5, 'proportion': 1.5}, {'k_neighbors': 3, 'n_neighbors': 7, 'proportion': 0.75}, {'k_neighbors': 7, 'n_neighbors': 7, 'proportion': 0.5}, {'k_neighbors': 7, 'n_neighbors': 3, 'proportion': 0.1}, {'k_neighbors': 7, 'n_neighbors': 5, 'proportion': 0.25}, {'k_neighbors': 7, 'n_neighbors': 7, 'proportion': 1.5}, {'k_neighbors': 5, 'n_neighbors': 7, 'proportion': 0.1}, {'k_neighbors': 7, 'n_neighbors': 3, 'proportion': 0.25}, {'k_neighbors': 7, 'n_neighbors': 7, 'proportion': 2.0}, {'k_neighbors': 7, 'n_neighbors': 7, 'proportion': 0.1}, {'k_neighbors': 5, 'n_neighbors': 3, 'proportion': 2.0}, {'k_neighbors': 5, 'n_neighbors': 7, 'proportion': 2.0}, {'k_neighbors': 7, 'n_neighbors': 5, 'proportion': 1.5}, {'k_neighbors': 7, 'n_neighbors': 3, 'proportion': 1.5}, {'k_neighbors': 5, 'n_neighbors': 5, 'proportion': 0.75}, {'k_neighbors': 5, 'n_neighbors': 7, 'proportion': 1.0}, {'k_neighbors': 5, 'n_neighbors': 3, 'proportion': 0.1}, {'k_neighbors': 3, 'n_neighbors': 3, 'proportion': 1.0}, {'k_neighbors': 5, 'n_neighbors': 5, 'proportion': 1.0}, {'k_neighbors': 7, 'n_neighbors': 3, 'proportion': 2.0}, {'k_neighbors': 5, 'n_neighbors': 5, 'proportion': 2.0}, {'k_neighbors': 3, 'n_neighbors': 7, 'proportion': 1.0}, {'k_neighbors': 7, 'n_neighbors': 5, 'proportion': 1.0}]\n"
     ]
    },
    {
     "name": "stderr",
     "output_type": "stream",
     "text": [
      "2022-02-12 19:10:07,764:INFO:{'k_neighbors': 3, 'n_neighbors': 7, 'proportion': 2.0, 'random_state': None}\n",
      "2022-02-12 19:10:07,764:INFO:Sampling sampler parameter string OrderedDict([('k_neighbors', 3), ('n_neighbors', 7), ('proportion', 2.0), ('random_state', None)])\n",
      "2022-02-12 19:10:07,764:INFO:{'k_neighbors': 3, 'n_neighbors': 5, 'proportion': 2.0, 'random_state': None}\n",
      "2022-02-12 19:10:07,765:INFO:Sampling sampler parameter string OrderedDict([('k_neighbors', 3), ('n_neighbors', 5), ('proportion', 2.0), ('random_state', None)])\n",
      "2022-02-12 19:10:07,765:INFO:{'k_neighbors': 5, 'n_neighbors': 5, 'proportion': 1.5, 'random_state': None}\n",
      "2022-02-12 19:10:07,765:INFO:Sampling sampler parameter string OrderedDict([('k_neighbors', 5), ('n_neighbors', 5), ('proportion', 1.5), ('random_state', None)])\n",
      "2022-02-12 19:10:07,766:INFO:{'k_neighbors': 3, 'n_neighbors': 7, 'proportion': 0.75, 'random_state': None}\n",
      "2022-02-12 19:10:07,767:INFO:Sampling sampler parameter string OrderedDict([('k_neighbors', 3), ('n_neighbors', 7), ('proportion', 0.75), ('random_state', None)])\n",
      "2022-02-12 19:10:07,767:INFO:{'k_neighbors': 7, 'n_neighbors': 7, 'proportion': 0.5, 'random_state': None}\n",
      "2022-02-12 19:10:07,767:INFO:Sampling sampler parameter string OrderedDict([('k_neighbors', 7), ('n_neighbors', 7), ('proportion', 0.5), ('random_state', None)])\n",
      "2022-02-12 19:10:07,768:INFO:{'k_neighbors': 7, 'n_neighbors': 3, 'proportion': 0.1, 'random_state': None}\n",
      "2022-02-12 19:10:07,768:INFO:Sampling sampler parameter string OrderedDict([('k_neighbors', 7), ('n_neighbors', 3), ('proportion', 0.1), ('random_state', None)])\n",
      "2022-02-12 19:10:07,769:INFO:{'k_neighbors': 7, 'n_neighbors': 5, 'proportion': 0.25, 'random_state': None}\n",
      "2022-02-12 19:10:07,769:INFO:Sampling sampler parameter string OrderedDict([('k_neighbors', 7), ('n_neighbors', 5), ('proportion', 0.25), ('random_state', None)])\n",
      "2022-02-12 19:10:07,770:INFO:{'k_neighbors': 7, 'n_neighbors': 7, 'proportion': 1.5, 'random_state': None}\n",
      "2022-02-12 19:10:07,770:INFO:Sampling sampler parameter string OrderedDict([('k_neighbors', 7), ('n_neighbors', 7), ('proportion', 1.5), ('random_state', None)])\n",
      "2022-02-12 19:10:07,770:INFO:{'k_neighbors': 5, 'n_neighbors': 7, 'proportion': 0.1, 'random_state': None}\n",
      "2022-02-12 19:10:07,770:INFO:Sampling sampler parameter string OrderedDict([('k_neighbors', 5), ('n_neighbors', 7), ('proportion', 0.1), ('random_state', None)])\n",
      "2022-02-12 19:10:07,771:INFO:{'k_neighbors': 7, 'n_neighbors': 3, 'proportion': 0.25, 'random_state': None}\n",
      "2022-02-12 19:10:07,771:INFO:Sampling sampler parameter string OrderedDict([('k_neighbors', 7), ('n_neighbors', 3), ('proportion', 0.25), ('random_state', None)])\n",
      "2022-02-12 19:10:07,771:INFO:{'k_neighbors': 7, 'n_neighbors': 7, 'proportion': 2.0, 'random_state': None}\n",
      "2022-02-12 19:10:07,772:INFO:Sampling sampler parameter string OrderedDict([('k_neighbors', 7), ('n_neighbors', 7), ('proportion', 2.0), ('random_state', None)])\n",
      "2022-02-12 19:10:07,772:INFO:{'k_neighbors': 7, 'n_neighbors': 7, 'proportion': 0.1, 'random_state': None}\n",
      "2022-02-12 19:10:07,772:INFO:Sampling sampler parameter string OrderedDict([('k_neighbors', 7), ('n_neighbors', 7), ('proportion', 0.1), ('random_state', None)])\n",
      "2022-02-12 19:10:07,773:INFO:{'k_neighbors': 5, 'n_neighbors': 3, 'proportion': 2.0, 'random_state': None}\n",
      "2022-02-12 19:10:07,773:INFO:Sampling sampler parameter string OrderedDict([('k_neighbors', 5), ('n_neighbors', 3), ('proportion', 2.0), ('random_state', None)])\n",
      "2022-02-12 19:10:07,773:INFO:{'k_neighbors': 5, 'n_neighbors': 7, 'proportion': 2.0, 'random_state': None}\n",
      "2022-02-12 19:10:07,774:INFO:Sampling sampler parameter string OrderedDict([('k_neighbors', 5), ('n_neighbors', 7), ('proportion', 2.0), ('random_state', None)])\n",
      "2022-02-12 19:10:07,774:INFO:{'k_neighbors': 7, 'n_neighbors': 5, 'proportion': 1.5, 'random_state': None}\n",
      "2022-02-12 19:10:07,774:INFO:Sampling sampler parameter string OrderedDict([('k_neighbors', 7), ('n_neighbors', 5), ('proportion', 1.5), ('random_state', None)])\n",
      "2022-02-12 19:10:07,774:INFO:{'k_neighbors': 7, 'n_neighbors': 3, 'proportion': 1.5, 'random_state': None}\n",
      "2022-02-12 19:10:07,775:INFO:Sampling sampler parameter string OrderedDict([('k_neighbors', 7), ('n_neighbors', 3), ('proportion', 1.5), ('random_state', None)])\n",
      "2022-02-12 19:10:07,775:INFO:{'k_neighbors': 5, 'n_neighbors': 5, 'proportion': 0.75, 'random_state': None}\n",
      "2022-02-12 19:10:07,775:INFO:Sampling sampler parameter string OrderedDict([('k_neighbors', 5), ('n_neighbors', 5), ('proportion', 0.75), ('random_state', None)])\n",
      "2022-02-12 19:10:07,776:INFO:{'k_neighbors': 5, 'n_neighbors': 7, 'proportion': 1.0, 'random_state': None}\n",
      "2022-02-12 19:10:07,776:INFO:Sampling sampler parameter string OrderedDict([('k_neighbors', 5), ('n_neighbors', 7), ('proportion', 1.0), ('random_state', None)])\n",
      "2022-02-12 19:10:07,776:INFO:{'k_neighbors': 5, 'n_neighbors': 3, 'proportion': 0.1, 'random_state': None}\n",
      "2022-02-12 19:10:07,777:INFO:Sampling sampler parameter string OrderedDict([('k_neighbors', 5), ('n_neighbors', 3), ('proportion', 0.1), ('random_state', None)])\n",
      "2022-02-12 19:10:07,777:INFO:{'k_neighbors': 3, 'n_neighbors': 3, 'proportion': 1.0, 'random_state': None}\n",
      "2022-02-12 19:10:07,778:INFO:Sampling sampler parameter string OrderedDict([('k_neighbors', 3), ('n_neighbors', 3), ('proportion', 1.0), ('random_state', None)])\n",
      "2022-02-12 19:10:07,778:INFO:{'k_neighbors': 5, 'n_neighbors': 5, 'proportion': 1.0, 'random_state': None}\n",
      "2022-02-12 19:10:07,778:INFO:Sampling sampler parameter string OrderedDict([('k_neighbors', 5), ('n_neighbors', 5), ('proportion', 1.0), ('random_state', None)])\n",
      "2022-02-12 19:10:07,779:INFO:{'k_neighbors': 7, 'n_neighbors': 3, 'proportion': 2.0, 'random_state': None}\n",
      "2022-02-12 19:10:07,779:INFO:Sampling sampler parameter string OrderedDict([('k_neighbors', 7), ('n_neighbors', 3), ('proportion', 2.0), ('random_state', None)])\n",
      "2022-02-12 19:10:07,780:INFO:{'k_neighbors': 5, 'n_neighbors': 5, 'proportion': 2.0, 'random_state': None}\n",
      "2022-02-12 19:10:07,780:INFO:Sampling sampler parameter string OrderedDict([('k_neighbors', 5), ('n_neighbors', 5), ('proportion', 2.0), ('random_state', None)])\n",
      "2022-02-12 19:10:07,781:INFO:{'k_neighbors': 3, 'n_neighbors': 7, 'proportion': 1.0, 'random_state': None}\n",
      "2022-02-12 19:10:07,781:INFO:Sampling sampler parameter string OrderedDict([('k_neighbors', 3), ('n_neighbors', 7), ('proportion', 1.0), ('random_state', None)])\n",
      "2022-02-12 19:10:07,781:INFO:{'k_neighbors': 7, 'n_neighbors': 5, 'proportion': 1.0, 'random_state': None}\n",
      "2022-02-12 19:10:07,782:INFO:Sampling sampler parameter string OrderedDict([('k_neighbors', 7), ('n_neighbors', 5), ('proportion', 1.0), ('random_state', None)])\n",
      "2022-02-12 19:10:07,782:INFO:[{'k_neighbors': 3, 'n_neighbors': 3, 'proportion': 0.1}, {'k_neighbors': 3, 'n_neighbors': 3, 'proportion': 0.25}, {'k_neighbors': 3, 'n_neighbors': 3, 'proportion': 0.5}, {'k_neighbors': 3, 'n_neighbors': 3, 'proportion': 0.75}, {'k_neighbors': 3, 'n_neighbors': 3, 'proportion': 1.0}, {'k_neighbors': 3, 'n_neighbors': 3, 'proportion': 1.5}, {'k_neighbors': 3, 'n_neighbors': 3, 'proportion': 2.0}, {'k_neighbors': 3, 'n_neighbors': 5, 'proportion': 0.1}, {'k_neighbors': 3, 'n_neighbors': 5, 'proportion': 0.25}, {'k_neighbors': 3, 'n_neighbors': 5, 'proportion': 0.5}, {'k_neighbors': 3, 'n_neighbors': 5, 'proportion': 0.75}, {'k_neighbors': 3, 'n_neighbors': 5, 'proportion': 1.0}, {'k_neighbors': 3, 'n_neighbors': 5, 'proportion': 1.5}, {'k_neighbors': 3, 'n_neighbors': 5, 'proportion': 2.0}, {'k_neighbors': 3, 'n_neighbors': 7, 'proportion': 0.1}, {'k_neighbors': 3, 'n_neighbors': 7, 'proportion': 0.25}, {'k_neighbors': 3, 'n_neighbors': 7, 'proportion': 0.5}, {'k_neighbors': 3, 'n_neighbors': 7, 'proportion': 0.75}, {'k_neighbors': 3, 'n_neighbors': 7, 'proportion': 1.0}, {'k_neighbors': 3, 'n_neighbors': 7, 'proportion': 1.5}, {'k_neighbors': 3, 'n_neighbors': 7, 'proportion': 2.0}, {'k_neighbors': 5, 'n_neighbors': 3, 'proportion': 0.1}, {'k_neighbors': 5, 'n_neighbors': 3, 'proportion': 0.25}, {'k_neighbors': 5, 'n_neighbors': 3, 'proportion': 0.5}, {'k_neighbors': 5, 'n_neighbors': 3, 'proportion': 0.75}, {'k_neighbors': 5, 'n_neighbors': 3, 'proportion': 1.0}, {'k_neighbors': 5, 'n_neighbors': 3, 'proportion': 1.5}, {'k_neighbors': 5, 'n_neighbors': 3, 'proportion': 2.0}, {'k_neighbors': 5, 'n_neighbors': 5, 'proportion': 0.1}, {'k_neighbors': 5, 'n_neighbors': 5, 'proportion': 0.25}, {'k_neighbors': 5, 'n_neighbors': 5, 'proportion': 0.5}, {'k_neighbors': 5, 'n_neighbors': 5, 'proportion': 0.75}, {'k_neighbors': 5, 'n_neighbors': 5, 'proportion': 1.0}, {'k_neighbors': 5, 'n_neighbors': 5, 'proportion': 1.5}, {'k_neighbors': 5, 'n_neighbors': 5, 'proportion': 2.0}, {'k_neighbors': 5, 'n_neighbors': 7, 'proportion': 0.1}, {'k_neighbors': 5, 'n_neighbors': 7, 'proportion': 0.25}, {'k_neighbors': 5, 'n_neighbors': 7, 'proportion': 0.5}, {'k_neighbors': 5, 'n_neighbors': 7, 'proportion': 0.75}, {'k_neighbors': 5, 'n_neighbors': 7, 'proportion': 1.0}, {'k_neighbors': 5, 'n_neighbors': 7, 'proportion': 1.5}, {'k_neighbors': 5, 'n_neighbors': 7, 'proportion': 2.0}, {'k_neighbors': 7, 'n_neighbors': 3, 'proportion': 0.1}, {'k_neighbors': 7, 'n_neighbors': 3, 'proportion': 0.25}, {'k_neighbors': 7, 'n_neighbors': 3, 'proportion': 0.5}, {'k_neighbors': 7, 'n_neighbors': 3, 'proportion': 0.75}, {'k_neighbors': 7, 'n_neighbors': 3, 'proportion': 1.0}, {'k_neighbors': 7, 'n_neighbors': 3, 'proportion': 1.5}, {'k_neighbors': 7, 'n_neighbors': 3, 'proportion': 2.0}, {'k_neighbors': 7, 'n_neighbors': 5, 'proportion': 0.1}, {'k_neighbors': 7, 'n_neighbors': 5, 'proportion': 0.25}, {'k_neighbors': 7, 'n_neighbors': 5, 'proportion': 0.5}, {'k_neighbors': 7, 'n_neighbors': 5, 'proportion': 0.75}, {'k_neighbors': 7, 'n_neighbors': 5, 'proportion': 1.0}, {'k_neighbors': 7, 'n_neighbors': 5, 'proportion': 1.5}, {'k_neighbors': 7, 'n_neighbors': 5, 'proportion': 2.0}, {'k_neighbors': 7, 'n_neighbors': 7, 'proportion': 0.1}, {'k_neighbors': 7, 'n_neighbors': 7, 'proportion': 0.25}, {'k_neighbors': 7, 'n_neighbors': 7, 'proportion': 0.5}, {'k_neighbors': 7, 'n_neighbors': 7, 'proportion': 0.75}, {'k_neighbors': 7, 'n_neighbors': 7, 'proportion': 1.0}, {'k_neighbors': 7, 'n_neighbors': 7, 'proportion': 1.5}, {'k_neighbors': 7, 'n_neighbors': 7, 'proportion': 2.0}]\n"
     ]
    },
    {
     "name": "stderr",
     "output_type": "stream",
     "text": [
      "2022-02-12 19:10:07,783:INFO:random_indices: [23 55 24 25 48 49 28 17 47 27 37 56 61  9 14 35 20  5  3 18  4 54 57 51\n",
      " 50]\n",
      "2022-02-12 19:10:07,783:INFO:[{'k_neighbors': 5, 'n_neighbors': 3, 'proportion': 0.5}, {'k_neighbors': 7, 'n_neighbors': 5, 'proportion': 2.0}, {'k_neighbors': 5, 'n_neighbors': 3, 'proportion': 0.75}, {'k_neighbors': 5, 'n_neighbors': 3, 'proportion': 1.0}, {'k_neighbors': 7, 'n_neighbors': 3, 'proportion': 2.0}, {'k_neighbors': 7, 'n_neighbors': 5, 'proportion': 0.1}, {'k_neighbors': 5, 'n_neighbors': 5, 'proportion': 0.1}, {'k_neighbors': 3, 'n_neighbors': 7, 'proportion': 0.75}, {'k_neighbors': 7, 'n_neighbors': 3, 'proportion': 1.5}, {'k_neighbors': 5, 'n_neighbors': 3, 'proportion': 2.0}, {'k_neighbors': 5, 'n_neighbors': 7, 'proportion': 0.5}, {'k_neighbors': 7, 'n_neighbors': 7, 'proportion': 0.1}, {'k_neighbors': 7, 'n_neighbors': 7, 'proportion': 1.5}, {'k_neighbors': 3, 'n_neighbors': 5, 'proportion': 0.5}, {'k_neighbors': 3, 'n_neighbors': 7, 'proportion': 0.1}, {'k_neighbors': 5, 'n_neighbors': 7, 'proportion': 0.1}, {'k_neighbors': 3, 'n_neighbors': 7, 'proportion': 2.0}, {'k_neighbors': 3, 'n_neighbors': 3, 'proportion': 1.5}, {'k_neighbors': 3, 'n_neighbors': 3, 'proportion': 0.75}, {'k_neighbors': 3, 'n_neighbors': 7, 'proportion': 1.0}, {'k_neighbors': 3, 'n_neighbors': 3, 'proportion': 1.0}, {'k_neighbors': 7, 'n_neighbors': 5, 'proportion': 1.5}, {'k_neighbors': 7, 'n_neighbors': 7, 'proportion': 0.25}, {'k_neighbors': 7, 'n_neighbors': 5, 'proportion': 0.5}, {'k_neighbors': 7, 'n_neighbors': 5, 'proportion': 0.25}]\n",
      "2022-02-12 19:10:07,784:INFO:{'k_neighbors': 5, 'n_neighbors': 3, 'proportion': 0.5, 'random_state': None}\n",
      "2022-02-12 19:10:07,784:INFO:Sampling sampler parameter string OrderedDict([('k_neighbors', 5), ('n_neighbors', 3), ('proportion', 0.5), ('random_state', None)])\n",
      "2022-02-12 19:10:07,785:INFO:{'k_neighbors': 7, 'n_neighbors': 5, 'proportion': 2.0, 'random_state': None}\n",
      "2022-02-12 19:10:07,785:INFO:Sampling sampler parameter string OrderedDict([('k_neighbors', 7), ('n_neighbors', 5), ('proportion', 2.0), ('random_state', None)])\n",
      "2022-02-12 19:10:07,785:INFO:{'k_neighbors': 5, 'n_neighbors': 3, 'proportion': 0.75, 'random_state': None}\n",
      "2022-02-12 19:10:07,786:INFO:Sampling sampler parameter string OrderedDict([('k_neighbors', 5), ('n_neighbors', 3), ('proportion', 0.75), ('random_state', None)])\n",
      "2022-02-12 19:10:07,786:INFO:{'k_neighbors': 5, 'n_neighbors': 3, 'proportion': 1.0, 'random_state': None}\n",
      "2022-02-12 19:10:07,791:INFO:Sampling sampler parameter string OrderedDict([('k_neighbors', 5), ('n_neighbors', 3), ('proportion', 1.0), ('random_state', None)])\n",
      "2022-02-12 19:10:07,791:INFO:{'k_neighbors': 7, 'n_neighbors': 3, 'proportion': 2.0, 'random_state': None}\n",
      "2022-02-12 19:10:07,792:INFO:Sampling sampler parameter string OrderedDict([('k_neighbors', 7), ('n_neighbors', 3), ('proportion', 2.0), ('random_state', None)])\n",
      "2022-02-12 19:10:07,792:INFO:{'k_neighbors': 7, 'n_neighbors': 5, 'proportion': 0.1, 'random_state': None}\n",
      "2022-02-12 19:10:07,792:INFO:Sampling sampler parameter string OrderedDict([('k_neighbors', 7), ('n_neighbors', 5), ('proportion', 0.1), ('random_state', None)])\n",
      "2022-02-12 19:10:07,792:INFO:{'k_neighbors': 5, 'n_neighbors': 5, 'proportion': 0.1, 'random_state': None}\n",
      "2022-02-12 19:10:07,793:INFO:Sampling sampler parameter string OrderedDict([('k_neighbors', 5), ('n_neighbors', 5), ('proportion', 0.1), ('random_state', None)])\n",
      "2022-02-12 19:10:07,794:INFO:{'k_neighbors': 3, 'n_neighbors': 7, 'proportion': 0.75, 'random_state': None}\n",
      "2022-02-12 19:10:07,794:INFO:Sampling sampler parameter string OrderedDict([('k_neighbors', 3), ('n_neighbors', 7), ('proportion', 0.75), ('random_state', None)])\n",
      "2022-02-12 19:10:07,795:INFO:{'k_neighbors': 7, 'n_neighbors': 3, 'proportion': 1.5, 'random_state': None}\n",
      "2022-02-12 19:10:07,795:INFO:Sampling sampler parameter string OrderedDict([('k_neighbors', 7), ('n_neighbors', 3), ('proportion', 1.5), ('random_state', None)])\n",
      "2022-02-12 19:10:07,796:INFO:{'k_neighbors': 5, 'n_neighbors': 3, 'proportion': 2.0, 'random_state': None}\n",
      "2022-02-12 19:10:07,796:INFO:Sampling sampler parameter string OrderedDict([('k_neighbors', 5), ('n_neighbors', 3), ('proportion', 2.0), ('random_state', None)])\n",
      "2022-02-12 19:10:07,797:INFO:{'k_neighbors': 5, 'n_neighbors': 7, 'proportion': 0.5, 'random_state': None}\n",
      "2022-02-12 19:10:07,797:INFO:Sampling sampler parameter string OrderedDict([('k_neighbors', 5), ('n_neighbors', 7), ('proportion', 0.5), ('random_state', None)])\n",
      "2022-02-12 19:10:07,797:INFO:{'k_neighbors': 7, 'n_neighbors': 7, 'proportion': 0.1, 'random_state': None}\n",
      "2022-02-12 19:10:07,798:INFO:Sampling sampler parameter string OrderedDict([('k_neighbors', 7), ('n_neighbors', 7), ('proportion', 0.1), ('random_state', None)])\n",
      "2022-02-12 19:10:07,798:INFO:{'k_neighbors': 7, 'n_neighbors': 7, 'proportion': 1.5, 'random_state': None}\n",
      "2022-02-12 19:10:07,800:INFO:Sampling sampler parameter string OrderedDict([('k_neighbors', 7), ('n_neighbors', 7), ('proportion', 1.5), ('random_state', None)])\n",
      "2022-02-12 19:10:07,801:INFO:{'k_neighbors': 3, 'n_neighbors': 5, 'proportion': 0.5, 'random_state': None}\n",
      "2022-02-12 19:10:07,801:INFO:Sampling sampler parameter string OrderedDict([('k_neighbors', 3), ('n_neighbors', 5), ('proportion', 0.5), ('random_state', None)])\n",
      "2022-02-12 19:10:07,801:INFO:{'k_neighbors': 3, 'n_neighbors': 7, 'proportion': 0.1, 'random_state': None}\n",
      "2022-02-12 19:10:07,802:INFO:Sampling sampler parameter string OrderedDict([('k_neighbors', 3), ('n_neighbors', 7), ('proportion', 0.1), ('random_state', None)])\n",
      "2022-02-12 19:10:07,802:INFO:{'k_neighbors': 5, 'n_neighbors': 7, 'proportion': 0.1, 'random_state': None}\n",
      "2022-02-12 19:10:07,802:INFO:Sampling sampler parameter string OrderedDict([('k_neighbors', 5), ('n_neighbors', 7), ('proportion', 0.1), ('random_state', None)])\n",
      "2022-02-12 19:10:07,802:INFO:{'k_neighbors': 3, 'n_neighbors': 7, 'proportion': 2.0, 'random_state': None}\n",
      "2022-02-12 19:10:07,803:INFO:Sampling sampler parameter string OrderedDict([('k_neighbors', 3), ('n_neighbors', 7), ('proportion', 2.0), ('random_state', None)])\n",
      "2022-02-12 19:10:07,803:INFO:{'k_neighbors': 3, 'n_neighbors': 3, 'proportion': 1.5, 'random_state': None}\n",
      "2022-02-12 19:10:07,803:INFO:Sampling sampler parameter string OrderedDict([('k_neighbors', 3), ('n_neighbors', 3), ('proportion', 1.5), ('random_state', None)])\n",
      "2022-02-12 19:10:07,803:INFO:{'k_neighbors': 3, 'n_neighbors': 3, 'proportion': 0.75, 'random_state': None}\n",
      "2022-02-12 19:10:07,804:INFO:Sampling sampler parameter string OrderedDict([('k_neighbors', 3), ('n_neighbors', 3), ('proportion', 0.75), ('random_state', None)])\n",
      "2022-02-12 19:10:07,805:INFO:{'k_neighbors': 3, 'n_neighbors': 7, 'proportion': 1.0, 'random_state': None}\n",
      "2022-02-12 19:10:07,806:INFO:Sampling sampler parameter string OrderedDict([('k_neighbors', 3), ('n_neighbors', 7), ('proportion', 1.0), ('random_state', None)])\n",
      "2022-02-12 19:10:07,806:INFO:{'k_neighbors': 3, 'n_neighbors': 3, 'proportion': 1.0, 'random_state': None}\n",
      "2022-02-12 19:10:07,806:INFO:Sampling sampler parameter string OrderedDict([('k_neighbors', 3), ('n_neighbors', 3), ('proportion', 1.0), ('random_state', None)])\n",
      "2022-02-12 19:10:07,807:INFO:{'k_neighbors': 7, 'n_neighbors': 5, 'proportion': 1.5, 'random_state': None}\n",
      "2022-02-12 19:10:07,807:INFO:Sampling sampler parameter string OrderedDict([('k_neighbors', 7), ('n_neighbors', 5), ('proportion', 1.5), ('random_state', None)])\n",
      "2022-02-12 19:10:07,807:INFO:{'k_neighbors': 7, 'n_neighbors': 7, 'proportion': 0.25, 'random_state': None}\n",
      "2022-02-12 19:10:07,808:INFO:Sampling sampler parameter string OrderedDict([('k_neighbors', 7), ('n_neighbors', 7), ('proportion', 0.25), ('random_state', None)])\n",
      "2022-02-12 19:10:07,808:INFO:{'k_neighbors': 7, 'n_neighbors': 5, 'proportion': 0.5, 'random_state': None}\n",
      "2022-02-12 19:10:07,808:INFO:Sampling sampler parameter string OrderedDict([('k_neighbors', 7), ('n_neighbors', 5), ('proportion', 0.5), ('random_state', None)])\n",
      "2022-02-12 19:10:07,809:INFO:{'k_neighbors': 7, 'n_neighbors': 5, 'proportion': 0.25, 'random_state': None}\n",
      "2022-02-12 19:10:07,809:INFO:Sampling sampler parameter string OrderedDict([('k_neighbors', 7), ('n_neighbors', 5), ('proportion', 0.25), ('random_state', None)])\n"
     ]
    },
    {
     "name": "stderr",
     "output_type": "stream",
     "text": [
      "2022-02-12 19:10:07,809:INFO:executing 168 sampling in parallel\n",
      "2022-02-12 20:59:51,717:INFO:do the evaluations\n",
      "2022-02-12 20:59:51,777:INFO:create classifier jobs\n",
      "2022-02-12 20:59:51,796:INFO:{'n_neighbors': 3, 'threshold': 0.3, 'random_state': None}\n",
      "2022-02-12 20:59:51,798:INFO:Sampling sampler parameter string OrderedDict([('n_neighbors', 3), ('random_state', None), ('threshold', 0.3)])\n",
      "2022-02-12 20:59:51,804:INFO:{'n_neighbors': 5, 'threshold': 0.7, 'random_state': None}\n",
      "2022-02-12 20:59:51,806:INFO:Sampling sampler parameter string OrderedDict([('n_neighbors', 5), ('random_state', None), ('threshold', 0.7)])\n",
      "2022-02-12 20:59:51,808:INFO:{'n_neighbors': 5, 'threshold': 0.5, 'random_state': None}\n",
      "2022-02-12 20:59:51,812:INFO:Sampling sampler parameter string OrderedDict([('n_neighbors', 5), ('random_state', None), ('threshold', 0.5)])\n",
      "2022-02-12 20:59:51,815:INFO:{'n_neighbors': 5, 'threshold': 0.3, 'random_state': None}\n",
      "2022-02-12 20:59:51,816:INFO:Sampling sampler parameter string OrderedDict([('n_neighbors', 5), ('random_state', None), ('threshold', 0.3)])\n",
      "2022-02-12 20:59:51,822:INFO:{'n_neighbors': 7, 'threshold': 0.7, 'random_state': None}\n",
      "2022-02-12 20:59:51,823:INFO:Sampling sampler parameter string OrderedDict([('n_neighbors', 7), ('random_state', None), ('threshold', 0.7)])\n",
      "2022-02-12 20:59:51,826:INFO:{'n_neighbors': 3, 'threshold': 0.7, 'random_state': None}\n",
      "2022-02-12 20:59:51,827:INFO:Sampling sampler parameter string OrderedDict([('n_neighbors', 3), ('random_state', None), ('threshold', 0.7)])\n",
      "2022-02-12 20:59:51,829:INFO:{'n_neighbors': 7, 'threshold': 0.5, 'random_state': None}\n",
      "2022-02-12 20:59:51,830:INFO:Sampling sampler parameter string OrderedDict([('n_neighbors', 7), ('random_state', None), ('threshold', 0.5)])\n",
      "2022-02-12 20:59:51,832:INFO:{'n_neighbors': 7, 'threshold': 0.3, 'random_state': None}\n",
      "2022-02-12 20:59:51,833:INFO:Sampling sampler parameter string OrderedDict([('n_neighbors', 7), ('random_state', None), ('threshold', 0.3)])\n",
      "2022-02-12 20:59:51,835:INFO:{'n_neighbors': 3, 'threshold': 0.5, 'random_state': None}\n",
      "2022-02-12 20:59:51,835:INFO:Sampling sampler parameter string OrderedDict([('n_neighbors', 3), ('random_state', None), ('threshold', 0.5)])\n",
      "2022-02-12 20:59:51,837:INFO:{'k_neighbors': 3, 'n_neighbors': 7, 'proportion': 2.0, 'random_state': None}\n",
      "2022-02-12 20:59:51,837:INFO:Sampling sampler parameter string OrderedDict([('k_neighbors', 3), ('n_neighbors', 7), ('proportion', 2.0), ('random_state', None)])\n",
      "2022-02-12 20:59:51,838:INFO:{'k_neighbors': 5, 'n_neighbors': 3, 'proportion': 2.0, 'random_state': None}\n",
      "2022-02-12 20:59:51,839:INFO:Sampling sampler parameter string OrderedDict([('k_neighbors', 5), ('n_neighbors', 3), ('proportion', 2.0), ('random_state', None)])\n",
      "2022-02-12 20:59:51,840:INFO:{'k_neighbors': 7, 'n_neighbors': 3, 'proportion': 2.0, 'random_state': None}\n",
      "2022-02-12 20:59:51,841:INFO:Sampling sampler parameter string OrderedDict([('k_neighbors', 7), ('n_neighbors', 3), ('proportion', 2.0), ('random_state', None)])\n",
      "2022-02-12 20:59:51,841:INFO:{'k_neighbors': 7, 'n_neighbors': 5, 'proportion': 2.0, 'random_state': None}\n",
      "2022-02-12 20:59:51,842:INFO:Sampling sampler parameter string OrderedDict([('k_neighbors', 7), ('n_neighbors', 5), ('proportion', 2.0), ('random_state', None)])\n",
      "2022-02-12 20:59:51,843:INFO:{'k_neighbors': 5, 'n_neighbors': 5, 'proportion': 2.0, 'random_state': None}\n",
      "2022-02-12 20:59:51,845:INFO:Sampling sampler parameter string OrderedDict([('k_neighbors', 5), ('n_neighbors', 5), ('proportion', 2.0), ('random_state', None)])\n",
      "2022-02-12 20:59:51,846:INFO:{'k_neighbors': 7, 'n_neighbors': 3, 'proportion': 2.0, 'random_state': None}\n",
      "2022-02-12 20:59:51,846:INFO:Sampling sampler parameter string OrderedDict([('k_neighbors', 7), ('n_neighbors', 3), ('proportion', 2.0), ('random_state', None)])\n",
      "2022-02-12 20:59:51,848:INFO:{'k_neighbors': 5, 'n_neighbors': 7, 'proportion': 2.0, 'random_state': None}\n",
      "2022-02-12 20:59:51,848:INFO:Sampling sampler parameter string OrderedDict([('k_neighbors', 5), ('n_neighbors', 7), ('proportion', 2.0), ('random_state', None)])\n",
      "2022-02-12 20:59:51,849:INFO:{'k_neighbors': 5, 'n_neighbors': 3, 'proportion': 2.0, 'random_state': None}\n",
      "2022-02-12 20:59:51,850:INFO:Sampling sampler parameter string OrderedDict([('k_neighbors', 5), ('n_neighbors', 3), ('proportion', 2.0), ('random_state', None)])\n",
      "2022-02-12 20:59:51,851:INFO:{'k_neighbors': 7, 'n_neighbors': 7, 'proportion': 2.0, 'random_state': None}\n",
      "2022-02-12 20:59:51,852:INFO:Sampling sampler parameter string OrderedDict([('k_neighbors', 7), ('n_neighbors', 7), ('proportion', 2.0), ('random_state', None)])\n",
      "2022-02-12 20:59:51,853:INFO:{'k_neighbors': 3, 'n_neighbors': 5, 'proportion': 2.0, 'random_state': None}\n",
      "2022-02-12 20:59:51,853:INFO:Sampling sampler parameter string OrderedDict([('k_neighbors', 3), ('n_neighbors', 5), ('proportion', 2.0), ('random_state', None)])\n",
      "2022-02-12 20:59:51,854:INFO:{'k_neighbors': 3, 'n_neighbors': 7, 'proportion': 2.0, 'random_state': None}\n",
      "2022-02-12 20:59:51,855:INFO:Sampling sampler parameter string OrderedDict([('k_neighbors', 3), ('n_neighbors', 7), ('proportion', 2.0), ('random_state', None)])\n",
      "2022-02-12 20:59:51,856:INFO:{'n_neighbors': 3, 'proportion': 2.0, 'random_state': None}\n",
      "2022-02-12 20:59:51,856:INFO:Sampling sampler parameter string OrderedDict([('n_neighbors', 3), ('proportion', 2.0), ('random_state', None)])\n",
      "2022-02-12 20:59:51,857:INFO:{'n_neighbors': 5, 'proportion': 2.0, 'random_state': None}\n",
      "2022-02-12 20:59:51,857:INFO:Sampling sampler parameter string OrderedDict([('n_neighbors', 5), ('proportion', 2.0), ('random_state', None)])\n",
      "2022-02-12 20:59:51,858:INFO:{'n_neighbors': 7, 'proportion': 2.0, 'random_state': None}\n",
      "2022-02-12 20:59:51,859:INFO:Sampling sampler parameter string OrderedDict([('n_neighbors', 7), ('proportion', 2.0), ('random_state', None)])\n",
      "2022-02-12 20:59:51,860:INFO:{'T': 0.5, 'n_neighbors': 7, 'proportion': 2.0, 'random_state': None}\n",
      "2022-02-12 20:59:51,861:INFO:Sampling sampler parameter string OrderedDict([('T', 0.5), ('n_neighbors', 7), ('proportion', 2.0), ('random_state', None)])\n",
      "2022-02-12 20:59:51,862:INFO:{'T': 0.5, 'n_neighbors': 3, 'proportion': 2.0, 'random_state': None}\n",
      "2022-02-12 20:59:51,862:INFO:Sampling sampler parameter string OrderedDict([('T', 0.5), ('n_neighbors', 3), ('proportion', 2.0), ('random_state', None)])\n",
      "2022-02-12 20:59:51,863:INFO:{'T': 0.5, 'n_neighbors': 5, 'proportion': 2.0, 'random_state': None}\n",
      "2022-02-12 20:59:51,864:INFO:Sampling sampler parameter string OrderedDict([('T', 0.5), ('n_neighbors', 5), ('proportion', 2.0), ('random_state', None)])\n",
      "2022-02-12 20:59:51,864:INFO:{'proportion': 2.0, 'random_state': None}\n",
      "2022-02-12 20:59:51,865:INFO:Sampling sampler parameter string OrderedDict([('proportion', 2.0), ('random_state', None)])\n",
      "2022-02-12 20:59:51,866:INFO:{'n_components': 3, 'proportion': 2.0, 'random_state': None}\n",
      "2022-02-12 20:59:51,866:INFO:Sampling sampler parameter string OrderedDict([('n_components', 3), ('proportion', 2.0), ('random_state', None)])\n",
      "2022-02-12 20:59:51,867:INFO:{'n_components': 2, 'proportion': 2.0, 'random_state': None}\n",
      "2022-02-12 20:59:51,867:INFO:Sampling sampler parameter string OrderedDict([('n_components', 2), ('proportion', 2.0), ('random_state', None)])\n",
      "2022-02-12 20:59:51,868:INFO:{'n_components': 5, 'proportion': 2.0, 'random_state': None}\n",
      "2022-02-12 20:59:51,868:INFO:Sampling sampler parameter string OrderedDict([('n_components', 5), ('proportion', 2.0), ('random_state', None)])\n",
      "2022-02-12 20:59:51,869:INFO:{'n_components': 4, 'proportion': 2.0, 'random_state': None}\n",
      "2022-02-12 20:59:51,869:INFO:Sampling sampler parameter string OrderedDict([('n_components', 4), ('proportion', 2.0), ('random_state', None)])\n",
      "2022-02-12 20:59:51,869:INFO:{'proportion': 2.0, 'random_state': None}\n",
      "2022-02-12 20:59:51,870:INFO:Sampling sampler parameter string OrderedDict([('proportion', 2.0), ('random_state', None)])\n",
      "2022-02-12 20:59:51,870:INFO:{'k': 3, 'proportion': 2.0, 'random_state': None}\n",
      "2022-02-12 20:59:51,871:INFO:Sampling sampler parameter string OrderedDict([('k', 3), ('proportion', 2.0), ('random_state', None)])\n",
      "2022-02-12 20:59:51,871:INFO:{'k': 7, 'proportion': 2.0, 'random_state': None}\n"
     ]
    },
    {
     "name": "stderr",
     "output_type": "stream",
     "text": [
      "2022-02-12 20:59:51,872:INFO:Sampling sampler parameter string OrderedDict([('k', 7), ('proportion', 2.0), ('random_state', None)])\n",
      "2022-02-12 20:59:51,875:INFO:{'k': 5, 'proportion': 2.0, 'random_state': None}\n",
      "2022-02-12 20:59:51,876:INFO:Sampling sampler parameter string OrderedDict([('k', 5), ('proportion', 2.0), ('random_state', None)])\n",
      "2022-02-12 20:59:51,877:INFO:{'proportion': 2.0, 'random_state': None}\n",
      "2022-02-12 20:59:51,878:INFO:Sampling sampler parameter string OrderedDict([('proportion', 2.0), ('random_state', None)])\n",
      "2022-02-12 20:59:51,878:INFO:{'k_neighbors': 7, 'n_neighbors': 5, 'proportion': 1.5, 'random_state': None}\n",
      "2022-02-12 20:59:51,879:INFO:Sampling sampler parameter string OrderedDict([('k_neighbors', 7), ('n_neighbors', 5), ('proportion', 1.5), ('random_state', None)])\n",
      "2022-02-12 20:59:51,879:INFO:{'k_neighbors': 3, 'n_neighbors': 3, 'proportion': 1.5, 'random_state': None}\n",
      "2022-02-12 20:59:51,880:INFO:Sampling sampler parameter string OrderedDict([('k_neighbors', 3), ('n_neighbors', 3), ('proportion', 1.5), ('random_state', None)])\n",
      "2022-02-12 20:59:51,880:INFO:{'k_neighbors': 7, 'n_neighbors': 7, 'proportion': 1.5, 'random_state': None}\n",
      "2022-02-12 20:59:51,881:INFO:Sampling sampler parameter string OrderedDict([('k_neighbors', 7), ('n_neighbors', 7), ('proportion', 1.5), ('random_state', None)])\n",
      "2022-02-12 20:59:51,881:INFO:{'k_neighbors': 7, 'n_neighbors': 3, 'proportion': 1.5, 'random_state': None}\n",
      "2022-02-12 20:59:51,882:INFO:Sampling sampler parameter string OrderedDict([('k_neighbors', 7), ('n_neighbors', 3), ('proportion', 1.5), ('random_state', None)])\n",
      "2022-02-12 20:59:51,883:INFO:{'k_neighbors': 7, 'n_neighbors': 3, 'proportion': 1.5, 'random_state': None}\n",
      "2022-02-12 20:59:51,883:INFO:Sampling sampler parameter string OrderedDict([('k_neighbors', 7), ('n_neighbors', 3), ('proportion', 1.5), ('random_state', None)])\n",
      "2022-02-12 20:59:51,884:INFO:{'k_neighbors': 7, 'n_neighbors': 5, 'proportion': 1.5, 'random_state': None}\n",
      "2022-02-12 20:59:51,884:INFO:Sampling sampler parameter string OrderedDict([('k_neighbors', 7), ('n_neighbors', 5), ('proportion', 1.5), ('random_state', None)])\n",
      "2022-02-12 20:59:51,885:INFO:{'k_neighbors': 7, 'n_neighbors': 7, 'proportion': 1.5, 'random_state': None}\n",
      "2022-02-12 20:59:51,887:INFO:Sampling sampler parameter string OrderedDict([('k_neighbors', 7), ('n_neighbors', 7), ('proportion', 1.5), ('random_state', None)])\n",
      "2022-02-12 20:59:51,888:INFO:{'k_neighbors': 5, 'n_neighbors': 5, 'proportion': 1.5, 'random_state': None}\n",
      "2022-02-12 20:59:51,888:INFO:Sampling sampler parameter string OrderedDict([('k_neighbors', 5), ('n_neighbors', 5), ('proportion', 1.5), ('random_state', None)])\n",
      "2022-02-12 20:59:51,889:INFO:{'n_neighbors': 3, 'proportion': 1.5, 'random_state': None}\n",
      "2022-02-12 20:59:51,889:INFO:Sampling sampler parameter string OrderedDict([('n_neighbors', 3), ('proportion', 1.5), ('random_state', None)])\n",
      "2022-02-12 20:59:51,890:INFO:{'n_neighbors': 5, 'proportion': 1.5, 'random_state': None}\n",
      "2022-02-12 20:59:51,891:INFO:Sampling sampler parameter string OrderedDict([('n_neighbors', 5), ('proportion', 1.5), ('random_state', None)])\n",
      "2022-02-12 20:59:51,891:INFO:{'n_neighbors': 7, 'proportion': 1.5, 'random_state': None}\n",
      "2022-02-12 20:59:51,891:INFO:Sampling sampler parameter string OrderedDict([('n_neighbors', 7), ('proportion', 1.5), ('random_state', None)])\n",
      "2022-02-12 20:59:51,892:INFO:{'T': 0.5, 'n_neighbors': 7, 'proportion': 1.5, 'random_state': None}\n",
      "2022-02-12 20:59:51,893:INFO:Sampling sampler parameter string OrderedDict([('T', 0.5), ('n_neighbors', 7), ('proportion', 1.5), ('random_state', None)])\n",
      "2022-02-12 20:59:51,894:INFO:{'T': 0.5, 'n_neighbors': 5, 'proportion': 1.5, 'random_state': None}\n",
      "2022-02-12 20:59:51,894:INFO:Sampling sampler parameter string OrderedDict([('T', 0.5), ('n_neighbors', 5), ('proportion', 1.5), ('random_state', None)])\n",
      "2022-02-12 20:59:51,895:INFO:{'T': 0.5, 'n_neighbors': 3, 'proportion': 1.5, 'random_state': None}\n",
      "2022-02-12 20:59:51,895:INFO:Sampling sampler parameter string OrderedDict([('T', 0.5), ('n_neighbors', 3), ('proportion', 1.5), ('random_state', None)])\n",
      "2022-02-12 20:59:51,896:INFO:{'proportion': 1.5, 'random_state': None}\n",
      "2022-02-12 20:59:51,896:INFO:Sampling sampler parameter string OrderedDict([('proportion', 1.5), ('random_state', None)])\n",
      "2022-02-12 20:59:51,896:INFO:{'n_components': 3, 'proportion': 1.5, 'random_state': None}\n",
      "2022-02-12 20:59:51,897:INFO:Sampling sampler parameter string OrderedDict([('n_components', 3), ('proportion', 1.5), ('random_state', None)])\n",
      "2022-02-12 20:59:51,897:INFO:{'n_components': 5, 'proportion': 1.5, 'random_state': None}\n",
      "2022-02-12 20:59:51,898:INFO:Sampling sampler parameter string OrderedDict([('n_components', 5), ('proportion', 1.5), ('random_state', None)])\n",
      "2022-02-12 20:59:51,898:INFO:{'n_components': 4, 'proportion': 1.5, 'random_state': None}\n",
      "2022-02-12 20:59:51,899:INFO:Sampling sampler parameter string OrderedDict([('n_components', 4), ('proportion', 1.5), ('random_state', None)])\n",
      "2022-02-12 20:59:51,899:INFO:{'n_components': 2, 'proportion': 1.5, 'random_state': None}\n",
      "2022-02-12 20:59:51,899:INFO:Sampling sampler parameter string OrderedDict([('n_components', 2), ('proportion', 1.5), ('random_state', None)])\n",
      "2022-02-12 20:59:51,900:INFO:{'proportion': 1.5, 'random_state': None}\n",
      "2022-02-12 20:59:51,900:INFO:Sampling sampler parameter string OrderedDict([('proportion', 1.5), ('random_state', None)])\n",
      "2022-02-12 20:59:51,901:INFO:{'k': 7, 'proportion': 1.5, 'random_state': None}\n",
      "2022-02-12 20:59:51,901:INFO:Sampling sampler parameter string OrderedDict([('k', 7), ('proportion', 1.5), ('random_state', None)])\n",
      "2022-02-12 20:59:51,902:INFO:{'k': 5, 'proportion': 1.5, 'random_state': None}\n",
      "2022-02-12 20:59:51,902:INFO:Sampling sampler parameter string OrderedDict([('k', 5), ('proportion', 1.5), ('random_state', None)])\n",
      "2022-02-12 20:59:51,902:INFO:{'k': 3, 'proportion': 1.5, 'random_state': None}\n",
      "2022-02-12 20:59:51,905:INFO:Sampling sampler parameter string OrderedDict([('k', 3), ('proportion', 1.5), ('random_state', None)])\n",
      "2022-02-12 20:59:51,905:INFO:{'proportion': 1.5, 'random_state': None}\n",
      "2022-02-12 20:59:51,906:INFO:Sampling sampler parameter string OrderedDict([('proportion', 1.5), ('random_state', None)])\n",
      "2022-02-12 20:59:51,906:INFO:{'k_neighbors': 3, 'n_neighbors': 3, 'proportion': 1.0, 'random_state': None}\n",
      "2022-02-12 20:59:51,907:INFO:Sampling sampler parameter string OrderedDict([('k_neighbors', 3), ('n_neighbors', 3), ('proportion', 1.0), ('random_state', None)])\n",
      "2022-02-12 20:59:51,907:INFO:{'k_neighbors': 3, 'n_neighbors': 7, 'proportion': 1.0, 'random_state': None}\n",
      "2022-02-12 20:59:51,908:INFO:Sampling sampler parameter string OrderedDict([('k_neighbors', 3), ('n_neighbors', 7), ('proportion', 1.0), ('random_state', None)])\n",
      "2022-02-12 20:59:51,908:INFO:{'k_neighbors': 5, 'n_neighbors': 3, 'proportion': 1.0, 'random_state': None}\n",
      "2022-02-12 20:59:51,908:INFO:Sampling sampler parameter string OrderedDict([('k_neighbors', 5), ('n_neighbors', 3), ('proportion', 1.0), ('random_state', None)])\n",
      "2022-02-12 20:59:51,909:INFO:{'k_neighbors': 7, 'n_neighbors': 5, 'proportion': 1.0, 'random_state': None}\n",
      "2022-02-12 20:59:51,909:INFO:Sampling sampler parameter string OrderedDict([('k_neighbors', 7), ('n_neighbors', 5), ('proportion', 1.0), ('random_state', None)])\n",
      "2022-02-12 20:59:51,911:INFO:{'k_neighbors': 3, 'n_neighbors': 7, 'proportion': 1.0, 'random_state': None}\n",
      "2022-02-12 20:59:51,911:INFO:Sampling sampler parameter string OrderedDict([('k_neighbors', 3), ('n_neighbors', 7), ('proportion', 1.0), ('random_state', None)])\n",
      "2022-02-12 20:59:51,912:INFO:{'k_neighbors': 5, 'n_neighbors': 5, 'proportion': 1.0, 'random_state': None}\n",
      "2022-02-12 20:59:51,912:INFO:Sampling sampler parameter string OrderedDict([('k_neighbors', 5), ('n_neighbors', 5), ('proportion', 1.0), ('random_state', None)])\n",
      "2022-02-12 20:59:51,913:INFO:{'k_neighbors': 3, 'n_neighbors': 3, 'proportion': 1.0, 'random_state': None}\n",
      "2022-02-12 20:59:51,914:INFO:Sampling sampler parameter string OrderedDict([('k_neighbors', 3), ('n_neighbors', 3), ('proportion', 1.0), ('random_state', None)])\n",
      "2022-02-12 20:59:51,914:INFO:{'k_neighbors': 5, 'n_neighbors': 7, 'proportion': 1.0, 'random_state': None}\n"
     ]
    },
    {
     "name": "stderr",
     "output_type": "stream",
     "text": [
      "2022-02-12 20:59:51,915:INFO:Sampling sampler parameter string OrderedDict([('k_neighbors', 5), ('n_neighbors', 7), ('proportion', 1.0), ('random_state', None)])\n",
      "2022-02-12 20:59:51,916:INFO:{'n_neighbors': 7, 'proportion': 1.0, 'random_state': None}\n",
      "2022-02-12 20:59:51,916:INFO:Sampling sampler parameter string OrderedDict([('n_neighbors', 7), ('proportion', 1.0), ('random_state', None)])\n",
      "2022-02-12 20:59:51,917:INFO:{'n_neighbors': 5, 'proportion': 1.0, 'random_state': None}\n",
      "2022-02-12 20:59:51,917:INFO:Sampling sampler parameter string OrderedDict([('n_neighbors', 5), ('proportion', 1.0), ('random_state', None)])\n",
      "2022-02-12 20:59:51,918:INFO:{'n_neighbors': 3, 'proportion': 1.0, 'random_state': None}\n",
      "2022-02-12 20:59:51,918:INFO:Sampling sampler parameter string OrderedDict([('n_neighbors', 3), ('proportion', 1.0), ('random_state', None)])\n",
      "2022-02-12 20:59:51,919:INFO:{'T': 0.5, 'n_neighbors': 5, 'proportion': 1.0, 'random_state': None}\n",
      "2022-02-12 20:59:51,919:INFO:Sampling sampler parameter string OrderedDict([('T', 0.5), ('n_neighbors', 5), ('proportion', 1.0), ('random_state', None)])\n",
      "2022-02-12 20:59:51,920:INFO:{'T': 0.5, 'n_neighbors': 3, 'proportion': 1.0, 'random_state': None}\n",
      "2022-02-12 20:59:51,920:INFO:Sampling sampler parameter string OrderedDict([('T', 0.5), ('n_neighbors', 3), ('proportion', 1.0), ('random_state', None)])\n",
      "2022-02-12 20:59:51,920:INFO:{'T': 0.5, 'n_neighbors': 7, 'proportion': 1.0, 'random_state': None}\n",
      "2022-02-12 20:59:51,921:INFO:Sampling sampler parameter string OrderedDict([('T', 0.5), ('n_neighbors', 7), ('proportion', 1.0), ('random_state', None)])\n",
      "2022-02-12 20:59:51,921:INFO:{'proportion': 1.0, 'random_state': None}\n",
      "2022-02-12 20:59:51,922:INFO:Sampling sampler parameter string OrderedDict([('proportion', 1.0), ('random_state', None)])\n",
      "2022-02-12 20:59:51,922:INFO:{'n_components': 4, 'proportion': 1.0, 'random_state': None}\n",
      "2022-02-12 20:59:51,922:INFO:Sampling sampler parameter string OrderedDict([('n_components', 4), ('proportion', 1.0), ('random_state', None)])\n",
      "2022-02-12 20:59:51,923:INFO:{'n_components': 3, 'proportion': 1.0, 'random_state': None}\n",
      "2022-02-12 20:59:51,923:INFO:Sampling sampler parameter string OrderedDict([('n_components', 3), ('proportion', 1.0), ('random_state', None)])\n",
      "2022-02-12 20:59:51,924:INFO:{'n_components': 2, 'proportion': 1.0, 'random_state': None}\n",
      "2022-02-12 20:59:51,924:INFO:Sampling sampler parameter string OrderedDict([('n_components', 2), ('proportion', 1.0), ('random_state', None)])\n",
      "2022-02-12 20:59:51,924:INFO:{'proportion': 1.0, 'random_state': None}\n",
      "2022-02-12 20:59:51,925:INFO:Sampling sampler parameter string OrderedDict([('proportion', 1.0), ('random_state', None)])\n",
      "2022-02-12 20:59:51,925:INFO:{'k': 5, 'proportion': 1.0, 'random_state': None}\n",
      "2022-02-12 20:59:51,926:INFO:Sampling sampler parameter string OrderedDict([('k', 5), ('proportion', 1.0), ('random_state', None)])\n",
      "2022-02-12 20:59:51,926:INFO:{'k': 7, 'proportion': 1.0, 'random_state': None}\n",
      "2022-02-12 20:59:51,927:INFO:Sampling sampler parameter string OrderedDict([('k', 7), ('proportion', 1.0), ('random_state', None)])\n",
      "2022-02-12 20:59:51,927:INFO:{'k': 3, 'proportion': 1.0, 'random_state': None}\n",
      "2022-02-12 20:59:51,928:INFO:Sampling sampler parameter string OrderedDict([('k', 3), ('proportion', 1.0), ('random_state', None)])\n",
      "2022-02-12 20:59:51,928:INFO:{'proportion': 1.0, 'random_state': None}\n",
      "2022-02-12 20:59:51,928:INFO:Sampling sampler parameter string OrderedDict([('proportion', 1.0), ('random_state', None)])\n",
      "2022-02-12 20:59:51,929:INFO:{'k_neighbors': 3, 'n_neighbors': 3, 'proportion': 0.75, 'random_state': None}\n",
      "2022-02-12 20:59:51,929:INFO:Sampling sampler parameter string OrderedDict([('k_neighbors', 3), ('n_neighbors', 3), ('proportion', 0.75), ('random_state', None)])\n",
      "2022-02-12 20:59:51,930:INFO:{'k_neighbors': 3, 'n_neighbors': 7, 'proportion': 0.75, 'random_state': None}\n",
      "2022-02-12 20:59:51,930:INFO:Sampling sampler parameter string OrderedDict([('k_neighbors', 3), ('n_neighbors', 7), ('proportion', 0.75), ('random_state', None)])\n",
      "2022-02-12 20:59:51,931:INFO:{'k_neighbors': 5, 'n_neighbors': 3, 'proportion': 0.75, 'random_state': None}\n",
      "2022-02-12 20:59:51,931:INFO:Sampling sampler parameter string OrderedDict([('k_neighbors', 5), ('n_neighbors', 3), ('proportion', 0.75), ('random_state', None)])\n",
      "2022-02-12 20:59:51,935:INFO:{'k_neighbors': 5, 'n_neighbors': 5, 'proportion': 0.75, 'random_state': None}\n",
      "2022-02-12 20:59:51,935:INFO:Sampling sampler parameter string OrderedDict([('k_neighbors', 5), ('n_neighbors', 5), ('proportion', 0.75), ('random_state', None)])\n",
      "2022-02-12 20:59:51,936:INFO:{'k_neighbors': 3, 'n_neighbors': 7, 'proportion': 0.75, 'random_state': None}\n",
      "2022-02-12 20:59:51,936:INFO:Sampling sampler parameter string OrderedDict([('k_neighbors', 3), ('n_neighbors', 7), ('proportion', 0.75), ('random_state', None)])\n",
      "2022-02-12 20:59:51,937:INFO:{'n_neighbors': 7, 'proportion': 0.75, 'random_state': None}\n",
      "2022-02-12 20:59:51,937:INFO:Sampling sampler parameter string OrderedDict([('n_neighbors', 7), ('proportion', 0.75), ('random_state', None)])\n",
      "2022-02-12 20:59:51,938:INFO:{'n_neighbors': 5, 'proportion': 0.75, 'random_state': None}\n",
      "2022-02-12 20:59:51,938:INFO:Sampling sampler parameter string OrderedDict([('n_neighbors', 5), ('proportion', 0.75), ('random_state', None)])\n",
      "2022-02-12 20:59:51,938:INFO:{'n_neighbors': 3, 'proportion': 0.75, 'random_state': None}\n",
      "2022-02-12 20:59:51,939:INFO:Sampling sampler parameter string OrderedDict([('n_neighbors', 3), ('proportion', 0.75), ('random_state', None)])\n",
      "2022-02-12 20:59:51,939:INFO:{'T': 0.5, 'n_neighbors': 3, 'proportion': 0.75, 'random_state': None}\n",
      "2022-02-12 20:59:51,939:INFO:Sampling sampler parameter string OrderedDict([('T', 0.5), ('n_neighbors', 3), ('proportion', 0.75), ('random_state', None)])\n",
      "2022-02-12 20:59:51,940:INFO:{'T': 0.5, 'n_neighbors': 5, 'proportion': 0.75, 'random_state': None}\n",
      "2022-02-12 20:59:51,940:INFO:Sampling sampler parameter string OrderedDict([('T', 0.5), ('n_neighbors', 5), ('proportion', 0.75), ('random_state', None)])\n",
      "2022-02-12 20:59:51,940:INFO:{'T': 0.5, 'n_neighbors': 7, 'proportion': 0.75, 'random_state': None}\n",
      "2022-02-12 20:59:51,941:INFO:Sampling sampler parameter string OrderedDict([('T', 0.5), ('n_neighbors', 7), ('proportion', 0.75), ('random_state', None)])\n",
      "2022-02-12 20:59:51,941:INFO:{'proportion': 0.75, 'random_state': None}\n",
      "2022-02-12 20:59:51,942:INFO:Sampling sampler parameter string OrderedDict([('proportion', 0.75), ('random_state', None)])\n",
      "2022-02-12 20:59:51,943:INFO:{'n_components': 4, 'proportion': 0.75, 'random_state': None}\n",
      "2022-02-12 20:59:51,943:INFO:Sampling sampler parameter string OrderedDict([('n_components', 4), ('proportion', 0.75), ('random_state', None)])\n",
      "2022-02-12 20:59:51,944:INFO:{'n_components': 2, 'proportion': 0.75, 'random_state': None}\n",
      "2022-02-12 20:59:51,944:INFO:Sampling sampler parameter string OrderedDict([('n_components', 2), ('proportion', 0.75), ('random_state', None)])\n",
      "2022-02-12 20:59:51,947:INFO:{'n_components': 3, 'proportion': 0.75, 'random_state': None}\n",
      "2022-02-12 20:59:51,947:INFO:Sampling sampler parameter string OrderedDict([('n_components', 3), ('proportion', 0.75), ('random_state', None)])\n",
      "2022-02-12 20:59:51,948:INFO:{'n_components': 5, 'proportion': 0.75, 'random_state': None}\n",
      "2022-02-12 20:59:51,948:INFO:Sampling sampler parameter string OrderedDict([('n_components', 5), ('proportion', 0.75), ('random_state', None)])\n",
      "2022-02-12 20:59:51,949:INFO:{'proportion': 0.75, 'random_state': None}\n",
      "2022-02-12 20:59:51,949:INFO:Sampling sampler parameter string OrderedDict([('proportion', 0.75), ('random_state', None)])\n",
      "2022-02-12 20:59:51,950:INFO:{'k': 5, 'proportion': 0.75, 'random_state': None}\n",
      "2022-02-12 20:59:51,950:INFO:Sampling sampler parameter string OrderedDict([('k', 5), ('proportion', 0.75), ('random_state', None)])\n",
      "2022-02-12 20:59:51,951:INFO:{'k': 3, 'proportion': 0.75, 'random_state': None}\n",
      "2022-02-12 20:59:51,951:INFO:Sampling sampler parameter string OrderedDict([('k', 3), ('proportion', 0.75), ('random_state', None)])\n",
      "2022-02-12 20:59:51,952:INFO:{'k': 7, 'proportion': 0.75, 'random_state': None}\n",
      "2022-02-12 20:59:51,952:INFO:Sampling sampler parameter string OrderedDict([('k', 7), ('proportion', 0.75), ('random_state', None)])\n"
     ]
    },
    {
     "name": "stderr",
     "output_type": "stream",
     "text": [
      "2022-02-12 20:59:51,953:INFO:{'proportion': 0.75, 'random_state': None}\n",
      "2022-02-12 20:59:51,953:INFO:Sampling sampler parameter string OrderedDict([('proportion', 0.75), ('random_state', None)])\n",
      "2022-02-12 20:59:51,954:INFO:{'k_neighbors': 7, 'n_neighbors': 5, 'proportion': 0.5, 'random_state': None}\n",
      "2022-02-12 20:59:51,954:INFO:Sampling sampler parameter string OrderedDict([('k_neighbors', 7), ('n_neighbors', 5), ('proportion', 0.5), ('random_state', None)])\n",
      "2022-02-12 20:59:51,955:INFO:{'k_neighbors': 3, 'n_neighbors': 5, 'proportion': 0.5, 'random_state': None}\n",
      "2022-02-12 20:59:51,955:INFO:Sampling sampler parameter string OrderedDict([('k_neighbors', 3), ('n_neighbors', 5), ('proportion', 0.5), ('random_state', None)])\n",
      "2022-02-12 20:59:51,956:INFO:{'k_neighbors': 5, 'n_neighbors': 7, 'proportion': 0.5, 'random_state': None}\n",
      "2022-02-12 20:59:51,957:INFO:Sampling sampler parameter string OrderedDict([('k_neighbors', 5), ('n_neighbors', 7), ('proportion', 0.5), ('random_state', None)])\n",
      "2022-02-12 20:59:51,957:INFO:{'k_neighbors': 5, 'n_neighbors': 3, 'proportion': 0.5, 'random_state': None}\n",
      "2022-02-12 20:59:51,958:INFO:Sampling sampler parameter string OrderedDict([('k_neighbors', 5), ('n_neighbors', 3), ('proportion', 0.5), ('random_state', None)])\n",
      "2022-02-12 20:59:51,958:INFO:{'k_neighbors': 7, 'n_neighbors': 7, 'proportion': 0.5, 'random_state': None}\n",
      "2022-02-12 20:59:51,959:INFO:Sampling sampler parameter string OrderedDict([('k_neighbors', 7), ('n_neighbors', 7), ('proportion', 0.5), ('random_state', None)])\n",
      "2022-02-12 20:59:51,963:INFO:{'n_neighbors': 3, 'proportion': 0.5, 'random_state': None}\n",
      "2022-02-12 20:59:51,963:INFO:Sampling sampler parameter string OrderedDict([('n_neighbors', 3), ('proportion', 0.5), ('random_state', None)])\n",
      "2022-02-12 20:59:51,964:INFO:{'n_neighbors': 5, 'proportion': 0.5, 'random_state': None}\n",
      "2022-02-12 20:59:51,964:INFO:Sampling sampler parameter string OrderedDict([('n_neighbors', 5), ('proportion', 0.5), ('random_state', None)])\n",
      "2022-02-12 20:59:51,965:INFO:{'n_neighbors': 7, 'proportion': 0.5, 'random_state': None}\n",
      "2022-02-12 20:59:51,965:INFO:Sampling sampler parameter string OrderedDict([('n_neighbors', 7), ('proportion', 0.5), ('random_state', None)])\n",
      "2022-02-12 20:59:51,966:INFO:{'T': 0.5, 'n_neighbors': 7, 'proportion': 0.5, 'random_state': None}\n",
      "2022-02-12 20:59:51,966:INFO:Sampling sampler parameter string OrderedDict([('T', 0.5), ('n_neighbors', 7), ('proportion', 0.5), ('random_state', None)])\n",
      "2022-02-12 20:59:51,968:INFO:{'T': 0.5, 'n_neighbors': 5, 'proportion': 0.5, 'random_state': None}\n",
      "2022-02-12 20:59:51,968:INFO:Sampling sampler parameter string OrderedDict([('T', 0.5), ('n_neighbors', 5), ('proportion', 0.5), ('random_state', None)])\n",
      "2022-02-12 20:59:51,968:INFO:{'T': 0.5, 'n_neighbors': 3, 'proportion': 0.5, 'random_state': None}\n",
      "2022-02-12 20:59:51,969:INFO:Sampling sampler parameter string OrderedDict([('T', 0.5), ('n_neighbors', 3), ('proportion', 0.5), ('random_state', None)])\n",
      "2022-02-12 20:59:51,969:INFO:{'proportion': 0.5, 'random_state': None}\n",
      "2022-02-12 20:59:51,970:INFO:Sampling sampler parameter string OrderedDict([('proportion', 0.5), ('random_state', None)])\n",
      "2022-02-12 20:59:51,970:INFO:{'n_components': 2, 'proportion': 0.5, 'random_state': None}\n",
      "2022-02-12 20:59:51,970:INFO:Sampling sampler parameter string OrderedDict([('n_components', 2), ('proportion', 0.5), ('random_state', None)])\n",
      "2022-02-12 20:59:51,972:INFO:{'n_components': 5, 'proportion': 0.5, 'random_state': None}\n",
      "2022-02-12 20:59:51,972:INFO:Sampling sampler parameter string OrderedDict([('n_components', 5), ('proportion', 0.5), ('random_state', None)])\n",
      "2022-02-12 20:59:51,973:INFO:{'n_components': 4, 'proportion': 0.5, 'random_state': None}\n",
      "2022-02-12 20:59:51,973:INFO:Sampling sampler parameter string OrderedDict([('n_components', 4), ('proportion', 0.5), ('random_state', None)])\n",
      "2022-02-12 20:59:51,974:INFO:{'proportion': 0.5, 'random_state': None}\n",
      "2022-02-12 20:59:51,974:INFO:Sampling sampler parameter string OrderedDict([('proportion', 0.5), ('random_state', None)])\n",
      "2022-02-12 20:59:51,975:INFO:{'k': 5, 'proportion': 0.5, 'random_state': None}\n",
      "2022-02-12 20:59:51,975:INFO:Sampling sampler parameter string OrderedDict([('k', 5), ('proportion', 0.5), ('random_state', None)])\n",
      "2022-02-12 20:59:51,976:INFO:{'k': 7, 'proportion': 0.5, 'random_state': None}\n",
      "2022-02-12 20:59:51,977:INFO:Sampling sampler parameter string OrderedDict([('k', 7), ('proportion', 0.5), ('random_state', None)])\n",
      "2022-02-12 20:59:51,977:INFO:{'k': 3, 'proportion': 0.5, 'random_state': None}\n",
      "2022-02-12 20:59:51,978:INFO:Sampling sampler parameter string OrderedDict([('k', 3), ('proportion', 0.5), ('random_state', None)])\n",
      "2022-02-12 20:59:51,978:INFO:{'proportion': 0.5, 'random_state': None}\n",
      "2022-02-12 20:59:51,978:INFO:Sampling sampler parameter string OrderedDict([('proportion', 0.5), ('random_state', None)])\n",
      "2022-02-12 20:59:51,979:INFO:{'k_neighbors': 7, 'n_neighbors': 5, 'proportion': 0.25, 'random_state': None}\n",
      "2022-02-12 20:59:51,980:INFO:Sampling sampler parameter string OrderedDict([('k_neighbors', 7), ('n_neighbors', 5), ('proportion', 0.25), ('random_state', None)])\n",
      "2022-02-12 20:59:51,981:INFO:{'k_neighbors': 7, 'n_neighbors': 7, 'proportion': 0.25, 'random_state': None}\n",
      "2022-02-12 20:59:51,981:INFO:Sampling sampler parameter string OrderedDict([('k_neighbors', 7), ('n_neighbors', 7), ('proportion', 0.25), ('random_state', None)])\n",
      "2022-02-12 20:59:51,981:INFO:{'k_neighbors': 7, 'n_neighbors': 3, 'proportion': 0.25, 'random_state': None}\n",
      "2022-02-12 20:59:51,982:INFO:Sampling sampler parameter string OrderedDict([('k_neighbors', 7), ('n_neighbors', 3), ('proportion', 0.25), ('random_state', None)])\n",
      "2022-02-12 20:59:51,982:INFO:{'k_neighbors': 7, 'n_neighbors': 5, 'proportion': 0.25, 'random_state': None}\n",
      "2022-02-12 20:59:51,983:INFO:Sampling sampler parameter string OrderedDict([('k_neighbors', 7), ('n_neighbors', 5), ('proportion', 0.25), ('random_state', None)])\n",
      "2022-02-12 20:59:51,983:INFO:{'n_neighbors': 7, 'proportion': 0.25, 'random_state': None}\n",
      "2022-02-12 20:59:51,984:INFO:Sampling sampler parameter string OrderedDict([('n_neighbors', 7), ('proportion', 0.25), ('random_state', None)])\n",
      "2022-02-12 20:59:51,984:INFO:{'n_neighbors': 5, 'proportion': 0.25, 'random_state': None}\n",
      "2022-02-12 20:59:51,985:INFO:Sampling sampler parameter string OrderedDict([('n_neighbors', 5), ('proportion', 0.25), ('random_state', None)])\n",
      "2022-02-12 20:59:51,986:INFO:{'n_neighbors': 3, 'proportion': 0.25, 'random_state': None}\n",
      "2022-02-12 20:59:51,987:INFO:Sampling sampler parameter string OrderedDict([('n_neighbors', 3), ('proportion', 0.25), ('random_state', None)])\n",
      "2022-02-12 20:59:51,987:INFO:{'T': 0.5, 'n_neighbors': 5, 'proportion': 0.25, 'random_state': None}\n",
      "2022-02-12 20:59:51,987:INFO:Sampling sampler parameter string OrderedDict([('T', 0.5), ('n_neighbors', 5), ('proportion', 0.25), ('random_state', None)])\n",
      "2022-02-12 20:59:51,988:INFO:{'T': 0.5, 'n_neighbors': 3, 'proportion': 0.25, 'random_state': None}\n",
      "2022-02-12 20:59:51,988:INFO:Sampling sampler parameter string OrderedDict([('T', 0.5), ('n_neighbors', 3), ('proportion', 0.25), ('random_state', None)])\n",
      "2022-02-12 20:59:51,989:INFO:{'T': 0.5, 'n_neighbors': 7, 'proportion': 0.25, 'random_state': None}\n",
      "2022-02-12 20:59:51,990:INFO:Sampling sampler parameter string OrderedDict([('T', 0.5), ('n_neighbors', 7), ('proportion', 0.25), ('random_state', None)])\n",
      "2022-02-12 20:59:51,990:INFO:{'proportion': 0.25, 'random_state': None}\n",
      "2022-02-12 20:59:51,991:INFO:Sampling sampler parameter string OrderedDict([('proportion', 0.25), ('random_state', None)])\n",
      "2022-02-12 20:59:51,991:INFO:{'n_components': 4, 'proportion': 0.25, 'random_state': None}\n",
      "2022-02-12 20:59:51,991:INFO:Sampling sampler parameter string OrderedDict([('n_components', 4), ('proportion', 0.25), ('random_state', None)])\n",
      "2022-02-12 20:59:51,993:INFO:{'n_components': 2, 'proportion': 0.25, 'random_state': None}\n",
      "2022-02-12 20:59:51,993:INFO:Sampling sampler parameter string OrderedDict([('n_components', 2), ('proportion', 0.25), ('random_state', None)])\n",
      "2022-02-12 20:59:51,994:INFO:{'n_components': 5, 'proportion': 0.25, 'random_state': None}\n"
     ]
    },
    {
     "name": "stderr",
     "output_type": "stream",
     "text": [
      "2022-02-12 20:59:51,994:INFO:Sampling sampler parameter string OrderedDict([('n_components', 5), ('proportion', 0.25), ('random_state', None)])\n",
      "2022-02-12 20:59:51,995:INFO:{'n_components': 3, 'proportion': 0.25, 'random_state': None}\n",
      "2022-02-12 20:59:51,997:INFO:Sampling sampler parameter string OrderedDict([('n_components', 3), ('proportion', 0.25), ('random_state', None)])\n",
      "2022-02-12 20:59:51,998:INFO:{'proportion': 0.25, 'random_state': None}\n",
      "2022-02-12 20:59:51,999:INFO:Sampling sampler parameter string OrderedDict([('proportion', 0.25), ('random_state', None)])\n",
      "2022-02-12 20:59:51,999:INFO:{'k': 5, 'proportion': 0.25, 'random_state': None}\n",
      "2022-02-12 20:59:52,000:INFO:Sampling sampler parameter string OrderedDict([('k', 5), ('proportion', 0.25), ('random_state', None)])\n",
      "2022-02-12 20:59:52,001:INFO:{'k': 3, 'proportion': 0.25, 'random_state': None}\n",
      "2022-02-12 20:59:52,001:INFO:Sampling sampler parameter string OrderedDict([('k', 3), ('proportion', 0.25), ('random_state', None)])\n",
      "2022-02-12 20:59:52,001:INFO:{'k': 7, 'proportion': 0.25, 'random_state': None}\n",
      "2022-02-12 20:59:52,002:INFO:Sampling sampler parameter string OrderedDict([('k', 7), ('proportion', 0.25), ('random_state', None)])\n",
      "2022-02-12 20:59:52,002:INFO:{'proportion': 0.25, 'random_state': None}\n",
      "2022-02-12 20:59:52,005:INFO:Sampling sampler parameter string OrderedDict([('proportion', 0.25), ('random_state', None)])\n"
     ]
    },
    {
     "name": "stdout",
     "output_type": "stream",
     "text": [
      "[\"('darknet', OrderedDict([('n_neighbors', 3), ('random_state', None), ('threshold', 0.3)]), 'LinearDiscriminantAnalysis', OrderedDict([('covariance_estimator', None), ('n_components', None), ('priors', None), ('shrinkage', None), ('solver', 'svd'), ('store_covariance', False), ('tol', 0.0001)]))\"]\n",
      "[\"('darknet', OrderedDict([('n_neighbors', 5), ('random_state', None), ('threshold', 0.7)]), 'LinearDiscriminantAnalysis', OrderedDict([('covariance_estimator', None), ('n_components', None), ('priors', None), ('shrinkage', None), ('solver', 'svd'), ('store_covariance', False), ('tol', 0.0001)]))\"]\n",
      "[\"('darknet', OrderedDict([('n_neighbors', 5), ('random_state', None), ('threshold', 0.5)]), 'LinearDiscriminantAnalysis', OrderedDict([('covariance_estimator', None), ('n_components', None), ('priors', None), ('shrinkage', None), ('solver', 'svd'), ('store_covariance', False), ('tol', 0.0001)]))\"]\n",
      "[\"('darknet', OrderedDict([('n_neighbors', 5), ('random_state', None), ('threshold', 0.3)]), 'LinearDiscriminantAnalysis', OrderedDict([('covariance_estimator', None), ('n_components', None), ('priors', None), ('shrinkage', None), ('solver', 'svd'), ('store_covariance', False), ('tol', 0.0001)]))\"]\n",
      "[\"('darknet', OrderedDict([('n_neighbors', 7), ('random_state', None), ('threshold', 0.7)]), 'LinearDiscriminantAnalysis', OrderedDict([('covariance_estimator', None), ('n_components', None), ('priors', None), ('shrinkage', None), ('solver', 'svd'), ('store_covariance', False), ('tol', 0.0001)]))\"]\n",
      "[\"('darknet', OrderedDict([('n_neighbors', 3), ('random_state', None), ('threshold', 0.7)]), 'LinearDiscriminantAnalysis', OrderedDict([('covariance_estimator', None), ('n_components', None), ('priors', None), ('shrinkage', None), ('solver', 'svd'), ('store_covariance', False), ('tol', 0.0001)]))\"]\n",
      "[\"('darknet', OrderedDict([('n_neighbors', 7), ('random_state', None), ('threshold', 0.5)]), 'LinearDiscriminantAnalysis', OrderedDict([('covariance_estimator', None), ('n_components', None), ('priors', None), ('shrinkage', None), ('solver', 'svd'), ('store_covariance', False), ('tol', 0.0001)]))\"]\n",
      "[\"('darknet', OrderedDict([('n_neighbors', 7), ('random_state', None), ('threshold', 0.3)]), 'LinearDiscriminantAnalysis', OrderedDict([('covariance_estimator', None), ('n_components', None), ('priors', None), ('shrinkage', None), ('solver', 'svd'), ('store_covariance', False), ('tol', 0.0001)]))\"]\n",
      "[\"('darknet', OrderedDict([('n_neighbors', 3), ('random_state', None), ('threshold', 0.5)]), 'LinearDiscriminantAnalysis', OrderedDict([('covariance_estimator', None), ('n_components', None), ('priors', None), ('shrinkage', None), ('solver', 'svd'), ('store_covariance', False), ('tol', 0.0001)]))\"]\n",
      "[\"('darknet', OrderedDict([('k_neighbors', 3), ('n_neighbors', 7), ('proportion', 2.0), ('random_state', None)]), 'LinearDiscriminantAnalysis', OrderedDict([('covariance_estimator', None), ('n_components', None), ('priors', None), ('shrinkage', None), ('solver', 'svd'), ('store_covariance', False), ('tol', 0.0001)]))\"]\n",
      "[\"('darknet', OrderedDict([('k_neighbors', 5), ('n_neighbors', 3), ('proportion', 2.0), ('random_state', None)]), 'LinearDiscriminantAnalysis', OrderedDict([('covariance_estimator', None), ('n_components', None), ('priors', None), ('shrinkage', None), ('solver', 'svd'), ('store_covariance', False), ('tol', 0.0001)]))\"]\n",
      "[\"('darknet', OrderedDict([('k_neighbors', 7), ('n_neighbors', 3), ('proportion', 2.0), ('random_state', None)]), 'LinearDiscriminantAnalysis', OrderedDict([('covariance_estimator', None), ('n_components', None), ('priors', None), ('shrinkage', None), ('solver', 'svd'), ('store_covariance', False), ('tol', 0.0001)]))\"]\n",
      "[\"('darknet', OrderedDict([('k_neighbors', 7), ('n_neighbors', 5), ('proportion', 2.0), ('random_state', None)]), 'LinearDiscriminantAnalysis', OrderedDict([('covariance_estimator', None), ('n_components', None), ('priors', None), ('shrinkage', None), ('solver', 'svd'), ('store_covariance', False), ('tol', 0.0001)]))\"]\n",
      "[\"('darknet', OrderedDict([('k_neighbors', 5), ('n_neighbors', 5), ('proportion', 2.0), ('random_state', None)]), 'LinearDiscriminantAnalysis', OrderedDict([('covariance_estimator', None), ('n_components', None), ('priors', None), ('shrinkage', None), ('solver', 'svd'), ('store_covariance', False), ('tol', 0.0001)]))\"]\n",
      "[\"('darknet', OrderedDict([('k_neighbors', 7), ('n_neighbors', 3), ('proportion', 2.0), ('random_state', None)]), 'LinearDiscriminantAnalysis', OrderedDict([('covariance_estimator', None), ('n_components', None), ('priors', None), ('shrinkage', None), ('solver', 'svd'), ('store_covariance', False), ('tol', 0.0001)]))\"]\n",
      "[\"('darknet', OrderedDict([('k_neighbors', 5), ('n_neighbors', 7), ('proportion', 2.0), ('random_state', None)]), 'LinearDiscriminantAnalysis', OrderedDict([('covariance_estimator', None), ('n_components', None), ('priors', None), ('shrinkage', None), ('solver', 'svd'), ('store_covariance', False), ('tol', 0.0001)]))\"]\n",
      "[\"('darknet', OrderedDict([('k_neighbors', 5), ('n_neighbors', 3), ('proportion', 2.0), ('random_state', None)]), 'LinearDiscriminantAnalysis', OrderedDict([('covariance_estimator', None), ('n_components', None), ('priors', None), ('shrinkage', None), ('solver', 'svd'), ('store_covariance', False), ('tol', 0.0001)]))\"]\n",
      "[\"('darknet', OrderedDict([('k_neighbors', 7), ('n_neighbors', 7), ('proportion', 2.0), ('random_state', None)]), 'LinearDiscriminantAnalysis', OrderedDict([('covariance_estimator', None), ('n_components', None), ('priors', None), ('shrinkage', None), ('solver', 'svd'), ('store_covariance', False), ('tol', 0.0001)]))\"]\n",
      "[\"('darknet', OrderedDict([('k_neighbors', 3), ('n_neighbors', 5), ('proportion', 2.0), ('random_state', None)]), 'LinearDiscriminantAnalysis', OrderedDict([('covariance_estimator', None), ('n_components', None), ('priors', None), ('shrinkage', None), ('solver', 'svd'), ('store_covariance', False), ('tol', 0.0001)]))\"]\n",
      "[\"('darknet', OrderedDict([('k_neighbors', 3), ('n_neighbors', 7), ('proportion', 2.0), ('random_state', None)]), 'LinearDiscriminantAnalysis', OrderedDict([('covariance_estimator', None), ('n_components', None), ('priors', None), ('shrinkage', None), ('solver', 'svd'), ('store_covariance', False), ('tol', 0.0001)]))\"]\n",
      "[\"('darknet', OrderedDict([('n_neighbors', 3), ('proportion', 2.0), ('random_state', None)]), 'LinearDiscriminantAnalysis', OrderedDict([('covariance_estimator', None), ('n_components', None), ('priors', None), ('shrinkage', None), ('solver', 'svd'), ('store_covariance', False), ('tol', 0.0001)]))\"]\n",
      "[\"('darknet', OrderedDict([('n_neighbors', 5), ('proportion', 2.0), ('random_state', None)]), 'LinearDiscriminantAnalysis', OrderedDict([('covariance_estimator', None), ('n_components', None), ('priors', None), ('shrinkage', None), ('solver', 'svd'), ('store_covariance', False), ('tol', 0.0001)]))\"]\n",
      "[\"('darknet', OrderedDict([('n_neighbors', 7), ('proportion', 2.0), ('random_state', None)]), 'LinearDiscriminantAnalysis', OrderedDict([('covariance_estimator', None), ('n_components', None), ('priors', None), ('shrinkage', None), ('solver', 'svd'), ('store_covariance', False), ('tol', 0.0001)]))\"]\n",
      "[\"('darknet', OrderedDict([('T', 0.5), ('n_neighbors', 7), ('proportion', 2.0), ('random_state', None)]), 'LinearDiscriminantAnalysis', OrderedDict([('covariance_estimator', None), ('n_components', None), ('priors', None), ('shrinkage', None), ('solver', 'svd'), ('store_covariance', False), ('tol', 0.0001)]))\"]\n",
      "[\"('darknet', OrderedDict([('T', 0.5), ('n_neighbors', 3), ('proportion', 2.0), ('random_state', None)]), 'LinearDiscriminantAnalysis', OrderedDict([('covariance_estimator', None), ('n_components', None), ('priors', None), ('shrinkage', None), ('solver', 'svd'), ('store_covariance', False), ('tol', 0.0001)]))\"]\n",
      "[\"('darknet', OrderedDict([('T', 0.5), ('n_neighbors', 5), ('proportion', 2.0), ('random_state', None)]), 'LinearDiscriminantAnalysis', OrderedDict([('covariance_estimator', None), ('n_components', None), ('priors', None), ('shrinkage', None), ('solver', 'svd'), ('store_covariance', False), ('tol', 0.0001)]))\"]\n",
      "[\"('darknet', OrderedDict([('proportion', 2.0), ('random_state', None)]), 'LinearDiscriminantAnalysis', OrderedDict([('covariance_estimator', None), ('n_components', None), ('priors', None), ('shrinkage', None), ('solver', 'svd'), ('store_covariance', False), ('tol', 0.0001)]))\"]\n",
      "[\"('darknet', OrderedDict([('n_components', 3), ('proportion', 2.0), ('random_state', None)]), 'LinearDiscriminantAnalysis', OrderedDict([('covariance_estimator', None), ('n_components', None), ('priors', None), ('shrinkage', None), ('solver', 'svd'), ('store_covariance', False), ('tol', 0.0001)]))\"]\n",
      "[\"('darknet', OrderedDict([('n_components', 2), ('proportion', 2.0), ('random_state', None)]), 'LinearDiscriminantAnalysis', OrderedDict([('covariance_estimator', None), ('n_components', None), ('priors', None), ('shrinkage', None), ('solver', 'svd'), ('store_covariance', False), ('tol', 0.0001)]))\"]\n",
      "[\"('darknet', OrderedDict([('n_components', 5), ('proportion', 2.0), ('random_state', None)]), 'LinearDiscriminantAnalysis', OrderedDict([('covariance_estimator', None), ('n_components', None), ('priors', None), ('shrinkage', None), ('solver', 'svd'), ('store_covariance', False), ('tol', 0.0001)]))\"]\n",
      "[\"('darknet', OrderedDict([('n_components', 4), ('proportion', 2.0), ('random_state', None)]), 'LinearDiscriminantAnalysis', OrderedDict([('covariance_estimator', None), ('n_components', None), ('priors', None), ('shrinkage', None), ('solver', 'svd'), ('store_covariance', False), ('tol', 0.0001)]))\"]\n",
      "[\"('darknet', OrderedDict([('proportion', 2.0), ('random_state', None)]), 'LinearDiscriminantAnalysis', OrderedDict([('covariance_estimator', None), ('n_components', None), ('priors', None), ('shrinkage', None), ('solver', 'svd'), ('store_covariance', False), ('tol', 0.0001)]))\"]\n",
      "[\"('darknet', OrderedDict([('k', 3), ('proportion', 2.0), ('random_state', None)]), 'LinearDiscriminantAnalysis', OrderedDict([('covariance_estimator', None), ('n_components', None), ('priors', None), ('shrinkage', None), ('solver', 'svd'), ('store_covariance', False), ('tol', 0.0001)]))\"]\n",
      "[\"('darknet', OrderedDict([('k', 7), ('proportion', 2.0), ('random_state', None)]), 'LinearDiscriminantAnalysis', OrderedDict([('covariance_estimator', None), ('n_components', None), ('priors', None), ('shrinkage', None), ('solver', 'svd'), ('store_covariance', False), ('tol', 0.0001)]))\"]\n",
      "[\"('darknet', OrderedDict([('k', 5), ('proportion', 2.0), ('random_state', None)]), 'LinearDiscriminantAnalysis', OrderedDict([('covariance_estimator', None), ('n_components', None), ('priors', None), ('shrinkage', None), ('solver', 'svd'), ('store_covariance', False), ('tol', 0.0001)]))\"]\n",
      "[\"('darknet', OrderedDict([('proportion', 2.0), ('random_state', None)]), 'LinearDiscriminantAnalysis', OrderedDict([('covariance_estimator', None), ('n_components', None), ('priors', None), ('shrinkage', None), ('solver', 'svd'), ('store_covariance', False), ('tol', 0.0001)]))\"]\n",
      "[\"('darknet', OrderedDict([('k_neighbors', 7), ('n_neighbors', 5), ('proportion', 1.5), ('random_state', None)]), 'LinearDiscriminantAnalysis', OrderedDict([('covariance_estimator', None), ('n_components', None), ('priors', None), ('shrinkage', None), ('solver', 'svd'), ('store_covariance', False), ('tol', 0.0001)]))\"]\n",
      "[\"('darknet', OrderedDict([('k_neighbors', 3), ('n_neighbors', 3), ('proportion', 1.5), ('random_state', None)]), 'LinearDiscriminantAnalysis', OrderedDict([('covariance_estimator', None), ('n_components', None), ('priors', None), ('shrinkage', None), ('solver', 'svd'), ('store_covariance', False), ('tol', 0.0001)]))\"]\n",
      "[\"('darknet', OrderedDict([('k_neighbors', 7), ('n_neighbors', 7), ('proportion', 1.5), ('random_state', None)]), 'LinearDiscriminantAnalysis', OrderedDict([('covariance_estimator', None), ('n_components', None), ('priors', None), ('shrinkage', None), ('solver', 'svd'), ('store_covariance', False), ('tol', 0.0001)]))\"]\n",
      "[\"('darknet', OrderedDict([('k_neighbors', 7), ('n_neighbors', 3), ('proportion', 1.5), ('random_state', None)]), 'LinearDiscriminantAnalysis', OrderedDict([('covariance_estimator', None), ('n_components', None), ('priors', None), ('shrinkage', None), ('solver', 'svd'), ('store_covariance', False), ('tol', 0.0001)]))\"]\n",
      "[\"('darknet', OrderedDict([('k_neighbors', 7), ('n_neighbors', 3), ('proportion', 1.5), ('random_state', None)]), 'LinearDiscriminantAnalysis', OrderedDict([('covariance_estimator', None), ('n_components', None), ('priors', None), ('shrinkage', None), ('solver', 'svd'), ('store_covariance', False), ('tol', 0.0001)]))\"]\n",
      "[\"('darknet', OrderedDict([('k_neighbors', 7), ('n_neighbors', 5), ('proportion', 1.5), ('random_state', None)]), 'LinearDiscriminantAnalysis', OrderedDict([('covariance_estimator', None), ('n_components', None), ('priors', None), ('shrinkage', None), ('solver', 'svd'), ('store_covariance', False), ('tol', 0.0001)]))\"]\n",
      "[\"('darknet', OrderedDict([('k_neighbors', 7), ('n_neighbors', 7), ('proportion', 1.5), ('random_state', None)]), 'LinearDiscriminantAnalysis', OrderedDict([('covariance_estimator', None), ('n_components', None), ('priors', None), ('shrinkage', None), ('solver', 'svd'), ('store_covariance', False), ('tol', 0.0001)]))\"]\n",
      "[\"('darknet', OrderedDict([('k_neighbors', 5), ('n_neighbors', 5), ('proportion', 1.5), ('random_state', None)]), 'LinearDiscriminantAnalysis', OrderedDict([('covariance_estimator', None), ('n_components', None), ('priors', None), ('shrinkage', None), ('solver', 'svd'), ('store_covariance', False), ('tol', 0.0001)]))\"]\n",
      "[\"('darknet', OrderedDict([('n_neighbors', 3), ('proportion', 1.5), ('random_state', None)]), 'LinearDiscriminantAnalysis', OrderedDict([('covariance_estimator', None), ('n_components', None), ('priors', None), ('shrinkage', None), ('solver', 'svd'), ('store_covariance', False), ('tol', 0.0001)]))\"]\n",
      "[\"('darknet', OrderedDict([('n_neighbors', 5), ('proportion', 1.5), ('random_state', None)]), 'LinearDiscriminantAnalysis', OrderedDict([('covariance_estimator', None), ('n_components', None), ('priors', None), ('shrinkage', None), ('solver', 'svd'), ('store_covariance', False), ('tol', 0.0001)]))\"]\n",
      "[\"('darknet', OrderedDict([('n_neighbors', 7), ('proportion', 1.5), ('random_state', None)]), 'LinearDiscriminantAnalysis', OrderedDict([('covariance_estimator', None), ('n_components', None), ('priors', None), ('shrinkage', None), ('solver', 'svd'), ('store_covariance', False), ('tol', 0.0001)]))\"]\n",
      "[\"('darknet', OrderedDict([('T', 0.5), ('n_neighbors', 7), ('proportion', 1.5), ('random_state', None)]), 'LinearDiscriminantAnalysis', OrderedDict([('covariance_estimator', None), ('n_components', None), ('priors', None), ('shrinkage', None), ('solver', 'svd'), ('store_covariance', False), ('tol', 0.0001)]))\"]\n",
      "[\"('darknet', OrderedDict([('T', 0.5), ('n_neighbors', 5), ('proportion', 1.5), ('random_state', None)]), 'LinearDiscriminantAnalysis', OrderedDict([('covariance_estimator', None), ('n_components', None), ('priors', None), ('shrinkage', None), ('solver', 'svd'), ('store_covariance', False), ('tol', 0.0001)]))\"]\n",
      "[\"('darknet', OrderedDict([('T', 0.5), ('n_neighbors', 3), ('proportion', 1.5), ('random_state', None)]), 'LinearDiscriminantAnalysis', OrderedDict([('covariance_estimator', None), ('n_components', None), ('priors', None), ('shrinkage', None), ('solver', 'svd'), ('store_covariance', False), ('tol', 0.0001)]))\"]\n",
      "[\"('darknet', OrderedDict([('proportion', 1.5), ('random_state', None)]), 'LinearDiscriminantAnalysis', OrderedDict([('covariance_estimator', None), ('n_components', None), ('priors', None), ('shrinkage', None), ('solver', 'svd'), ('store_covariance', False), ('tol', 0.0001)]))\"]\n",
      "[\"('darknet', OrderedDict([('n_components', 3), ('proportion', 1.5), ('random_state', None)]), 'LinearDiscriminantAnalysis', OrderedDict([('covariance_estimator', None), ('n_components', None), ('priors', None), ('shrinkage', None), ('solver', 'svd'), ('store_covariance', False), ('tol', 0.0001)]))\"]\n",
      "[\"('darknet', OrderedDict([('n_components', 5), ('proportion', 1.5), ('random_state', None)]), 'LinearDiscriminantAnalysis', OrderedDict([('covariance_estimator', None), ('n_components', None), ('priors', None), ('shrinkage', None), ('solver', 'svd'), ('store_covariance', False), ('tol', 0.0001)]))\"]\n",
      "[\"('darknet', OrderedDict([('n_components', 4), ('proportion', 1.5), ('random_state', None)]), 'LinearDiscriminantAnalysis', OrderedDict([('covariance_estimator', None), ('n_components', None), ('priors', None), ('shrinkage', None), ('solver', 'svd'), ('store_covariance', False), ('tol', 0.0001)]))\"]\n",
      "[\"('darknet', OrderedDict([('n_components', 2), ('proportion', 1.5), ('random_state', None)]), 'LinearDiscriminantAnalysis', OrderedDict([('covariance_estimator', None), ('n_components', None), ('priors', None), ('shrinkage', None), ('solver', 'svd'), ('store_covariance', False), ('tol', 0.0001)]))\"]\n",
      "[\"('darknet', OrderedDict([('proportion', 1.5), ('random_state', None)]), 'LinearDiscriminantAnalysis', OrderedDict([('covariance_estimator', None), ('n_components', None), ('priors', None), ('shrinkage', None), ('solver', 'svd'), ('store_covariance', False), ('tol', 0.0001)]))\"]\n",
      "[\"('darknet', OrderedDict([('k', 7), ('proportion', 1.5), ('random_state', None)]), 'LinearDiscriminantAnalysis', OrderedDict([('covariance_estimator', None), ('n_components', None), ('priors', None), ('shrinkage', None), ('solver', 'svd'), ('store_covariance', False), ('tol', 0.0001)]))\"]\n",
      "[\"('darknet', OrderedDict([('k', 5), ('proportion', 1.5), ('random_state', None)]), 'LinearDiscriminantAnalysis', OrderedDict([('covariance_estimator', None), ('n_components', None), ('priors', None), ('shrinkage', None), ('solver', 'svd'), ('store_covariance', False), ('tol', 0.0001)]))\"]\n",
      "[\"('darknet', OrderedDict([('k', 3), ('proportion', 1.5), ('random_state', None)]), 'LinearDiscriminantAnalysis', OrderedDict([('covariance_estimator', None), ('n_components', None), ('priors', None), ('shrinkage', None), ('solver', 'svd'), ('store_covariance', False), ('tol', 0.0001)]))\"]\n",
      "[\"('darknet', OrderedDict([('proportion', 1.5), ('random_state', None)]), 'LinearDiscriminantAnalysis', OrderedDict([('covariance_estimator', None), ('n_components', None), ('priors', None), ('shrinkage', None), ('solver', 'svd'), ('store_covariance', False), ('tol', 0.0001)]))\"]\n",
      "[\"('darknet', OrderedDict([('k_neighbors', 3), ('n_neighbors', 3), ('proportion', 1.0), ('random_state', None)]), 'LinearDiscriminantAnalysis', OrderedDict([('covariance_estimator', None), ('n_components', None), ('priors', None), ('shrinkage', None), ('solver', 'svd'), ('store_covariance', False), ('tol', 0.0001)]))\"]\n",
      "[\"('darknet', OrderedDict([('k_neighbors', 3), ('n_neighbors', 7), ('proportion', 1.0), ('random_state', None)]), 'LinearDiscriminantAnalysis', OrderedDict([('covariance_estimator', None), ('n_components', None), ('priors', None), ('shrinkage', None), ('solver', 'svd'), ('store_covariance', False), ('tol', 0.0001)]))\"]\n",
      "[\"('darknet', OrderedDict([('k_neighbors', 5), ('n_neighbors', 3), ('proportion', 1.0), ('random_state', None)]), 'LinearDiscriminantAnalysis', OrderedDict([('covariance_estimator', None), ('n_components', None), ('priors', None), ('shrinkage', None), ('solver', 'svd'), ('store_covariance', False), ('tol', 0.0001)]))\"]\n",
      "[\"('darknet', OrderedDict([('k_neighbors', 7), ('n_neighbors', 5), ('proportion', 1.0), ('random_state', None)]), 'LinearDiscriminantAnalysis', OrderedDict([('covariance_estimator', None), ('n_components', None), ('priors', None), ('shrinkage', None), ('solver', 'svd'), ('store_covariance', False), ('tol', 0.0001)]))\"]\n",
      "[\"('darknet', OrderedDict([('k_neighbors', 3), ('n_neighbors', 7), ('proportion', 1.0), ('random_state', None)]), 'LinearDiscriminantAnalysis', OrderedDict([('covariance_estimator', None), ('n_components', None), ('priors', None), ('shrinkage', None), ('solver', 'svd'), ('store_covariance', False), ('tol', 0.0001)]))\"]\n",
      "[\"('darknet', OrderedDict([('k_neighbors', 5), ('n_neighbors', 5), ('proportion', 1.0), ('random_state', None)]), 'LinearDiscriminantAnalysis', OrderedDict([('covariance_estimator', None), ('n_components', None), ('priors', None), ('shrinkage', None), ('solver', 'svd'), ('store_covariance', False), ('tol', 0.0001)]))\"]\n",
      "[\"('darknet', OrderedDict([('k_neighbors', 3), ('n_neighbors', 3), ('proportion', 1.0), ('random_state', None)]), 'LinearDiscriminantAnalysis', OrderedDict([('covariance_estimator', None), ('n_components', None), ('priors', None), ('shrinkage', None), ('solver', 'svd'), ('store_covariance', False), ('tol', 0.0001)]))\"]\n",
      "[\"('darknet', OrderedDict([('k_neighbors', 5), ('n_neighbors', 7), ('proportion', 1.0), ('random_state', None)]), 'LinearDiscriminantAnalysis', OrderedDict([('covariance_estimator', None), ('n_components', None), ('priors', None), ('shrinkage', None), ('solver', 'svd'), ('store_covariance', False), ('tol', 0.0001)]))\"]\n",
      "[\"('darknet', OrderedDict([('n_neighbors', 7), ('proportion', 1.0), ('random_state', None)]), 'LinearDiscriminantAnalysis', OrderedDict([('covariance_estimator', None), ('n_components', None), ('priors', None), ('shrinkage', None), ('solver', 'svd'), ('store_covariance', False), ('tol', 0.0001)]))\"]\n",
      "[\"('darknet', OrderedDict([('n_neighbors', 5), ('proportion', 1.0), ('random_state', None)]), 'LinearDiscriminantAnalysis', OrderedDict([('covariance_estimator', None), ('n_components', None), ('priors', None), ('shrinkage', None), ('solver', 'svd'), ('store_covariance', False), ('tol', 0.0001)]))\"]\n",
      "[\"('darknet', OrderedDict([('n_neighbors', 3), ('proportion', 1.0), ('random_state', None)]), 'LinearDiscriminantAnalysis', OrderedDict([('covariance_estimator', None), ('n_components', None), ('priors', None), ('shrinkage', None), ('solver', 'svd'), ('store_covariance', False), ('tol', 0.0001)]))\"]\n",
      "[\"('darknet', OrderedDict([('T', 0.5), ('n_neighbors', 5), ('proportion', 1.0), ('random_state', None)]), 'LinearDiscriminantAnalysis', OrderedDict([('covariance_estimator', None), ('n_components', None), ('priors', None), ('shrinkage', None), ('solver', 'svd'), ('store_covariance', False), ('tol', 0.0001)]))\"]\n",
      "[\"('darknet', OrderedDict([('T', 0.5), ('n_neighbors', 3), ('proportion', 1.0), ('random_state', None)]), 'LinearDiscriminantAnalysis', OrderedDict([('covariance_estimator', None), ('n_components', None), ('priors', None), ('shrinkage', None), ('solver', 'svd'), ('store_covariance', False), ('tol', 0.0001)]))\"]\n",
      "[\"('darknet', OrderedDict([('T', 0.5), ('n_neighbors', 7), ('proportion', 1.0), ('random_state', None)]), 'LinearDiscriminantAnalysis', OrderedDict([('covariance_estimator', None), ('n_components', None), ('priors', None), ('shrinkage', None), ('solver', 'svd'), ('store_covariance', False), ('tol', 0.0001)]))\"]\n",
      "[\"('darknet', OrderedDict([('proportion', 1.0), ('random_state', None)]), 'LinearDiscriminantAnalysis', OrderedDict([('covariance_estimator', None), ('n_components', None), ('priors', None), ('shrinkage', None), ('solver', 'svd'), ('store_covariance', False), ('tol', 0.0001)]))\"]\n",
      "[\"('darknet', OrderedDict([('n_components', 4), ('proportion', 1.0), ('random_state', None)]), 'LinearDiscriminantAnalysis', OrderedDict([('covariance_estimator', None), ('n_components', None), ('priors', None), ('shrinkage', None), ('solver', 'svd'), ('store_covariance', False), ('tol', 0.0001)]))\"]\n",
      "[\"('darknet', OrderedDict([('n_components', 3), ('proportion', 1.0), ('random_state', None)]), 'LinearDiscriminantAnalysis', OrderedDict([('covariance_estimator', None), ('n_components', None), ('priors', None), ('shrinkage', None), ('solver', 'svd'), ('store_covariance', False), ('tol', 0.0001)]))\"]\n",
      "[\"('darknet', OrderedDict([('n_components', 2), ('proportion', 1.0), ('random_state', None)]), 'LinearDiscriminantAnalysis', OrderedDict([('covariance_estimator', None), ('n_components', None), ('priors', None), ('shrinkage', None), ('solver', 'svd'), ('store_covariance', False), ('tol', 0.0001)]))\"]\n",
      "[\"('darknet', OrderedDict([('proportion', 1.0), ('random_state', None)]), 'LinearDiscriminantAnalysis', OrderedDict([('covariance_estimator', None), ('n_components', None), ('priors', None), ('shrinkage', None), ('solver', 'svd'), ('store_covariance', False), ('tol', 0.0001)]))\"]\n",
      "[\"('darknet', OrderedDict([('k', 5), ('proportion', 1.0), ('random_state', None)]), 'LinearDiscriminantAnalysis', OrderedDict([('covariance_estimator', None), ('n_components', None), ('priors', None), ('shrinkage', None), ('solver', 'svd'), ('store_covariance', False), ('tol', 0.0001)]))\"]\n",
      "[\"('darknet', OrderedDict([('k', 7), ('proportion', 1.0), ('random_state', None)]), 'LinearDiscriminantAnalysis', OrderedDict([('covariance_estimator', None), ('n_components', None), ('priors', None), ('shrinkage', None), ('solver', 'svd'), ('store_covariance', False), ('tol', 0.0001)]))\"]\n",
      "[\"('darknet', OrderedDict([('k', 3), ('proportion', 1.0), ('random_state', None)]), 'LinearDiscriminantAnalysis', OrderedDict([('covariance_estimator', None), ('n_components', None), ('priors', None), ('shrinkage', None), ('solver', 'svd'), ('store_covariance', False), ('tol', 0.0001)]))\"]\n",
      "[\"('darknet', OrderedDict([('proportion', 1.0), ('random_state', None)]), 'LinearDiscriminantAnalysis', OrderedDict([('covariance_estimator', None), ('n_components', None), ('priors', None), ('shrinkage', None), ('solver', 'svd'), ('store_covariance', False), ('tol', 0.0001)]))\"]\n",
      "[\"('darknet', OrderedDict([('k_neighbors', 3), ('n_neighbors', 3), ('proportion', 0.75), ('random_state', None)]), 'LinearDiscriminantAnalysis', OrderedDict([('covariance_estimator', None), ('n_components', None), ('priors', None), ('shrinkage', None), ('solver', 'svd'), ('store_covariance', False), ('tol', 0.0001)]))\"]\n",
      "[\"('darknet', OrderedDict([('k_neighbors', 3), ('n_neighbors', 7), ('proportion', 0.75), ('random_state', None)]), 'LinearDiscriminantAnalysis', OrderedDict([('covariance_estimator', None), ('n_components', None), ('priors', None), ('shrinkage', None), ('solver', 'svd'), ('store_covariance', False), ('tol', 0.0001)]))\"]\n",
      "[\"('darknet', OrderedDict([('k_neighbors', 5), ('n_neighbors', 3), ('proportion', 0.75), ('random_state', None)]), 'LinearDiscriminantAnalysis', OrderedDict([('covariance_estimator', None), ('n_components', None), ('priors', None), ('shrinkage', None), ('solver', 'svd'), ('store_covariance', False), ('tol', 0.0001)]))\"]\n",
      "[\"('darknet', OrderedDict([('k_neighbors', 5), ('n_neighbors', 5), ('proportion', 0.75), ('random_state', None)]), 'LinearDiscriminantAnalysis', OrderedDict([('covariance_estimator', None), ('n_components', None), ('priors', None), ('shrinkage', None), ('solver', 'svd'), ('store_covariance', False), ('tol', 0.0001)]))\"]\n",
      "[\"('darknet', OrderedDict([('k_neighbors', 3), ('n_neighbors', 7), ('proportion', 0.75), ('random_state', None)]), 'LinearDiscriminantAnalysis', OrderedDict([('covariance_estimator', None), ('n_components', None), ('priors', None), ('shrinkage', None), ('solver', 'svd'), ('store_covariance', False), ('tol', 0.0001)]))\"]\n",
      "[\"('darknet', OrderedDict([('n_neighbors', 7), ('proportion', 0.75), ('random_state', None)]), 'LinearDiscriminantAnalysis', OrderedDict([('covariance_estimator', None), ('n_components', None), ('priors', None), ('shrinkage', None), ('solver', 'svd'), ('store_covariance', False), ('tol', 0.0001)]))\"]\n",
      "[\"('darknet', OrderedDict([('n_neighbors', 5), ('proportion', 0.75), ('random_state', None)]), 'LinearDiscriminantAnalysis', OrderedDict([('covariance_estimator', None), ('n_components', None), ('priors', None), ('shrinkage', None), ('solver', 'svd'), ('store_covariance', False), ('tol', 0.0001)]))\"]\n",
      "[\"('darknet', OrderedDict([('n_neighbors', 3), ('proportion', 0.75), ('random_state', None)]), 'LinearDiscriminantAnalysis', OrderedDict([('covariance_estimator', None), ('n_components', None), ('priors', None), ('shrinkage', None), ('solver', 'svd'), ('store_covariance', False), ('tol', 0.0001)]))\"]\n",
      "[\"('darknet', OrderedDict([('T', 0.5), ('n_neighbors', 3), ('proportion', 0.75), ('random_state', None)]), 'LinearDiscriminantAnalysis', OrderedDict([('covariance_estimator', None), ('n_components', None), ('priors', None), ('shrinkage', None), ('solver', 'svd'), ('store_covariance', False), ('tol', 0.0001)]))\"]\n",
      "[\"('darknet', OrderedDict([('T', 0.5), ('n_neighbors', 5), ('proportion', 0.75), ('random_state', None)]), 'LinearDiscriminantAnalysis', OrderedDict([('covariance_estimator', None), ('n_components', None), ('priors', None), ('shrinkage', None), ('solver', 'svd'), ('store_covariance', False), ('tol', 0.0001)]))\"]\n",
      "[\"('darknet', OrderedDict([('T', 0.5), ('n_neighbors', 7), ('proportion', 0.75), ('random_state', None)]), 'LinearDiscriminantAnalysis', OrderedDict([('covariance_estimator', None), ('n_components', None), ('priors', None), ('shrinkage', None), ('solver', 'svd'), ('store_covariance', False), ('tol', 0.0001)]))\"]\n",
      "[\"('darknet', OrderedDict([('proportion', 0.75), ('random_state', None)]), 'LinearDiscriminantAnalysis', OrderedDict([('covariance_estimator', None), ('n_components', None), ('priors', None), ('shrinkage', None), ('solver', 'svd'), ('store_covariance', False), ('tol', 0.0001)]))\"]\n",
      "[\"('darknet', OrderedDict([('n_components', 4), ('proportion', 0.75), ('random_state', None)]), 'LinearDiscriminantAnalysis', OrderedDict([('covariance_estimator', None), ('n_components', None), ('priors', None), ('shrinkage', None), ('solver', 'svd'), ('store_covariance', False), ('tol', 0.0001)]))\"]\n",
      "[\"('darknet', OrderedDict([('n_components', 2), ('proportion', 0.75), ('random_state', None)]), 'LinearDiscriminantAnalysis', OrderedDict([('covariance_estimator', None), ('n_components', None), ('priors', None), ('shrinkage', None), ('solver', 'svd'), ('store_covariance', False), ('tol', 0.0001)]))\"]\n",
      "[\"('darknet', OrderedDict([('n_components', 3), ('proportion', 0.75), ('random_state', None)]), 'LinearDiscriminantAnalysis', OrderedDict([('covariance_estimator', None), ('n_components', None), ('priors', None), ('shrinkage', None), ('solver', 'svd'), ('store_covariance', False), ('tol', 0.0001)]))\"]\n",
      "[\"('darknet', OrderedDict([('n_components', 5), ('proportion', 0.75), ('random_state', None)]), 'LinearDiscriminantAnalysis', OrderedDict([('covariance_estimator', None), ('n_components', None), ('priors', None), ('shrinkage', None), ('solver', 'svd'), ('store_covariance', False), ('tol', 0.0001)]))\"]\n",
      "[\"('darknet', OrderedDict([('proportion', 0.75), ('random_state', None)]), 'LinearDiscriminantAnalysis', OrderedDict([('covariance_estimator', None), ('n_components', None), ('priors', None), ('shrinkage', None), ('solver', 'svd'), ('store_covariance', False), ('tol', 0.0001)]))\"]\n",
      "[\"('darknet', OrderedDict([('k', 5), ('proportion', 0.75), ('random_state', None)]), 'LinearDiscriminantAnalysis', OrderedDict([('covariance_estimator', None), ('n_components', None), ('priors', None), ('shrinkage', None), ('solver', 'svd'), ('store_covariance', False), ('tol', 0.0001)]))\"]\n",
      "[\"('darknet', OrderedDict([('k', 3), ('proportion', 0.75), ('random_state', None)]), 'LinearDiscriminantAnalysis', OrderedDict([('covariance_estimator', None), ('n_components', None), ('priors', None), ('shrinkage', None), ('solver', 'svd'), ('store_covariance', False), ('tol', 0.0001)]))\"]\n",
      "[\"('darknet', OrderedDict([('k', 7), ('proportion', 0.75), ('random_state', None)]), 'LinearDiscriminantAnalysis', OrderedDict([('covariance_estimator', None), ('n_components', None), ('priors', None), ('shrinkage', None), ('solver', 'svd'), ('store_covariance', False), ('tol', 0.0001)]))\"]\n",
      "[\"('darknet', OrderedDict([('proportion', 0.75), ('random_state', None)]), 'LinearDiscriminantAnalysis', OrderedDict([('covariance_estimator', None), ('n_components', None), ('priors', None), ('shrinkage', None), ('solver', 'svd'), ('store_covariance', False), ('tol', 0.0001)]))\"]\n",
      "[\"('darknet', OrderedDict([('k_neighbors', 7), ('n_neighbors', 5), ('proportion', 0.5), ('random_state', None)]), 'LinearDiscriminantAnalysis', OrderedDict([('covariance_estimator', None), ('n_components', None), ('priors', None), ('shrinkage', None), ('solver', 'svd'), ('store_covariance', False), ('tol', 0.0001)]))\"]\n",
      "[\"('darknet', OrderedDict([('k_neighbors', 3), ('n_neighbors', 5), ('proportion', 0.5), ('random_state', None)]), 'LinearDiscriminantAnalysis', OrderedDict([('covariance_estimator', None), ('n_components', None), ('priors', None), ('shrinkage', None), ('solver', 'svd'), ('store_covariance', False), ('tol', 0.0001)]))\"]\n",
      "[\"('darknet', OrderedDict([('k_neighbors', 5), ('n_neighbors', 7), ('proportion', 0.5), ('random_state', None)]), 'LinearDiscriminantAnalysis', OrderedDict([('covariance_estimator', None), ('n_components', None), ('priors', None), ('shrinkage', None), ('solver', 'svd'), ('store_covariance', False), ('tol', 0.0001)]))\"]\n",
      "[\"('darknet', OrderedDict([('k_neighbors', 5), ('n_neighbors', 3), ('proportion', 0.5), ('random_state', None)]), 'LinearDiscriminantAnalysis', OrderedDict([('covariance_estimator', None), ('n_components', None), ('priors', None), ('shrinkage', None), ('solver', 'svd'), ('store_covariance', False), ('tol', 0.0001)]))\"]\n",
      "[\"('darknet', OrderedDict([('k_neighbors', 7), ('n_neighbors', 7), ('proportion', 0.5), ('random_state', None)]), 'LinearDiscriminantAnalysis', OrderedDict([('covariance_estimator', None), ('n_components', None), ('priors', None), ('shrinkage', None), ('solver', 'svd'), ('store_covariance', False), ('tol', 0.0001)]))\"]\n",
      "[\"('darknet', OrderedDict([('n_neighbors', 3), ('proportion', 0.5), ('random_state', None)]), 'LinearDiscriminantAnalysis', OrderedDict([('covariance_estimator', None), ('n_components', None), ('priors', None), ('shrinkage', None), ('solver', 'svd'), ('store_covariance', False), ('tol', 0.0001)]))\"]\n",
      "[\"('darknet', OrderedDict([('n_neighbors', 5), ('proportion', 0.5), ('random_state', None)]), 'LinearDiscriminantAnalysis', OrderedDict([('covariance_estimator', None), ('n_components', None), ('priors', None), ('shrinkage', None), ('solver', 'svd'), ('store_covariance', False), ('tol', 0.0001)]))\"]\n",
      "[\"('darknet', OrderedDict([('n_neighbors', 7), ('proportion', 0.5), ('random_state', None)]), 'LinearDiscriminantAnalysis', OrderedDict([('covariance_estimator', None), ('n_components', None), ('priors', None), ('shrinkage', None), ('solver', 'svd'), ('store_covariance', False), ('tol', 0.0001)]))\"]\n",
      "[\"('darknet', OrderedDict([('T', 0.5), ('n_neighbors', 7), ('proportion', 0.5), ('random_state', None)]), 'LinearDiscriminantAnalysis', OrderedDict([('covariance_estimator', None), ('n_components', None), ('priors', None), ('shrinkage', None), ('solver', 'svd'), ('store_covariance', False), ('tol', 0.0001)]))\"]\n",
      "[\"('darknet', OrderedDict([('T', 0.5), ('n_neighbors', 5), ('proportion', 0.5), ('random_state', None)]), 'LinearDiscriminantAnalysis', OrderedDict([('covariance_estimator', None), ('n_components', None), ('priors', None), ('shrinkage', None), ('solver', 'svd'), ('store_covariance', False), ('tol', 0.0001)]))\"]\n",
      "[\"('darknet', OrderedDict([('T', 0.5), ('n_neighbors', 3), ('proportion', 0.5), ('random_state', None)]), 'LinearDiscriminantAnalysis', OrderedDict([('covariance_estimator', None), ('n_components', None), ('priors', None), ('shrinkage', None), ('solver', 'svd'), ('store_covariance', False), ('tol', 0.0001)]))\"]\n",
      "[\"('darknet', OrderedDict([('proportion', 0.5), ('random_state', None)]), 'LinearDiscriminantAnalysis', OrderedDict([('covariance_estimator', None), ('n_components', None), ('priors', None), ('shrinkage', None), ('solver', 'svd'), ('store_covariance', False), ('tol', 0.0001)]))\"]\n",
      "[\"('darknet', OrderedDict([('n_components', 2), ('proportion', 0.5), ('random_state', None)]), 'LinearDiscriminantAnalysis', OrderedDict([('covariance_estimator', None), ('n_components', None), ('priors', None), ('shrinkage', None), ('solver', 'svd'), ('store_covariance', False), ('tol', 0.0001)]))\"]\n",
      "[\"('darknet', OrderedDict([('n_components', 5), ('proportion', 0.5), ('random_state', None)]), 'LinearDiscriminantAnalysis', OrderedDict([('covariance_estimator', None), ('n_components', None), ('priors', None), ('shrinkage', None), ('solver', 'svd'), ('store_covariance', False), ('tol', 0.0001)]))\"]\n",
      "[\"('darknet', OrderedDict([('n_components', 4), ('proportion', 0.5), ('random_state', None)]), 'LinearDiscriminantAnalysis', OrderedDict([('covariance_estimator', None), ('n_components', None), ('priors', None), ('shrinkage', None), ('solver', 'svd'), ('store_covariance', False), ('tol', 0.0001)]))\"]\n",
      "[\"('darknet', OrderedDict([('proportion', 0.5), ('random_state', None)]), 'LinearDiscriminantAnalysis', OrderedDict([('covariance_estimator', None), ('n_components', None), ('priors', None), ('shrinkage', None), ('solver', 'svd'), ('store_covariance', False), ('tol', 0.0001)]))\"]\n",
      "[\"('darknet', OrderedDict([('k', 5), ('proportion', 0.5), ('random_state', None)]), 'LinearDiscriminantAnalysis', OrderedDict([('covariance_estimator', None), ('n_components', None), ('priors', None), ('shrinkage', None), ('solver', 'svd'), ('store_covariance', False), ('tol', 0.0001)]))\"]\n",
      "[\"('darknet', OrderedDict([('k', 7), ('proportion', 0.5), ('random_state', None)]), 'LinearDiscriminantAnalysis', OrderedDict([('covariance_estimator', None), ('n_components', None), ('priors', None), ('shrinkage', None), ('solver', 'svd'), ('store_covariance', False), ('tol', 0.0001)]))\"]\n",
      "[\"('darknet', OrderedDict([('k', 3), ('proportion', 0.5), ('random_state', None)]), 'LinearDiscriminantAnalysis', OrderedDict([('covariance_estimator', None), ('n_components', None), ('priors', None), ('shrinkage', None), ('solver', 'svd'), ('store_covariance', False), ('tol', 0.0001)]))\"]\n",
      "[\"('darknet', OrderedDict([('proportion', 0.5), ('random_state', None)]), 'LinearDiscriminantAnalysis', OrderedDict([('covariance_estimator', None), ('n_components', None), ('priors', None), ('shrinkage', None), ('solver', 'svd'), ('store_covariance', False), ('tol', 0.0001)]))\"]\n",
      "[\"('darknet', OrderedDict([('k_neighbors', 7), ('n_neighbors', 5), ('proportion', 0.25), ('random_state', None)]), 'LinearDiscriminantAnalysis', OrderedDict([('covariance_estimator', None), ('n_components', None), ('priors', None), ('shrinkage', None), ('solver', 'svd'), ('store_covariance', False), ('tol', 0.0001)]))\"]\n",
      "[\"('darknet', OrderedDict([('k_neighbors', 7), ('n_neighbors', 7), ('proportion', 0.25), ('random_state', None)]), 'LinearDiscriminantAnalysis', OrderedDict([('covariance_estimator', None), ('n_components', None), ('priors', None), ('shrinkage', None), ('solver', 'svd'), ('store_covariance', False), ('tol', 0.0001)]))\"]\n",
      "[\"('darknet', OrderedDict([('k_neighbors', 7), ('n_neighbors', 3), ('proportion', 0.25), ('random_state', None)]), 'LinearDiscriminantAnalysis', OrderedDict([('covariance_estimator', None), ('n_components', None), ('priors', None), ('shrinkage', None), ('solver', 'svd'), ('store_covariance', False), ('tol', 0.0001)]))\"]\n",
      "[\"('darknet', OrderedDict([('k_neighbors', 7), ('n_neighbors', 5), ('proportion', 0.25), ('random_state', None)]), 'LinearDiscriminantAnalysis', OrderedDict([('covariance_estimator', None), ('n_components', None), ('priors', None), ('shrinkage', None), ('solver', 'svd'), ('store_covariance', False), ('tol', 0.0001)]))\"]\n",
      "[\"('darknet', OrderedDict([('n_neighbors', 7), ('proportion', 0.25), ('random_state', None)]), 'LinearDiscriminantAnalysis', OrderedDict([('covariance_estimator', None), ('n_components', None), ('priors', None), ('shrinkage', None), ('solver', 'svd'), ('store_covariance', False), ('tol', 0.0001)]))\"]\n",
      "[\"('darknet', OrderedDict([('n_neighbors', 5), ('proportion', 0.25), ('random_state', None)]), 'LinearDiscriminantAnalysis', OrderedDict([('covariance_estimator', None), ('n_components', None), ('priors', None), ('shrinkage', None), ('solver', 'svd'), ('store_covariance', False), ('tol', 0.0001)]))\"]\n",
      "[\"('darknet', OrderedDict([('n_neighbors', 3), ('proportion', 0.25), ('random_state', None)]), 'LinearDiscriminantAnalysis', OrderedDict([('covariance_estimator', None), ('n_components', None), ('priors', None), ('shrinkage', None), ('solver', 'svd'), ('store_covariance', False), ('tol', 0.0001)]))\"]\n",
      "[\"('darknet', OrderedDict([('T', 0.5), ('n_neighbors', 5), ('proportion', 0.25), ('random_state', None)]), 'LinearDiscriminantAnalysis', OrderedDict([('covariance_estimator', None), ('n_components', None), ('priors', None), ('shrinkage', None), ('solver', 'svd'), ('store_covariance', False), ('tol', 0.0001)]))\"]\n",
      "[\"('darknet', OrderedDict([('T', 0.5), ('n_neighbors', 3), ('proportion', 0.25), ('random_state', None)]), 'LinearDiscriminantAnalysis', OrderedDict([('covariance_estimator', None), ('n_components', None), ('priors', None), ('shrinkage', None), ('solver', 'svd'), ('store_covariance', False), ('tol', 0.0001)]))\"]\n",
      "[\"('darknet', OrderedDict([('T', 0.5), ('n_neighbors', 7), ('proportion', 0.25), ('random_state', None)]), 'LinearDiscriminantAnalysis', OrderedDict([('covariance_estimator', None), ('n_components', None), ('priors', None), ('shrinkage', None), ('solver', 'svd'), ('store_covariance', False), ('tol', 0.0001)]))\"]\n",
      "[\"('darknet', OrderedDict([('proportion', 0.25), ('random_state', None)]), 'LinearDiscriminantAnalysis', OrderedDict([('covariance_estimator', None), ('n_components', None), ('priors', None), ('shrinkage', None), ('solver', 'svd'), ('store_covariance', False), ('tol', 0.0001)]))\"]\n",
      "[\"('darknet', OrderedDict([('n_components', 4), ('proportion', 0.25), ('random_state', None)]), 'LinearDiscriminantAnalysis', OrderedDict([('covariance_estimator', None), ('n_components', None), ('priors', None), ('shrinkage', None), ('solver', 'svd'), ('store_covariance', False), ('tol', 0.0001)]))\"]\n",
      "[\"('darknet', OrderedDict([('n_components', 2), ('proportion', 0.25), ('random_state', None)]), 'LinearDiscriminantAnalysis', OrderedDict([('covariance_estimator', None), ('n_components', None), ('priors', None), ('shrinkage', None), ('solver', 'svd'), ('store_covariance', False), ('tol', 0.0001)]))\"]\n",
      "[\"('darknet', OrderedDict([('n_components', 5), ('proportion', 0.25), ('random_state', None)]), 'LinearDiscriminantAnalysis', OrderedDict([('covariance_estimator', None), ('n_components', None), ('priors', None), ('shrinkage', None), ('solver', 'svd'), ('store_covariance', False), ('tol', 0.0001)]))\"]\n",
      "[\"('darknet', OrderedDict([('n_components', 3), ('proportion', 0.25), ('random_state', None)]), 'LinearDiscriminantAnalysis', OrderedDict([('covariance_estimator', None), ('n_components', None), ('priors', None), ('shrinkage', None), ('solver', 'svd'), ('store_covariance', False), ('tol', 0.0001)]))\"]\n",
      "[\"('darknet', OrderedDict([('proportion', 0.25), ('random_state', None)]), 'LinearDiscriminantAnalysis', OrderedDict([('covariance_estimator', None), ('n_components', None), ('priors', None), ('shrinkage', None), ('solver', 'svd'), ('store_covariance', False), ('tol', 0.0001)]))\"]\n",
      "[\"('darknet', OrderedDict([('k', 5), ('proportion', 0.25), ('random_state', None)]), 'LinearDiscriminantAnalysis', OrderedDict([('covariance_estimator', None), ('n_components', None), ('priors', None), ('shrinkage', None), ('solver', 'svd'), ('store_covariance', False), ('tol', 0.0001)]))\"]\n",
      "[\"('darknet', OrderedDict([('k', 3), ('proportion', 0.25), ('random_state', None)]), 'LinearDiscriminantAnalysis', OrderedDict([('covariance_estimator', None), ('n_components', None), ('priors', None), ('shrinkage', None), ('solver', 'svd'), ('store_covariance', False), ('tol', 0.0001)]))\"]\n",
      "[\"('darknet', OrderedDict([('k', 7), ('proportion', 0.25), ('random_state', None)]), 'LinearDiscriminantAnalysis', OrderedDict([('covariance_estimator', None), ('n_components', None), ('priors', None), ('shrinkage', None), ('solver', 'svd'), ('store_covariance', False), ('tol', 0.0001)]))\"]\n"
     ]
    },
    {
     "name": "stderr",
     "output_type": "stream",
     "text": [
      "2022-02-12 20:59:52,006:INFO:{'k_neighbors': 5, 'n_neighbors': 7, 'proportion': 0.1, 'random_state': None}\n",
      "2022-02-12 20:59:52,007:INFO:Sampling sampler parameter string OrderedDict([('k_neighbors', 5), ('n_neighbors', 7), ('proportion', 0.1), ('random_state', None)])\n",
      "2022-02-12 20:59:52,007:INFO:{'k_neighbors': 3, 'n_neighbors': 7, 'proportion': 0.1, 'random_state': None}\n",
      "2022-02-12 20:59:52,008:INFO:Sampling sampler parameter string OrderedDict([('k_neighbors', 3), ('n_neighbors', 7), ('proportion', 0.1), ('random_state', None)])\n",
      "2022-02-12 20:59:52,008:INFO:{'k_neighbors': 7, 'n_neighbors': 7, 'proportion': 0.1, 'random_state': None}\n",
      "2022-02-12 20:59:52,009:INFO:Sampling sampler parameter string OrderedDict([('k_neighbors', 7), ('n_neighbors', 7), ('proportion', 0.1), ('random_state', None)])\n",
      "2022-02-12 20:59:52,009:INFO:{'k_neighbors': 5, 'n_neighbors': 5, 'proportion': 0.1, 'random_state': None}\n",
      "2022-02-12 20:59:52,009:INFO:Sampling sampler parameter string OrderedDict([('k_neighbors', 5), ('n_neighbors', 5), ('proportion', 0.1), ('random_state', None)])\n",
      "2022-02-12 20:59:52,010:INFO:{'k_neighbors': 7, 'n_neighbors': 5, 'proportion': 0.1, 'random_state': None}\n",
      "2022-02-12 20:59:52,010:INFO:Sampling sampler parameter string OrderedDict([('k_neighbors', 7), ('n_neighbors', 5), ('proportion', 0.1), ('random_state', None)])\n",
      "2022-02-12 20:59:52,011:INFO:{'k_neighbors': 5, 'n_neighbors': 3, 'proportion': 0.1, 'random_state': None}\n",
      "2022-02-12 20:59:52,011:INFO:Sampling sampler parameter string OrderedDict([('k_neighbors', 5), ('n_neighbors', 3), ('proportion', 0.1), ('random_state', None)])\n",
      "2022-02-12 20:59:52,012:INFO:{'k_neighbors': 7, 'n_neighbors': 7, 'proportion': 0.1, 'random_state': None}\n",
      "2022-02-12 20:59:52,012:INFO:Sampling sampler parameter string OrderedDict([('k_neighbors', 7), ('n_neighbors', 7), ('proportion', 0.1), ('random_state', None)])\n",
      "2022-02-12 20:59:52,012:INFO:{'k_neighbors': 5, 'n_neighbors': 7, 'proportion': 0.1, 'random_state': None}\n",
      "2022-02-12 20:59:52,013:INFO:Sampling sampler parameter string OrderedDict([('k_neighbors', 5), ('n_neighbors', 7), ('proportion', 0.1), ('random_state', None)])\n",
      "2022-02-12 20:59:52,016:INFO:{'k_neighbors': 7, 'n_neighbors': 3, 'proportion': 0.1, 'random_state': None}\n",
      "2022-02-12 20:59:52,016:INFO:Sampling sampler parameter string OrderedDict([('k_neighbors', 7), ('n_neighbors', 3), ('proportion', 0.1), ('random_state', None)])\n",
      "2022-02-12 20:59:52,017:INFO:{'n_neighbors': 5, 'proportion': 0.1, 'random_state': None}\n",
      "2022-02-12 20:59:52,017:INFO:Sampling sampler parameter string OrderedDict([('n_neighbors', 5), ('proportion', 0.1), ('random_state', None)])\n",
      "2022-02-12 20:59:52,018:INFO:{'n_neighbors': 7, 'proportion': 0.1, 'random_state': None}\n",
      "2022-02-12 20:59:52,018:INFO:Sampling sampler parameter string OrderedDict([('n_neighbors', 7), ('proportion', 0.1), ('random_state', None)])\n",
      "2022-02-12 20:59:52,019:INFO:{'n_neighbors': 3, 'proportion': 0.1, 'random_state': None}\n",
      "2022-02-12 20:59:52,019:INFO:Sampling sampler parameter string OrderedDict([('n_neighbors', 3), ('proportion', 0.1), ('random_state', None)])\n",
      "2022-02-12 20:59:52,020:INFO:{'T': 0.5, 'n_neighbors': 7, 'proportion': 0.1, 'random_state': None}\n",
      "2022-02-12 20:59:52,020:INFO:Sampling sampler parameter string OrderedDict([('T', 0.5), ('n_neighbors', 7), ('proportion', 0.1), ('random_state', None)])\n",
      "2022-02-12 20:59:52,021:INFO:{'T': 0.5, 'n_neighbors': 3, 'proportion': 0.1, 'random_state': None}\n",
      "2022-02-12 20:59:52,021:INFO:Sampling sampler parameter string OrderedDict([('T', 0.5), ('n_neighbors', 3), ('proportion', 0.1), ('random_state', None)])\n",
      "2022-02-12 20:59:52,022:INFO:{'T': 0.5, 'n_neighbors': 5, 'proportion': 0.1, 'random_state': None}\n",
      "2022-02-12 20:59:52,022:INFO:Sampling sampler parameter string OrderedDict([('T', 0.5), ('n_neighbors', 5), ('proportion', 0.1), ('random_state', None)])\n",
      "2022-02-12 20:59:52,023:INFO:{'proportion': 0.1, 'random_state': None}\n",
      "2022-02-12 20:59:52,023:INFO:Sampling sampler parameter string OrderedDict([('proportion', 0.1), ('random_state', None)])\n",
      "2022-02-12 20:59:52,023:INFO:{'n_components': 2, 'proportion': 0.1, 'random_state': None}\n",
      "2022-02-12 20:59:52,024:INFO:Sampling sampler parameter string OrderedDict([('n_components', 2), ('proportion', 0.1), ('random_state', None)])\n",
      "2022-02-12 20:59:52,026:INFO:{'n_components': 5, 'proportion': 0.1, 'random_state': None}\n",
      "2022-02-12 20:59:52,027:INFO:Sampling sampler parameter string OrderedDict([('n_components', 5), ('proportion', 0.1), ('random_state', None)])\n",
      "2022-02-12 20:59:52,027:INFO:{'n_components': 4, 'proportion': 0.1, 'random_state': None}\n",
      "2022-02-12 20:59:52,028:INFO:Sampling sampler parameter string OrderedDict([('n_components', 4), ('proportion', 0.1), ('random_state', None)])\n",
      "2022-02-12 20:59:52,029:INFO:{'proportion': 0.1, 'random_state': None}\n",
      "2022-02-12 20:59:52,029:INFO:Sampling sampler parameter string OrderedDict([('proportion', 0.1), ('random_state', None)])\n",
      "2022-02-12 20:59:52,030:INFO:{'k': 7, 'proportion': 0.1, 'random_state': None}\n",
      "2022-02-12 20:59:52,030:INFO:Sampling sampler parameter string OrderedDict([('k', 7), ('proportion', 0.1), ('random_state', None)])\n",
      "2022-02-12 20:59:52,030:INFO:{'k': 5, 'proportion': 0.1, 'random_state': None}\n",
      "2022-02-12 20:59:52,031:INFO:Sampling sampler parameter string OrderedDict([('k', 5), ('proportion', 0.1), ('random_state', None)])\n",
      "2022-02-12 20:59:52,031:INFO:{'k': 3, 'proportion': 0.1, 'random_state': None}\n",
      "2022-02-12 20:59:52,032:INFO:Sampling sampler parameter string OrderedDict([('k', 3), ('proportion', 0.1), ('random_state', None)])\n",
      "2022-02-12 20:59:52,033:INFO:{'proportion': 0.1, 'random_state': None}\n",
      "2022-02-12 20:59:52,033:INFO:Sampling sampler parameter string OrderedDict([('proportion', 0.1), ('random_state', None)])\n",
      "2022-02-12 20:59:52,034:INFO:executing 168 evaluation jobs in parallel\n"
     ]
    },
    {
     "name": "stdout",
     "output_type": "stream",
     "text": [
      "[\"('darknet', OrderedDict([('proportion', 0.25), ('random_state', None)]), 'LinearDiscriminantAnalysis', OrderedDict([('covariance_estimator', None), ('n_components', None), ('priors', None), ('shrinkage', None), ('solver', 'svd'), ('store_covariance', False), ('tol', 0.0001)]))\"]\n",
      "[\"('darknet', OrderedDict([('k_neighbors', 5), ('n_neighbors', 7), ('proportion', 0.1), ('random_state', None)]), 'LinearDiscriminantAnalysis', OrderedDict([('covariance_estimator', None), ('n_components', None), ('priors', None), ('shrinkage', None), ('solver', 'svd'), ('store_covariance', False), ('tol', 0.0001)]))\"]\n",
      "[\"('darknet', OrderedDict([('k_neighbors', 3), ('n_neighbors', 7), ('proportion', 0.1), ('random_state', None)]), 'LinearDiscriminantAnalysis', OrderedDict([('covariance_estimator', None), ('n_components', None), ('priors', None), ('shrinkage', None), ('solver', 'svd'), ('store_covariance', False), ('tol', 0.0001)]))\"]\n",
      "[\"('darknet', OrderedDict([('k_neighbors', 7), ('n_neighbors', 7), ('proportion', 0.1), ('random_state', None)]), 'LinearDiscriminantAnalysis', OrderedDict([('covariance_estimator', None), ('n_components', None), ('priors', None), ('shrinkage', None), ('solver', 'svd'), ('store_covariance', False), ('tol', 0.0001)]))\"]\n",
      "[\"('darknet', OrderedDict([('k_neighbors', 5), ('n_neighbors', 5), ('proportion', 0.1), ('random_state', None)]), 'LinearDiscriminantAnalysis', OrderedDict([('covariance_estimator', None), ('n_components', None), ('priors', None), ('shrinkage', None), ('solver', 'svd'), ('store_covariance', False), ('tol', 0.0001)]))\"]\n",
      "[\"('darknet', OrderedDict([('k_neighbors', 7), ('n_neighbors', 5), ('proportion', 0.1), ('random_state', None)]), 'LinearDiscriminantAnalysis', OrderedDict([('covariance_estimator', None), ('n_components', None), ('priors', None), ('shrinkage', None), ('solver', 'svd'), ('store_covariance', False), ('tol', 0.0001)]))\"]\n",
      "[\"('darknet', OrderedDict([('k_neighbors', 5), ('n_neighbors', 3), ('proportion', 0.1), ('random_state', None)]), 'LinearDiscriminantAnalysis', OrderedDict([('covariance_estimator', None), ('n_components', None), ('priors', None), ('shrinkage', None), ('solver', 'svd'), ('store_covariance', False), ('tol', 0.0001)]))\"]\n",
      "[\"('darknet', OrderedDict([('k_neighbors', 7), ('n_neighbors', 7), ('proportion', 0.1), ('random_state', None)]), 'LinearDiscriminantAnalysis', OrderedDict([('covariance_estimator', None), ('n_components', None), ('priors', None), ('shrinkage', None), ('solver', 'svd'), ('store_covariance', False), ('tol', 0.0001)]))\"]\n",
      "[\"('darknet', OrderedDict([('k_neighbors', 5), ('n_neighbors', 7), ('proportion', 0.1), ('random_state', None)]), 'LinearDiscriminantAnalysis', OrderedDict([('covariance_estimator', None), ('n_components', None), ('priors', None), ('shrinkage', None), ('solver', 'svd'), ('store_covariance', False), ('tol', 0.0001)]))\"]\n",
      "[\"('darknet', OrderedDict([('k_neighbors', 7), ('n_neighbors', 3), ('proportion', 0.1), ('random_state', None)]), 'LinearDiscriminantAnalysis', OrderedDict([('covariance_estimator', None), ('n_components', None), ('priors', None), ('shrinkage', None), ('solver', 'svd'), ('store_covariance', False), ('tol', 0.0001)]))\"]\n",
      "[\"('darknet', OrderedDict([('n_neighbors', 5), ('proportion', 0.1), ('random_state', None)]), 'LinearDiscriminantAnalysis', OrderedDict([('covariance_estimator', None), ('n_components', None), ('priors', None), ('shrinkage', None), ('solver', 'svd'), ('store_covariance', False), ('tol', 0.0001)]))\"]\n",
      "[\"('darknet', OrderedDict([('n_neighbors', 7), ('proportion', 0.1), ('random_state', None)]), 'LinearDiscriminantAnalysis', OrderedDict([('covariance_estimator', None), ('n_components', None), ('priors', None), ('shrinkage', None), ('solver', 'svd'), ('store_covariance', False), ('tol', 0.0001)]))\"]\n",
      "[\"('darknet', OrderedDict([('n_neighbors', 3), ('proportion', 0.1), ('random_state', None)]), 'LinearDiscriminantAnalysis', OrderedDict([('covariance_estimator', None), ('n_components', None), ('priors', None), ('shrinkage', None), ('solver', 'svd'), ('store_covariance', False), ('tol', 0.0001)]))\"]\n",
      "[\"('darknet', OrderedDict([('T', 0.5), ('n_neighbors', 7), ('proportion', 0.1), ('random_state', None)]), 'LinearDiscriminantAnalysis', OrderedDict([('covariance_estimator', None), ('n_components', None), ('priors', None), ('shrinkage', None), ('solver', 'svd'), ('store_covariance', False), ('tol', 0.0001)]))\"]\n",
      "[\"('darknet', OrderedDict([('T', 0.5), ('n_neighbors', 3), ('proportion', 0.1), ('random_state', None)]), 'LinearDiscriminantAnalysis', OrderedDict([('covariance_estimator', None), ('n_components', None), ('priors', None), ('shrinkage', None), ('solver', 'svd'), ('store_covariance', False), ('tol', 0.0001)]))\"]\n",
      "[\"('darknet', OrderedDict([('T', 0.5), ('n_neighbors', 5), ('proportion', 0.1), ('random_state', None)]), 'LinearDiscriminantAnalysis', OrderedDict([('covariance_estimator', None), ('n_components', None), ('priors', None), ('shrinkage', None), ('solver', 'svd'), ('store_covariance', False), ('tol', 0.0001)]))\"]\n",
      "[\"('darknet', OrderedDict([('proportion', 0.1), ('random_state', None)]), 'LinearDiscriminantAnalysis', OrderedDict([('covariance_estimator', None), ('n_components', None), ('priors', None), ('shrinkage', None), ('solver', 'svd'), ('store_covariance', False), ('tol', 0.0001)]))\"]\n",
      "[\"('darknet', OrderedDict([('n_components', 2), ('proportion', 0.1), ('random_state', None)]), 'LinearDiscriminantAnalysis', OrderedDict([('covariance_estimator', None), ('n_components', None), ('priors', None), ('shrinkage', None), ('solver', 'svd'), ('store_covariance', False), ('tol', 0.0001)]))\"]\n",
      "[\"('darknet', OrderedDict([('n_components', 5), ('proportion', 0.1), ('random_state', None)]), 'LinearDiscriminantAnalysis', OrderedDict([('covariance_estimator', None), ('n_components', None), ('priors', None), ('shrinkage', None), ('solver', 'svd'), ('store_covariance', False), ('tol', 0.0001)]))\"]\n",
      "[\"('darknet', OrderedDict([('n_components', 4), ('proportion', 0.1), ('random_state', None)]), 'LinearDiscriminantAnalysis', OrderedDict([('covariance_estimator', None), ('n_components', None), ('priors', None), ('shrinkage', None), ('solver', 'svd'), ('store_covariance', False), ('tol', 0.0001)]))\"]\n",
      "[\"('darknet', OrderedDict([('proportion', 0.1), ('random_state', None)]), 'LinearDiscriminantAnalysis', OrderedDict([('covariance_estimator', None), ('n_components', None), ('priors', None), ('shrinkage', None), ('solver', 'svd'), ('store_covariance', False), ('tol', 0.0001)]))\"]\n",
      "[\"('darknet', OrderedDict([('k', 7), ('proportion', 0.1), ('random_state', None)]), 'LinearDiscriminantAnalysis', OrderedDict([('covariance_estimator', None), ('n_components', None), ('priors', None), ('shrinkage', None), ('solver', 'svd'), ('store_covariance', False), ('tol', 0.0001)]))\"]\n",
      "[\"('darknet', OrderedDict([('k', 5), ('proportion', 0.1), ('random_state', None)]), 'LinearDiscriminantAnalysis', OrderedDict([('covariance_estimator', None), ('n_components', None), ('priors', None), ('shrinkage', None), ('solver', 'svd'), ('store_covariance', False), ('tol', 0.0001)]))\"]\n",
      "[\"('darknet', OrderedDict([('k', 3), ('proportion', 0.1), ('random_state', None)]), 'LinearDiscriminantAnalysis', OrderedDict([('covariance_estimator', None), ('n_components', None), ('priors', None), ('shrinkage', None), ('solver', 'svd'), ('store_covariance', False), ('tol', 0.0001)]))\"]\n",
      "[\"('darknet', OrderedDict([('proportion', 0.1), ('random_state', None)]), 'LinearDiscriminantAnalysis', OrderedDict([('covariance_estimator', None), ('n_components', None), ('priors', None), ('shrinkage', None), ('solver', 'svd'), ('store_covariance', False), ('tol', 0.0001)]))\"]\n"
     ]
    },
    {
     "name": "stderr",
     "output_type": "stream",
     "text": [
      "2022-02-12 21:39:58,952:INFO:concatenating the results\n",
      "2022-02-12 21:39:59,661:INFO:aggregating the results\n"
     ]
    }
   ],
   "source": [
    "ld_classifier= LinearDiscriminantAnalysis()\n",
    "\n",
    "# samp_obj and cl_obj contain the oversampling and classifier objects which give the\n",
    "# best performance together\n",
    "# Performs RepeatedStratifiedKFold with 5 splits and 3 repeats \n",
    "samp_obj, cl_obj= sv.model_selection(dataset= dataset,\n",
    "                                        samplers= sv.get_n_quickest_oversamplers(10),\n",
    "                                        classifiers= [ld_classifier],\n",
    "                                        cache_path= cache_path,\n",
    "                                        n_jobs= 5,\n",
    "                                        max_samp_par_comb= 25)"
   ]
  },
  {
   "cell_type": "code",
   "execution_count": 6,
   "id": "finite-acquisition",
   "metadata": {},
   "outputs": [
    {
     "name": "stdout",
     "output_type": "stream",
     "text": [
      "The best outcome is the ('OUPS', \"{'proportion': 2.0, 'n_jobs': 1, 'random_state': None}\") variant with the LinearDiscriminantAnalysis() classifier\n"
     ]
    }
   ],
   "source": [
    "print(f\"The best outcome is the {samp_obj} variant with the {cl_obj} classifier\")"
   ]
  },
  {
   "cell_type": "code",
   "execution_count": 7,
   "id": "wireless-perfume",
   "metadata": {},
   "outputs": [
    {
     "name": "stderr",
     "output_type": "stream",
     "text": [
      "2022-02-12 21:40:00,005:INFO:OUPS: Running sampling via ('OUPS', \"{'proportion': 2.0, 'n_jobs': 1, 'random_state': None}\")\n",
      "/home/drake/miniconda3/envs/gpu2/lib/python3.6/site-packages/sklearn/linear_model/_logistic.py:765: ConvergenceWarning: lbfgs failed to converge (status=2):\n",
      "ABNORMAL_TERMINATION_IN_LNSRCH.\n",
      "\n",
      "Increase the number of iterations (max_iter) or scale the data as shown in:\n",
      "    https://scikit-learn.org/stable/modules/preprocessing.html\n",
      "Please also refer to the documentation for alternative solver options:\n",
      "    https://scikit-learn.org/stable/modules/linear_model.html#logistic-regression\n",
      "  extra_warning_msg=_LOGISTIC_SOLVER_CONVERGENCE_MSG)\n"
     ]
    }
   ],
   "source": [
    "# training the best techniques using the entire dataset\n",
    "X_samp, y_samp= samp_obj.sample(dataset['data'], dataset['target'])"
   ]
  },
  {
   "cell_type": "code",
   "execution_count": 8,
   "id": "stuck-course",
   "metadata": {},
   "outputs": [],
   "source": [
    "X_samp_df = pd.DataFrame(X_samp, columns = ['Src Port', 'Dst Port', 'Protocol', 'Flow Duration', 'Total Fwd Packet',\n",
    "       'Total Bwd packets', 'Total Length of Fwd Packet',\n",
    "       'Total Length of Bwd Packet', 'Fwd Packet Length Max',\n",
    "       'Fwd Packet Length Min', 'Fwd Packet Length Mean',\n",
    "       'Fwd Packet Length Std', 'Bwd Packet Length Max',\n",
    "       'Bwd Packet Length Min', 'Bwd Packet Length Mean',\n",
    "       'Bwd Packet Length Std', 'Flow Bytes/s', 'Flow Packets/s',\n",
    "       'Flow IAT Mean', 'Flow IAT Std', 'Flow IAT Max', 'Flow IAT Min',\n",
    "       'Fwd IAT Total', 'Fwd IAT Mean', 'Fwd IAT Std', 'Fwd IAT Max',\n",
    "       'Fwd IAT Min', 'Bwd IAT Total', 'Bwd IAT Mean', 'Bwd IAT Std',\n",
    "       'Bwd IAT Max', 'Bwd IAT Min', 'Fwd PSH Flags', 'Fwd Header Length',\n",
    "       'Bwd Header Length', 'Fwd Packets/s', 'Bwd Packets/s',\n",
    "       'Packet Length Min', 'Packet Length Max', 'Packet Length Mean',\n",
    "       'Packet Length Std', 'Packet Length Variance', 'FIN Flag Count',\n",
    "       'SYN Flag Count', 'RST Flag Count', 'PSH Flag Count', 'ACK Flag Count',\n",
    "       'Down/Up Ratio', 'Average Packet Size', 'Fwd Segment Size Avg',\n",
    "       'Bwd Segment Size Avg', 'Bwd Packet/Bulk Avg', 'Bwd Bulk Rate Avg',\n",
    "       'Subflow Fwd Packets', 'Subflow Fwd Bytes', 'Subflow Bwd Bytes',\n",
    "       'FWD Init Win Bytes', 'Bwd Init Win Bytes', 'Fwd Act Data Pkts',\n",
    "       'Fwd Seg Size Min', 'Idle Mean', 'Idle Std', 'Idle Max', 'Idle Min'])\n",
    "y_samp_df = pd.DataFrame(y_samp, columns = ['Darknet'])"
   ]
  },
  {
   "cell_type": "code",
   "execution_count": 9,
   "id": "under-storage",
   "metadata": {},
   "outputs": [],
   "source": [
    "X_samp_df.to_csv(\"../Data/synthetic/SMOTE/best_versionX.csv\")\n",
    "y_samp_df.to_csv(\"../Data/synthetic/SMOTE/best_versiony.csv\")"
   ]
  },
  {
   "cell_type": "code",
   "execution_count": 10,
   "id": "pursuant-grace",
   "metadata": {},
   "outputs": [
    {
     "data": {
      "text/plain": [
       "LinearDiscriminantAnalysis()"
      ]
     },
     "execution_count": 10,
     "metadata": {},
     "output_type": "execute_result"
    }
   ],
   "source": [
    "X_train, X_test, y_train, y_test = train_test_split(X_samp_df, y_samp_df, test_size=0.2)\n",
    "cl_obj.fit(X_samp, y_samp)"
   ]
  },
  {
   "cell_type": "code",
   "execution_count": 11,
   "id": "editorial-trauma",
   "metadata": {},
   "outputs": [],
   "source": [
    "y_pred=cl_obj.predict(X_test)"
   ]
  },
  {
   "cell_type": "code",
   "execution_count": 12,
   "id": "frequent-resolution",
   "metadata": {},
   "outputs": [
    {
     "name": "stdout",
     "output_type": "stream",
     "text": [
      "Accuracy: 0.8764347287707768\n",
      "AUC: 0.8715735344766745\n",
      "F1: 0.8917311744945439\n"
     ]
    }
   ],
   "source": [
    "print(\"Accuracy:\",metrics.accuracy_score(y_test, y_pred))\n",
    "print(\"AUC:\",metrics.roc_auc_score(y_test, y_pred))\n",
    "print(\"F1:\",metrics.f1_score(y_test, y_pred))"
   ]
  },
  {
   "cell_type": "markdown",
   "id": "color-broadcasting",
   "metadata": {},
   "source": [
    "# Custom Testing (Deprecated, only keeping for reference)"
   ]
  },
  {
   "cell_type": "code",
   "execution_count": null,
   "id": "chronic-dividend",
   "metadata": {
    "scrolled": false
   },
   "outputs": [
    {
     "name": "stderr",
     "output_type": "stream",
     "text": [
      "2022-02-12 13:20:27,880:INFO:kmeans_SMOTE: Running sampling via ('kmeans_SMOTE', \"{'proportion': 1.0, 'n_neighbors': 5, 'n_clusters': 10, 'irt': 2.0, 'n_jobs': 1, 'random_state': None}\")\n",
      "2022-02-12 13:20:30,170:WARNING:kmeans_SMOTE: number of clusters after filtering is 0\n",
      "2022-02-12 13:20:30,184:INFO:SMOTE: Running sampling via ('SMOTE', \"{'proportion': 1.0, 'n_neighbors': 5, 'n_jobs': 1, 'random_state': None}\")\n",
      "2022-02-12 13:20:38,385:INFO:SMOTE_TomekLinks: Running sampling via ('SMOTE_TomekLinks', \"{'proportion': 1.0, 'n_neighbors': 5, 'n_jobs': 1, 'random_state': None}\")\n",
      "2022-02-12 13:20:38,386:INFO:SMOTE: Running sampling via ('SMOTE', \"{'proportion': 1.0, 'n_neighbors': 5, 'n_jobs': 1, 'random_state': <module 'numpy.random' from '/home/drake/miniconda3/envs/gpu2/lib/python3.6/site-packages/numpy/random/__init__.py'>}\")\n",
      "2022-02-12 13:20:46,565:INFO:TomekLinkRemoval: Running noise removal via TomekLinkRemoval\n",
      "2022-02-12 13:27:05,209:INFO:SMOTE_ENN: Running sampling via ('SMOTE_ENN', \"{'proportion': 1.0, 'n_neighbors': 5, 'n_jobs': 1, 'random_state': None}\")\n",
      "2022-02-12 13:27:05,210:INFO:SMOTE: Running sampling via ('SMOTE', \"{'proportion': 1.0, 'n_neighbors': 5, 'n_jobs': 1, 'random_state': <module 'numpy.random' from '/home/drake/miniconda3/envs/gpu2/lib/python3.6/site-packages/numpy/random/__init__.py'>}\")\n",
      "2022-02-12 13:27:13,347:INFO:EditedNearestNeighbors: Running noise removal via EditedNearestNeighbors\n",
      "2022-02-12 13:30:22,268:INFO:Borderline_SMOTE1: Running sampling via ('Borderline_SMOTE1', \"{'proportion': 1.0, 'n_neighbors': 5, 'k_neighbors': 5, 'n_jobs': 1, 'random_state': None}\")\n",
      "2022-02-12 13:31:01,267:INFO:Borderline_SMOTE2: Running sampling via ('Borderline_SMOTE2', \"{'proportion': 1.0, 'n_neighbors': 5, 'k_neighbors': 5, 'n_jobs': 1, 'random_state': None}\")\n"
     ]
    },
    {
     "name": "stdout",
     "output_type": "stream",
     "text": [
      "5 samples out of 87 completed. 4 passed and 1 failed\n"
     ]
    },
    {
     "name": "stderr",
     "output_type": "stream",
     "text": [
      "2022-02-12 13:31:13,724:INFO:ADASYN: Running sampling via ('ADASYN', \"{'n_neighbors': 5, 'd_th': 0.9, 'beta': 1.0, 'n_jobs': 1, 'random_state': None}\")\n",
      "2022-02-12 13:31:31,186:INFO:AHC: Running sampling via ('AHC', \"{'strategy': 'min', 'n_jobs': 1, 'random_state': None}\")\n"
     ]
    }
   ],
   "source": [
    "variants = [sv.kmeans_SMOTE(), sv.SMOTE(), sv.SMOTE_TomekLinks(), sv.SMOTE_ENN(), sv.Borderline_SMOTE1(), sv.Borderline_SMOTE2(), sv.ADASYN(), sv.AHC(), sv.LLE_SMOTE(), sv.distance_SMOTE(), sv.SMMO(), sv.polynom_fit_SMOTE(), sv.Stefanowski(), sv.ADOMS(), sv.Safe_Level_SMOTE(), sv.MSMOTE(), sv.DE_oversampling(), sv.SMOBD(), sv.SUNDO(), sv.MSYN(), sv.SVM_balance(), sv.TRIM_SMOTE(), sv.SMOTE_RSB(), sv.ProWSyn(), sv.SL_graph_SMOTE(), sv.NRSBoundary_SMOTE(), sv.LVQ_SMOTE(), sv.SOI_CJ(), sv.ROSE(), sv.SMOTE_OUT(), sv.SMOTE_Cosine(), sv.Selected_SMOTE(), sv.LN_SMOTE(), sv.MWMOTE(), sv.PDFOS(), sv.IPADE_ID(), sv.RWO_sampling(), sv.NEATER(), sv.DEAGO(), sv.Gazzah(), sv.MCT(), sv.ADG(), sv.SMOTE_IPF(), sv.KernelADASYN(), sv.MOT2LD(), sv.V_SYNTH(), sv.OUPS(), sv.SMOTE_D(), sv.SMOTE_PSO(), sv.CURE_SMOTE(), sv.SOMO(), sv.ISOMAP_Hybrid(), sv.CE_SMOTE(), sv.Edge_Det_SMOTE(), sv.CBSO(), sv.E_SMOTE(), sv.DBSMOTE(), sv.ASMOBD(), sv.Assembled_SMOTE(), sv.SDSMOTE(), sv.DSMOTE(), sv.G_SMOTE(), sv.NT_SMOTE(), sv.Lee(), sv.SPY(), sv.SMOTE_PSOBAT(), sv.MDO(), sv.Random_SMOTE(), sv.ISMOTE(), sv.VIS_RST(), sv.GASMOTE(), sv.A_SUWO(), sv.SMOTE_FRST_2T(), sv.AND_SMOTE(), sv.NRAS(), sv.AMSCO(), sv.SSO(), sv.NDO_sampling(), sv.DSRBF(), sv.Gaussian_SMOTE(), sv.kmeans_SMOTE(), sv.Supervised_SMOTE(), sv.SN_SMOTE(), sv.CCR(), sv.ANS(), sv.cluster_SMOTE(), sv.NoSMOTE()]\n",
    "succesful = []\n",
    "failed = []\n",
    "progress = 0\n",
    "\n",
    "for variant in variants:\n",
    "    oversampler= variant\n",
    "    try:\n",
    "        X_over_samp, y_over_samp = oversampler.sample(X, y)\n",
    "        succesful.append(oversampler)\n",
    "    except:\n",
    "        failed.append(oversampler)\n",
    "    progress += 1\n",
    "    if progress % 5 == 0:\n",
    "        print(f\"{progress} samples out of {len(variants)} completed. {len(succesful)} passed and {len(failed)} failed\")"
   ]
  }
 ],
 "metadata": {
  "kernelspec": {
   "display_name": "Python 3",
   "language": "python",
   "name": "python3"
  },
  "language_info": {
   "codemirror_mode": {
    "name": "ipython",
    "version": 3
   },
   "file_extension": ".py",
   "mimetype": "text/x-python",
   "name": "python",
   "nbconvert_exporter": "python",
   "pygments_lexer": "ipython3",
   "version": "3.6.13"
  }
 },
 "nbformat": 4,
 "nbformat_minor": 5
}
