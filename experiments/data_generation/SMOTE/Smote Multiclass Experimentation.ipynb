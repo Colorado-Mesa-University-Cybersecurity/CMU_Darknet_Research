{
 "cells": [
  {
   "cell_type": "markdown",
   "id": "early-translation",
   "metadata": {},
   "source": [
    "This notebook is a work in progress. I will clean up code, add o"
   ]
  },
  {
   "cell_type": "markdown",
   "id": "horizontal-extra",
   "metadata": {},
   "source": [
    "# Multiclass Synthetic Data Experimentation"
   ]
  },
  {
   "cell_type": "markdown",
   "id": "featured-fancy",
   "metadata": {},
   "source": [
    "All testing done in this notebook is for proof of concept.\n",
    "<br>\n",
    "The following sections experiment with synthetic generation for multiclass classification. Furthermore, since Linear Discriminant Analysis runs much faster than Random Forest, the SMOTE classifiers are tested on LD instead of RF classifiers"
   ]
  },
  {
   "cell_type": "code",
   "execution_count": 83,
   "id": "decimal-verse",
   "metadata": {},
   "outputs": [
    {
     "name": "stdout",
     "output_type": "stream",
     "text": [
      "numpy version 1.18.1\n",
      "pandas version 1.0.1\n",
      "imblearn version 0.8.1\n",
      "sklearn version 0.24.1\n",
      "smote_variants version 0.4.0\n"
     ]
    }
   ],
   "source": [
    "import numpy as np\n",
    "import pandas as pd\n",
    "import imblearn\n",
    "import sklearn\n",
    "import smote_variants\n",
    "import os.path\n",
    "from sklearn.discriminant_analysis import LinearDiscriminantAnalysis\n",
    "import smote_variants as sv\n",
    "from sklearn.model_selection import train_test_split\n",
    "from sklearn import metrics\n",
    "\n",
    "print(f\"numpy version {np.__version__}\")\n",
    "print(f\"pandas version {pd.__version__}\")\n",
    "print(f\"imblearn version {imblearn.__version__}\")\n",
    "print(f\"sklearn version {sklearn.__version__}\")\n",
    "print(f\"smote_variants version {smote_variants.__version__}\")\n",
    "\n"
   ]
  },
  {
   "cell_type": "code",
   "execution_count": 103,
   "id": "portable-cabin",
   "metadata": {},
   "outputs": [],
   "source": [
    "# Read csv files into a dataframe\n",
    "df = pd.read_csv(\"../../../Data/cleaned/Darknet_phase_1.csv\")\n",
    "\n",
    "traffic_application_to_num = {\n",
    "    'audio-streaming': 0,\n",
    "    'browsing': 1,\n",
    "    'chat': 2,\n",
    "    'email': 3,\n",
    "    'file-transfer': 4,\n",
    "    'p2p': 5,\n",
    "    'video-streaming': 6,\n",
    "    'voip': 7\n",
    "}\n",
    "\n",
    "traffic_type_to_num = {\n",
    "    'Non-Tor': 0,\n",
    "    'NonVPN': 1,\n",
    "    'Tor': 2,\n",
    "    'VPN': 3\n",
    "}\n",
    "\n",
    "df['Label1'] = df['Label1'].map(traffic_application_to_num)\n",
    "df['Label'] = df['Label'].map(traffic_type_to_num)\n",
    "df['Label1'] = df['Label1'].astype(int)\n",
    "df['Label1'] = df['Label'].astype(int)"
   ]
  },
  {
   "cell_type": "code",
   "execution_count": 104,
   "id": "specialized-clark",
   "metadata": {},
   "outputs": [],
   "source": [
    "X = df.loc[:, df.columns != 'Label1']\n",
    "y = df['Label1']"
   ]
  },
  {
   "cell_type": "markdown",
   "id": "equipped-accountability",
   "metadata": {},
   "source": [
    "# Baseline Linear Discriminant Analysis"
   ]
  },
  {
   "cell_type": "code",
   "execution_count": 73,
   "id": "exact-method",
   "metadata": {},
   "outputs": [
    {
     "name": "stdout",
     "output_type": "stream",
     "text": [
      "Accuracy: 0.6370993391525603\n",
      "F1: 0.6081881128419068\n"
     ]
    }
   ],
   "source": [
    "ld_classifier = LinearDiscriminantAnalysis()\n",
    "\n",
    "X_train, X_test, y_train, y_test = train_test_split(X, y, test_size=0.2)\n",
    "ld_classifier.fit(X_train, y_train)\n",
    "\n",
    "y_pred = ld_classifier.predict(X_test)\n",
    "\n",
    "print(\"Accuracy:\",metrics.accuracy_score(y_test, y_pred))\n",
    "print(\"F1:\",metrics.f1_score(y_test, y_pred, average='weighted'))"
   ]
  },
  {
   "cell_type": "markdown",
   "id": "portable-lotus",
   "metadata": {},
   "source": [
    "# Testing a single SMOTE variant with Linear Discriminant Analysis"
   ]
  },
  {
   "cell_type": "code",
   "execution_count": 105,
   "id": "monthly-might",
   "metadata": {},
   "outputs": [],
   "source": [
    "# Convert the data and target datasets to numpy arrays\n",
    "X = X.to_numpy()\n",
    "y = y.to_numpy()"
   ]
  },
  {
   "cell_type": "code",
   "execution_count": 106,
   "id": "controlling-bahrain",
   "metadata": {},
   "outputs": [],
   "source": [
    "# The smote_variants package wants specific labels for the data\n",
    "dataset= {'data': X, 'target': y, 'name': 'darknet_multiclass'}"
   ]
  },
  {
   "cell_type": "code",
   "execution_count": 107,
   "id": "chicken-insulation",
   "metadata": {},
   "outputs": [],
   "source": [
    "# This can be stored anywhere; however, it takes a lot of space. We will need to change the location later\n",
    "cache_path= \"/mnt/sda1\"\n",
    "\n",
    "if not os.path.exists(cache_path):\n",
    "    os.makedirs(cache_path)"
   ]
  },
  {
   "cell_type": "code",
   "execution_count": 108,
   "id": "sonic-header",
   "metadata": {},
   "outputs": [
    {
     "name": "stderr",
     "output_type": "stream",
     "text": [
      "2022-02-19 13:32:01,415:INFO:MulticlassOversampling: Running multiclass oversampling with strategy eq_1_vs_many_successive\n",
      "2022-02-19 13:32:01,450:INFO:MulticlassOversampling: Sampling minority class with label: 1\n",
      "2022-02-19 13:32:01,467:INFO:distance_SMOTE: Running sampling via ('distance_SMOTE', \"{'proportion': 1.0, 'n_neighbors': 5, 'n_jobs': 1, 'random_state': None}\")\n",
      "2022-02-19 13:32:11,492:INFO:MulticlassOversampling: Sampling minority class with label: 3\n",
      "2022-02-19 13:32:11,519:INFO:distance_SMOTE: Running sampling via ('distance_SMOTE', \"{'proportion': 0.42999651799949906, 'n_neighbors': 5, 'n_jobs': 1, 'random_state': None}\")\n",
      "2022-02-19 13:32:20,380:INFO:MulticlassOversampling: Sampling minority class with label: 2\n",
      "2022-02-19 13:32:20,411:INFO:distance_SMOTE: Running sampling via ('distance_SMOTE', \"{'proportion': 0.3300016155958856, 'n_neighbors': 5, 'n_jobs': 1, 'random_state': None}\")\n"
     ]
    }
   ],
   "source": [
    "oversampler= sv.MulticlassOversampling(sv.distance_SMOTE())\n",
    "\n",
    "X_samp, y_samp= oversampler.sample(X, y)"
   ]
  },
  {
   "cell_type": "code",
   "execution_count": 109,
   "id": "conditional-questionnaire",
   "metadata": {},
   "outputs": [],
   "source": [
    "X_samp_df = pd.DataFrame(X_samp, columns = ['Protocol', 'Flow Duration', 'Total Fwd Packet', 'Total Bwd packets',\n",
    "       'Total Length of Fwd Packet', 'Total Length of Bwd Packet',\n",
    "       'Fwd Packet Length Max', 'Fwd Packet Length Min',\n",
    "       'Fwd Packet Length Mean', 'Fwd Packet Length Std',\n",
    "       'Bwd Packet Length Max', 'Bwd Packet Length Min',\n",
    "       'Bwd Packet Length Mean', 'Bwd Packet Length Std', 'Flow Bytes/s',\n",
    "       'Flow Packets/s', 'Flow IAT Mean', 'Flow IAT Std', 'Flow IAT Max',\n",
    "       'Flow IAT Min', 'Fwd IAT Total', 'Fwd IAT Mean', 'Fwd IAT Std',\n",
    "       'Fwd IAT Max', 'Fwd IAT Min', 'Bwd IAT Total', 'Bwd IAT Mean',\n",
    "       'Bwd IAT Std', 'Bwd IAT Max', 'Bwd IAT Min', 'Fwd PSH Flags',\n",
    "       'Bwd PSH Flags', 'Fwd URG Flags', 'Bwd URG Flags', 'Fwd Header Length',\n",
    "       'Bwd Header Length', 'Fwd Packets/s', 'Bwd Packets/s',\n",
    "       'Packet Length Min', 'Packet Length Max', 'Packet Length Mean',\n",
    "       'Packet Length Std', 'Packet Length Variance', 'FIN Flag Count',\n",
    "       'SYN Flag Count', 'RST Flag Count', 'PSH Flag Count', 'ACK Flag Count',\n",
    "       'URG Flag Count', 'CWE Flag Count', 'ECE Flag Count', 'Down/Up Ratio',\n",
    "       'Average Packet Size', 'Fwd Segment Size Avg', 'Bwd Segment Size Avg',\n",
    "       'Fwd Bytes/Bulk Avg', 'Fwd Packet/Bulk Avg', 'Fwd Bulk Rate Avg',\n",
    "       'Bwd Bytes/Bulk Avg', 'Bwd Packet/Bulk Avg', 'Bwd Bulk Rate Avg',\n",
    "       'Subflow Fwd Packets', 'Subflow Fwd Bytes', 'Subflow Bwd Packets',\n",
    "       'Subflow Bwd Bytes', 'FWD Init Win Bytes', 'Bwd Init Win Bytes',\n",
    "       'Fwd Act Data Pkts', 'Fwd Seg Size Min', 'Active Mean', 'Active Std',\n",
    "       'Active Max', 'Active Min', 'Idle Mean', 'Idle Std', 'Idle Max',\n",
    "       'Idle Min', 'Label'])\n",
    "y_samp_df = pd.DataFrame(y_samp, columns = ['Label1'])"
   ]
  },
  {
   "cell_type": "code",
   "execution_count": 110,
   "id": "double-enterprise",
   "metadata": {},
   "outputs": [
    {
     "data": {
      "text/html": [
       "<div>\n",
       "<style scoped>\n",
       "    .dataframe tbody tr th:only-of-type {\n",
       "        vertical-align: middle;\n",
       "    }\n",
       "\n",
       "    .dataframe tbody tr th {\n",
       "        vertical-align: top;\n",
       "    }\n",
       "\n",
       "    .dataframe thead th {\n",
       "        text-align: right;\n",
       "    }\n",
       "</style>\n",
       "<table border=\"1\" class=\"dataframe\">\n",
       "  <thead>\n",
       "    <tr style=\"text-align: right;\">\n",
       "      <th></th>\n",
       "      <th>Label1</th>\n",
       "    </tr>\n",
       "  </thead>\n",
       "  <tbody>\n",
       "    <tr>\n",
       "      <th>0</th>\n",
       "      <td>0</td>\n",
       "    </tr>\n",
       "    <tr>\n",
       "      <th>1</th>\n",
       "      <td>0</td>\n",
       "    </tr>\n",
       "    <tr>\n",
       "      <th>2</th>\n",
       "      <td>0</td>\n",
       "    </tr>\n",
       "    <tr>\n",
       "      <th>3</th>\n",
       "      <td>0</td>\n",
       "    </tr>\n",
       "    <tr>\n",
       "      <th>4</th>\n",
       "      <td>0</td>\n",
       "    </tr>\n",
       "    <tr>\n",
       "      <th>...</th>\n",
       "      <td>...</td>\n",
       "    </tr>\n",
       "    <tr>\n",
       "      <th>373230</th>\n",
       "      <td>2</td>\n",
       "    </tr>\n",
       "    <tr>\n",
       "      <th>373231</th>\n",
       "      <td>2</td>\n",
       "    </tr>\n",
       "    <tr>\n",
       "      <th>373232</th>\n",
       "      <td>2</td>\n",
       "    </tr>\n",
       "    <tr>\n",
       "      <th>373233</th>\n",
       "      <td>2</td>\n",
       "    </tr>\n",
       "    <tr>\n",
       "      <th>373234</th>\n",
       "      <td>2</td>\n",
       "    </tr>\n",
       "  </tbody>\n",
       "</table>\n",
       "<p>373235 rows × 1 columns</p>\n",
       "</div>"
      ],
      "text/plain": [
       "        Label1\n",
       "0            0\n",
       "1            0\n",
       "2            0\n",
       "3            0\n",
       "4            0\n",
       "...        ...\n",
       "373230       2\n",
       "373231       2\n",
       "373232       2\n",
       "373233       2\n",
       "373234       2\n",
       "\n",
       "[373235 rows x 1 columns]"
      ]
     },
     "execution_count": 110,
     "metadata": {},
     "output_type": "execute_result"
    }
   ],
   "source": [
    "y_samp_df"
   ]
  },
  {
   "cell_type": "code",
   "execution_count": 111,
   "id": "static-dylan",
   "metadata": {},
   "outputs": [
    {
     "name": "stderr",
     "output_type": "stream",
     "text": [
      "/home/drake/miniconda3/envs/gpu2/lib/python3.6/site-packages/sklearn/utils/validation.py:63: DataConversionWarning: A column-vector y was passed when a 1d array was expected. Please change the shape of y to (n_samples, ), for example using ravel().\n",
      "  return f(*args, **kwargs)\n"
     ]
    },
    {
     "name": "stdout",
     "output_type": "stream",
     "text": [
      "Accuracy: 0.7750746848500275\n",
      "F1: 0.7741058083293085\n"
     ]
    }
   ],
   "source": [
    "ld_classifier = LinearDiscriminantAnalysis()\n",
    "\n",
    "X_train, X_test, y_train, y_test = train_test_split(X_samp_df, y_samp_df, test_size=0.2)\n",
    "ld_classifier.fit(X_train, y_train)\n",
    "\n",
    "y_pred = ld_classifier.predict(X_test)\n",
    "\n",
    "print(\"Accuracy:\",metrics.accuracy_score(y_test, y_pred))\n",
    "print(\"F1:\",metrics.f1_score(y_test, y_pred, average='weighted'))"
   ]
  },
  {
   "cell_type": "code",
   "execution_count": 112,
   "id": "studied-century",
   "metadata": {},
   "outputs": [],
   "source": [
    "traffic_application_to_val = {\n",
    "    0:'audio-streaming',\n",
    "    1:'browsing',\n",
    "    2:'chat',\n",
    "    3:'email',\n",
    "    4:'file-transfer',\n",
    "    5:'p2p',\n",
    "    6:'video-streaming',\n",
    "    7:'voip'\n",
    "}\n",
    "\n",
    "traffic_type_to_val = {\n",
    "    0:'Non-Tor',\n",
    "    1:'NonVPN',\n",
    "    2:'Tor',\n",
    "    3:'VPN'\n",
    "}\n",
    "\n",
    "X_samp_df['Label'] = X_samp_df['Label'].map(traffic_application_to_val)\n",
    "y_samp_df['Label1'] = y_samp_df['Label1'].map(traffic_type_to_val)"
   ]
  },
  {
   "cell_type": "code",
   "execution_count": 117,
   "id": "broke-europe",
   "metadata": {},
   "outputs": [],
   "source": [
    "new_dataset = X_samp_df.join(y_samp_df)"
   ]
  },
  {
   "cell_type": "code",
   "execution_count": 120,
   "id": "chicken-frontier",
   "metadata": {},
   "outputs": [],
   "source": [
    "new_dataset.to_csv(\"../../../Data/synthetic/SMOTE/smote_multiclass.csv\")"
   ]
  },
  {
   "cell_type": "code",
   "execution_count": null,
   "id": "rising-civilization",
   "metadata": {},
   "outputs": [],
   "source": []
  }
 ],
 "metadata": {
  "kernelspec": {
   "display_name": "Python 3",
   "language": "python",
   "name": "python3"
  },
  "language_info": {
   "codemirror_mode": {
    "name": "ipython",
    "version": 3
   },
   "file_extension": ".py",
   "mimetype": "text/x-python",
   "name": "python",
   "nbconvert_exporter": "python",
   "pygments_lexer": "ipython3",
   "version": "3.6.13"
  }
 },
 "nbformat": 4,
 "nbformat_minor": 5
}
