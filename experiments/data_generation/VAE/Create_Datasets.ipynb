{
 "cells": [
  {
   "cell_type": "code",
   "execution_count": 1,
   "metadata": {},
   "outputs": [
    {
     "name": "stderr",
     "output_type": "stream",
     "text": [
      "/home/drake/miniconda3/lib/python3.8/site-packages/xgboost/compat.py:36: FutureWarning: pandas.Int64Index is deprecated and will be removed from pandas in a future version. Use pandas.Index with the appropriate dtype instead.\n",
      "  from pandas import MultiIndex, Int64Index\n"
     ]
    },
    {
     "name": "stdout",
     "output_type": "stream",
     "text": [
      "\n",
      "    Last Execution: 2022-04-28 15:59:34.034533\n",
      "    python:\t3.8.5\n",
      "\n",
      "    \tfastai:\t\t2.5.6\n",
      "    \tmatplotlib:\t3.5.1\n",
      "    \tnumpy:\t\t1.19.5\n",
      "    \tpandas:\t\t1.4.1\n",
      "    \tseaborn:\t0.11.2\n",
      "    \tsklearn:\t1.0.2\n",
      "    \ttorch:\t\t1.11.0+cu102\n",
      "    \tyellowbrick:\t1.4\n",
      "    \timblearn:\t0.9.0\n",
      "    \n"
     ]
    }
   ],
   "source": [
    "import utilities as utils"
   ]
  },
  {
   "cell_type": "code",
   "execution_count": 14,
   "metadata": {},
   "outputs": [],
   "source": [
    "data_path_1: str = '../../../Data/phase2'   \n",
    "data_path_2: str = '../../../Data/phase1/'  \n",
    " \n",
    "\n",
    "data_set_1: list = [ 'vae_application_dataset.csv', 'vae_traffic_dataset.csv', ]\n",
    "\n",
    "data_set_2: list = [ 'Traffic_type_seed.csv', 'Application_type_seed.csv' ] \n",
    "\n",
    "\n",
    "file_path_1       = utils.get_file_path(data_path_1)\n",
    "file_path_2       = utils.get_file_path(data_path_2)\n",
    "file_set_1 : list = list(map(file_path_1, data_set_1))\n",
    "file_set_2 : list = list(map(file_path_2, data_set_2))\n",
    "\n",
    "file_set : list   = file_set_1 + file_set_2 \n",
    "data_set   : list = data_set_1 + data_set_2 \n",
    "current_job: int  = 0\n",
    "\n",
    "utils.data_set = data_set\n",
    "utils.file_set = file_set"
   ]
  },
  {
   "cell_type": "code",
   "execution_count": 15,
   "metadata": {},
   "outputs": [
    {
     "name": "stdout",
     "output_type": "stream",
     "text": [
      "We will be using 4 files:\n",
      "[   '../../../Data/phase2/vae_application_dataset.csv',\n",
      "    '../../../Data/phase2/vae_traffic_dataset.csv',\n",
      "    '../../../Data/phase1/Traffic_type_seed.csv',\n",
      "    '../../../Data/phase1/Application_type_seed.csv']\n"
     ]
    }
   ],
   "source": [
    "print(f'We will be using {len(file_set)} files:')\n",
    "utils.pretty(file_set)"
   ]
  },
  {
   "cell_type": "code",
   "execution_count": 16,
   "metadata": {},
   "outputs": [
    {
     "name": "stdout",
     "output_type": "stream",
     "text": [
      "Dataset 1/4: We now look at ../../../Data/phase2/vae_application_dataset.csv\n",
      "\n",
      "\n",
      "Loading Dataset: ../../../Data/phase2/vae_application_dataset.csv\n",
      "\tTo Dataset Cache: ./cache/vae_application_dataset.csv.pickle\n",
      "\n",
      "\n",
      "        File:\t\t\t\t../../../Data/phase2/vae_application_dataset.csv  \n",
      "        Job Number:\t\t\t1\n",
      "        Shape:\t\t\t\t(400000, 65)\n",
      "        Samples:\t\t\t400000 \n",
      "        Features:\t\t\t65\n",
      "    \n",
      "Dataset 2/4: We now look at ../../../Data/phase2/vae_traffic_dataset.csv\n",
      "\n",
      "\n",
      "Loading Dataset: ../../../Data/phase2/vae_traffic_dataset.csv\n",
      "\tTo Dataset Cache: ./cache/vae_traffic_dataset.csv.pickle\n",
      "\n",
      "\n",
      "        File:\t\t\t\t../../../Data/phase2/vae_traffic_dataset.csv  \n",
      "        Job Number:\t\t\t2\n",
      "        Shape:\t\t\t\t(300000, 65)\n",
      "        Samples:\t\t\t300000 \n",
      "        Features:\t\t\t65\n",
      "    \n",
      "Dataset 3/4: We now look at ../../../Data/phase1/Traffic_type_seed.csv\n",
      "\n",
      "\n",
      "Loading Dataset: ../../../Data/phase1/Traffic_type_seed.csv\n",
      "\tTo Dataset Cache: ./cache/Traffic_type_seed.csv.pickle\n",
      "\n",
      "\n",
      "        File:\t\t\t\t../../../Data/phase1/Traffic_type_seed.csv  \n",
      "        Job Number:\t\t\t3\n",
      "        Shape:\t\t\t\t(115670, 64)\n",
      "        Samples:\t\t\t115670 \n",
      "        Features:\t\t\t64\n",
      "    \n",
      "Dataset 4/4: We now look at ../../../Data/phase1/Application_type_seed.csv\n",
      "\n",
      "\n",
      "Loading Dataset: ../../../Data/phase1/Application_type_seed.csv\n",
      "\tTo Dataset Cache: ./cache/Application_type_seed.csv.pickle\n",
      "\n",
      "\n",
      "        File:\t\t\t\t../../../Data/phase1/Application_type_seed.csv  \n",
      "        Job Number:\t\t\t4\n",
      "        Shape:\t\t\t\t(113620, 64)\n",
      "        Samples:\t\t\t113620 \n",
      "        Features:\t\t\t64\n",
      "    \n"
     ]
    }
   ],
   "source": [
    "vae_application_dataset_labels_50 = utils.examine_dataset(1)\n",
    "vae_traffic_dataset_100 = utils.examine_dataset(2)\n",
    "baseline_traffic_seed = utils.examine_dataset(3)\n",
    "baseline_application_seed = utils.examine_dataset(4)\n",
    "\n",
    "vae_traffic_dataset_100['Dataset'] = vae_traffic_dataset_100['Dataset'].drop(['Unnamed: 0'], axis = 1)\n",
    "vae_application_dataset_labels_50['Dataset'] = vae_application_dataset_labels_50['Dataset'].drop(['Unnamed: 0'], axis = 1)"
   ]
  },
  {
   "cell_type": "code",
   "execution_count": 17,
   "metadata": {},
   "outputs": [],
   "source": [
    "def downsample(df: utils.pd.DataFrame, column_name: str, expected_sizes: dict) -> utils.pd.DataFrame():\n",
    "    '''\n",
    "        Function returns a new dataframe with the given column name and value\n",
    "    '''\n",
    "    new_dict = utils.pd.DataFrame()\n",
    "    for item in df[column_name].unique():\n",
    "        matching_values = df.loc[df[column_name] == item]\n",
    "        if df[column_name].value_counts()[item] > expected_sizes[item]:\n",
    "            new_dict = utils.pd.concat([new_dict, matching_values.sample(n = expected_sizes[item])])\n",
    "        else:\n",
    "            new_dict = utils.pd.concat([new_dict, matching_values])\n",
    "    return new_dict\n",
    "\n",
    "def random_sample(df: utils.pd.DataFrame, column_name: str, element_name: str, size : int) -> utils.pd.DataFrame():\n",
    "    '''\n",
    "        Function returns a new dataframe with the given column name and value\n",
    "    '''\n",
    "    new_df = df.loc[df[column_name] == element_name]\n",
    "    return new_df.sample(n = size)"
   ]
  },
  {
   "cell_type": "markdown",
   "metadata": {},
   "source": [
    "# Traffic Type Datasets Creation"
   ]
  },
  {
   "cell_type": "code",
   "execution_count": 18,
   "metadata": {},
   "outputs": [],
   "source": [
    "expected_sizes = {\"Regular\" : 30000, \"VPN\" : 20000, \"Tor\": 10000}\n",
    "vae_balanced_traffic_labels_dataset_30_20_10 = downsample(baseline_traffic_seed['Dataset'], 'Traffic Type', expected_sizes)\n",
    "vae_balanced_traffic_labels_dataset_30_20_10 = utils.pd.concat([vae_balanced_traffic_labels_dataset_30_20_10, random_sample(vae_traffic_dataset_100['Dataset'], 'Traffic Type', 'Tor', 10000 - baseline_traffic_seed['Dataset']['Traffic Type'].value_counts()['Tor'])])"
   ]
  },
  {
   "cell_type": "code",
   "execution_count": 19,
   "metadata": {},
   "outputs": [],
   "source": [
    "expected_sizes = {\"Regular\" : 92659, \"VPN\" : 92659, \"Tor\": 92659}\n",
    "vae_balanced_traffic_labels_dataset_equal = downsample(baseline_traffic_seed['Dataset'], 'Traffic Type', expected_sizes)\n",
    "vae_balanced_traffic_labels_dataset_equal = utils.pd.concat([vae_balanced_traffic_labels_dataset_equal, random_sample(vae_traffic_dataset_100['Dataset'], 'Traffic Type', 'VPN', 92659 - baseline_traffic_seed['Dataset']['Traffic Type'].value_counts()['VPN'])])\n",
    "vae_balanced_traffic_labels_dataset_equal = utils.pd.concat([vae_balanced_traffic_labels_dataset_equal, random_sample(vae_traffic_dataset_100['Dataset'], 'Traffic Type', 'Tor', 92659 - baseline_traffic_seed['Dataset']['Traffic Type'].value_counts()['Tor'])])"
   ]
  },
  {
   "cell_type": "markdown",
   "metadata": {},
   "source": [
    "# Application Types Data Creation"
   ]
  },
  {
   "cell_type": "code",
   "execution_count": 20,
   "metadata": {},
   "outputs": [],
   "source": [
    "expected_sizes = {\"p2p\" : 30000, \"browsing\" : 30000, \"audio-streaming\": 30000, 'file-transfer' : 30000, 'chat': 30000, 'video-streaming': 30000, 'voip': 30000, 'email': 30000}\n",
    "vae_balanced_application_dataset_labels_30_30_30 = downsample(baseline_application_seed['Dataset'], 'Application Type', expected_sizes)\n",
    "vae_balanced_application_dataset_labels_30_30_30 = utils.pd.concat([vae_balanced_application_dataset_labels_30_30_30, random_sample(vae_application_dataset_labels_50['Dataset'], 'Application Type', 'audio-streaming', 30000 - baseline_application_seed['Dataset']['Application Type'].value_counts()['audio-streaming'])])\n",
    "vae_balanced_application_dataset_labels_30_30_30 = utils.pd.concat([vae_balanced_application_dataset_labels_30_30_30, random_sample(vae_application_dataset_labels_50['Dataset'], 'Application Type', 'file-transfer', 30000 - baseline_application_seed['Dataset']['Application Type'].value_counts()['file-transfer'])])\n",
    "vae_balanced_application_dataset_labels_30_30_30 = utils.pd.concat([vae_balanced_application_dataset_labels_30_30_30, random_sample(vae_application_dataset_labels_50['Dataset'], 'Application Type', 'chat', 30000 - baseline_application_seed['Dataset']['Application Type'].value_counts()['chat'])])\n",
    "vae_balanced_application_dataset_labels_30_30_30 = utils.pd.concat([vae_balanced_application_dataset_labels_30_30_30, random_sample(vae_application_dataset_labels_50['Dataset'], 'Application Type', 'video-streaming', 30000 - baseline_application_seed['Dataset']['Application Type'].value_counts()['video-streaming'])])\n",
    "vae_balanced_application_dataset_labels_30_30_30 = utils.pd.concat([vae_balanced_application_dataset_labels_30_30_30, random_sample(vae_application_dataset_labels_50['Dataset'], 'Application Type', 'voip', 30000 - baseline_application_seed['Dataset']['Application Type'].value_counts()['voip'])])\n",
    "vae_balanced_application_dataset_labels_30_30_30 = utils.pd.concat([vae_balanced_application_dataset_labels_30_30_30, random_sample(vae_application_dataset_labels_50['Dataset'], 'Application Type', 'email', 30000 - baseline_application_seed['Dataset']['Application Type'].value_counts()['email'])])\n"
   ]
  },
  {
   "cell_type": "code",
   "execution_count": 21,
   "metadata": {},
   "outputs": [],
   "source": [
    "expected_sizes = {\"p2p\" : 48020, \"browsing\" : 48020, \"audio-streaming\": 48020, 'file-transfer' : 48020, 'chat': 48020, 'video-streaming': 48020, 'voip': 48020, 'email': 48020}\n",
    "vae_balanced_application_dataset_labels_equal = downsample(baseline_application_seed['Dataset'], 'Application Type', expected_sizes)\n",
    "vae_balanced_application_dataset_labels_equal = utils.pd.concat([vae_balanced_application_dataset_labels_equal, random_sample(vae_application_dataset_labels_50['Dataset'], 'Application Type', 'audio-streaming', 48020 - baseline_application_seed['Dataset']['Application Type'].value_counts()['audio-streaming'])])\n",
    "vae_balanced_application_dataset_labels_equal = utils.pd.concat([vae_balanced_application_dataset_labels_equal, random_sample(vae_application_dataset_labels_50['Dataset'], 'Application Type', 'file-transfer', 48020 - baseline_application_seed['Dataset']['Application Type'].value_counts()['file-transfer'])])\n",
    "vae_balanced_application_dataset_labels_equal = utils.pd.concat([vae_balanced_application_dataset_labels_equal, random_sample(vae_application_dataset_labels_50['Dataset'], 'Application Type', 'chat', 48020 - baseline_application_seed['Dataset']['Application Type'].value_counts()['chat'])])\n",
    "vae_balanced_application_dataset_labels_equal = utils.pd.concat([vae_balanced_application_dataset_labels_equal, random_sample(vae_application_dataset_labels_50['Dataset'], 'Application Type', 'video-streaming', 48020 - baseline_application_seed['Dataset']['Application Type'].value_counts()['video-streaming'])])\n",
    "vae_balanced_application_dataset_labels_equal = utils.pd.concat([vae_balanced_application_dataset_labels_equal, random_sample(vae_application_dataset_labels_50['Dataset'], 'Application Type', 'voip', 48020 - baseline_application_seed['Dataset']['Application Type'].value_counts()['voip'])])\n",
    "vae_balanced_application_dataset_labels_equal = utils.pd.concat([vae_balanced_application_dataset_labels_equal, random_sample(vae_application_dataset_labels_50['Dataset'], 'Application Type', 'email', 48020 - baseline_application_seed['Dataset']['Application Type'].value_counts()['email'])])\n",
    "vae_balanced_application_dataset_labels_equal = utils.pd.concat([vae_balanced_application_dataset_labels_equal, random_sample(vae_application_dataset_labels_50['Dataset'], 'Application Type', 'browsing', 48020 - baseline_application_seed['Dataset']['Application Type'].value_counts()['browsing'])])\n",
    "\n"
   ]
  },
  {
   "cell_type": "code",
   "execution_count": 23,
   "metadata": {},
   "outputs": [],
   "source": [
    "vae_balanced_traffic_labels_dataset_30_20_10.to_csv('./synthetic/vae_traffic_30_20_10.csv', index=False)\n",
    "vae_balanced_traffic_labels_dataset_equal.to_csv('./synthetic/vae_traffic_upsample_to_majority.csv', index=False)\n",
    "vae_balanced_application_dataset_labels_30_30_30.to_csv('./synthetic/vae_application_30000.csv', index=False)\n",
    "vae_balanced_application_dataset_labels_equal.to_csv('./synthetic/vae_application_upsample_to_majority.csv', index=False)"
   ]
  },
  {
   "cell_type": "code",
   "execution_count": 24,
   "metadata": {},
   "outputs": [
    {
     "name": "stdout",
     "output_type": "stream",
     "text": [
      "Last Execution: 2022-04-28 16:12:22.075012\n"
     ]
    },
    {
     "ename": "AssertionError",
     "evalue": "Nothing after this point is included in the study",
     "output_type": "error",
     "traceback": [
      "\u001b[0;31m---------------------------------------------------------------------------\u001b[0m",
      "\u001b[0;31mAssertionError\u001b[0m                            Traceback (most recent call last)",
      "\u001b[1;32m/home/drake/projects/Sp22/CMUDarknet/experiments/data_generation/VAE/Create_Datasets.ipynb Cell 13'\u001b[0m in \u001b[0;36m<cell line: 2>\u001b[0;34m()\u001b[0m\n\u001b[1;32m      <a href='vscode-notebook-cell:/home/drake/projects/Sp22/CMUDarknet/experiments/data_generation/VAE/Create_Datasets.ipynb#ch0000012?line=0'>1</a>\u001b[0m \u001b[39mprint\u001b[39m(\u001b[39mf\u001b[39m\u001b[39m'\u001b[39m\u001b[39mLast Execution: \u001b[39m\u001b[39m{\u001b[39;00mutils\u001b[39m.\u001b[39mdatetime\u001b[39m.\u001b[39mdatetime\u001b[39m.\u001b[39mnow()\u001b[39m}\u001b[39;00m\u001b[39m'\u001b[39m)\n\u001b[0;32m----> <a href='vscode-notebook-cell:/home/drake/projects/Sp22/CMUDarknet/experiments/data_generation/VAE/Create_Datasets.ipynb#ch0000012?line=1'>2</a>\u001b[0m \u001b[39massert\u001b[39;00m \u001b[39mFalse\u001b[39;00m, \u001b[39m'\u001b[39m\u001b[39mNothing after this point is included in the study\u001b[39m\u001b[39m'\u001b[39m\n",
      "\u001b[0;31mAssertionError\u001b[0m: Nothing after this point is included in the study"
     ]
    }
   ],
   "source": [
    "print(f'Last Execution: {utils.datetime.datetime.now()}')\n",
    "assert False, 'Nothing after this point is included in the study'"
   ]
  },
  {
   "cell_type": "code",
   "execution_count": null,
   "metadata": {},
   "outputs": [],
   "source": []
  }
 ],
 "metadata": {
  "interpreter": {
   "hash": "c11ee216d7ec577d195a10435e0960b194de760ba863ebf1d28b00dc7c22c397"
  },
  "kernelspec": {
   "display_name": "Python 3.8.5 ('base')",
   "language": "python",
   "name": "python3"
  },
  "language_info": {
   "codemirror_mode": {
    "name": "ipython",
    "version": 3
   },
   "file_extension": ".py",
   "mimetype": "text/x-python",
   "name": "python",
   "nbconvert_exporter": "python",
   "pygments_lexer": "ipython3",
   "version": "3.8.5"
  },
  "orig_nbformat": 4
 },
 "nbformat": 4,
 "nbformat_minor": 2
}
